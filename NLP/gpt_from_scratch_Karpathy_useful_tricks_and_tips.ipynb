{
  "nbformat": 4,
  "nbformat_minor": 0,
  "metadata": {
    "colab": {
      "provenance": []
    },
    "kernelspec": {
      "name": "python3",
      "display_name": "Python 3"
    },
    "language_info": {
      "name": "python"
    }
  },
  "cells": [
    {
      "cell_type": "code",
      "source": [
        "import torch"
      ],
      "metadata": {
        "id": "HhiFr52O1shi"
      },
      "execution_count": 1,
      "outputs": []
    },
    {
      "cell_type": "code",
      "execution_count": 2,
      "metadata": {
        "colab": {
          "base_uri": "https://localhost:8080/"
        },
        "id": "GJLivJCJszSO",
        "outputId": "f9b83908-2038-41cd-9e29-99715326814b"
      },
      "outputs": [
        {
          "output_type": "stream",
          "name": "stdout",
          "text": [
            "--2024-08-31 06:04:18--  https://raw.githubusercontent.com/karpathy/char-rnn/master/data/tinyshakespeare/input.txt\n",
            "Resolving raw.githubusercontent.com (raw.githubusercontent.com)... 185.199.108.133, 185.199.109.133, 185.199.110.133, ...\n",
            "Connecting to raw.githubusercontent.com (raw.githubusercontent.com)|185.199.108.133|:443... connected.\n",
            "HTTP request sent, awaiting response... 200 OK\n",
            "Length: 1115394 (1.1M) [text/plain]\n",
            "Saving to: ‘input.txt’\n",
            "\n",
            "input.txt           100%[===================>]   1.06M  --.-KB/s    in 0.05s   \n",
            "\n",
            "2024-08-31 06:04:19 (21.5 MB/s) - ‘input.txt’ saved [1115394/1115394]\n",
            "\n"
          ]
        }
      ],
      "source": [
        "!wget https://raw.githubusercontent.com/karpathy/char-rnn/master/data/tinyshakespeare/input.txt"
      ]
    },
    {
      "cell_type": "code",
      "source": [
        "with open('input.txt', 'r', encoding='utf-8') as f:\n",
        "  text = f.read()"
      ],
      "metadata": {
        "id": "HPCA-yt0s5d2"
      },
      "execution_count": 3,
      "outputs": []
    },
    {
      "cell_type": "code",
      "source": [
        "print('len dataset in characters: ', len(text))"
      ],
      "metadata": {
        "colab": {
          "base_uri": "https://localhost:8080/"
        },
        "id": "VjOqonbcs5lJ",
        "outputId": "e8d89c18-e8c1-465e-f77d-5010de9634ad"
      },
      "execution_count": 4,
      "outputs": [
        {
          "output_type": "stream",
          "name": "stdout",
          "text": [
            "len dataset in characters:  1115394\n"
          ]
        }
      ]
    },
    {
      "cell_type": "code",
      "source": [
        "print(text[:100])"
      ],
      "metadata": {
        "colab": {
          "base_uri": "https://localhost:8080/"
        },
        "id": "RwrHAWyhs5n1",
        "outputId": "9c23d212-8cef-42f1-97c7-90ef2bc84f6f"
      },
      "execution_count": 5,
      "outputs": [
        {
          "output_type": "stream",
          "name": "stdout",
          "text": [
            "First Citizen:\n",
            "Before we proceed any further, hear me speak.\n",
            "\n",
            "All:\n",
            "Speak, speak.\n",
            "\n",
            "First Citizen:\n",
            "You\n"
          ]
        }
      ]
    },
    {
      "cell_type": "code",
      "source": [
        "chars = sorted(list(set(text))) # our vocab (we model by characters, not by words)\n",
        "vocab_size = len(chars)\n",
        "print(''.join(chars))\n",
        "print(vocab_size)"
      ],
      "metadata": {
        "colab": {
          "base_uri": "https://localhost:8080/"
        },
        "id": "7NtUh8rps5uf",
        "outputId": "bc18b384-8920-4757-8bbe-eed66d21f630"
      },
      "execution_count": 6,
      "outputs": [
        {
          "output_type": "stream",
          "name": "stdout",
          "text": [
            "\n",
            " !$&',-.3:;?ABCDEFGHIJKLMNOPQRSTUVWXYZabcdefghijklmnopqrstuvwxyz\n",
            "65\n"
          ]
        }
      ]
    },
    {
      "cell_type": "code",
      "source": [
        "stoi = {ch:i for i, ch in enumerate(chars)}\n",
        "itos = {i:ch for i, ch in enumerate(chars)}\n",
        "encode = lambda s: [stoi[c] for c in s]\n",
        "decode = lambda s: ''.join([itos[i] for i in s])\n",
        "\n",
        "print(encode('Hello, world'))\n",
        "print(decode(encode('Hello, world')))"
      ],
      "metadata": {
        "colab": {
          "base_uri": "https://localhost:8080/"
        },
        "id": "OHAs8OkNxoVq",
        "outputId": "977ccff2-b8e0-4d07-a429-477fad0312f7"
      },
      "execution_count": 7,
      "outputs": [
        {
          "output_type": "stream",
          "name": "stdout",
          "text": [
            "[20, 43, 50, 50, 53, 6, 1, 61, 53, 56, 50, 42]\n",
            "Hello, world\n"
          ]
        }
      ]
    },
    {
      "cell_type": "code",
      "source": [
        "data = torch.tensor(encode(text), dtype=torch.long)\n",
        "print(data.shape, data.dtype)\n",
        "print(data[:50])"
      ],
      "metadata": {
        "colab": {
          "base_uri": "https://localhost:8080/"
        },
        "id": "YEXzkdFuyVAW",
        "outputId": "dfbc4cb9-99dc-41bf-84f0-e74279541ab2"
      },
      "execution_count": 8,
      "outputs": [
        {
          "output_type": "stream",
          "name": "stdout",
          "text": [
            "torch.Size([1115394]) torch.int64\n",
            "tensor([18, 47, 56, 57, 58,  1, 15, 47, 58, 47, 64, 43, 52, 10,  0, 14, 43, 44,\n",
            "        53, 56, 43,  1, 61, 43,  1, 54, 56, 53, 41, 43, 43, 42,  1, 39, 52, 63,\n",
            "         1, 44, 59, 56, 58, 46, 43, 56,  6,  1, 46, 43, 39, 56])\n"
          ]
        }
      ]
    },
    {
      "cell_type": "code",
      "source": [
        "n = int(0.9 * len(data))\n",
        "train_data = data[:n]\n",
        "val_data = data[n:]"
      ],
      "metadata": {
        "id": "S72I1LMd1XEx"
      },
      "execution_count": 9,
      "outputs": []
    },
    {
      "cell_type": "code",
      "source": [
        "block_size = 8\n",
        "train_data[:block_size+1]"
      ],
      "metadata": {
        "colab": {
          "base_uri": "https://localhost:8080/"
        },
        "id": "T696ekGw1XHN",
        "outputId": "42d67cd8-2d3e-4a21-da06-a8bdff8444c0"
      },
      "execution_count": 10,
      "outputs": [
        {
          "output_type": "execute_result",
          "data": {
            "text/plain": [
              "tensor([18, 47, 56, 57, 58,  1, 15, 47, 58])"
            ]
          },
          "metadata": {},
          "execution_count": 10
        }
      ]
    },
    {
      "cell_type": "code",
      "source": [
        "x = train_data[:block_size]\n",
        "y = train_data[1:block_size+1]\n",
        "\n",
        "for i in range(block_size):\n",
        "  context = x[:i+1]\n",
        "  target = y[i]\n",
        "  print(f'when input is {context} the target: {target}')"
      ],
      "metadata": {
        "colab": {
          "base_uri": "https://localhost:8080/"
        },
        "id": "UAw5615B1XJ6",
        "outputId": "11d7e81f-882f-4f5e-b502-4e0b84f74714"
      },
      "execution_count": 11,
      "outputs": [
        {
          "output_type": "stream",
          "name": "stdout",
          "text": [
            "when input is tensor([18]) the target: 47\n",
            "when input is tensor([18, 47]) the target: 56\n",
            "when input is tensor([18, 47, 56]) the target: 57\n",
            "when input is tensor([18, 47, 56, 57]) the target: 58\n",
            "when input is tensor([18, 47, 56, 57, 58]) the target: 1\n",
            "when input is tensor([18, 47, 56, 57, 58,  1]) the target: 15\n",
            "when input is tensor([18, 47, 56, 57, 58,  1, 15]) the target: 47\n",
            "when input is tensor([18, 47, 56, 57, 58,  1, 15, 47]) the target: 58\n"
          ]
        }
      ]
    },
    {
      "cell_type": "code",
      "source": [
        "torch.manual_seed(42)\n",
        "batch_size = 4\n",
        "block_size = 8\n",
        "\n",
        "def get_batch(split):\n",
        "  data = train_data if split == 'train' else val_data\n",
        "  ix = torch.randint(len(data) - block_size, (batch_size,)) # randomly peek batch_size numbers up to (len(data) - block_size)\n",
        "  x = torch.stack([data[i:i+block_size] for i in ix]) # for each randomly peeked index we take their next words up to block_size items\n",
        "  y = torch.stack([data[i+1:block_size+i+1] for i in ix])\n",
        "  return x, y\n",
        "\n",
        "xb, yb = get_batch('train')\n",
        "print('inputs:')\n",
        "print(xb.shape)\n",
        "print(xb)\n",
        "print('targets:')\n",
        "print(yb.shape)\n",
        "print(yb)\n",
        "\n",
        "print('-----')\n",
        "\n",
        "for b in range(batch_size):\n",
        "  for t in range(block_size):\n",
        "    context = xb[b, :t+1]\n",
        "    target = yb[b, t]\n",
        "    print(f'when input is {context.tolist()} the target: {target}')"
      ],
      "metadata": {
        "colab": {
          "base_uri": "https://localhost:8080/"
        },
        "id": "4RzI3-TkDMe1",
        "outputId": "26d462ed-1a27-4921-c7fa-958ca26e2907"
      },
      "execution_count": 12,
      "outputs": [
        {
          "output_type": "stream",
          "name": "stdout",
          "text": [
            "inputs:\n",
            "torch.Size([4, 8])\n",
            "tensor([[57,  1, 46, 47, 57,  1, 50, 53],\n",
            "        [ 1, 58, 46, 43, 56, 43,  1, 41],\n",
            "        [17, 26, 15, 17, 10,  0, 32, 53],\n",
            "        [57, 58,  6,  1, 61, 47, 58, 46]])\n",
            "targets:\n",
            "torch.Size([4, 8])\n",
            "tensor([[ 1, 46, 47, 57,  1, 50, 53, 60],\n",
            "        [58, 46, 43, 56, 43,  1, 41, 39],\n",
            "        [26, 15, 17, 10,  0, 32, 53,  1],\n",
            "        [58,  6,  1, 61, 47, 58, 46,  0]])\n",
            "-----\n",
            "when input is [57] the target: 1\n",
            "when input is [57, 1] the target: 46\n",
            "when input is [57, 1, 46] the target: 47\n",
            "when input is [57, 1, 46, 47] the target: 57\n",
            "when input is [57, 1, 46, 47, 57] the target: 1\n",
            "when input is [57, 1, 46, 47, 57, 1] the target: 50\n",
            "when input is [57, 1, 46, 47, 57, 1, 50] the target: 53\n",
            "when input is [57, 1, 46, 47, 57, 1, 50, 53] the target: 60\n",
            "when input is [1] the target: 58\n",
            "when input is [1, 58] the target: 46\n",
            "when input is [1, 58, 46] the target: 43\n",
            "when input is [1, 58, 46, 43] the target: 56\n",
            "when input is [1, 58, 46, 43, 56] the target: 43\n",
            "when input is [1, 58, 46, 43, 56, 43] the target: 1\n",
            "when input is [1, 58, 46, 43, 56, 43, 1] the target: 41\n",
            "when input is [1, 58, 46, 43, 56, 43, 1, 41] the target: 39\n",
            "when input is [17] the target: 26\n",
            "when input is [17, 26] the target: 15\n",
            "when input is [17, 26, 15] the target: 17\n",
            "when input is [17, 26, 15, 17] the target: 10\n",
            "when input is [17, 26, 15, 17, 10] the target: 0\n",
            "when input is [17, 26, 15, 17, 10, 0] the target: 32\n",
            "when input is [17, 26, 15, 17, 10, 0, 32] the target: 53\n",
            "when input is [17, 26, 15, 17, 10, 0, 32, 53] the target: 1\n",
            "when input is [57] the target: 58\n",
            "when input is [57, 58] the target: 6\n",
            "when input is [57, 58, 6] the target: 1\n",
            "when input is [57, 58, 6, 1] the target: 61\n",
            "when input is [57, 58, 6, 1, 61] the target: 47\n",
            "when input is [57, 58, 6, 1, 61, 47] the target: 58\n",
            "when input is [57, 58, 6, 1, 61, 47, 58] the target: 46\n",
            "when input is [57, 58, 6, 1, 61, 47, 58, 46] the target: 0\n"
          ]
        }
      ]
    },
    {
      "cell_type": "code",
      "source": [
        "print(xb) # our input to the transformer"
      ],
      "metadata": {
        "colab": {
          "base_uri": "https://localhost:8080/"
        },
        "id": "B0Ovi9PtDt9O",
        "outputId": "7c20956b-77ef-485e-829c-3ae77e68da40"
      },
      "execution_count": 13,
      "outputs": [
        {
          "output_type": "stream",
          "name": "stdout",
          "text": [
            "tensor([[57,  1, 46, 47, 57,  1, 50, 53],\n",
            "        [ 1, 58, 46, 43, 56, 43,  1, 41],\n",
            "        [17, 26, 15, 17, 10,  0, 32, 53],\n",
            "        [57, 58,  6,  1, 61, 47, 58, 46]])\n"
          ]
        }
      ]
    },
    {
      "cell_type": "code",
      "source": [
        "yb.shape"
      ],
      "metadata": {
        "colab": {
          "base_uri": "https://localhost:8080/"
        },
        "id": "OTJjRyluSN7W",
        "outputId": "78b58c85-e6fc-43c0-9bc4-81091907df57"
      },
      "execution_count": 14,
      "outputs": [
        {
          "output_type": "execute_result",
          "data": {
            "text/plain": [
              "torch.Size([4, 8])"
            ]
          },
          "metadata": {},
          "execution_count": 14
        }
      ]
    },
    {
      "cell_type": "markdown",
      "source": [
        "## Bigram Language Model"
      ],
      "metadata": {
        "id": "xwcgRHjeN-0-"
      }
    },
    {
      "cell_type": "code",
      "source": [
        "import torch\n",
        "import torch.nn as nn\n",
        "from torch.nn import functional as F\n",
        "torch.manual_seed(42)\n",
        "\n",
        "class BigramLanguageModel(nn.Module):\n",
        "  def __init__(self, vocab_size):\n",
        "    super().__init__()\n",
        "    self.token_embs = nn.Embedding(vocab_size, vocab_size)\n",
        "\n",
        "  def forward(self, idx, targets=None):\n",
        "    logits = self.token_embs(idx) # Batch, Time, Channels(vocab_size)\n",
        "\n",
        "    if targets == None:\n",
        "      loss = None\n",
        "    else:\n",
        "      B, T, C = logits.shape\n",
        "      logits = logits.view(B*T, C) # for cross_entropy\n",
        "      targets = targets.view(B*T) # for cross_entropy , the same: logits.view(-1)\n",
        "      loss = F.cross_entropy(logits, targets)\n",
        "\n",
        "    return logits, loss\n",
        "\n",
        "  def generate(self, idx, max_new_tokens):\n",
        "    # idx - (B, T)\n",
        "    for _ in range(max_new_tokens):\n",
        "      logits, loss = self(idx)\n",
        "      logits = logits[:, -1, :] # B, C (because we use last time step)\n",
        "      probs = F.softmax(logits, dim=-1) # B, C\n",
        "      # sampling\n",
        "      idx_next = torch.multinomial(probs, num_samples=1) # B, 1\n",
        "      # append sampled idx to the running sequence\n",
        "      idx = torch.cat((idx, idx_next), dim=1) # B, T+1\n",
        "    return idx\n",
        "\n",
        "m = BigramLanguageModel(vocab_size)\n",
        "logits, loss = m(xb, yb)\n",
        "print(logits.shape)\n",
        "print(loss)\n",
        "print(decode(m.generate(xb, max_new_tokens=30)[2].tolist()))"
      ],
      "metadata": {
        "colab": {
          "base_uri": "https://localhost:8080/"
        },
        "id": "kxZJfj1KDt__",
        "outputId": "062e8d3c-6810-4624-989a-5cb00c607260"
      },
      "execution_count": 15,
      "outputs": [
        {
          "output_type": "stream",
          "name": "stdout",
          "text": [
            "torch.Size([32, 65])\n",
            "tensor(4.8865, grad_fn=<NllLossBackward0>)\n",
            "ENCE:\n",
            "To$DdSUzOx3LhsV';T&XaCjVEI;iIOxx\n"
          ]
        }
      ]
    },
    {
      "cell_type": "code",
      "source": [
        "decode(xb[2].tolist())"
      ],
      "metadata": {
        "id": "sIUEx9ifQ4tF",
        "colab": {
          "base_uri": "https://localhost:8080/",
          "height": 35
        },
        "outputId": "1290f1b2-8ecf-403c-ccad-1b2876055105"
      },
      "execution_count": 16,
      "outputs": [
        {
          "output_type": "execute_result",
          "data": {
            "text/plain": [
              "'ENCE:\\nTo'"
            ],
            "application/vnd.google.colaboratory.intrinsic+json": {
              "type": "string"
            }
          },
          "metadata": {},
          "execution_count": 16
        }
      ]
    },
    {
      "cell_type": "code",
      "source": [
        "#training\n",
        "\n",
        "opt = torch.optim.AdamW(m.parameters(), lr=3e-4)"
      ],
      "metadata": {
        "id": "lwRIIQajQ4vg"
      },
      "execution_count": 17,
      "outputs": []
    },
    {
      "cell_type": "code",
      "source": [
        "batch_size = 32\n",
        "\n",
        "epochs = 10000\n",
        "for i in range(epochs):\n",
        "  xb, yb = get_batch('train')\n",
        "\n",
        "  opt.zero_grad(set_to_none=True)\n",
        "  logits, loss = m(xb, yb)\n",
        "  loss.backward()\n",
        "  opt.step()\n",
        "\n",
        "  if i % 1000 == 0:\n",
        "    print(loss.item())"
      ],
      "metadata": {
        "id": "UnRhsDXKQ4yv",
        "colab": {
          "base_uri": "https://localhost:8080/"
        },
        "outputId": "e662d4f1-8123-4ba3-9d57-0679f567825e"
      },
      "execution_count": 18,
      "outputs": [
        {
          "output_type": "stream",
          "name": "stdout",
          "text": [
            "4.767078399658203\n",
            "4.377503395080566\n",
            "4.111602783203125\n",
            "3.8354837894439697\n",
            "3.5360138416290283\n",
            "3.5428123474121094\n",
            "3.223839044570923\n",
            "3.0421345233917236\n",
            "2.9900596141815186\n",
            "2.853262186050415\n"
          ]
        }
      ]
    },
    {
      "cell_type": "code",
      "source": [
        "print(decode(m.generate(torch.zeros((1, 1), dtype=torch.long), max_new_tokens=100)[0].tolist()))"
      ],
      "metadata": {
        "id": "vetmU5vBQ40t",
        "colab": {
          "base_uri": "https://localhost:8080/"
        },
        "outputId": "13556bc0-f6d7-485a-82e2-8ab4ad20b62b"
      },
      "execution_count": 19,
      "outputs": [
        {
          "output_type": "stream",
          "name": "stdout",
          "text": [
            "\n",
            "\n",
            "SwTW'd'\n",
            "\n",
            "S:ryAByollloouly-cuen3UM;.cond, at mlesP-aiYxxKuresss, RKERw oul towgheaie;Sl'IItedWr:-GVE\n"
          ]
        }
      ]
    },
    {
      "cell_type": "code",
      "source": [
        "# math trick in self-attention\n",
        "\n",
        "torch.manual_seed(42)\n",
        "B, T, C = 4, 8, 2 # batch, time, channels (vocab_size)\n",
        "x = torch.randn(B, T, C)\n",
        "x.shape"
      ],
      "metadata": {
        "colab": {
          "base_uri": "https://localhost:8080/"
        },
        "id": "ZmAzu8Qd7FeG",
        "outputId": "bcf8b13f-f8f5-4963-f5c0-813275a5d677"
      },
      "execution_count": 20,
      "outputs": [
        {
          "output_type": "execute_result",
          "data": {
            "text/plain": [
              "torch.Size([4, 8, 2])"
            ]
          },
          "metadata": {},
          "execution_count": 20
        }
      ]
    },
    {
      "cell_type": "code",
      "source": [
        "# 1 version\n",
        "xbow = torch.zeros((B, T, C))\n",
        "for b in range(B):\n",
        "  for t in range(T):\n",
        "    xprev = x[b, :t+1] # t, C\n",
        "    xbow[b, t] = torch.mean(xprev, 0)"
      ],
      "metadata": {
        "id": "NNmEfz1xQ43F"
      },
      "execution_count": 21,
      "outputs": []
    },
    {
      "cell_type": "code",
      "source": [
        "# 2 version\n",
        "wei = torch.tril(torch.ones(T, T))\n",
        "wei = wei / torch.sum(wei, dim=1, keepdim=True)\n",
        "xbow2 = wei @ x # (T, T) @ (B, T, C) = (B, T, C)\n",
        "torch.allclose(xbow, xbow2)"
      ],
      "metadata": {
        "colab": {
          "base_uri": "https://localhost:8080/"
        },
        "id": "LKIjeKPrMwv6",
        "outputId": "4668df0e-47f8-46fa-b5da-f38781ac60ef"
      },
      "execution_count": 22,
      "outputs": [
        {
          "output_type": "execute_result",
          "data": {
            "text/plain": [
              "True"
            ]
          },
          "metadata": {},
          "execution_count": 22
        }
      ]
    },
    {
      "cell_type": "code",
      "source": [
        "# 3 version (with softmax)\n",
        "tril = torch.tril(torch.ones(T, T))\n",
        "wei = torch.zeros((T, T))\n",
        "wei = wei.masked_fill(tril==0, float('-inf'))\n",
        "wei = F.softmax(wei, dim=-1)\n",
        "xbow3 = wei @ x\n",
        "torch.allclose(xbow, xbow3)"
      ],
      "metadata": {
        "colab": {
          "base_uri": "https://localhost:8080/"
        },
        "id": "aO7DxLl1N1lw",
        "outputId": "923a7da5-4fdb-4ba3-a8c5-e235bda16371"
      },
      "execution_count": 23,
      "outputs": [
        {
          "output_type": "execute_result",
          "data": {
            "text/plain": [
              "True"
            ]
          },
          "metadata": {},
          "execution_count": 23
        }
      ]
    },
    {
      "cell_type": "code",
      "source": [
        "B, T, C = 4, 8, 2\n",
        "block_size = 8\n",
        "n_embd = 3\n",
        "\n",
        "position_embs = nn.Embedding(block_size, n_embd)\n",
        "pos_emb = position_embs(torch.arange(T))\n",
        "pos_emb"
      ],
      "metadata": {
        "id": "eAnODWV5DMm6",
        "colab": {
          "base_uri": "https://localhost:8080/"
        },
        "outputId": "03f218a0-2b56-4c72-8d5d-9a9f7f99eb3d"
      },
      "execution_count": 24,
      "outputs": [
        {
          "output_type": "execute_result",
          "data": {
            "text/plain": [
              "tensor([[ 1.4451,  0.8564,  2.2181],\n",
              "        [ 0.5232,  0.3466, -0.1973],\n",
              "        [-1.0546,  1.2780,  0.7281],\n",
              "        [-0.7106, -0.6021,  0.9604],\n",
              "        [ 0.4048, -1.3543, -0.4976],\n",
              "        [ 0.4747, -0.1976,  1.2683],\n",
              "        [ 1.2243,  0.0981,  1.7423],\n",
              "        [-1.3527,  0.2191,  0.5526]], grad_fn=<EmbeddingBackward0>)"
            ]
          },
          "metadata": {},
          "execution_count": 24
        }
      ]
    },
    {
      "cell_type": "code",
      "source": [
        "# version 4 (self-attention)\n",
        "torch.manual_seed(42)\n",
        "B, T, C = 4, 8, 32 # (batch, block_size, n_embd)\n",
        "x = torch.randn(B, T, C)\n",
        "\n",
        "# single head of self-attention\n",
        "head_size = 16 # needs to do the following rule: n_embd % head_size == 0\n",
        "key = nn.Linear(C, head_size, bias=False)\n",
        "query = nn.Linear(C, head_size, bias=False)\n",
        "value = nn.Linear(C, head_size, bias=False)\n",
        "k = key(x) # (B, T, 16 (head_size))\n",
        "q = query(x) # (B, T, 16 (head_size))\n",
        "v = value(x) # (B, T, 16 (head_size))\n",
        "wei = (q @ k.transpose(2, 1)) / (k.shape[2] ** 0.5) # (B, T, 16) @ (B, 16, T) --> (B, T, T)\n",
        "\n",
        "\n",
        "tril = torch.tril(torch.ones(T, T))\n",
        "#wei = torch.zeros((T, T))\n",
        "wei = wei.masked_fill(tril==0, float('-inf'))\n",
        "wei = F.softmax(wei, dim=-1) # (T, T)\n",
        "out = wei @ v # (B, T, 16 (head_size))\n",
        "\n",
        "out.shape"
      ],
      "metadata": {
        "id": "j6DD7QZGDMpa",
        "colab": {
          "base_uri": "https://localhost:8080/"
        },
        "outputId": "e7b657f5-7d31-4d43-d07c-5d231c78d509"
      },
      "execution_count": 25,
      "outputs": [
        {
          "output_type": "execute_result",
          "data": {
            "text/plain": [
              "torch.Size([4, 8, 16])"
            ]
          },
          "metadata": {},
          "execution_count": 25
        }
      ]
    },
    {
      "cell_type": "code",
      "source": [],
      "metadata": {
        "id": "DHTS2XvYCfDc"
      },
      "execution_count": null,
      "outputs": []
    },
    {
      "cell_type": "code",
      "source": [],
      "metadata": {
        "id": "9nhzLftECfQa"
      },
      "execution_count": null,
      "outputs": []
    },
    {
      "cell_type": "code",
      "source": [],
      "metadata": {
        "id": "Rskpc-MFCfTL"
      },
      "execution_count": null,
      "outputs": []
    },
    {
      "cell_type": "code",
      "source": [],
      "metadata": {
        "id": "at3rBSymCfVo"
      },
      "execution_count": null,
      "outputs": []
    },
    {
      "cell_type": "code",
      "source": [],
      "metadata": {
        "id": "XnMOOWOzxoYd"
      },
      "execution_count": null,
      "outputs": []
    },
    {
      "cell_type": "code",
      "source": [],
      "metadata": {
        "id": "2Ca_ilGDxoad"
      },
      "execution_count": null,
      "outputs": []
    },
    {
      "cell_type": "code",
      "source": [],
      "metadata": {
        "id": "PMXEx25gxocq"
      },
      "execution_count": null,
      "outputs": []
    },
    {
      "cell_type": "code",
      "source": [],
      "metadata": {
        "id": "6MZqzc1Qs5wo"
      },
      "execution_count": null,
      "outputs": []
    },
    {
      "cell_type": "code",
      "source": [],
      "metadata": {
        "id": "Yl15-Qa-s5y9"
      },
      "execution_count": null,
      "outputs": []
    },
    {
      "cell_type": "code",
      "source": [],
      "metadata": {
        "id": "SaObsdYls517"
      },
      "execution_count": null,
      "outputs": []
    },
    {
      "cell_type": "code",
      "source": [],
      "metadata": {
        "id": "fT2DNldqs54Y"
      },
      "execution_count": null,
      "outputs": []
    },
    {
      "cell_type": "code",
      "source": [],
      "metadata": {
        "id": "SMQHprDxs57N"
      },
      "execution_count": null,
      "outputs": []
    },
    {
      "cell_type": "code",
      "source": [],
      "metadata": {
        "id": "HIOmfReGs5-F"
      },
      "execution_count": null,
      "outputs": []
    },
    {
      "cell_type": "code",
      "source": [],
      "metadata": {
        "id": "XNe4_Ydhs6De"
      },
      "execution_count": null,
      "outputs": []
    },
    {
      "cell_type": "code",
      "source": [],
      "metadata": {
        "id": "6pl6FfChs6GC"
      },
      "execution_count": null,
      "outputs": []
    },
    {
      "cell_type": "code",
      "source": [],
      "metadata": {
        "id": "buYfs9Qgs6Im"
      },
      "execution_count": null,
      "outputs": []
    },
    {
      "cell_type": "code",
      "source": [],
      "metadata": {
        "id": "S2FmQi0Cs6K_"
      },
      "execution_count": null,
      "outputs": []
    },
    {
      "cell_type": "code",
      "source": [],
      "metadata": {
        "id": "z5riPz7Es6N3"
      },
      "execution_count": null,
      "outputs": []
    },
    {
      "cell_type": "code",
      "source": [],
      "metadata": {
        "id": "uSMEuJVEs6Qu"
      },
      "execution_count": null,
      "outputs": []
    },
    {
      "cell_type": "code",
      "source": [],
      "metadata": {
        "id": "_1Qc7jvTs6Si"
      },
      "execution_count": null,
      "outputs": []
    }
  ]
}
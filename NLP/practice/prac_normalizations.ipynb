{
  "nbformat": 4,
  "nbformat_minor": 0,
  "metadata": {
    "colab": {
      "provenance": []
    },
    "kernelspec": {
      "name": "python3",
      "display_name": "Python 3"
    },
    "language_info": {
      "name": "python"
    }
  },
  "cells": [
    {
      "cell_type": "code",
      "execution_count": 27,
      "metadata": {
        "id": "pPf4KQd57Z9l"
      },
      "outputs": [],
      "source": [
        "import torch\n",
        "import torch.nn as nn"
      ]
    },
    {
      "cell_type": "code",
      "source": [
        "a = torch.Tensor([[[2, 3, 4], [1, 1, 1], [0, -4, 18], [5, 6, 7]],\n",
        "                  [[1, 2, 55], [5, 34, 13], [0, 0, 0], [-10, -6, 7]]])\n",
        "a.shape # .shape -> [batch_size, seq_len, emb_size]"
      ],
      "metadata": {
        "colab": {
          "base_uri": "https://localhost:8080/"
        },
        "id": "9-iqSp_d7cW2",
        "outputId": "27802d44-7e92-4a54-ae66-6e7316cbc064"
      },
      "execution_count": 26,
      "outputs": [
        {
          "output_type": "execute_result",
          "data": {
            "text/plain": [
              "torch.Size([2, 4, 3])"
            ]
          },
          "metadata": {},
          "execution_count": 26
        }
      ]
    },
    {
      "cell_type": "markdown",
      "source": [
        "## BatchNorm"
      ],
      "metadata": {
        "id": "lBgK9YTiHA6n"
      }
    },
    {
      "cell_type": "code",
      "source": [
        "# BatchNorm -> часто применяется для CNN и в целом в CV\n",
        "class BatchNorm:\n",
        "  def __init__(self, emb_size, eps=1e-5, momentum=0.1):\n",
        "    self.emb_size = emb_size\n",
        "    self.eps = eps\n",
        "    self.momentum = momentum\n",
        "    self.gamma = torch.ones(1, 1, emb_size, requires_grad=True)\n",
        "    self.beta = torch.zeros(1, 1, emb_size, requires_grad=True)\n",
        "    # для инференса скользящие статистики (среднее и дисперсия)\n",
        "    self.running_mean = torch.zeros(1, 1, emb_size)\n",
        "    self.running_var = torch.ones(1, 1, emb_size)\n",
        "    self.training = True\n",
        "\n",
        "  def __call__(self, x):\n",
        "    if self.training:\n",
        "      # вычисляем mean и var по осям: batch_size и seq_len (для каждого признака)\n",
        "      batch_mean = x.mean(dim=(0, 1), keepdim=True) # [1, 1, emb_size]\n",
        "      batch_var = x.var(dim=(0, 1), keepdim=True) # [1, 1, emb_size]\n",
        "\n",
        "      self.running_mean = (1 - self.momentum) * self.running_mean + self.momentum * batch_mean\n",
        "      self.running_var = (1 - self.momentum) * self.running_var + self.momentum * batch_var\n",
        "    else:\n",
        "      batch_mean = self.running_mean\n",
        "      batch_var = self.running_var\n",
        "\n",
        "    x_norm = (x - batch_mean) / torch.sqrt(batch_var + self.eps)\n",
        "    out = self.gamma * x_norm + self.beta\n",
        "    return out"
      ],
      "metadata": {
        "id": "JTxzKrfwClhr"
      },
      "execution_count": 34,
      "outputs": []
    },
    {
      "cell_type": "code",
      "source": [
        "bn = BatchNorm(emb_size=a.size(2))\n",
        "out = bn(a)\n",
        "out, out.shape, out.mean(dim=(0, 1)), out.var(dim=(0, 1))"
      ],
      "metadata": {
        "colab": {
          "base_uri": "https://localhost:8080/"
        },
        "id": "zAhA56_EF5Tj",
        "outputId": "24cb9564-f11c-407c-bca6-7cd2f03bf76e"
      },
      "execution_count": 39,
      "outputs": [
        {
          "output_type": "execute_result",
          "data": {
            "text/plain": [
              "(tensor([[[ 0.3198, -0.1199, -0.5084],\n",
              "          [ 0.1066, -0.2797, -0.6756],\n",
              "          [-0.1066, -0.6793,  0.2716],\n",
              "          [ 0.9594,  0.1199, -0.3413]],\n",
              " \n",
              "         [[ 0.1066, -0.1998,  2.3331],\n",
              "          [ 0.9594,  2.3576, -0.0070],\n",
              "          [-0.1066, -0.3596, -0.7313],\n",
              "          [-2.2386, -0.8391, -0.3413]]], grad_fn=<AddBackward0>),\n",
              " torch.Size([2, 4, 3]),\n",
              " tensor([1.4901e-08, 1.4901e-08, 2.2352e-08], grad_fn=<MeanBackward1>),\n",
              " tensor([1.0000, 1.0000, 1.0000], grad_fn=<VarBackward0>))"
            ]
          },
          "metadata": {},
          "execution_count": 39
        }
      ]
    },
    {
      "cell_type": "markdown",
      "source": [
        "## LayerNorm"
      ],
      "metadata": {
        "id": "2dcGi58zHDLc"
      }
    },
    {
      "cell_type": "code",
      "source": [
        "# LayerNorm - часто применяется в трансформерах и RNN\n",
        "class LayerNorm:\n",
        "  def __init__(self, emb_size, eps=1e-5):\n",
        "    self.emb_size = emb_size\n",
        "    self.eps = eps\n",
        "    self.gamma = torch.ones(emb_size, requires_grad=True)\n",
        "    self.beta = torch.zeros(emb_size, requires_grad=True)\n",
        "\n",
        "  def __call__(self, x):\n",
        "    emb_mean = x.mean(dim=2, keepdim=True) # [batch_size, seq_len, 1]\n",
        "    emb_var = x.var(dim=2, unbiased=False, keepdim=True) # [batch_size, seq_len, 1]\n",
        "    x_norm = (x - emb_mean) / torch.sqrt(emb_var + self.eps)\n",
        "    out = x_norm * self.gamma + self.beta\n",
        "    return out"
      ],
      "metadata": {
        "id": "npfMbj01Cl8O"
      },
      "execution_count": 42,
      "outputs": []
    },
    {
      "cell_type": "code",
      "source": [
        "ln = LayerNorm(emb_size=a.size(2))\n",
        "out = ln(a)\n",
        "out, out.shape, out.mean(dim=2), out.var(dim=2)"
      ],
      "metadata": {
        "colab": {
          "base_uri": "https://localhost:8080/"
        },
        "id": "m1voCpzsGq_a",
        "outputId": "cc6bb4f1-d909-49b2-af4c-204ae49e3d30"
      },
      "execution_count": 43,
      "outputs": [
        {
          "output_type": "execute_result",
          "data": {
            "text/plain": [
              "(tensor([[[-1.2247,  0.0000,  1.2247],\n",
              "          [ 0.0000,  0.0000,  0.0000],\n",
              "          [-0.4877, -0.9058,  1.3935],\n",
              "          [-1.2247,  0.0000,  1.2247]],\n",
              " \n",
              "         [[-0.7268, -0.6872,  1.4140],\n",
              "          [-1.0085,  1.3628, -0.3543],\n",
              "          [ 0.0000,  0.0000,  0.0000],\n",
              "          [-0.9646, -0.4134,  1.3779]]], grad_fn=<AddBackward0>),\n",
              " torch.Size([2, 4, 3]),\n",
              " tensor([[ 0.0000e+00,  0.0000e+00,  3.9736e-08,  0.0000e+00],\n",
              "         [-7.9473e-08, -3.9736e-08,  0.0000e+00,  0.0000e+00]],\n",
              "        grad_fn=<MeanBackward1>),\n",
              " tensor([[1.5000, 0.0000, 1.5000, 1.5000],\n",
              "         [1.5000, 1.5000, 0.0000, 1.5000]], grad_fn=<VarBackward0>))"
            ]
          },
          "metadata": {},
          "execution_count": 43
        }
      ]
    },
    {
      "cell_type": "markdown",
      "source": [
        "## RMSNorm"
      ],
      "metadata": {
        "id": "CQ4kH7IkKpKP"
      }
    },
    {
      "cell_type": "code",
      "source": [
        "# RMSNorm - часто применяют в современных LLM\n",
        "class RMSNorm:\n",
        "  def __init__(self, emb_size, eps=1e-5):\n",
        "    self.emb_size = emb_size\n",
        "    self.eps = eps\n",
        "    self.gamma = torch.ones(emb_size, requires_grad=True)\n",
        "\n",
        "  def __call__(self, x):\n",
        "    rms = torch.sqrt(torch.var(x**2, dim=-1, keepdim=True) + self.eps) # [batch_size, seq_len, 1]\n",
        "    x_norm = x / rms\n",
        "    out = self.gamma * x_norm\n",
        "    return out"
      ],
      "metadata": {
        "id": "QwccnwcmGrB6"
      },
      "execution_count": 46,
      "outputs": []
    },
    {
      "cell_type": "code",
      "source": [
        "rms_norm = RMSNorm(emb_size=a.size(2))\n",
        "out = rms_norm(a)\n",
        "out, out.shape, out.mean(dim=2), out.var(dim=2)"
      ],
      "metadata": {
        "colab": {
          "base_uri": "https://localhost:8080/"
        },
        "id": "1C6uVp5WGrHI",
        "outputId": "bb9e6806-1836-4e86-b9eb-5d1ba8d9d04b"
      },
      "execution_count": 47,
      "outputs": [
        {
          "output_type": "execute_result",
          "data": {
            "text/plain": [
              "(tensor([[[ 3.3180e-01,  4.9770e-01,  6.6360e-01],\n",
              "          [ 3.1623e+02,  3.1623e+02,  3.1623e+02],\n",
              "          [ 0.0000e+00, -2.1904e-02,  9.8566e-02],\n",
              "          [ 4.1619e-01,  4.9942e-01,  5.8266e-01]],\n",
              " \n",
              "         [[ 5.7305e-04,  1.1461e-03,  3.1518e-02],\n",
              "          [ 8.1216e-03,  5.5227e-02,  2.1116e-02],\n",
              "          [ 0.0000e+00,  0.0000e+00,  0.0000e+00],\n",
              "          [-2.9561e-01, -1.7737e-01,  2.0693e-01]]], grad_fn=<MulBackward0>),\n",
              " torch.Size([2, 4, 3]),\n",
              " tensor([[ 4.9770e-01,  3.1623e+02,  2.5554e-02,  4.9942e-01],\n",
              "         [ 1.1079e-02,  2.8155e-02,  0.0000e+00, -8.8684e-02]],\n",
              "        grad_fn=<MeanBackward1>),\n",
              " tensor([[0.0275, 0.0000, 0.0041, 0.0069],\n",
              "         [0.0003, 0.0006, 0.0000, 0.0690]], grad_fn=<VarBackward0>))"
            ]
          },
          "metadata": {},
          "execution_count": 47
        }
      ]
    },
    {
      "cell_type": "code",
      "source": [],
      "metadata": {
        "id": "yQUsKvo9Mx2t"
      },
      "execution_count": null,
      "outputs": []
    }
  ]
}
{
  "metadata": {
    "kernelspec": {
      "display_name": "Python 3",
      "name": "python3"
    },
    "language_info": {
      "name": "python",
      "version": "3.10.13",
      "mimetype": "text/x-python",
      "codemirror_mode": {
        "name": "ipython",
        "version": 3
      },
      "pygments_lexer": "ipython3",
      "nbconvert_exporter": "python",
      "file_extension": ".py"
    },
    "kaggle": {
      "accelerator": "gpu",
      "dataSources": [],
      "dockerImageVersionId": 30747,
      "isInternetEnabled": true,
      "language": "python",
      "sourceType": "notebook",
      "isGpuEnabled": true
    },
    "colab": {
      "provenance": [],
      "gpuType": "T4"
    },
    "accelerator": "GPU",
    "widgets": {
      "application/vnd.jupyter.widget-state+json": {
        "f2c661de1e4d4baa9e501736719a5188": {
          "model_module": "@jupyter-widgets/controls",
          "model_name": "HBoxModel",
          "model_module_version": "1.5.0",
          "state": {
            "_dom_classes": [],
            "_model_module": "@jupyter-widgets/controls",
            "_model_module_version": "1.5.0",
            "_model_name": "HBoxModel",
            "_view_count": null,
            "_view_module": "@jupyter-widgets/controls",
            "_view_module_version": "1.5.0",
            "_view_name": "HBoxView",
            "box_style": "",
            "children": [
              "IPY_MODEL_42b647f834fb468eaeb17edadd86f6cd",
              "IPY_MODEL_bb5dcae6722e48dfbd9f4cde36f956d8",
              "IPY_MODEL_a04add9b204e46449e45d9b1b855e2b7"
            ],
            "layout": "IPY_MODEL_3a69cb890a65450c8b2bbb3035654b9b"
          }
        },
        "42b647f834fb468eaeb17edadd86f6cd": {
          "model_module": "@jupyter-widgets/controls",
          "model_name": "HTMLModel",
          "model_module_version": "1.5.0",
          "state": {
            "_dom_classes": [],
            "_model_module": "@jupyter-widgets/controls",
            "_model_module_version": "1.5.0",
            "_model_name": "HTMLModel",
            "_view_count": null,
            "_view_module": "@jupyter-widgets/controls",
            "_view_module_version": "1.5.0",
            "_view_name": "HTMLView",
            "description": "",
            "description_tooltip": null,
            "layout": "IPY_MODEL_e53370a352b14652be01bb55d7b07690",
            "placeholder": "​",
            "style": "IPY_MODEL_3227f46b5e434639b5607feabe71c218",
            "value": "Loading checkpoint shards: 100%"
          }
        },
        "bb5dcae6722e48dfbd9f4cde36f956d8": {
          "model_module": "@jupyter-widgets/controls",
          "model_name": "FloatProgressModel",
          "model_module_version": "1.5.0",
          "state": {
            "_dom_classes": [],
            "_model_module": "@jupyter-widgets/controls",
            "_model_module_version": "1.5.0",
            "_model_name": "FloatProgressModel",
            "_view_count": null,
            "_view_module": "@jupyter-widgets/controls",
            "_view_module_version": "1.5.0",
            "_view_name": "ProgressView",
            "bar_style": "success",
            "description": "",
            "description_tooltip": null,
            "layout": "IPY_MODEL_1e5061ee099b43e1977f223ed2f07a74",
            "max": 2,
            "min": 0,
            "orientation": "horizontal",
            "style": "IPY_MODEL_058fe41406204461aeb2db12a7d3df14",
            "value": 2
          }
        },
        "a04add9b204e46449e45d9b1b855e2b7": {
          "model_module": "@jupyter-widgets/controls",
          "model_name": "HTMLModel",
          "model_module_version": "1.5.0",
          "state": {
            "_dom_classes": [],
            "_model_module": "@jupyter-widgets/controls",
            "_model_module_version": "1.5.0",
            "_model_name": "HTMLModel",
            "_view_count": null,
            "_view_module": "@jupyter-widgets/controls",
            "_view_module_version": "1.5.0",
            "_view_name": "HTMLView",
            "description": "",
            "description_tooltip": null,
            "layout": "IPY_MODEL_ec9291cf5d6443b385b21083888a4db6",
            "placeholder": "​",
            "style": "IPY_MODEL_91ff60ed17aa4232bb02ada9f0b5b9d4",
            "value": " 2/2 [01:08&lt;00:00, 31.52s/it]"
          }
        },
        "3a69cb890a65450c8b2bbb3035654b9b": {
          "model_module": "@jupyter-widgets/base",
          "model_name": "LayoutModel",
          "model_module_version": "1.2.0",
          "state": {
            "_model_module": "@jupyter-widgets/base",
            "_model_module_version": "1.2.0",
            "_model_name": "LayoutModel",
            "_view_count": null,
            "_view_module": "@jupyter-widgets/base",
            "_view_module_version": "1.2.0",
            "_view_name": "LayoutView",
            "align_content": null,
            "align_items": null,
            "align_self": null,
            "border": null,
            "bottom": null,
            "display": null,
            "flex": null,
            "flex_flow": null,
            "grid_area": null,
            "grid_auto_columns": null,
            "grid_auto_flow": null,
            "grid_auto_rows": null,
            "grid_column": null,
            "grid_gap": null,
            "grid_row": null,
            "grid_template_areas": null,
            "grid_template_columns": null,
            "grid_template_rows": null,
            "height": null,
            "justify_content": null,
            "justify_items": null,
            "left": null,
            "margin": null,
            "max_height": null,
            "max_width": null,
            "min_height": null,
            "min_width": null,
            "object_fit": null,
            "object_position": null,
            "order": null,
            "overflow": null,
            "overflow_x": null,
            "overflow_y": null,
            "padding": null,
            "right": null,
            "top": null,
            "visibility": null,
            "width": null
          }
        },
        "e53370a352b14652be01bb55d7b07690": {
          "model_module": "@jupyter-widgets/base",
          "model_name": "LayoutModel",
          "model_module_version": "1.2.0",
          "state": {
            "_model_module": "@jupyter-widgets/base",
            "_model_module_version": "1.2.0",
            "_model_name": "LayoutModel",
            "_view_count": null,
            "_view_module": "@jupyter-widgets/base",
            "_view_module_version": "1.2.0",
            "_view_name": "LayoutView",
            "align_content": null,
            "align_items": null,
            "align_self": null,
            "border": null,
            "bottom": null,
            "display": null,
            "flex": null,
            "flex_flow": null,
            "grid_area": null,
            "grid_auto_columns": null,
            "grid_auto_flow": null,
            "grid_auto_rows": null,
            "grid_column": null,
            "grid_gap": null,
            "grid_row": null,
            "grid_template_areas": null,
            "grid_template_columns": null,
            "grid_template_rows": null,
            "height": null,
            "justify_content": null,
            "justify_items": null,
            "left": null,
            "margin": null,
            "max_height": null,
            "max_width": null,
            "min_height": null,
            "min_width": null,
            "object_fit": null,
            "object_position": null,
            "order": null,
            "overflow": null,
            "overflow_x": null,
            "overflow_y": null,
            "padding": null,
            "right": null,
            "top": null,
            "visibility": null,
            "width": null
          }
        },
        "3227f46b5e434639b5607feabe71c218": {
          "model_module": "@jupyter-widgets/controls",
          "model_name": "DescriptionStyleModel",
          "model_module_version": "1.5.0",
          "state": {
            "_model_module": "@jupyter-widgets/controls",
            "_model_module_version": "1.5.0",
            "_model_name": "DescriptionStyleModel",
            "_view_count": null,
            "_view_module": "@jupyter-widgets/base",
            "_view_module_version": "1.2.0",
            "_view_name": "StyleView",
            "description_width": ""
          }
        },
        "1e5061ee099b43e1977f223ed2f07a74": {
          "model_module": "@jupyter-widgets/base",
          "model_name": "LayoutModel",
          "model_module_version": "1.2.0",
          "state": {
            "_model_module": "@jupyter-widgets/base",
            "_model_module_version": "1.2.0",
            "_model_name": "LayoutModel",
            "_view_count": null,
            "_view_module": "@jupyter-widgets/base",
            "_view_module_version": "1.2.0",
            "_view_name": "LayoutView",
            "align_content": null,
            "align_items": null,
            "align_self": null,
            "border": null,
            "bottom": null,
            "display": null,
            "flex": null,
            "flex_flow": null,
            "grid_area": null,
            "grid_auto_columns": null,
            "grid_auto_flow": null,
            "grid_auto_rows": null,
            "grid_column": null,
            "grid_gap": null,
            "grid_row": null,
            "grid_template_areas": null,
            "grid_template_columns": null,
            "grid_template_rows": null,
            "height": null,
            "justify_content": null,
            "justify_items": null,
            "left": null,
            "margin": null,
            "max_height": null,
            "max_width": null,
            "min_height": null,
            "min_width": null,
            "object_fit": null,
            "object_position": null,
            "order": null,
            "overflow": null,
            "overflow_x": null,
            "overflow_y": null,
            "padding": null,
            "right": null,
            "top": null,
            "visibility": null,
            "width": null
          }
        },
        "058fe41406204461aeb2db12a7d3df14": {
          "model_module": "@jupyter-widgets/controls",
          "model_name": "ProgressStyleModel",
          "model_module_version": "1.5.0",
          "state": {
            "_model_module": "@jupyter-widgets/controls",
            "_model_module_version": "1.5.0",
            "_model_name": "ProgressStyleModel",
            "_view_count": null,
            "_view_module": "@jupyter-widgets/base",
            "_view_module_version": "1.2.0",
            "_view_name": "StyleView",
            "bar_color": null,
            "description_width": ""
          }
        },
        "ec9291cf5d6443b385b21083888a4db6": {
          "model_module": "@jupyter-widgets/base",
          "model_name": "LayoutModel",
          "model_module_version": "1.2.0",
          "state": {
            "_model_module": "@jupyter-widgets/base",
            "_model_module_version": "1.2.0",
            "_model_name": "LayoutModel",
            "_view_count": null,
            "_view_module": "@jupyter-widgets/base",
            "_view_module_version": "1.2.0",
            "_view_name": "LayoutView",
            "align_content": null,
            "align_items": null,
            "align_self": null,
            "border": null,
            "bottom": null,
            "display": null,
            "flex": null,
            "flex_flow": null,
            "grid_area": null,
            "grid_auto_columns": null,
            "grid_auto_flow": null,
            "grid_auto_rows": null,
            "grid_column": null,
            "grid_gap": null,
            "grid_row": null,
            "grid_template_areas": null,
            "grid_template_columns": null,
            "grid_template_rows": null,
            "height": null,
            "justify_content": null,
            "justify_items": null,
            "left": null,
            "margin": null,
            "max_height": null,
            "max_width": null,
            "min_height": null,
            "min_width": null,
            "object_fit": null,
            "object_position": null,
            "order": null,
            "overflow": null,
            "overflow_x": null,
            "overflow_y": null,
            "padding": null,
            "right": null,
            "top": null,
            "visibility": null,
            "width": null
          }
        },
        "91ff60ed17aa4232bb02ada9f0b5b9d4": {
          "model_module": "@jupyter-widgets/controls",
          "model_name": "DescriptionStyleModel",
          "model_module_version": "1.5.0",
          "state": {
            "_model_module": "@jupyter-widgets/controls",
            "_model_module_version": "1.5.0",
            "_model_name": "DescriptionStyleModel",
            "_view_count": null,
            "_view_module": "@jupyter-widgets/base",
            "_view_module_version": "1.2.0",
            "_view_name": "StyleView",
            "description_width": ""
          }
        }
      }
    }
  },
  "nbformat_minor": 0,
  "nbformat": 4,
  "cells": [
    {
      "cell_type": "code",
      "source": [
        "!pip install datasets accelerate bitsandbytes trl peft deepspeed -q"
      ],
      "metadata": {
        "_uuid": "8f2839f25d086af736a60e9eeb907d3b93b6e0e5",
        "_cell_guid": "b1076dfc-b9ad-4769-8c92-a6c4dae69d19",
        "execution": {
          "iopub.status.busy": "2024-07-19T08:54:01.818620Z",
          "iopub.execute_input": "2024-07-19T08:54:01.819213Z",
          "iopub.status.idle": "2024-07-19T08:55:59.696890Z",
          "shell.execute_reply.started": "2024-07-19T08:54:01.819184Z",
          "shell.execute_reply": "2024-07-19T08:55:59.696051Z"
        },
        "trusted": true,
        "id": "bWHrqleDzmJL"
      },
      "execution_count": 1,
      "outputs": []
    },
    {
      "cell_type": "code",
      "source": [
        "import numpy as np\n",
        "import pandas as pd\n",
        "\n",
        "import datasets\n",
        "import transformers\n",
        "from transformers import AutoModelForCausalLM, AutoTokenizer, BitsAndBytesConfig, TrainingArguments, Trainer, DataCollatorWithPadding\n",
        "import accelerate\n",
        "import bitsandbytes as bnb\n",
        "import torch\n",
        "#from trl import SFTTrainer\n",
        "#from trl.trainer import ConstantLengthDataset\n",
        "from peft import LoraConfig, get_peft_model\n",
        "#import deepspeed"
      ],
      "metadata": {
        "id": "VmQEgpZq3HYj"
      },
      "execution_count": 2,
      "outputs": []
    },
    {
      "cell_type": "code",
      "source": [
        "dataset = datasets.load_dataset('flytech/llama-python-codes-30k', split='train')"
      ],
      "metadata": {
        "execution": {
          "iopub.status.busy": "2024-07-19T08:55:59.698437Z",
          "iopub.execute_input": "2024-07-19T08:55:59.699022Z",
          "iopub.status.idle": "2024-07-19T08:56:02.336994Z",
          "shell.execute_reply.started": "2024-07-19T08:55:59.698997Z",
          "shell.execute_reply": "2024-07-19T08:56:02.336221Z"
        },
        "trusted": true,
        "id": "8JBC3KMqzmJN"
      },
      "execution_count": 41,
      "outputs": []
    },
    {
      "cell_type": "code",
      "source": [
        "dataset"
      ],
      "metadata": {
        "execution": {
          "iopub.status.busy": "2024-07-19T08:56:02.338096Z",
          "iopub.execute_input": "2024-07-19T08:56:02.338362Z",
          "iopub.status.idle": "2024-07-19T08:56:02.344360Z",
          "shell.execute_reply.started": "2024-07-19T08:56:02.338339Z",
          "shell.execute_reply": "2024-07-19T08:56:02.343566Z"
        },
        "trusted": true,
        "colab": {
          "base_uri": "https://localhost:8080/"
        },
        "id": "Tb8-Um3JzmJN",
        "outputId": "530107ad-c5e5-4057-82f8-5b138ec5bd28"
      },
      "execution_count": 42,
      "outputs": [
        {
          "output_type": "execute_result",
          "data": {
            "text/plain": [
              "Dataset({\n",
              "    features: ['instruction', 'input', 'output', 'text'],\n",
              "    num_rows: 27332\n",
              "})"
            ]
          },
          "metadata": {},
          "execution_count": 42
        }
      ]
    },
    {
      "cell_type": "code",
      "source": [
        "def formatting_func(example):\n",
        "    return {'text': f\"Question: {example['instruction']}\\nAnswer: {example['output']}\"}"
      ],
      "metadata": {
        "id": "INXdWCmVKtZF"
      },
      "execution_count": 43,
      "outputs": []
    },
    {
      "cell_type": "code",
      "source": [
        "dataset = dataset.map(formatting_func)"
      ],
      "metadata": {
        "id": "nnATynsVKuNx"
      },
      "execution_count": 44,
      "outputs": []
    },
    {
      "cell_type": "code",
      "source": [
        "dataset['text'][0]"
      ],
      "metadata": {
        "execution": {
          "iopub.status.busy": "2024-07-19T08:56:04.833176Z",
          "iopub.execute_input": "2024-07-19T08:56:04.833630Z",
          "iopub.status.idle": "2024-07-19T08:56:04.887830Z",
          "shell.execute_reply.started": "2024-07-19T08:56:04.833598Z",
          "shell.execute_reply": "2024-07-19T08:56:04.886950Z"
        },
        "trusted": true,
        "colab": {
          "base_uri": "https://localhost:8080/",
          "height": 70
        },
        "id": "mRudU5TvzmJN",
        "outputId": "c7f8142b-3a18-46fd-bcb7-a1e65af841e0"
      },
      "execution_count": 46,
      "outputs": [
        {
          "output_type": "execute_result",
          "data": {
            "text/plain": [
              "\"Question: [INST]Help me set up my daily to-do list![/INST]\\nAnswer: ```python\\ntasks = []\\nwhile True:\\n    task = input('Enter a task or type 'done' to finish: ')\\n    if task == 'done': break\\n    tasks.append(task)\\nprint(f'Your to-do list for today: {tasks}')\\n```\""
            ],
            "application/vnd.google.colaboratory.intrinsic+json": {
              "type": "string"
            }
          },
          "metadata": {},
          "execution_count": 46
        }
      ]
    },
    {
      "cell_type": "code",
      "source": [
        "bnb_config = BitsAndBytesConfig(\n",
        "    load_in_4bit=True,\n",
        "    bnb_4bit_compute_dtype='float16',\n",
        "    bnb_4bit_quant_type='nf4',\n",
        "    bnb_4bit_use_double_quant=False\n",
        ")"
      ],
      "metadata": {
        "execution": {
          "iopub.status.busy": "2024-07-19T08:56:04.889044Z",
          "iopub.execute_input": "2024-07-19T08:56:04.889686Z",
          "iopub.status.idle": "2024-07-19T08:56:04.949173Z",
          "shell.execute_reply.started": "2024-07-19T08:56:04.889645Z",
          "shell.execute_reply": "2024-07-19T08:56:04.948280Z"
        },
        "trusted": true,
        "id": "bgZQOrryzmJN"
      },
      "execution_count": 47,
      "outputs": []
    },
    {
      "cell_type": "code",
      "source": [
        "model = AutoModelForCausalLM.from_pretrained(\n",
        "    'NousResearch/Llama-2-7b-chat-hf',\n",
        "    quantization_config=bnb_config,\n",
        "    device_map={\"\": 0}\n",
        ")\n",
        "tokenizer = AutoTokenizer.from_pretrained('NousResearch/Llama-2-7b-chat-hf', trust_remote_code=True)"
      ],
      "metadata": {
        "execution": {
          "iopub.status.busy": "2024-07-19T08:56:04.950184Z",
          "iopub.execute_input": "2024-07-19T08:56:04.950454Z",
          "iopub.status.idle": "2024-07-19T08:58:34.800849Z",
          "shell.execute_reply.started": "2024-07-19T08:56:04.950430Z",
          "shell.execute_reply": "2024-07-19T08:58:34.799954Z"
        },
        "trusted": true,
        "colab": {
          "base_uri": "https://localhost:8080/",
          "height": 49,
          "referenced_widgets": [
            "f2c661de1e4d4baa9e501736719a5188",
            "42b647f834fb468eaeb17edadd86f6cd",
            "bb5dcae6722e48dfbd9f4cde36f956d8",
            "a04add9b204e46449e45d9b1b855e2b7",
            "3a69cb890a65450c8b2bbb3035654b9b",
            "e53370a352b14652be01bb55d7b07690",
            "3227f46b5e434639b5607feabe71c218",
            "1e5061ee099b43e1977f223ed2f07a74",
            "058fe41406204461aeb2db12a7d3df14",
            "ec9291cf5d6443b385b21083888a4db6",
            "91ff60ed17aa4232bb02ada9f0b5b9d4"
          ]
        },
        "id": "6vrLTNWmzmJO",
        "outputId": "6ec4834a-05fd-4ad3-cf57-fb69cb562ce8"
      },
      "execution_count": 150,
      "outputs": [
        {
          "output_type": "display_data",
          "data": {
            "text/plain": [
              "Loading checkpoint shards:   0%|          | 0/2 [00:00<?, ?it/s]"
            ],
            "application/vnd.jupyter.widget-view+json": {
              "version_major": 2,
              "version_minor": 0,
              "model_id": "f2c661de1e4d4baa9e501736719a5188"
            }
          },
          "metadata": {}
        }
      ]
    },
    {
      "cell_type": "code",
      "source": [
        "def tokenization(data):\n",
        "  model_inputs = tokenizer(data['text'], max_length=512, padding='max_length', truncation=True)\n",
        "  labels = model_inputs[\"input_ids\"].copy()\n",
        "  eos_token_id = tokenizer.convert_tokens_to_ids(tokenizer.eos_token)\n",
        "  labels = [label[1:] + [eos_token_id] for label in labels]\n",
        "\n",
        "  model_inputs['labels'] = labels\n",
        "  return model_inputs"
      ],
      "metadata": {
        "id": "6nGfDbSr_4TZ"
      },
      "execution_count": 137,
      "outputs": []
    },
    {
      "cell_type": "code",
      "source": [
        "tokenized_dataset = dataset.map(tokenization, batched=True,\n",
        "                                remove_columns=['instruction', 'input', 'output', 'text'])"
      ],
      "metadata": {
        "id": "9IzaLJjk_5Az"
      },
      "execution_count": 138,
      "outputs": []
    },
    {
      "cell_type": "code",
      "source": [
        "tokenized_dataset"
      ],
      "metadata": {
        "colab": {
          "base_uri": "https://localhost:8080/"
        },
        "id": "PLUG4HocAaLc",
        "outputId": "5236af24-03c9-4738-f6ce-2198d6dae408"
      },
      "execution_count": 139,
      "outputs": [
        {
          "output_type": "execute_result",
          "data": {
            "text/plain": [
              "Dataset({\n",
              "    features: ['input_ids', 'attention_mask', 'labels'],\n",
              "    num_rows: 27332\n",
              "})"
            ]
          },
          "metadata": {},
          "execution_count": 139
        }
      ]
    },
    {
      "cell_type": "code",
      "source": [
        "new_tokenized_dataset = tokenized_dataset.train_test_split(test_size=0.2)"
      ],
      "metadata": {
        "id": "zof6e3iDLSh_"
      },
      "execution_count": 140,
      "outputs": []
    },
    {
      "cell_type": "code",
      "source": [
        "train_tok_dataset, test_tok_dataset = new_tokenized_dataset['train'], new_tokenized_dataset['test']"
      ],
      "metadata": {
        "id": "OXl-qmUMLqva"
      },
      "execution_count": 141,
      "outputs": []
    },
    {
      "cell_type": "code",
      "source": [
        "train_tok_dataset, test_tok_dataset"
      ],
      "metadata": {
        "colab": {
          "base_uri": "https://localhost:8080/"
        },
        "id": "Oow5vTxzLhaf",
        "outputId": "2ef90047-455a-40df-d635-5de24ba8f793"
      },
      "execution_count": 142,
      "outputs": [
        {
          "output_type": "execute_result",
          "data": {
            "text/plain": [
              "(Dataset({\n",
              "     features: ['input_ids', 'attention_mask', 'labels'],\n",
              "     num_rows: 21865\n",
              " }),\n",
              " Dataset({\n",
              "     features: ['input_ids', 'attention_mask', 'labels'],\n",
              "     num_rows: 5467\n",
              " }))"
            ]
          },
          "metadata": {},
          "execution_count": 142
        }
      ]
    },
    {
      "cell_type": "code",
      "source": [
        "peft_config = LoraConfig(\n",
        "    lora_alpha=16,\n",
        "    lora_dropout=0.1,\n",
        "    r=64,\n",
        "    bias=\"none\",\n",
        "    task_type=\"CAUSAL_LM\"\n",
        ")"
      ],
      "metadata": {
        "execution": {
          "iopub.status.busy": "2024-07-19T08:59:58.520863Z",
          "iopub.execute_input": "2024-07-19T08:59:58.521629Z",
          "iopub.status.idle": "2024-07-19T08:59:58.526464Z",
          "shell.execute_reply.started": "2024-07-19T08:59:58.521592Z",
          "shell.execute_reply": "2024-07-19T08:59:58.525467Z"
        },
        "trusted": true,
        "id": "NPomFWfczmJO"
      },
      "execution_count": 151,
      "outputs": []
    },
    {
      "cell_type": "code",
      "source": [
        "model.enable_input_require_grads()"
      ],
      "metadata": {
        "id": "S-GX3lJPTfwi"
      },
      "execution_count": 152,
      "outputs": []
    },
    {
      "cell_type": "code",
      "source": [
        "model = get_peft_model(model, peft_config).to('cuda')\n",
        "model.print_trainable_parameters()"
      ],
      "metadata": {
        "colab": {
          "base_uri": "https://localhost:8080/"
        },
        "id": "nB2B3Wet5lhX",
        "outputId": "cabd1ad4-6311-4b32-9cb3-ac065a431b9c"
      },
      "execution_count": 153,
      "outputs": [
        {
          "output_type": "stream",
          "name": "stdout",
          "text": [
            "trainable params: 33,554,432 || all params: 6,771,970,048 || trainable%: 0.4955\n"
          ]
        }
      ]
    },
    {
      "cell_type": "code",
      "source": [
        "args = TrainingArguments(\n",
        "    output_dir=\"./output\",\n",
        "    num_train_epochs=1,\n",
        "    fp16=False,\n",
        "    bf16=False,\n",
        "    per_device_train_batch_size=8,\n",
        "    gradient_accumulation_steps=1,\n",
        "    gradient_checkpointing=True,\n",
        "    max_grad_norm=0.3,\n",
        "    learning_rate=3e-4,\n",
        "    weight_decay=0.001,\n",
        "    optim=\"paged_adamw_32bit\",\n",
        "    lr_scheduler_type = \"cosine\",\n",
        "    max_steps = -1,\n",
        "    warmup_ratio = 0.03,\n",
        "    group_by_length = True,\n",
        ")"
      ],
      "metadata": {
        "execution": {
          "iopub.status.busy": "2024-07-19T08:59:58.695343Z",
          "iopub.execute_input": "2024-07-19T08:59:58.696266Z",
          "iopub.status.idle": "2024-07-19T08:59:58.726282Z",
          "shell.execute_reply.started": "2024-07-19T08:59:58.696231Z",
          "shell.execute_reply": "2024-07-19T08:59:58.725069Z"
        },
        "trusted": true,
        "id": "NpBls2aKzmJO"
      },
      "execution_count": 154,
      "outputs": []
    },
    {
      "cell_type": "code",
      "source": [
        "data_collator = DataCollatorWithPadding(tokenizer=tokenizer,\n",
        "                                        max_length=512,\n",
        "                                        padding='max_length',\n",
        "                                        return_tensors='pt')"
      ],
      "metadata": {
        "id": "4D2RPYw9E8vd"
      },
      "execution_count": 155,
      "outputs": []
    },
    {
      "cell_type": "code",
      "source": [
        "trainer = Trainer(\n",
        "    model=model,\n",
        "    tokenizer=tokenizer,\n",
        "    train_dataset=train_tok_dataset,\n",
        "    eval_dataset=test_tok_dataset,\n",
        "    args=args,\n",
        "    data_collator=data_collator\n",
        ")"
      ],
      "metadata": {
        "execution": {
          "iopub.status.busy": "2024-07-19T08:59:59.425070Z",
          "iopub.execute_input": "2024-07-19T08:59:59.425953Z",
          "iopub.status.idle": "2024-07-19T09:00:07.314276Z",
          "shell.execute_reply.started": "2024-07-19T08:59:59.425918Z",
          "shell.execute_reply": "2024-07-19T09:00:07.313472Z"
        },
        "trusted": true,
        "id": "OaZet7zEzmJO"
      },
      "execution_count": 156,
      "outputs": []
    },
    {
      "cell_type": "code",
      "source": [
        "trainer.train()"
      ],
      "metadata": {
        "execution": {
          "iopub.status.busy": "2024-07-19T09:00:07.315724Z",
          "iopub.execute_input": "2024-07-19T09:00:07.316011Z",
          "iopub.status.idle": "2024-07-19T09:00:08.515798Z",
          "shell.execute_reply.started": "2024-07-19T09:00:07.315986Z",
          "shell.execute_reply": "2024-07-19T09:00:08.514569Z"
        },
        "trusted": true,
        "id": "dlF4OpjZzmJO"
      },
      "execution_count": null,
      "outputs": []
    },
    {
      "cell_type": "code",
      "source": [],
      "metadata": {
        "id": "2awBc-TLzmJO"
      },
      "execution_count": null,
      "outputs": []
    }
  ]
}
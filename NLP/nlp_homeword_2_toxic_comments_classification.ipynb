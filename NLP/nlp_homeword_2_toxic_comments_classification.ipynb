{
  "cells": [
    {
      "cell_type": "code",
      "execution_count": 1,
      "metadata": {
        "id": "3sB0keunSsay"
      },
      "outputs": [],
      "source": [
        "import numpy as np\n",
        "import matplotlib.pyplot as plt\n",
        "%matplotlib inline"
      ]
    },
    {
      "cell_type": "markdown",
      "metadata": {
        "id": "DUHqGna1Ssaz"
      },
      "source": [
        "### Homework part I: Prohibited Comment Classification (3 points)\n",
        "\n",
        "![img](https://github.com/yandexdataschool/nlp_course/raw/master/resources/banhammer.jpg)\n",
        "\n",
        "__In this notebook__ you will build an algorithm that classifies social media comments into normal or toxic.\n",
        "Like in many real-world cases, you only have a small (10^3) dataset of hand-labeled examples to work with. We'll tackle this problem using both classical nlp methods and embedding-based approach."
      ]
    },
    {
      "cell_type": "code",
      "execution_count": 83,
      "metadata": {
        "colab": {
          "base_uri": "https://localhost:8080/",
          "height": 206
        },
        "id": "AO4pOm2cSsa0",
        "outputId": "621f011b-04a7-4403-97ae-c6dcff05b231"
      },
      "outputs": [
        {
          "output_type": "execute_result",
          "data": {
            "text/plain": [
              "     should_ban                                       comment_text\n",
              "50            0  \"Those who're in advantageous positions are th...\n",
              "250           1          Fartsalot56 says f**k you motherclucker!!\n",
              "450           1  Are you a fool? \\n\\nI am sorry, but you seem t...\n",
              "650           1    I AM NOT A VANDAL!!!!!!!!!!!!!!!!!!!!!!!!!!!!!!\n",
              "850           0  Citing sources\\n\\nCheck out the Wikipedia:Citi..."
            ],
            "text/html": [
              "\n",
              "  <div id=\"df-46a1c8a3-6588-4fb8-a379-5e708aee053a\" class=\"colab-df-container\">\n",
              "    <div>\n",
              "<style scoped>\n",
              "    .dataframe tbody tr th:only-of-type {\n",
              "        vertical-align: middle;\n",
              "    }\n",
              "\n",
              "    .dataframe tbody tr th {\n",
              "        vertical-align: top;\n",
              "    }\n",
              "\n",
              "    .dataframe thead th {\n",
              "        text-align: right;\n",
              "    }\n",
              "</style>\n",
              "<table border=\"1\" class=\"dataframe\">\n",
              "  <thead>\n",
              "    <tr style=\"text-align: right;\">\n",
              "      <th></th>\n",
              "      <th>should_ban</th>\n",
              "      <th>comment_text</th>\n",
              "    </tr>\n",
              "  </thead>\n",
              "  <tbody>\n",
              "    <tr>\n",
              "      <th>50</th>\n",
              "      <td>0</td>\n",
              "      <td>\"Those who're in advantageous positions are th...</td>\n",
              "    </tr>\n",
              "    <tr>\n",
              "      <th>250</th>\n",
              "      <td>1</td>\n",
              "      <td>Fartsalot56 says f**k you motherclucker!!</td>\n",
              "    </tr>\n",
              "    <tr>\n",
              "      <th>450</th>\n",
              "      <td>1</td>\n",
              "      <td>Are you a fool? \\n\\nI am sorry, but you seem t...</td>\n",
              "    </tr>\n",
              "    <tr>\n",
              "      <th>650</th>\n",
              "      <td>1</td>\n",
              "      <td>I AM NOT A VANDAL!!!!!!!!!!!!!!!!!!!!!!!!!!!!!!</td>\n",
              "    </tr>\n",
              "    <tr>\n",
              "      <th>850</th>\n",
              "      <td>0</td>\n",
              "      <td>Citing sources\\n\\nCheck out the Wikipedia:Citi...</td>\n",
              "    </tr>\n",
              "  </tbody>\n",
              "</table>\n",
              "</div>\n",
              "    <div class=\"colab-df-buttons\">\n",
              "\n",
              "  <div class=\"colab-df-container\">\n",
              "    <button class=\"colab-df-convert\" onclick=\"convertToInteractive('df-46a1c8a3-6588-4fb8-a379-5e708aee053a')\"\n",
              "            title=\"Convert this dataframe to an interactive table.\"\n",
              "            style=\"display:none;\">\n",
              "\n",
              "  <svg xmlns=\"http://www.w3.org/2000/svg\" height=\"24px\" viewBox=\"0 -960 960 960\">\n",
              "    <path d=\"M120-120v-720h720v720H120Zm60-500h600v-160H180v160Zm220 220h160v-160H400v160Zm0 220h160v-160H400v160ZM180-400h160v-160H180v160Zm440 0h160v-160H620v160ZM180-180h160v-160H180v160Zm440 0h160v-160H620v160Z\"/>\n",
              "  </svg>\n",
              "    </button>\n",
              "\n",
              "  <style>\n",
              "    .colab-df-container {\n",
              "      display:flex;\n",
              "      gap: 12px;\n",
              "    }\n",
              "\n",
              "    .colab-df-convert {\n",
              "      background-color: #E8F0FE;\n",
              "      border: none;\n",
              "      border-radius: 50%;\n",
              "      cursor: pointer;\n",
              "      display: none;\n",
              "      fill: #1967D2;\n",
              "      height: 32px;\n",
              "      padding: 0 0 0 0;\n",
              "      width: 32px;\n",
              "    }\n",
              "\n",
              "    .colab-df-convert:hover {\n",
              "      background-color: #E2EBFA;\n",
              "      box-shadow: 0px 1px 2px rgba(60, 64, 67, 0.3), 0px 1px 3px 1px rgba(60, 64, 67, 0.15);\n",
              "      fill: #174EA6;\n",
              "    }\n",
              "\n",
              "    .colab-df-buttons div {\n",
              "      margin-bottom: 4px;\n",
              "    }\n",
              "\n",
              "    [theme=dark] .colab-df-convert {\n",
              "      background-color: #3B4455;\n",
              "      fill: #D2E3FC;\n",
              "    }\n",
              "\n",
              "    [theme=dark] .colab-df-convert:hover {\n",
              "      background-color: #434B5C;\n",
              "      box-shadow: 0px 1px 3px 1px rgba(0, 0, 0, 0.15);\n",
              "      filter: drop-shadow(0px 1px 2px rgba(0, 0, 0, 0.3));\n",
              "      fill: #FFFFFF;\n",
              "    }\n",
              "  </style>\n",
              "\n",
              "    <script>\n",
              "      const buttonEl =\n",
              "        document.querySelector('#df-46a1c8a3-6588-4fb8-a379-5e708aee053a button.colab-df-convert');\n",
              "      buttonEl.style.display =\n",
              "        google.colab.kernel.accessAllowed ? 'block' : 'none';\n",
              "\n",
              "      async function convertToInteractive(key) {\n",
              "        const element = document.querySelector('#df-46a1c8a3-6588-4fb8-a379-5e708aee053a');\n",
              "        const dataTable =\n",
              "          await google.colab.kernel.invokeFunction('convertToInteractive',\n",
              "                                                    [key], {});\n",
              "        if (!dataTable) return;\n",
              "\n",
              "        const docLinkHtml = 'Like what you see? Visit the ' +\n",
              "          '<a target=\"_blank\" href=https://colab.research.google.com/notebooks/data_table.ipynb>data table notebook</a>'\n",
              "          + ' to learn more about interactive tables.';\n",
              "        element.innerHTML = '';\n",
              "        dataTable['output_type'] = 'display_data';\n",
              "        await google.colab.output.renderOutput(dataTable, element);\n",
              "        const docLink = document.createElement('div');\n",
              "        docLink.innerHTML = docLinkHtml;\n",
              "        element.appendChild(docLink);\n",
              "      }\n",
              "    </script>\n",
              "  </div>\n",
              "\n",
              "\n",
              "<div id=\"df-6e660e55-e58d-4e60-a1b7-62ccb578cf6c\">\n",
              "  <button class=\"colab-df-quickchart\" onclick=\"quickchart('df-6e660e55-e58d-4e60-a1b7-62ccb578cf6c')\"\n",
              "            title=\"Suggest charts\"\n",
              "            style=\"display:none;\">\n",
              "\n",
              "<svg xmlns=\"http://www.w3.org/2000/svg\" height=\"24px\"viewBox=\"0 0 24 24\"\n",
              "     width=\"24px\">\n",
              "    <g>\n",
              "        <path d=\"M19 3H5c-1.1 0-2 .9-2 2v14c0 1.1.9 2 2 2h14c1.1 0 2-.9 2-2V5c0-1.1-.9-2-2-2zM9 17H7v-7h2v7zm4 0h-2V7h2v10zm4 0h-2v-4h2v4z\"/>\n",
              "    </g>\n",
              "</svg>\n",
              "  </button>\n",
              "\n",
              "<style>\n",
              "  .colab-df-quickchart {\n",
              "      --bg-color: #E8F0FE;\n",
              "      --fill-color: #1967D2;\n",
              "      --hover-bg-color: #E2EBFA;\n",
              "      --hover-fill-color: #174EA6;\n",
              "      --disabled-fill-color: #AAA;\n",
              "      --disabled-bg-color: #DDD;\n",
              "  }\n",
              "\n",
              "  [theme=dark] .colab-df-quickchart {\n",
              "      --bg-color: #3B4455;\n",
              "      --fill-color: #D2E3FC;\n",
              "      --hover-bg-color: #434B5C;\n",
              "      --hover-fill-color: #FFFFFF;\n",
              "      --disabled-bg-color: #3B4455;\n",
              "      --disabled-fill-color: #666;\n",
              "  }\n",
              "\n",
              "  .colab-df-quickchart {\n",
              "    background-color: var(--bg-color);\n",
              "    border: none;\n",
              "    border-radius: 50%;\n",
              "    cursor: pointer;\n",
              "    display: none;\n",
              "    fill: var(--fill-color);\n",
              "    height: 32px;\n",
              "    padding: 0;\n",
              "    width: 32px;\n",
              "  }\n",
              "\n",
              "  .colab-df-quickchart:hover {\n",
              "    background-color: var(--hover-bg-color);\n",
              "    box-shadow: 0 1px 2px rgba(60, 64, 67, 0.3), 0 1px 3px 1px rgba(60, 64, 67, 0.15);\n",
              "    fill: var(--button-hover-fill-color);\n",
              "  }\n",
              "\n",
              "  .colab-df-quickchart-complete:disabled,\n",
              "  .colab-df-quickchart-complete:disabled:hover {\n",
              "    background-color: var(--disabled-bg-color);\n",
              "    fill: var(--disabled-fill-color);\n",
              "    box-shadow: none;\n",
              "  }\n",
              "\n",
              "  .colab-df-spinner {\n",
              "    border: 2px solid var(--fill-color);\n",
              "    border-color: transparent;\n",
              "    border-bottom-color: var(--fill-color);\n",
              "    animation:\n",
              "      spin 1s steps(1) infinite;\n",
              "  }\n",
              "\n",
              "  @keyframes spin {\n",
              "    0% {\n",
              "      border-color: transparent;\n",
              "      border-bottom-color: var(--fill-color);\n",
              "      border-left-color: var(--fill-color);\n",
              "    }\n",
              "    20% {\n",
              "      border-color: transparent;\n",
              "      border-left-color: var(--fill-color);\n",
              "      border-top-color: var(--fill-color);\n",
              "    }\n",
              "    30% {\n",
              "      border-color: transparent;\n",
              "      border-left-color: var(--fill-color);\n",
              "      border-top-color: var(--fill-color);\n",
              "      border-right-color: var(--fill-color);\n",
              "    }\n",
              "    40% {\n",
              "      border-color: transparent;\n",
              "      border-right-color: var(--fill-color);\n",
              "      border-top-color: var(--fill-color);\n",
              "    }\n",
              "    60% {\n",
              "      border-color: transparent;\n",
              "      border-right-color: var(--fill-color);\n",
              "    }\n",
              "    80% {\n",
              "      border-color: transparent;\n",
              "      border-right-color: var(--fill-color);\n",
              "      border-bottom-color: var(--fill-color);\n",
              "    }\n",
              "    90% {\n",
              "      border-color: transparent;\n",
              "      border-bottom-color: var(--fill-color);\n",
              "    }\n",
              "  }\n",
              "</style>\n",
              "\n",
              "  <script>\n",
              "    async function quickchart(key) {\n",
              "      const quickchartButtonEl =\n",
              "        document.querySelector('#' + key + ' button');\n",
              "      quickchartButtonEl.disabled = true;  // To prevent multiple clicks.\n",
              "      quickchartButtonEl.classList.add('colab-df-spinner');\n",
              "      try {\n",
              "        const charts = await google.colab.kernel.invokeFunction(\n",
              "            'suggestCharts', [key], {});\n",
              "      } catch (error) {\n",
              "        console.error('Error during call to suggestCharts:', error);\n",
              "      }\n",
              "      quickchartButtonEl.classList.remove('colab-df-spinner');\n",
              "      quickchartButtonEl.classList.add('colab-df-quickchart-complete');\n",
              "    }\n",
              "    (() => {\n",
              "      let quickchartButtonEl =\n",
              "        document.querySelector('#df-6e660e55-e58d-4e60-a1b7-62ccb578cf6c button');\n",
              "      quickchartButtonEl.style.display =\n",
              "        google.colab.kernel.accessAllowed ? 'block' : 'none';\n",
              "    })();\n",
              "  </script>\n",
              "</div>\n",
              "    </div>\n",
              "  </div>\n"
            ]
          },
          "metadata": {},
          "execution_count": 83
        }
      ],
      "source": [
        "import pandas as pd\n",
        "data = pd.read_csv(\"comments.tsv\", sep='\\t')\n",
        "\n",
        "texts = data['comment_text'].values\n",
        "target = data['should_ban'].values\n",
        "data[50::200]"
      ]
    },
    {
      "cell_type": "code",
      "execution_count": 84,
      "metadata": {
        "id": "Zia-rQLrSsa1"
      },
      "outputs": [],
      "source": [
        "from sklearn.model_selection import train_test_split\n",
        "texts_train, texts_test, y_train, y_test = train_test_split(texts, target, test_size=0.5, random_state=42)"
      ]
    },
    {
      "cell_type": "markdown",
      "metadata": {
        "id": "A1pqimj5Ssa1"
      },
      "source": [
        "__Note:__ it is generally a good idea to split data into train/test before anything is done to them.\n",
        "\n",
        "It guards you against possible data leakage in the preprocessing stage. For example, should you decide to select words present in obscene tweets as features, you should only count those words over the training set. Otherwise your algoritm can cheat evaluation."
      ]
    },
    {
      "cell_type": "markdown",
      "metadata": {
        "id": "uIwXEmdqSsa1"
      },
      "source": [
        "### Preprocessing and tokenization\n",
        "\n",
        "Comments contain raw text with punctuation, upper/lowercase letters and even newline symbols.\n",
        "\n",
        "To simplify all further steps, we'll split text into space-separated tokens using one of nltk tokenizers."
      ]
    },
    {
      "cell_type": "code",
      "execution_count": 85,
      "metadata": {
        "colab": {
          "base_uri": "https://localhost:8080/"
        },
        "id": "Kj5LLrJBSsa1",
        "outputId": "95dec39c-4174-47db-cb24-11e2441a670c"
      },
      "outputs": [
        {
          "output_type": "stream",
          "name": "stdout",
          "text": [
            "before: How to be a grown-up at work: replace \"fuck you\" with \"Ok, great!\".\n",
            "after: how to be a grown-up at work : replace \" fuck you \" with \" ok , great ! \" .\n"
          ]
        }
      ],
      "source": [
        "from nltk.tokenize import TweetTokenizer\n",
        "tokenizer = TweetTokenizer()\n",
        "preprocess = lambda text: ' '.join(tokenizer.tokenize(text.lower()))\n",
        "\n",
        "text = 'How to be a grown-up at work: replace \"fuck you\" with \"Ok, great!\".'\n",
        "print(\"before:\", text)\n",
        "print(\"after:\", preprocess(text))"
      ]
    },
    {
      "cell_type": "code",
      "source": [
        "texts_train[0]"
      ],
      "metadata": {
        "colab": {
          "base_uri": "https://localhost:8080/",
          "height": 35
        },
        "id": "OcY7bhNdUTbd",
        "outputId": "c2137880-23ff-4466-8f89-82e538c38615"
      },
      "execution_count": null,
      "outputs": [
        {
          "output_type": "execute_result",
          "data": {
            "text/plain": [
              "'... oh and what kind of person WATCHES another persons mytalk page? Stalker!'"
            ],
            "application/vnd.google.colaboratory.intrinsic+json": {
              "type": "string"
            }
          },
          "metadata": {},
          "execution_count": 7
        }
      ]
    },
    {
      "cell_type": "code",
      "execution_count": 86,
      "metadata": {
        "id": "Vp4ZaBRfSsa2"
      },
      "outputs": [],
      "source": [
        "# task: preprocess each comment in train and test\n",
        "\n",
        "texts_train = np.array([preprocess(i) for i in texts_train])\n",
        "texts_test = np.array([preprocess(i) for i in texts_test])"
      ]
    },
    {
      "cell_type": "code",
      "source": [
        "texts_train[0]"
      ],
      "metadata": {
        "colab": {
          "base_uri": "https://localhost:8080/",
          "height": 35
        },
        "id": "8UI3oqB4UwXK",
        "outputId": "46499307-363d-4cc8-8ce1-32e06cd5fd41"
      },
      "execution_count": null,
      "outputs": [
        {
          "output_type": "execute_result",
          "data": {
            "text/plain": [
              "'... oh and what kind of person watches another persons mytalk page ? stalker !'"
            ],
            "application/vnd.google.colaboratory.intrinsic+json": {
              "type": "string"
            }
          },
          "metadata": {},
          "execution_count": 9
        }
      ]
    },
    {
      "cell_type": "code",
      "execution_count": null,
      "metadata": {
        "id": "KDgIs6MwSsa2"
      },
      "outputs": [],
      "source": [
        "assert texts_train[5] ==  'who cares anymore . they attack with impunity .'\n",
        "assert texts_test[89] == 'hey todds ! quick q ? why are you so gay'\n",
        "assert len(texts_test) == len(y_test)"
      ]
    },
    {
      "cell_type": "markdown",
      "metadata": {
        "id": "M8JZW-KRSsa2"
      },
      "source": [
        "\n",
        "### Solving it: bag of words\n",
        "\n",
        "![img](http://www.novuslight.com/uploads/n/BagofWords.jpg)\n",
        "\n",
        "One traditional approach to such problem is to use bag of words features:\n",
        "1. build a vocabulary of frequent words (use train data only)\n",
        "2. for each training sample, count the number of times a word occurs in it (for each word in vocabulary).\n",
        "3. consider this count a feature for some classifier\n",
        "\n",
        "__Note:__ in practice, you can compute such features using sklearn. Please don't do that in the current assignment, though.\n",
        "* `from sklearn.feature_extraction.text import CountVectorizer, TfidfVectorizer`"
      ]
    },
    {
      "cell_type": "code",
      "source": [
        "from collections import Counter\n",
        "k = 10000\n",
        "counter = Counter()\n",
        "\n",
        "for i in texts_train:\n",
        "    for word in i.split():\n",
        "        counter[word] += 1\n",
        "\n",
        "print(counter.most_common(k))"
      ],
      "metadata": {
        "colab": {
          "base_uri": "https://localhost:8080/"
        },
        "id": "7J5UMwbEXzw-",
        "outputId": "8d324804-1ebb-4209-cf36-2463a46467d7"
      },
      "execution_count": 87,
      "outputs": [
        {
          "output_type": "stream",
          "name": "stdout",
          "text": [
            "[('.', 1513), (',', 1389), ('you', 1342), ('the', 1219), ('\"', 1057), ('a', 860), ('to', 823), ('i', 727), ('and', 711), ('!', 703), ('is', 657), ('of', 637), ('=', 612), ('suck', 515), ('that', 416), ('in', 393), ('hitler', 388), ('heil', 385), ('it', 375), ('(', 369), (')', 367), ('offfuck', 360), ('?', 310), ('are', 301), ('not', 281), ('this', 278), ('for', 269), ('be', 248), ('your', 237), ('my', 212), ('on', 207), ('as', 203), ('with', 202), ('do', 190), ('have', 187), ('nigger', 182), ('j.delanoy', 179), ('me', 162), (':', 159), ('dick', 152), ('or', 146), ('was', 144), ('if', 142), ('article', 136), ('at', 134), ('know', 134), ('but', 131), ('because', 131), ('all', 129), ('what', 128), ('page', 128), ('an', 120), ('so', 116), ('...', 112), ('talk', 111), ('by', 104), ('wikipedia', 101), ('one', 100), ('he', 100), ('they', 99), ('can', 99), ('like', 99), ('no', 99), ('from', 97), ('will', 94), ('has', 94), ('would', 85), (\"'\", 81), ('been', 80), ('about', 79), ('there', 79), ('fggt', 79), ('just', 77), (\"don't\", 75), ('any', 73), ('which', 73), ('did', 73), ('2006', 73), ('-', 67), ('time', 66), ('who', 66), ('when', 66), ('july', 63), ('we', 62), ('hist', 62), ('diff', 62), ('please', 61), ('how', 61), ('people', 59), ('24', 59), ('should', 57), ('see', 56), ('his', 56), ('had', 56), ('|', 55), ('them', 54), ('here', 53), ('up', 53), ('think', 52), ('also', 51), ('other', 51), ('before', 50), ('some', 50), (';', 49), ('then', 49), ('bitch', 48), (\"i'm\", 47), ('am', 47), ('make', 47), ('why', 47), ('out', 46), ('being', 45), ('may', 44), ('user', 44), ('only', 43), ('fuck', 43), ('/', 43), ('more', 42), (\"it's\", 41), ('use', 41), ('articles', 40), ('again', 40), ('does', 39), ('their', 39), ('even', 39), ('now', 39), ('edit', 38), ('good', 37), ('get', 36), ('own', 35), ('shit', 35), ('were', 35), ('her', 35), ('want', 35), ('slap', 35), ('than', 34), ('go', 34), ('two', 34), ('stop', 33), ('him', 33), ('new', 33), ('→', 33), ('since', 33), ('information', 32), ('made', 32), ('sources', 32), ('its', 32), ('very', 32), ('most', 31), ('blocked', 31), (\"you're\", 31), ('help', 31), ('way', 30), ('over', 30), ('right', 30), ('take', 29), ('she', 29), ('&', 29), ('discussion', 29), ('block', 29), ('could', 29), ('such', 29), ('dog', 29), ('many', 28), ('thank', 28), ('too', 28), ('live', 27), ('us', 27), ('where', 26), ('}', 26), ('much', 26), ('things', 26), (\"i've\", 26), ('image', 26), ('into', 26), ('top', 26), ('those', 25), ('these', 25), ('well', 25), ('u', 25), ('{', 25), ('fucking', 25), ('added', 25), ('little', 25), ('sure', 24), ('thanks', 24), ('work', 24), ('•', 24), ('against', 23), ('while', 23), ('real', 23), ('used', 23), ('life', 23), ('..', 23), ('something', 23), ('same', 23), ('name', 23), ('edits', 22), ('others', 22), ('keep', 22), ('editing', 22), ('really', 22), ('pages', 22), ('delete', 22), ('without', 22), ('another', 21), ('s', 21), ('source', 21), ('ass', 21), ('add', 21), ('back', 21), ('find', 21), ('wp', 21), ('off', 21), ('loud', 21), ('seems', 20), ('say', 20), ('agree', 20), ('place', 20), ('every', 19), ('consider', 19), ('read', 19), ('put', 19), ('might', 19), ('going', 19), ('doing', 19), ('content', 19), ('someone', 19), ('ever', 19), ('believe', 19), ('case', 19), ('world', 19), ('first', 19), ('hi', 19), ('wormy', 19), ('saloon', 19), ('personal', 18), ('deleted', 18), ('wiki', 18), ('actually', 18), ('need', 18), ('must', 18), ('making', 18), ('admin', 18), ('great', 18), ('ask', 18), ('said', 18), ('under', 18), ('our', 18), ('anything', 18), ('section', 18), ('mean', 18), ('oh', 17), ('comment', 17), ('simply', 17), ('three', 17), ('best', 17), ('after', 17), ('fair', 17), ('understand', 17), ('2', 17), ('yourself', 17), ('using', 17), ('still', 17), ('words', 17), ('–', 17), ('street', 17), ('above', 16), ('nothing', 16), ('question', 16), ('history', 16), ('each', 16), ('look', 16), ('welcome', 16), ('let', 16), ('request', 16), ('done', 16), ('removed', 16), ('bootleg', 16), ('kind', 15), ('person', 15), ('never', 15), ('site', 15), ('reason', 15), ('book', 15), ('enough', 15), ('matter', 15), ('free', 15), ('gay', 15), ('english', 15), ('care', 15), ('—', 15), ('through', 15), ('comments', 15), ('last', 15), ('hey', 15), ('remove', 15), ('point', 15), ('references', 15), ('support', 15), ('better', 14), ('makes', 14), ('stupid', 14), ('rationale', 14), ('bit', 14), ('day', 14), ('hard', 14), ('fact', 14), ('hope', 14), ('having', 14), ('~', 14), ('thing', 14), ('[', 14), ('years', 14), ('%', 14), ('created', 14), ('different', 14), ('warning', 13), ('list', 13), (\"you've\", 13), ('contributions', 13), ('utc', 13), ('show', 13), ('however', 13), ('give', 13), ('continue', 13), ('style', 13), ('questions', 13), ('american', 13), ('call', 13), ('clearly', 13), ('come', 13), ('1', 13), ('*', 13), ('biased', 13), ('links', 13), ('’', 13), ('college', 13), ('deletion', 13), ('anti-semitism', 13), ('long', 12), ('asshole', 12), ('leave', 12), ('around', 12), (\"can't\", 12), ('seem', 12), ('found', 12), ('vandalism', 12), ('short', 12), ('rather', 12), ('provide', 12), ('least', 12), (\"that's\", 12), ('reverted', 12), ('entry', 12), ('dont', 12), ('25', 12), ('disc', 12), ('old', 12), ('caused', 12), ('issue', 11), ('later', 11), ('current', 11), ('view', 11), ('further', 11), ('whether', 11), ('government', 11), ('main', 11), ('both', 11), ('ban', 11), ('eat', 11), ('yet', 11), ('bastard', 11), ('mother', 11), ('topic', 11), ('try', 11), ('adding', 11), ('getting', 11), (']', 11), ('revert', 11), ('hit', 11), ('once', 11), ('knowledge', 11), ('between', 11), ('second', 11), ('together', 11), ('title', 11), ('text', 11), ('far', 11), ('etc', 11), ('2012', 11), ('problem', 11), ('aig', 11), ('feel', 10), ('quite', 10), ('though', 10), ('attack', 10), ('reliable', 10), ('wrong', 10), ('attitude', 10), ('alone', 10), ('check', 10), ('called', 10), ('man', 10), ('redirect', 10), ('change', 10), ('re', 10), ('whole', 10), ('idiot', 10), ('account', 10), ('upon', 10), ('improve', 10), (\"didn't\", 10), ('remember', 10), ('part', 10), ('policies', 10), ('policy', 10), ('respect', 10), ('hello', 10), ('everyone', 10), ('instead', 10), ('state', 10), ('consensus', 10), ('wall', 10), ('@', 10), ('rugby', 10), ('editor', 9), ('left', 9), ('admins', 9), ('attacks', 9), ('im', 9), ('news', 9), ('unblock', 9), ('piece', 9), ('editors', 9), ('ip', 9), ('act', 9), ('note', 9), ('website', 9), ('mention', 9), ('true', 9), ('reference', 9), ('t', 9), ('head', 9), ('cannot', 9), ('either', 9), (\"i'll\", 9), ('moron', 9), ('learn', 9), ('lead', 9), ('changes', 9), ('saying', 9), ('various', 9), ('jews', 9), ('days', 9), ('statement', 9), ('nonsense', 9), ('original', 9), ('faith', 9), ('anyway', 9), (\"you'll\", 9), ('definition', 9), ('guidelines', 9), ('able', 9), ('beautiful', 9), ('discuss', 9), ('loan', 9), ('bernanke', 9), ('usa', 9), ('possible', 9), ('posted', 9), ('scientific', 9), ('correct', 9), ('represented', 9), (\"isn't\", 8), ('cheers', 8), ('important', 8), ('states', 8), ('power', 8), ('big', 8), ('fine', 8), ('cunt', 8), ('political', 8), ('during', 8), ('common', 8), ('listed', 8), ('lot', 8), ('completely', 8), ('given', 8), ('field', 8), ('several', 8), ('means', 8), ('description', 8), ('anyone', 8), ('happy', 8), ('suggest', 8), ('mentioned', 8), ('level', 8), ('due', 8), ('version', 8), ('grammar', 8), ('general', 8), ('serious', 8), ('guys', 8), ('class', 8), ('number', 8), ('notable', 8), ('whatever', 8), ('absolutely', 8), ('rfc', 8), ('neutral', 8), ('myself', 8), ('probably', 8), ('message', 8), ('changed', 8), ('seen', 8), ('merge', 8), ('reasons', 8), ('google', 8), ('says', 8), ('thought', 8), ('actions', 8), ('related', 8), ('hell', 8), ('info', 8), ('word', 8), ('chavo', 8), ('jr', 8), ('played', 8), ('complete', 8), ('line', 8), ('beth', 8), ('party', 8), ('band', 8), ('needs', 8), ('involved', 7), ('lost', 7), ('interest', 7), ('therefore', 7), ('media', 7), ('evidence', 7), ('dude', 7), ('attention', 7), ('faggot', 7), ('goes', 7), ('written', 7), ('write', 7), ('yes', 7), ('claim', 7), ('told', 7), ('writing', 7), ('type', 7), ('ps', 7), ('although', 7), ('aware', 7), ('until', 7), (\"doesn't\", 7), ('dumb', 7), ('deal', 7), ('unblocked', 7), ('appear', 7), ('men', 7), ('ahead', 7), ('control', 7), ('become', 7), ('already', 7), ('area', 7), ('modern', 7), ('sense', 7), ('helpful', 7), ('date', 7), ('efforts', 7), ('file', 7), ('listen', 7), ('stuff', 7), ('blocking', 7), ('agenda', 7), ('dirty', 7), ('ago', 7), ('tags', 7), ('certainly', 7), (\"i'd\", 7), ('else', 7), ('vote', 7), ('sourcing', 7), ('research', 7), ('calling', 7), ('form', 7), ('greek', 7), ('sr', 7), ('clear', 7), ('position', 7), ('months', 7), ('claims', 7), ('study', 7), ('themselves', 7), ('women', 7), ('oscar', 7), ('gutierrez', 7), ('bash', 7), ('guerrero', 7), (\"what's\", 7), ('argument', 7), ('got', 7), ('always', 7), ('reverting', 7), ('few', 7), ('run', 7), ('geitner', 7), ('paulson', 7), ('today', 7), ('conflict', 7), ('_', 7), ('religious', 7), ('creation', 7), ('process', 7), ('jewish', 7), ('lay', 7), ('civility', 7), ('clairsentience', 7), ('persons', 6), ('war', 6), ('example', 6), ('idea', 6), ('perhaps', 6), ('troll', 6), ('lives', 6), ('crap', 6), ('available', 6), ('talking', 6), ('friends', 6), ('according', 6), ('group', 6), ('parents', 6), ('bad', 6), ('considered', 6), ('ok', 6), (\"he's\", 6), ('truly', 6), ('wanted', 6), ('cause', 6), ('ignorant', 6), ('towards', 6), ('itself', 6), ('came', 6), ('enjoy', 6), ('gone', 6), ('voting', 6), ('market', 6), ('four', 6), (');', 6), ('automatically', 6), ('lack', 6), ('images', 6), (\"won't\", 6), ('suspect', 6), ('saw', 6), ('asked', 6), ('template', 6), ('outside', 6), ('america', 6), ('supposed', 6), ('amount', 6), ('ah', 6), ('high', 6), ('silly', 6), ('logic', 6), ('including', 6), ('encyclopedia', 6), ('examples', 6), ('year', 6), ('based', 6), ('bring', 6), ('meet', 6), ('start', 6), ('move', 6), ('post', 6), ('useful', 6), ('dispute', 6), ('die', 6), ('fictional', 6), ('south', 6), ('appropriate', 6), ('blue', 6), ('seriously', 6), ('wrote', 6), ('palmer', 6), ('3', 6), ('ridiculous', 6), ('standard', 6), ('users', 6), ('facts', 6), ('smackdown', 6), ('heavyweight', 6), ('champion', 6), ('low', 6), ('player', 6), ('down', 6), ('iq', 6), ('final', 6), ('answer', 6), ('interested', 6), ('tag', 6), ('country', 6), ('video', 6), ('contact', 6), ('justine', 6), ('recent', 6), ('went', 6), ('french', 6), ('lose', 6), ('tool', 6), ('applied', 6), ('trying', 6), ('create', 6), ('couple', 6), ('uses', 6), ('^', 6), ('movement', 6), ('speedy', 6), ('homosexual', 6), ('arms', 6), ('points', 6), ('previous', 6), ('coming', 6), ('forget', 6), ('poor', 6), ('bulls', 6), ('cup', 6), ('issues', 6), ('physics', 6), ('width', 6), ('western', 6), ('sahara', 6), ('republic', 6), ('lazy', 5), ('reading', 5), ('cited', 5), ('included', 5), ('p', 5), ('felt', 5), ('quality', 5), ('wikipedian', 5), ('assange', 5), ('propaganda', 5), ('4', 5), ('march', 5), ('tell', 5), ('harassment', 5), ('mind', 5), ('especially', 5), ('statements', 5), ('less', 5), ('livery', 5), ('address', 5), ('discrimination', 5), ('ya', 5), ('ignorance', 5), ('john', 5), ('retarded', 5), (\"let's\", 5), ('non-free', 5), ('consistent', 5), (\"wikipedia's\", 5), ('r', 5), ('fucked', 5), ('banned', 5), ('school', 5), ('mr', 5), ('working', 5), ('sex', 5), ('course', 5), ('body', 5), ('death', 5), ('behind', 5), ('sock', 5), ('contributors', 5), ('preceding', 5), ('subjects', 5), ('million', 5), ('stated', 5), ('vandalize', 5), ('nation', 5), ('decide', 5), ('stay', 5), ('sign', 5), ('tells', 5), ('small', 5), ('pathetic', 5), ('computer', 5), ('future', 5), ('per', 5), ('attempt', 5), ('origin', 5), ('allow', 5), ('edited', 5), ('times', 5), ('nemonic', 5), ('easy', 5), ('significant', 5), ('six', 5), ('cos', 5), ('took', 5), ('15', 5), ('minutes', 5), ('coat', 5), ('damn', 5), ('obvious', 5), ('light', 5), ('opinion', 5), ('deleting', 5), ('team', 5), ('gonna', 5), ('respond', 5), ('rm', 5), (\"haven't\", 5), ('worked', 5), ('specific', 5), ('wish', 5), ('funny', 5), ('lol', 5), ('assume', 5), ('beyond', 5), ('2010', 5), ('eastlake', 5), ('exit', 5), ('putting', 5), ('taken', 5), ('james', 5), ('disruptive', 5), ('discussed', 5), ('topics', 5), ('share', 5), ('hits', 5), ('vfd', 5), ('mine', 5), ('dead', 5), ('total', 5), ('shawn', 5), ('michaels', 5), ('return', 5), ('100', 5), ('looking', 5), ('abused', 5), ('along', 5), ('noticed', 5), ('removing', 5), ('result', 5), ('subject', 5), ('moment', 5), ('citation', 5), ('conversation', 5), ('spending', 5), ('close', 5), ('full', 5), ('official', 5), ('10', 5), ('regarding', 5), ('public', 5), ('global', 5), ('markets', 5), ('crisis', 5), ('huge', 5), ('jones', 5), ('action', 5), ('exist', 5), ('placed', 5), ('away', 5), ('harry', 5), ('australia', 5), ('submission', 5), ('community', 5), ('avoid', 5), ('e', 5), ('18', 5), ('super', 5), ('surname', 5), ('review', 5), ('fat', 5), ('fun', 5), ('justify', 5), ('threatening', 5), ('designed', 5), ('horn', 5), ('sahrawi', 5), ('strong', 4), ('rules', 4), ('names', 4), ('white', 4), ('decision', 4), ('anymore', 4), ('founder', 4), ('journalism', 4), ('whereby', 4), ('thoughts', 4), ('abuse', 4), ('liar', 4), ('internet', 4), ('law', 4), ('business', 4), ('events', 4), ('distance', 4), ('sound', 4), ('access', 4), ('material', 4), ('mod', 4), ('recently', 4), ('sorry', 4), ('report', 4), ('dare', 4), ('changing', 4), ('space', 4), ('language', 4), ('books', 4), ('born', 4), ('assuming', 4), ('civil', 4), ('justification', 4), ('criteria', 4), ('showing', 4), ('o', 4), ('wanna', 4), ('basically', 4), ('contributing', 4), ('gives', 4), ('single', 4), ('game', 4), ('god', 4), ('human', 4), ('valid', 4), ('color', 4), ('ignore', 4), ('prove', 4), ('obtuse', 4), ('serve', 4), ('separate', 4), ('actual', 4), ('himself', 4), ('ignoring', 4), ('behavior', 4), ('unsigned', 4), ('except', 4), ('equally', 4), ('asking', 4), ('effort', 4), ('term', 4), ('five', 4), ('tildes', 4), ('petty', 4), ('status', 4), ('contribute', 4), ('evil', 4), ('helping', 4), ('decline', 4), ('below', 4), ('track', 4), ('types', 4), ('pretend', 4), ('lies', 4), ('parts', 4), ('h', 4), ('teach', 4), ('shows', 4), ('end', 4), ('tagged', 4), ('angry', 4), ('cut', 4), ('huskies', 4), ('guess', 4), ('pay', 4), ('front', 4), ('german', 4), ('proposal', 4), (\"there's\", 4), ('propose', 4), ('accept', 4), ('test', 4), ('x', 4), ('tom', 4), ('equal', 4), ('practice', 4), ('often', 4), ('solid', 4), ('fight', 4), ('ecw', 4), ('moved', 4), ('week', 4), ('air', 4), ('dx', 4), ('ones', 4), ('mos', 4), ('uncivil', 4), ('interesting', 4), ('black', 4), ('highest', 4), ('rule', 4), ('eyes', 4), ('gave', 4), ('g', 4), ('advice', 4), ('large', 4), ('proof', 4), ('earlier', 4), ('system', 4), ('thinks', 4), ('yours', 4), ('claiming', 4), ('job', 4), ('cross', 4), ('album', 4), ('response', 4), ('errors', 4), ('8', 4), ('players', 4), ('profile', 4), ('formal', 4), ('baby', 4), ('watch', 4), ('tm', 4), ('sourced', 4), ('particularly', 4), ('goal', 4), ('middle', 4), ('otherwise', 4), ('crime', 4), ('mainstream', 4), ('rest', 4), ('likely', 4), ('living', 4), ('sitting', 4), ('red', 4), ('held', 4), ('definitely', 4), ('canada', 4), ('spend', 4), ('finally', 4), ('morning', 4), ('summary', 4), ('notice', 4), ('quit', 4), ('opinions', 4), ('2007', 4), ('open', 4), ('van', 4), ('refusal', 4), ('proposals', 4), ('expert', 4), ('directly', 4), ('next', 4), ('de', 4), ('major', 4), ('woman', 4), ('supporters', 4), ('format', 4), ('looks', 4), ('thus', 4), ('citadel', 4), ('calls', 4), ('method', 4), ('following', 4), ('yeah', 4), ('works', 4), ('___', 4), ('category', 4), ('reasoning', 4), ('existing', 4), (\"people's\", 4), ('uk', 4), ('weapon', 4), ('within', 4), ('disputed', 4), ('giving', 4), ('thousands', 4), ('terms', 4), ('tamil', 4), ('தமிழ்', 4), ('வேண்டும்', 4), ('everything', 4), ('maybe', 4), ('play', 4), ('nt', 4), ('ga', 4), ('threats', 4), ('christianity', 4), ('explanation', 4), ('hour', 4), ('addition', 4), ('requests', 4), ('irish', 4), ('entire', 4), ('clairvoyance', 4), ('tao', 4), ('literature', 4), ('background-color', 4), ('#f5fffa', 4), ('vertical-align', 4), ('stalker', 3), ('ownership', 3), ('personally', 3), ('boys', 3), ('mentioning', 3), ('pretty', 3), ('learning', 3), ('allegations', 3), ('warring', 3), ('necessarily', 3), ('corporate', 3), ('americans', 3), ('2011', 3), ('constant', 3), ('honestly', 3), ('posts', 3), ('mistake', 3), ('seeking', 3), ('playground', 3), ('boy', 3), ('rude', 3), ('blatant', 3), ('laws', 3), ('fire', 3), ('lake', 3), ('author', 3), ('vietnamese', 3), ('published', 3), ('flawed', 3), ('died', 3), ('campaign', 3), ('chart', 3), ('phrase', 3), ('near', 3), ('speak', 3), ('belongs', 3), ('minority', 3), ('suggests', 3), ('april', 3), ('20', 3), ('texas', 3), ('wtf', 3), ('guy', 3), ('ways', 3), ('federal', 3), ('explaining', 3), ('guideline', 3), ('bed', 3), ('whom', 3), ('deserves', 3), ('purpose', 3), ('education', 3), ('wait', 3), ('slim', 3), ('ganna', 3), (\"ain't\", 3), ('fuckin', 3), ('gets', 3), ('family', 3), ('sick', 3), ('treated', 3), ('seemed', 3), ('numerous', 3), ('self', 3), ('sockpuppet', 3), ('thinking', 3), ('watching', 3), ('everytime', 3), ('don', 3), ('handle', 3), ('accused', 3), ('accusing', 3), ('correctly', 3), ('strongly', 3), ('continues', 3), ('rfa', 3), ('supported', 3), ('hate', 3), ('sir', 3), ('suggestion', 3), ('inappropriate', 3), ('regarded', 3), ('greatest', 3), ('km2', 3), ('russia', 3), ('studied', 3), ('prefer', 3), ('pillars', 3), ('tutorial', 3), ('manual', 3), ('produce', 3), ('helpme', 3), ('taking', 3), ('project', 3), ('appreciated', 3), ('hopefully', 3), ('professional', 3), ('ability', 3), ('courtesy', 3), ('star', 3), ('appears', 3), ('speech', 3), ('producer', 3), ('imply', 3), ('movies', 3), ('30', 3), ('story', 3), ('plus', 3), ('concerned', 3), ('former', 3), ('latter', 3), ('communicate', 3), ('application', 3), ('banning', 3), ('mistakes', 3), ('intentional', 3), ('blood', 3), ('visit', 3), ('chinese', 3), ('largely', 3), ('truth', 3), (\"they're\", 3), (\"shouldn't\", 3), ('paper', 3), ('functions', 3), ('simple', 3), ('picked', 3), ('press', 3), ('truck', 3), ('accordance', 3), ('copyright', 3), ('motherfucker', 3), ('washington', 3), ('fan', 3), ('languages', 3), ('love', 3), ('nazi', 3), ('fascist', 3), ('link', 3), ('prior', 3), ('arguments', 3), ('military', 3), ('sections', 3), ('exactly', 3), ('wants', 3), ('indeed', 3), ('additionally', 3), ('misleading', 3), ('rhetorical', 3), ('sandbox', 3), ('rights', 3), ('douche', 3), ('starting', 3), ('home', 3), (\"couldn't\", 3), ('hardly', 3), (\"wasn't\", 3), ('blvd', 3), ('corrected', 3), ('429', 3), ('compromise', 3), ('penis', 3), ('mirror', 3), ('jannetty', 3), ('officially', 3), ('rumors', 3), ('shortly', 3), ('wwe', 3), ('publicly', 3), ('eric', 3), ('university', 3), ('acting', 3), (\"hadn't\", 3), ('shame', 3), ('standards', 3), ('program', 3), ('busking', 3), ('venue', 3), ('performance', 3), ('entries', 3), ('night', 3), ('finished', 3), ('silence', 3), ('wont', 3), ('bias', 3), ('lived', 3), ('poop', 3), ('voted', 3), ('mainly', 3), ('primary', 3), ('charge', 3), ('figure', 3), ('playing', 3), ('decided', 3), ('noise', 3), ('waiting', 3), ('stand', 3), ('forces', 3), ('kill', 3), ('citing', 3), ('early', 3), ('career', 3), ('disambiguation', 3), ('listing', 3), ('trivia', 3), ('canadian', 3), ('ragweed', 3), ('06:18', 3), ('06:05', 3), ('whose', 3), ('nice', 3), ('c', 3), ('importance', 3), ('interwiki', 3), ('internal', 3), ('incoming', 3), ('eg', 3), ('age', 3), ('era', 3), ('century', 3), ('cricket', 3), ('ranked', 3), ('series', 3), ('everywhere', 3), ('sentence', 3), ('double', 3), ('schulz', 3), ('un', 3), ('fiction', 3), ('kids', 3), ('2009', 3), ('disappear', 3), ('experience', 3), ('soon', 3), ('reverts', 3), ('priyanka', 3), ('removal', 3), ('7', 3), ('input', 3), ('reviewer', 3), ('pull', 3), ('provided', 3), ('count', 3), ('matches', 3), ('cock', 3), ('knowing', 3), ('situation', 3), ('forgot', 3), ('“', 3), ('”', 3), ('event', 3), ('reporting', 3), ('m', 3), ('physical', 3), ('room', 3), ('presence', 3), ('allowed', 3), ('responsible', 3), ('wore', 3), ('virtually', 3), ('display', 3), ('finger', 3), ('doubt', 3), ('eventually', 3), ('needed', 3), ('associated', 3), ('soviet', 3), (\"person's\", 3), ('apparently', 3), ('particular', 3), ('car', 3), ('jew', 3), ('japanese', 3), ('child', 3), ('games', 3), ('reflinks', 3), ('tab', 3), ('choose', 3), ('apology', 3), ('deserve', 3), ('independence', 3), ('movie', 3), ('telling', 3), ('fed', 3), ('announced', 3), ('insurance', 3), ('issued', 3), ('allowing', 3), ('collapse', 3), ('saved', 3), ('understanding', 3), ('depression', 3), ('none', 3), ('economy', 3), ('lie', 3), ('capital', 3), ('esp', 3), ('incorrect', 3), ('dangerous', 3), ('appeal', 3), ('convinced', 3), ('reply', 3), ('order', 3), ('copied', 3), ('finding', 3), ('relating', 3), ('problems', 3), ('skeptic', 3), ('doc', 3), ('hold', 3), ('contribs', 3), ('troy', 3), ('apologize', 3), ('btw', 3), ('labour', 3), ('communist', 3), ('possibly', 3), ('lady', 3), ('follow', 3), ('whitehead', 3), ('restore', 3), ('citations', 3), ('ready', 3), ('caption', 3), ('23', 3), ('relevant', 3), ('january', 3), ('agreement', 3), ('scheme', 3), ('lassie', 3), ('unique', 3), ('structures', 3), ('award', 3), ('badge', 3), ('require', 3), ('hundreds', 3), ('technology', 3), ('fool', 3), ('indicate', 3), ('false', 3), ('usually', 3), ('value', 3), ('intended', 3), ('side', 3), ('objects', 3), ('children', 3), ('sell', 3), ('squad', 3), ('half', 3), ('national', 3), ('currie', 3), ('vodacom', 3), ('indicator', 3), ('cc', 3), ('vc', 3), ('defined', 3), ('linked', 3), ('ignored', 3), ('alleged', 3), ('authoritative', 3), ('galloway', 3), ('trouble', 3), ('relation', 3), ('weeks', 3), ('kicked', 3), ('glad', 3), ('madness', 3), ('extinction', 3), ('eunuchs', 3), ('decorated', 3), ('afd', 3), ('polygon', 3), ('frequently', 3), ('spot', 3), ('nature', 3), ('theory', 3), ('pieces', 3), ('pounder', 3), ('gun', 3), ('honest', 3), ('equality', 3), ('entirely', 3), ('formatting', 3), ('kwa', 3), ('goaded', 3), ('multiple', 3), ('orthodox', 3), ('interests', 3), ('hours', 3), ('vassal', 3), ('salvador', 3), ('mental', 3), ('health', 3), ('5', 3), ('rewrites', 3), ('detail', 3), ('barnstar', 3), ('arthashastra', 3), ('mckay', 3), ('mainpagebg', 3), ('55', 3), ('border', 3), ('1px', 3), ('weapons', 3), ('accuse', 2), ('suit', 2), ('properly', 2), ('proud', 2), ('gain', 2), ('concerning', 2), ('henry', 2), ('dad', 2), ('arrogance', 2), ('leaving', 2), ('precious', 2), ('inquiry-based', 2), ('alright', 2), ('willing', 2), ('cia', 2), ('copy', 2), ('quote', 2), ('wikileaks', 2), ('mostly', 2), ('identify', 2), ('δt', 2), ('offensive', 2), ('error', 2), ('worry', 2), (\"mother's\", 2), ('basement', 2), ('whore', 2), ('retarted', 2), ('wiping', 2), ('fucker', 2), ('dumbass', 2), ('throw', 2), (\"ya'll\", 2), ('1972', 2), ('north', 2), ('worse', 2), ('almost', 2), ('basis', 2), ('800', 2), ('contrast', 2), ('modified', 2), ('express', 2), ('unit', 2), ('leacon', 2), ('explain', 2), ('effigy', 2), ('studios', 2), ('owner', 2), ('12th', 2), ('doctor', 2), ('dixon', 2), ('individual', 2), ('respected', 2), ('judge', 2), ('presented', 2), ('sufficient', 2), ('influential', 2), ('smart', 2), ('grow', 2), ('brain', 2), ('tribes', 2), ('recognized', 2), ('united', 2), ('legitimate', 2), ('usage', 2), ('aka', 2), ('girl', 2), ('cheated', 2), ('hurt', 2), ('ultimately', 2), ('property', 2), ('childcare', 2), ('treat', 2), ('helpfully', 2), ('fisherqueen', 2), ('jump', 2), ('maintain', 2), ('honor', 2), ('wrestler', 2), ('episode', 2), ('clean', 2), ('season', 2), ('unhelpful', 2), ('continuously', 2), ('aim', 2), ('bother', 2), ('afraid', 2), ('peoples', 2), ('genital', 2), ('fit', 2), ('wedge', 2), ('keeps', 2), ('assure', 2), ('asskrack', 2), ('puppetry', 2), ('expect', 2), ('::', 2), ('wishes', 2), ('criticisms', 2), ('logical', 2), ('weak', 2), ('bye', 2), ('lmao', 2), ('ima', 2), ('miss', 2), ('myspace', 2), ('`', 2), ('criticism', 2), ('looked', 2), ('non-notable', 2), ('acceptable', 2), ('deletions', 2), ('encyclopaedia', 2), ('land', 2), ('ottoman', 2), ('empire', 2), ('force', 2), ('obviously', 2), ('confederation', 2), ('balls', 2), ('porn', 2), ('adult', 2), ('film', 2), ('ugly', 2), ('anal', 2), ('retentive', 2), ('authority', 2), ('seconds', 2), ('recognition', 2), ('professionals', 2), ('highly', 2), ('unfortunately', 2), ('involvement', 2), ('bertiebasset', 2), ('well-meaning', 2), ('moronic', 2), ('failed', 2), ('2005', 2), ('uploaded', 2), ('damaged', 2), ('fixed', 2), ('violating', 2), ('smallville', 2), ('closer', 2), ('mike', 2), ('teaching', 2), ('normally', 2), ('implying', 2), ('illegitimate', 2), ('motivated', 2), ('stubborn', 2), ('taught', 2), ('guidlines', 2), ('powers', 2), ('guidance', 2), ('←', 2), ('positions', 2), ('numbered', 2), ('northern', 2), ('shouting', 2), ('learned', 2), ('trig', 2), ('oh-ah', 2), ('ha', 2), ('unlike', 2), ('1st', 2), ('students', 2), ('sin', 2), ('tan', 2), ('laughter', 2), ('45', 2), ('speculation', 2), ('unproven', 2), ('charges', 2), ('encyclopedic', 2), ('happened', 2), ('undue', 2), ('load', 2), ('jimmy', 2), ('googlechromewindows5037538.png', 2), ('thats', 2), ('providing', 2), ('remain', 2), ('third', 2), ('set', 2), ('ducks', 2), ('europe', 2), ('map', 2), ('uneducated', 2), ('stick', 2), ('hiding', 2), ('pair', 2), ('brief', 2), ('discussions', 2), ('limited', 2), ('rebuttals', 2), ('territory', 2), ('serbia', 2), ('dance', 2), ('effect', 2), (\"where's\", 2), ('co', 2), ('perceived', 2), ('proper', 2), ('outcome', 2), ('dr', 2), ('immensely', 2), ('obscure', 2), ('balance', 2), ('astrology', 2), ('basic', 2), ('freedom', 2), ('plain', 2), ('bunch', 2), ('kindly', 2), ('apart', 2), ('(:', 2), ('racist', 2), ('referring', 2), ('paragraphs', 2), ('forms', 2), ('lame', 2), ('xd', 2), ('easily', 2), ('accessible', 2), ('library', 2), ('difficult', 2), ('signs', 2), ('east', 2), ('wrapped', 2), ('city', 2), ('pkwy', 2), ('accessed', 2), ('column', 2), ('dahn', 2), ('typical', 2), ('loser', 2), ('sexually', 2), ('frustrated', 2), ('net', 2), ('omfg', 2), ('insignificant', 2), ('thnk', 2), ('v', 2), ('son', 2), ('font-size', 2), ('85', 2), ('gangrel', 2), ('valet', 2), ('bischoff', 2), ('roster', 2), ('talent', 2), ('hasnt', 2), ('released', 2), ('signed', 2), ('considering', 2), ('match', 2), ('sunday', 2), ('promote', 2), ('cant', 2), ('seperate', 2), ('albeit', 2), (\"aren't\", 2), ('editorial', 2), ('dates', 2), ('threaten', 2), ('blocks', 2), ('wording', 2), ('21', 2), ('2008', 2), ('weird', 2), ('drops', 2), ('brothers', 2), ('african', 2), ('nobody', 2), ('experiment', 2), ('notability', 2), ('query', 2), ('bag', 2), ('performing', 2), ('stage', 2), ('distinction', 2), ('pimping', 2), ('aids', 2), ('fascists', 2), ('role', 2), ('comply', 2), ('fred', 2), ('founders', 2), ('sites', 2), ('viewpoints', 2), ('jerk', 2), ('justified', 2), ('returns', 2), ('34,900', 2), ('inconsistent', 2), ('>', 2), ('treatment', 2), ('perceive', 2), ('self-promotion', 2), ('debate', 2), ('realize', 2), ('grounds', 2), ('openly', 2), ('publications', 2), ('similar', 2), ('arbitrary', 2), ('seemingly', 2), ('agf', 2), ('shoulders', 2), ('commons', 2), ('solution', 2), ('regular', 2), ('celtic', 2), ('hippo', 2), ('43', 2), ('join', 2), ('bullied', 2), ('scottish', 2), ('michael', 2), ('belive', 2), ('young', 2), (\"c'mon\", 2), ('ur', 2), ('217.41', 2), ('bugs', 2), ('05:21', 2), ('05:18', 2), ('extreme', 2), ('10:09', 2), ('10:07', 2), ('10:05', 2), ('10:03', 2), ('06:28', 2), ('06:27', 2), ('06:24', 2), ('billy', 2), (\"bob's\", 2), ('06:13', 2), ('06:12', 2), ('06:10', 2), ('06:09', 2), ('india', 2), ('recentism', 2), ('trumper', 2), ('supreme', 2), ('dhoni', 2), ('odd', 2), ('lists', 2), ('piss', 2), ('stephan', 2), ('writings', 2), ('animal', 2), ('censorship', 2), ('politics', 2), ('spam', 2), ('stadium', 2), ('shut', 2), ('pregnant', 2), ('expanded', 2), ('box', 2), ('fired', 2), ('watford', 2), ('beat', 2), ('leeds', 2), ('reach', 2), ('ve', 2), ('fall', 2), ('reversion', 2), ('referenced', 2), ('excess', 2), ('discussing', 2), ('headed', 2), ('walsh', 2), ('whatsoever', 2), ('materials', 2), ('background', 2), ('compound', 2), ('devoted', 2), ('appearances', 2), ('shitty', 2), ('feeling', 2), ('spelling', 2), ('ned', 2), ('remarks', 2), ('waiters', 2), ('accounts', 2), ('independently', 2), ('merely', 2), ('scene', 2), ('credibility', 2), ('recommend', 2), ('re-read', 2), ('cite', 2), ('authenticity', 2), ('primarily', 2), ('j', 2), ('graduated', 2), ('graduation', 2), ('airport', 2), ('plenty', 2), ('passed', 2), ('kept', 2), ('location', 2), ('sat', 2), ('wine', 2), ('continuing', 2), ('house', 2), ('alcohol', 2), ('chatting', 2), ('across', 2), ('weekend', 2), ('recliner', 2), ('florida', 2), ('skin', 2), ('hair', 2), ('thin', 2), ('meeting', 2), ('dress', 2), ('stockings', 2), ('heels', 2), ('earrings', 2), ('worn', 2), ('fear', 2), ('waking', 2), ('inside', 2), ('conduct', 2), ('tiny', 2), ('ear', 2), ('absently', 2), ('intimacy', 2), ('bare', 2), ('touches', 2), ('familiar', 2), ('intimate', 2), ('longer', 2), ('army', 2), ('z', 2), ('6', 2), ('curious', 2), ('angle', 2), ('declined', 2), (\"you'd\", 2), ('airing', 2), ('certain', 2), ('bullshit', 2), ('character', 2), ('immature', 2), ('figured', 2), ('cry', 2), ('favor', 2), ('click', 2), ('web', 2), ('retard', 2), ('«', 2), ('»', 2), ('tempted', 2), ('resource', 2), ('happens', 2), ('50', 2), ('dollar', 2), ('club', 2), ('k', 2), ('australian', 2), ('35', 2), ('resulted', 2), ('informed', 2), ('conclusions', 2), ('supporting', 2), ('fail', 2), ('massive', 2), ('private', 2), ('occurred', 2), ('explained', 2), ('treasury', 2), ('69.121', 2), ('221.97', 2), ('higher', 2), ('qualified', 2), ('neither', 2), ('appropriately', 2), ('oil', 2), ('gold', 2), (\"bernanke's\", 2), ('clue', 2), ('nearly', 2), ('push', 2), ('non', 2), ('congress', 2), ('subprime', 2), ('overall', 2), ('smaller', 2), ('$', 2), ('retrenchment', 2), ('governement', 2), ('fault', 2), ('destruction', 2), ('formation', 2), ('key', 2), ('economic', 2), ('300', 2), ('efficient', 2), ('ventures', 2), ('sequence', 2), ('core', 2), ('special', 2), ('fraudulent', 2), ('representation', 2), ('biographies', 2), ('negotiable', 2), ('base', 2), ('promotional', 2), ('artist', 2), ('served', 2), ('followed', 2), ('spoken', 2), ('hat', 2), ('puzzled', 2), ('pov', 2), ('wwi', 2), ('approved', 2), ('reader', 2), ('matt', 2), ('sanchez', 2), ('oldest', 2), ('visual', 2), ('compare', 2), ('tidy', 2), ('table', 2), ('necessary', 2), ('cases', 2), ('apply', 2), ('received', 2), ('swedish', 2), ('upload', 2), ('projects', 2), ('tries', 2), ('82.224', 2), ('230.5', 2), ('trolling', 2), ('knows', 2), ('fields', 2), ('experts', 2), ('educational', 2), ('wonder', 2), ('contribution', 2), ('high-school', 2), ('unquestionably', 2), ('context', 2), ('monster', 2), ('sent', 2), ('killed', 2), ('versions', 2), ('hercules', 2), ('sack', 2), ('uncivility', 2), ('object', 2), ('=|', 2), ('__', 2), ('brake', 2), ('chain', 2), ('cursed', 2), ('uglyness', 2), ('pass', 2), ('napier', 2), ('fit.jpg.jpg', 2), ('altered', 2), ('search', 2), (\"hasn't\", 2), ('explicitly', 2), ('partido', 2), ('translated', 2), ('alternative', 2), ('spanish', 2), ('mascots', 2), (\"world's\", 2), ('formed', 2), ('deserved', 2), ('bars', 2), ('engage', 2), ('fuckers', 2), ('counted', 2), ('figures', 2), ('conditions', 2), ('makers', 2), ('hand', 2), ('instance', 2), ('declared', 2), ('accepted', 2), ('yugoslavia', 2), ('draw', 2), ('manga', 2), ('binksternet', 2), ('cronies', 2), ('insert', 2), ('placing', 2), ('improving', 2), ('wrights', 2), ('reported', 2), ('unreliable', 2), ('bottom', 2), ('refrain', 2), (\"article's\", 2), ('meets', 2), ('rick', 2), ('infected', 2), ('year-old', 2), ('sexual', 2), ('sucks', 2), ('defines', 2), ('countries', 2), ('classification', 2), ('romance', 2), ('commonly', 2), ('submitted', 2), ('recorded', 2), ('desk', 2), ('salty', 2), ('demonstrate', 2), ('arborsculpture', 2), ('purple', 2), ('truthseekers', 2), ('facist', 2), ('murderers', 2), ('unbiased', 2), ('hon', 2), ('edit-warring', 2), ('laugh', 2), ('abusive', 2), ('disrespectful', 2), ('dutch', 2), ('fly', 2), ('‘', 2), ('tilde', 2), ('cedilla', 2), ('pronunciatory', 2), ('quickly', 2), ('donkey', 2), ('organisation', 2), ('members', 2), ('affirmative', 2), ('tamilian', 2), ('bodhidharma', 2), ('அவர்', 2), ('மக்கள்', 2), ('ஆதாரம்', 2), ('அனைத்து', 2), ('நாம்', 2), ('amplitude', 2), ('cultural', 2), ('porto', 2), ('alegre', 2), ('cd-r', 2), ('bruno', 2), ('jazz', 2), ('improv', 2), ('cp', 2), ('believed', 2), ('music', 2), ('1991', 2), ('toys', 2), ('direction', 2), ('among', 2), ('9', 2), ('ages', 2), ('teenagers', 2), ('insulted', 2), ('teenage', 2), ('che', 2), ('latin', 2), ('ferret', 2), ('dean', 2), ('greyling', 2), ('rayno', 2), ('gerber', 2), ('rossouw', 2), ('klerk', 2), ('basil', 2), ('chiliboy', 2), ('ralepelle', 2), ('africa', 2), ('sorted', 2), ('anti-zionism', 2), (\"we've\", 2), ('religion', 2), ('denied', 2), ('theories', 2), ('acts', 2), ('arab', 2), ('israel', 2), ('groups', 2), ('international', 2), ('offer', 2), ('livingstone', 2), ('archives', 2), ('weight', 2), ('frighten', 2), ('fry', 2), ('94.8', 2), ('193.32', 2), ('literally', 2), ('norman', 2), ('lowell', 2), ('beardy', 2), ('puppet', 2), ('anime', 2), ('afc', 2), ('september', 2), ('investigation', 2), ('meaning', 2), ('judaism', 2), ('targeted', 2), ('whoever', 2), ('approach', 2), ('counter', 2), ('productive', 2), ('protect', 2), ('intentionally', 2), ('intention', 2), ('pig', 2), ('barrymore', 2), ('shiroi', 2), ('readers', 2), (\"pic's\", 2), ('anus', 2), ('refer', 2), ('slavs', 2), ('destroy', 2), ('shall', 2), ('nomination', 2), ('otters', 2), ('build', 2), ('industrial', 2), ('beef', 2), ('argue', 2), ('heading', 2), ('regard', 2), ('euclidean', 2), ('mathematical', 2), ('approaches', 2), ('polytopes', 2), ('convex', 2), ('described', 2), ('begins', 2), ('paragraph', 2), ('grünbaum', 2), ('submitting', 2), ('dear', 2), ('disrupting', 2), ('wondering', 2), ('insult', 2), ('neopaganism', 2), ('reaction', 2), ('period', 2), ('expired', 2), ('procedure', 2), ('comitted', 2), ('repeatedly', 2), (\"one's\", 2), ('takng', 2), ('prevent', 2), ('fanpop', 2), ('disapprove', 2), ('caught', 2), ('solve', 2), ('science', 2), ('worthy', 2), ('refers', 2), ('eu', 2), ('citizens', 2), ('accession', 2), ('june', 2), ('built', 2), ('pack', 2), ('combined', 2), ('f2', 2), ('design', 2), ('replacing', 2), ('centuries', 2), ('spelled', 2), ('pointed', 2), ('ani', 2), ('worth', 2), ('whilst', 2), ('pr', 2), ('dabble', 2), ('lacking', 2), ('improvements', 2), ('complaints', 2), ('nazis', 2), ('excellent', 2), ('dicono', 2), ('signa', 2), ('re-write', 2), ('progess', 2), (\"we're\", 2), ('neiln', 2), ('include', 2), ('operational', 2), ('diligence', 2), ('mexico', 2), ('arse', 2), ('yesterday', 2), ('individuals', 2), ('concerns', 2), ('becomes', 2), ('administrator', 2), ('discretion', 2), ('admit', 2), ('heritage', 2), ('wasting', 2), ('rambhadracharya', 2), ('assessment', 2), ('email', 2), ('twist', 2), ('external', 2), ('pending', 2), ('tim', 2), ('appalling', 2), ('reviewed', 2), ('numbers', 2), ('addressed', 2), (':p', 2), ('thugs', 2), ('adminship', 2), ('step', 2), ('path', 2), ('el', 2), ('nicaragua', 2), ('childishly', 2), ('meaningless', 2), ('ive', 2), ('endless', 2), ('matereal', 2), ('wikpedia', 2), ('referencing', 2), ('philosophical', 2), ('fulfill', 2), ('integrity', 2), ('bar', 2), ('struggle', 2), ('manifest', 2), ('niggers', 2), ('started', 2), ('break', 2), ('isis', 2), ('cyberdyne', 2), ('ling', 2), ('dvd.jpg', 2), ('checking', 2), ('circumstances', 2), ('undermine', 2), ('lamellae', 2), ('marketing', 2), ('mountains', 2), ('penmon', 2), ('suggested', 2), ('nominating', 2), ('tc', 2), ('fukin', 2), ('pattern', 2), ('apologise', 2), ('stupidity', 2), ('misery', 2), ('qed', 2), ('https://en.wikipedia.org/wiki/mckay', 2), ('surnames', 2), ('border-spacing', 2), (':8', 2), ('px', 2), ('margin', 2), ('0px', 2), ('8p', 2), ('#ffffff', 2), ('koavf', 2), ('smallminded', 2), ('target', 2), ('portal', 2), ('watches', 1), ('mytalk', 1), ('easier', 1), ('suppose', 1), ('88', 1), ('signatories', 1), ('detract', 1), ('voluntarily', 1), ('rushed', 1), ('judgment', 1), ('incident', 1), ('attempted', 1), ('hoax', 1), ('crystal', 1), ('gail', 1), ('mangum', 1), ('lee', 1), ('lucas', 1), ('vile', 1), ('post-modernist', 1), ('sewer', 1), ('cleansed', 1), ('simon', 1), ('awesome', 1), ('cares', 1), ('impunity', 1), ('concede', 1), ('flimsy', 1), ('wikleaks', 1), ('msnbc.com', 1), ('msnbc', 1), ('stories', 1), ('meme', 1), ('founded', 1), ('promulgated', 1), ('vilify', 1), ('minds', 1), ('lynched', 1), ('101', 1), ('thc', 1), ('loadee', 1), ('04:08', 1), ('cannt', 1), ('insuliting', 1), ('harrassing', 1), ('moderator', 1), ('tripping', 1), ('enter', 1), ('forgive', 1), ('blazikenmaster', 1), ('stikes', 1), ('unnecessarily', 1), ('jizz', 1), ('muther', 1), ('sincere', 1), ('slander', 1), ('mindless', 1), ('geogre', 1), ('slanderous', 1), ('muthafuckas', 1), ('dated', 1), ('tract', 1), ('vietnam', 1), ('1950s', 1), ('kinds', 1), ('condiscending', 1), ('starts', 1), ('embarrasing', 1), ('won', 1), ('awards', 1), ('anti-landlord', 1), ('nlf', 1), ('stanley', 1), ('karnow', 1), ('1983', 1), ('hysterical', 1), ('climate', 1), ('78.146', 1), ('90.164', 1), ('swt', 1), ('conforms', 1), ('disability', 1), ('grey', 1), ('gatwick', 1), ('442', 1), ('puting', 1), ('units', 1), ('benidorm', 1), ('valencia', 1), ('valencian', 1), ('catalan', 1), ('michigan', 1), ('lookup', 1), ('eminem', 1), ('thomas', 1), ('w', 1), ('johnson', 1), ('supremacist', 1), ('tomfoolery', 1), ('imediately', 1), ('bully', 1), ('worm', 1), ('allen', 1), ('lyle', 1), ('campbell', 1), ('scholar', 1), ('australianist', 1), ('competent', 1), ('cambridge', 1), ('surveys', 1), ('sole', 1), ('composer', 1), ('coeditor', 1), ('alles', 1), ('liebe', 1), ('haines', 1), ('1420', 1), ('houston', 1), ('missionary', 1), ('wront', 1), ('vandalized', 1), ('numnut', 1), ('gentlemen', 1), ('unrecognized', 1), ('cherokee', 1), ('newly', 1), ('tribe', 1), ('belong', 1), ('fantasize', 1), ('seeing', 1), ('girlfriend', 1), ('blindfold', 1), ('tie', 1), ('fantasy', 1), ('govt', 1), ('paying', 1), ('kindergarten', 1), ('excuse', 1), ('ipa', 1), ('vowel', 1), ('audio', 1), ('ideot', 1), ('wid', 1), ('psp', 1), ('ta', 1), ('weather', 1), ('wit', 1), ('homie', 1), ('bout', 1), ('mutha', 1), ('syte', 1), ('3:00', 1), ('hack', 1), ('shyt', 1), ('harras', 1), ('basicly', 1), ('ruin', 1), ('failure', 1), ('father', 1), ('pleasure', 1), ('derive', 1), ('hatred', 1), ('shed', 1), ('tears', 1), ('joy', 1), ('disrupt', 1), ('ring', 1), ('humor', 1), ('shootings', 1), ('happen', 1), ('innocent', 1), ('forced', 1), ('sandwiches', 1), ('disruptor', 1), ('layout', 1), ('organized', 1), ('#series', 1), ('#titleu', 1), ('airdateproduction', 1), ('code', 1), ('butts', 1), ('screw', 1), ('butthole', 1), ('krabs', 1), ('brandon', 1), ('likes', 1), ('delldos', 1), ('mouththe', 1), ('angus', 1), ('finn', 1), ('arnesson', 1), ('correcting', 1), ('eye', 1), ('centered', 1), ('listening', 1), ('lodge', 1), ('complaint', 1), ('oblivious', 1), ('pleads', 1), ('corrections', 1), ('wikipedia_talk', 1), ('manual_of_style', 1), ('dates_and_numbers', 1), ('#k_', 1), ('28or_k', 1), ('29_the_computer_kilo', 1), ('_prefix_', 1), ('_for_ancient_computers', 1), ('_not_using_bytes', 1), ('hanibal', 1), ('911you', 1), ('pro-assad', 1), ('rebels', 1), ('aleppo', 1), ('central', 1), ('prison', 1), (\"assad's\", 1), ('mother-assad.you', 1), ('eats', 1), ('assad', 1), ('gvhy', 1), ('residents', 1), (\"starlet's\", 1), ('philanthropy', 1), ('exhaust', 1), ('victims', 1), ('torture', 1), ('murder', 1), ('utterly', 1), ('revolting', 1), ('whitewash', 1), ('dimension', 1), ('akradecki', 1), ('bush', 1), ('billcj', 1), ('bzuk', 1), ('fo', 1), ('backs', 1), ('organising', 1), ('apersonal', 1), ('complaining', 1), ('deliberately', 1), ('negative', 1), ('consensuses', 1), ('repetative', 1), ('inserts', 1), ('environmental', 1), ('erroneously', 1), ('contines', 1), ('defences', 1), ('eurocentric', 1), ('essentially', 1), ('racialist', 1), ('essence', 1), ('answering', 1), ('wasz', 1), ('gon', 1), ('dhis', 1), ('logged', 1), ('wat', 1), ('sed', 1), ('tho', 1), ('neva', 1), ('ll', 1), ('numba', 1), ('thur', 1), ('bighead', 1), ('sarekofvulcan', 1), ('confidence', 1), ('misplaced', 1), ('opposed', 1), ('adjust', 1), ('accordingly', 1), ('bro', 1), ('fagplease', 1), ('71.100', 1), ('31.227', 1), ('gayreeks', 1), ('nicely', 1), ('executed', 1), ('mates', 1), ('empires', 1), ('extent', 1), ('comapre', 1), ('19.9', 1), ('17', 1), ('roman', 1), ('territories', 1), ('5.9', 1), ('furthermore', 1), ('visited', 1), (\"ragib's\", 1), ('ragib', 1), ('bangladesh', 1), ('similarly', 1), ('parochial', 1), ('chauvinist', 1), ('un-necessary', 1), ('snubbed', 1), ('cumans', 1), ('kipchaks', 1), ('late', 1), ('tatars', 1), ('cossack', 1), ('adventurer', 1), ('turkish', 1), ('turkic', 1), ('origins', 1), ('cossacks', 1), ('tribal', 1), ('race', 1), ('suxk', 1), ('sssss', 1), ('prejudicial', 1), ('industry', 1), ('reset', 1), ('modem', 1), ('sexless', 1), ('desperate', 1), ('society', 1), ('lower', 1), ('ill', 1), ('pizza', 1), ('bertie', 1), ('talents', 1), ('helps', 1), ('advance', 1), ('agreed', 1), ('deprived', 1), ('sterile', 1), ('sake', 1), ('generations', 1), ('detracts', 1), ('hinders', 1), ('betterment', 1), ('vision', 1), ('intelligence', 1), ('regrettably', 1), ('extended', 1), ('remembered', 1), ('deserving', 1), ('amateurs', 1), ('dannyg', 1), ('3332', 1), ('27', 1), ('nov', 1), ('cory', 1), ('adams', 1), ('telenet', 1), ('uncovers', 1), ('superman', 1), ('homepage', 1), ('continuity', 1), ('mixture', 1), ('dealing', 1), (\"superman's\", 1), ('christopher', 1), ('reeve', 1), ('lex', 1), ('rosenbaum', 1), ('gene', 1), ('hackman', 1), ('goodness', 1), ('prescription', 1), ('wicked', 1), ('linguists', 1), ('abnormal', 1), ('notion', 1), ('culpable', 1), ('decisions', 1), ('ourselves', 1), ('perverse', 1), ('deplorable', 1), ('patently', 1), ('begin', 1), ('incapable', 1), ('acquire', 1), ('instruction', 1), ('invalid', 1), ('activity', 1), ('prescriptive', 1), ('suggesting', 1), ('timidity', 1), ('laziness', 1), ('irresponsibility', 1), ('dedicated', 1), ('proficiency', 1), ('composition', 1), ('nor', 1), ('wikieditor', 1), ('006', 1), ('ale_jrb', 1), ('vendetta', 1), ('intend', 1), ('higher-ups', 1), ('abusing', 1), ('unless', 1), ('immediately', 1), ('-67.173', 1), ('77.52', 1), ('spilling', 1), ('dying', 1), ('deaths', 1), ('unc', 1), (\"who're\", 1), ('advantageous', 1), ('bigger', 1), ('noisy', 1), ('crowd', 1), ('brainwashed', 1), ('chauvinistic', 1), ('fanatic', 1), ('naturally', 1), ('admitting', 1), ('circulated', 1), ('messages', 1), ('chiense', 1), ('repeating', 1), ('thousand', 1), ('perfect', 1), ('eyesights', 1), ('consciousness', 1), ('difference', 1), ('naive', 1), ('complicated', 1), ('buried', 1), ('takes', 1), ('memory', 1), ('consideration', 1), ('tables', 1), ('markup', 1), ('ah-oh', 1), ('ho', 1), ('moderately', 1), ('fast', 1), ('sine', 1), ('cosine', 1), ('tangent', 1), ('cotangent', 1), ('secant', 1), ('cosecant', 1), ('soa-cah-toa', 1), ('memorize', 1), ('inverses', 1), ('tongue', 1), ('twister', 1), ('memorable', 1), ('+', 1), (\"today's\", 1), ('soh', 1), ('cah', 1), ('toa', 1), ('mindedness', 1), ('unsubstantiated', 1), ('poorly', 1), ('documented', 1), ('editorialize', 1), ('hide', 1), ('spin', 1), ('damaging', 1), ('speculated', 1), ('partisan', 1), ('acted', 1), ('proven', 1), ('violation', 1), ('established', 1), ('blp', 1), ('blpstyle', 1), ('atricle', 1), ('regurgitation', 1), ('dump', 1), ('junk', 1), ('closing', 1), ('leader', 1), ('tabloid', 1), ('wales', 1), ('aloud', 1), ('painting', 1), ('herself', 1), ('70.26', 1), ('72.221', 1), ('expecting', 1), ('lords', 1), ('choices', 1), ('dishonore', 1), ('ou', 1), ('choice', 1), ('suitable', 1), ('heart', 1), ('uw', 1), ('dawgs', 1), ('oregon', 1), ('beating', 1), ('crushed', 1), ('ashamed', 1), ('butthurt', 1), ('calm', 1), ('sucking', 1), ('patrick', 1), ('tommy', 1), ('adolf', 1), ('nose', 1), ('affairs', 1), ('concern', 1), ('wannabe', 1), ('screen', 1), ('asshat', 1), ('clownshoes', 1), ('twit', 1), ('clowns', 1), ('feeble', 1), ('1000', 1), ('reactions', 1), ('commander', 1), ('occupation', 1), ('sooner', 1), ('noticeboards', 1), (\"we'd\", 1), ('annoying', 1), ('song', 1), ('posting', 1), ('antidiskriminator', 1), ('new-found', 1), ('ally', 1), ('oppose', 1), ('agreed-upon', 1), ('effective', 1), ('complex', 1), ('thoroughly', 1), ('bogged-down', 1), ('on-the-fly', 1), ('drowned', 1), ('far-more-knowledgeable', 1), ('retorts', 1), ('long-time', 1), ('participants', 1), ('experimenting', 1), ('tests', 1), ('✍', 1), ('commented', 1), ('#more', 1), ('fuckwit', 1), ('expression', 1), ('rant', 1), ('ridicilous', 1), ('proves', 1), ('bags', 1), (\"should've\", 1), ('bombed', 1), ('wwii', 1), ('jim', 1), ('sending', 1), ('bestest', 1), ('buddy', 1), ('sidenote', 1), ('xizer', 1), ('dan', 1), ('footing', 1), ('abstract', 1), ('summarizing', 1), ('substance', 1), ('relations', 1), ('youths', 1), ('satisfying', 1), ('requirements', 1), ('prehistory', 1), ('basing', 1), ('historians', 1), ('suppositions', 1), ('practices', 1), ('prehistoric', 1), ('precedent', 1), ('tenuous', 1), ('pederasty', 1), ('worthless', 1), ('cocksucking', 1), ('successfully', 1), ('preaching', 1), ('choir', 1), ('ntv', 1), ('gag', 1), ('tempting', 1), ('eh', 1), ('illustration', 1), ('shabby-russian-village-population-five', 1), ('yo', 1), ('19', 1), ('21:47', 1), ('rose', 1), ('librarian', 1), ('bloody', 1), ('categories', 1), ('devil', 1), ('cultist', 1), ('mofo', 1), ('martin', 1), ('muljana', 1), ('transwikied', 1), ('driver', 1), ('construction', 1), ('phase', 1), ('carson', 1), ('freeway', 1), ('analogous', 1), ('430', 1), ('damonte', 1), ('ranch', 1), ('meadows', 1), ('neil', 1), ('road', 1), ('virginia', 1), ('interchanges', 1), ('notes', 1), ('illiterate', 1), ('inability', 1), ('satisfy', 1), ('headline', 1), ('lover', 1), ('motha', 1), ('fucka', 1), ('yr', 1), ('viewing', 1), ('outdated', 1), ('affiliation', 1), ('located', 1), ('http://en.wikipedia.org/wiki/', 1), ('sylvester', 1), ('terkay', 1), ('elijah', 1), ('burke', 1), ('theyre', 1), ('promo', 1), ('khali', 1), ('bodyguard', 1), ('daivari', 1), ('wrestled', 1), ('idk', 1), ('isnt', 1), ('marty', 1), ('brand', 1), ('hes', 1), ('inactive', 1), ('untrue', 1), ('ties', 1), ('overweight', 1), ('angel', 1), ('williams', 1), ('gymini', 1), ('dark', 1), ('sd', 1), ('lastly', 1), ('shouldnt', 1), ('raw', 1), ('cyber', 1), ('develop', 1), ('storyline', 1), ('screwed', 1), ('chris', 1), ('purposes', 1), ('eternals', 1), ('deviants', 1), ('inhumans', 1), ('races', 1), ('interbreed', 1), ('humans', 1), ('unmanageable', 1), ('biaatch', 1), ('posers', 1), ('statistics', 1), ('1.0', 1), ('pittsburgh', 1), ('usbecause', 1), ('kn', 1), ('delinking', 1), ('adminster', 1), ('quadell', 1), ('ambi', 1), ('vsmith', 1), ('feels', 1), ('adhered', 1), ('advocating', 1), ('ncdave', 1), ('17:53', 1), ('dominican', 1), ('proportion', 1), ('blacks', 1), ('hispanic', 1), ('one-drop', 1), ('blind', 1), ('bats', 1), ('rely', 1), ('russian', 1), ('dumm', 1), ('rabbits', 1), ('hike', 1), ('123', 1), ('teawiki', 1), ('www.tea.wikia.org', 1), ('transferring', 1), ('baggage', 1), ('theatre', 1), ('opera', 1), ('ballet', 1), ('criminial', 1), ('loose', 1), ('l', 1), ('downtown', 1), ('preach', 1), ('kenny', 1), ('jfd', 1), ('skies', 1), ('complain', 1), ('atrosity', 1), ('tay', 1), ('evaluate', 1), ('74.56', 1), ('51.128', 1), ('dpak', 1), ('dsuza', 1), ('offend', 1), ('martial', 1), ('earth', 1), ('permanently', 1), ('farce', 1), ('objective', 1), ('knol', 1), ('horizon', 1), ('replacement', 1), ('mask', 1), ('npov', 1), ('opposing', 1), ('permanent', 1), ('yourwarning', 1), ('shake', 1), ('salt', 1), ('shove', 1), ('pipe', 1), ('agarwals', 1), ('dravidian', 1), ('atr', 1), ('dogs', 1), ('inaccuracies', 1), ('117.211', 1), ('90.154', 1), ('teadrinker', 1), ('nickname', 1), ('e-dog', 1), ('13500', 1), ('cato', 1), ('19,000', 1), ('35000', 1), ('19000', 1), ('50,000', 1), ('refrained', 1), ('pressure', 1), ('fits', 1), ('applies', 1), ('abstain', 1), ('understandable', 1), ('justice', 1), ('seeker', 1), ('vindicate', 1), ('unfair', 1), ('moon', 1), ('minding', 1), ('okay', 1), ('mei', 1), ('konw', 1), ('vanity', 1), ('pissed', 1), ('rebutted', 1), ('initiated', 1), (\"palmer's\", 1), ('vandalizedhans-hermann', 1), ('hoppe', 1), ('lew', 1), ('rockwell', 1), ('racism', 1), ('ensuing', 1), ('qualify', 1), ('wikinerds', 1), ('dishonestly', 1), ('anonymously', 1), ('meatpuppet', 1), ('hidden', 1), ('rolling', 1), ('ot', 1), ('voters', 1), ('evaluation', 1), ('aplication', 1), ('leads', 1), ('peopel', 1), ('13000', 1), ('blame', 1), ('monitoring', 1), ('nom', 1), ('lsi', 1), ('invited', 1), ('rfar', 1), ('substantiate', 1), ('adequate', 1), ('burden', 1), ('rests', 1), ('squarely', 1), ('yep', 1), ('ww', 1), ('past', 1), ('uploading', 1), ('photos', 1), ('technical', 1), ('calabe', 1), ('record', 1), ('pursued', 1), ('originator', 1), ('defended', 1), ('occasions', 1), ('jack', 1), ('forbes', 1), ('deacon', 1), ('pndapetzim', 1), ('folks', 1), ('abuses', 1), ('pursuing', 1), ('defence', 1), ('footbal', 1), ('football', 1), ('rangers', 1), ('presenting', 1), ('burn', 1), ('ruddy', 1), ('liberal', 1), ('moore', 1), ('truthful', 1), ('tits', 1), ('snatch', 1), ('sexuality', 1), ('mabye', 1), ('partner', 1), ('pop', 1), ('aaron', 1), ('brennenman', 1), ('sincerly', 1), ('sentiment', 1), ('fagget', 1), ('58.8', 1), ('18.35', 1), ('holdwater', 1), ('wife', 1), ('unsatisfied', 1), ('cont', 1), ('nasty', 1), ('232.75', 1), ('relentless', 1), ('persecution', 1), ('quiet', 1), ('currant', 1), ('226.121', 1), ('lowlife', 1), ('resurected', 1), ('wikzilla', 1), ('98.162', 1), ('163.72', 1), ('perezhilton', 1), ('sucker', 1), ('05:35', 1), ('glen', 1), ('jacobs', 1), ('05:22', 1), ('jonathan', 1), ('coachman', 1), ('05:20', 1), ('05:19', 1), ('05:17', 1), ('d-generation', 1), ('18:29', 1), ('hank', 1), ('15:09', 1), ('14:56', 1), ('stone', 1), ('cold', 1), ('steve', 1), ('austin', 1), ('finishing', 1), ('signature', 1), ('moves', 1), ('14:54', 1), ('championship', 1), ('wrestling', 1), ('10:15', 1), ('10:14', 1), ('10:11', 1), ('10:10', 1), ('fishman', 1), ('10:08', 1), ('10:06', 1), ('10:01', 1), ('10:00', 1), ('09:59', 1), ('09:57', 1), ('hitting', 1), ('rey.jpg', 1), ('http://www.wwe.com/shows/thegreatamericanbash/photos/', 1), (\"chavo's\", 1), ('heel', 1), ('turn', 1), ('rey', 1), ('06:25', 1), ('06:23', 1), ('06:22', 1), ('garage', 1), ('06:20', 1), ('highway', 1), ('377', 1), ('06:19', 1), ('06:17', 1), ('06:16', 1), ('06:15', 1), ('06:11', 1), ('liveloud', 1), ('jpg', 1), ('dustind', 1), ('06:08', 1), ('06:07', 1), ('06:06', 1), ('hy', 1), ('proxies', 1), ('kerala', 1), ('kerala-importance', 1), ('assess-date', 1), ('dependent', 1), ('victor', 1), ('crown', 1), ('prince', 1), ('golden', 1), ('stylist', 1), ('batsman', 1), ('1890-1920', 1), ('giants', 1), ('wisden', 1), ('inuaugural', 1), ('inductee', 1), ('achof', 1), ('105', 1), ('mahendra', 1), ('singh', 1), ('captain', 1), ('30th', 1), ('batting', 1), ('criticised', 1), ('regualrly', 1), ('unforced', 1), ('ball-catching', 1), ('170', 1), ('tournament', 1), ('200', 1), ('calendar', 1), ('poll', 1), ('unacceptable', 1), ('editted', 1), ('containing', 1), ('vague', 1), ('pronoun', 1), ('unrelated', 1), ('blog', 1), ('unfarily', 1), ('riding', 1), ('sane', 1), ('attest', 1), ('narrow-minded', 1), ('puts', 1), ('ridicules', 1), ('leash', 1), ('socialist', 1), ('climatology', 1), ('conversion', 1), ('spewed', 1), ('yes-men', 1), ('scientists', 1), ('ipcc', 1), ('shagger', 1), ('brutal', 1), ('demonstrating', 1), ('civilization', 1), (\"auburnpilot's\", 1), ('wikisophistry', 1), ('strategem', 1), ('censoring', 1), ('dislikes', 1), ('croke', 1), ('park', 1), ('gaa', 1), ('arena', 1), ('falls', 1), ('cat', 1), ('ariva', 1), ('achieve', 1), ('undo', 1), ('jackass', 1), ('absolute', 1), ('convince', 1), ('dilweed', 1), ('jackoff', 1), ('incorporated', 1), ('silhouette', 1), ('gothic', 1), ('niederlandish', 1), ('art', 1), ('botticelli', 1), ('italian', 1), ('renaissance', 1), ('classical', 1), ('fashion', 1), ('10:29', 1), ('dunning-kruger', 1), ('treating', 1), ('guoguo', 1), ('12', 1), ('talkback', 1), ('tdawg', 1), ('4701', 1), ('shahid', 1), ('cleanup.he', 1), ('preity', 1), ('zinta', 1), ('building', 1), ('chopra', 1), ('expanded.he', 1), ('writer.when', 1), ('sectiond', 1), ('humanitarian', 1), ('notably', 1), ('refrence', 1), ('always.according', 1), ('musicians', 1), ('edits.also', 1), ('songs', 1), ('songwriter', 1), ('again.that', 1), ('leading', 1), ('abuse.you', 1), ('shoul', 1), ('expand', 1), ('bold', 1), ('legs', 1), ('play-off', 1), ('semi-final', 1), ('premiership', 1), ('semi', 1), ('dreamguy', 1), ('irwolfie', 1), ('amounts', 1), ('unaware', 1), ('arbcom', 1), ('discretionary', 1), ('sanctions', 1), ('peremptory', 1), ('controversial', 1), ('confrontational', 1), ('self-reverting', 1), ('mediation', 1), ('reviews', 1), ('objection', 1), ('fancruft', 1), ('careful', 1), ('minute', 1), ('contain', 1), ('smuggling', 1), ('condoms', 1), ('seran', 1), ('wrap', 1), ('size', 1), ('pre-amalgamation', 1), ('hamilton', 1), ('toronto', 1), ('24.36', 1), ('54.238', 1), ('eisenhower', 1), ('bum', 1), ('golf', 1), ('constantly', 1), ('nixon', 1), ('ran', 1), ('historic', 1), ('basics', 1), ('pronounce', 1), ('literaly', 1), ('litrally', 1), ('chic', 1), ('crackpots', 1), ('luckiest', 1), ('nhl', 1), ('extensive', 1), ('linguistics', 1), ('compounds', 1), ('phrases', 1), ('concept', 1), ('compounding', 1), ('merging', 1), ('lexeme', 1), ('lexemes', 1), ('spaces', 1), ('item', 1), ('proved', 1), ('scope', 1), ('nah', 1), ('beach', 1), ('pier', 1), ('cetaceans', 1), ('shore', 1), ('earn', 1), ('blundering', 1), ('boat', 1), ('goals', 1), ('domestic', 1), ('league', 1), ('scored', 1), ('friendly', 1), ('mexican', 1), ('mexicans', 1), ('departed', 1), ('nerd', 1), ('precise', 1), ('forever', 1), ('douchebag', 1), ('adam', 1), ('carr', 1), ('longhair', 1), ('politically', 1), ('commies', 1), ('lefties', 1), ('righties', 1), ('pricks', 1), ('wikiepdians', 1), ('kelly', 1), ('e-life', 1), ('wolfkeeper', 1), ('evident', 1), ('conclude', 1), ('oath', 1), ('corroborate', 1), ('captured', 1), ('lends', 1), ('rs', 1), ('haven', 1), ('dug', 1), ('outlets', 1), ('assured', 1), ('recognize', 1), ('compliant', 1), ('accord', 1), ('debating', 1), ('hahaahahahahahahaha', 1), ('vandalise', 1), ('enthusiastic', 1), ('hugs', 1), ('dinner', 1), ('shared', 1), ('local', 1), ('restaurant', 1), ('comfort', 1), ('attraction', 1), ('undeniable', 1), ('returned', 1), ('cozy', 1), ('semi-secluded', 1), ('suburbs', 1), ('sipping', 1), ('tales', 1), ('exceptions', 1), ('tight-knit', 1), ('friends-with-benefits', 1), ('sharing', 1), ('drink', 1), ('roommates', 1), ('dorm', 1), ('quad', 1), ('much-welcomed', 1), ('guests', 1), ('fortunately', 1), ('hectic', 1), ('schedules', 1), ('sip', 1), ('linger', 1), ('sun', 1), ('glow', 1), (\"justine's\", 1), ('lighter', 1), ('shade', 1), ('shoulder-length', 1), ('brown', 1), ('make-up', 1), ('gloss', 1), ('lips', 1), ('enticing', 1), ('strawberry', 1), ('flavor', 1), ('discovered', 1), ('evening', 1), ('fingernails', 1), ('elegant', 1), ('plunging', 1), ('sequined', 1), ('neckline', 1), ('permitted', 1), ('cleavage', 1), ('slit', 1), ('skirt', 1), ('revealed', 1), ('wearing', 1), ('garter', 1), ('belt', 1), ('descending', 1), ('straps', 1), ('noticeable', 1), ('well-toned', 1), ('thigh', 1), ('attract', 1), ('surprisingly', 1), ('hoop', 1), ('ears', 1), ('widen', 1), ('piercing', 1), ('holes', 1), ('safe', 1), ('turned', 1), ('toward', 1), ('opportunity', 1), ('impressed', 1), ('noticeably', 1), ('shorter', 1), ('paler', 1), ('complexion', 1), ('testament', 1), ('preferred', 1), ('outfits', 1), ('somewhat-tight', 1), ('sweater', 1), ('form-fitting', 1), ('slacks', 1), ('adorned', 1), ('bore', 1), ('sparkling', 1), ('stud', 1), ('nostril', 1), (\"beth's\", 1), ('flowed', 1), ('twirled', 1), ('strands', 1), ('listened', 1), ('relationships', 1), ('graduating', 1), ('thankful', 1), ('invite', 1), ('chatter', 1), ('sit', 1), ('admire', 1), ('stunning', 1), ('beauties', 1), ('perched', 1), ('sofa', 1), ('began', 1), ('covers', 1), ('feminine', 1), ('resting', 1), ('softly', 1), ('shoulder', 1), ('arm', 1), ('stroked', 1), ('chest', 1), ('dipped', 1), ('navel', 1), ('brushed', 1), ('thighs', 1), ('sweatpants', 1), ('typically', 1), ('caressed', 1), ('stiffening', 1), ('manhood', 1), ('closed', 1), ('reveled', 1), ('inherently', 1), ('rediscovery', 1), ('lengthy', 1), ('passage', 1), ('hands', 1), ('occasionally', 1), ('smiled', 1), ('darkness', 1), ('enjoyed', 1), ('encounters', 1), ('slowed', 1), ('ceased', 1), ('breathing', 1), ('falling', 1), ('regularity', 1), ('sleep', 1), ('stayed', 1), ('awake', 1), ('enjoying', 1), ('closeness', 1), ('awoke', 1), ('scent', 1), ('roast', 1), ('coffee', 1), ('faint', 1), ('unmistakable', 1), ('brewed', 1), ('nectar', 1), ('sh', 1), ('stub', 1), ('tankmen', 1), ('armoured', 1), ('troops', 1), ('2005-12-', 1), ('17:34', 1), (\"user's\", 1), ('csds', 1), ('accidental', 1), ('reinstate', 1), ('unsourced', 1), ('intentions', 1), ('temperarily', 1), ('blanking', 1), ('send', 1), ('timeslot', 1), ('hopping', 1), (\"wpbs's\", 1), ('notorious', 1), ('habit', 1), ('shifting', 1), ('timeslots', 1), ('programs', 1), (\"they've\", 1), (\"blake's\", 1), ('dwarf', 1), (\"liberty's\", 1), ('viewers', 1), ('76.235', 1), ('235.223', 1), ('sooooooooooooo', 1), ('haz', 1), ('dcandeto', 1), ('smells', 1), ('90', 1), ('broken', 1), ('masturbator', 1), ('onanizing', 1), ('brainsick', 1), ('spread', 1), ('freaky', 1), ('importand', 1), ('stealing', 1), ('pollute', 1), (\"obama's\", 1), ('snot', 1), ('33', 1), ('creations', 1), ('17:33', 1), ('wow', 1), ('aliases', 1), ('twice', 1), ('daymee', 1), ('friend', 1), ('bothering', 1), ('b', 1), ('username', 1), ('70.127', 1), ('205.121', 1), ('pc', 1), ('ref', 1), ('}:', 1), ('conclusion', 1), (\"dude's\", 1), ('pimp', 1), ('chair', 1), ('exudes', 1), ('pimpocity', 1), ('contacting', 1), ('substantive', 1), ('abject', 1), ('picture', 1), ('https://www.cia.gov/library/publications/the-world-factbook/geos/in.html', 1), ('gogh', 1), (\"cent's\", 1), ('f', 1), ('yeeaaaaahh', 1), ('fighters', 1), ('constitute', 1), ('yank', 1), ('modification', 1), ('win', 1), ('173.76', 1), ('119.10', 1), ('arranged', 1), ('timothy', 1), ('president', 1), ('ny', 1), ('nyc', 1), ('newspapers', 1), ('40', 1), ('billion', 1), ('res', 1), ('timonthy', 1), ('bernake', 1), ('100s', 1), ('billions', 1), ('mortgage', 1), ('trillions', 1), ('derivatives', 1), (\"aig's\", 1), ('credited', 1), ('saving', 1), ('reversed', 1), ('gietner', 1), ('depth', 1), ('dictate', 1), ('systemic', 1), ('risk', 1), ('shown', 1), ('determine', 1), ('harvey', 1), ('keitel', 1), ('markit', 1), ('bon', 1), ('vivant', 1), ('touted', 1), ('via', 1), ('fighting', 1), ('spike', 1), ('prices', 1), ('meltdown', 1), ('studies', 1), ('ioq', 1), ('ix', 1), ('demonizing', 1), ('bubble', 1), ('greenspan', 1), ('mortgages', 1), ('fannie', 1), ('mae', 1), ('debacle', 1), ('beginning', 1), ('projected', 1), ('inflation', 1), ('spikes', 1), ('massively', 1), ('slammed', 1), ('perking', 1), ('debaclev', 1), ('trillion', 1), ('jaw', 1), ('boning', 1), ('funds', 1), ('coup', 1), ('grace', 1), ('consumers', 1), ('hugely', 1), ('obama', 1), ('mouthed', 1), ('aided', 1), ('consumer', 1), ('congres', 1), ('pundits', 1), ('population', 1), (\"street's\", 1), ('gambling', 1), ('distortion', 1), ('features', 1), ('oversight', 1), ('protecting', 1), ('engine', 1), ('growth', 1), ('distribution', 1), ('mouthing', 1), ('heads', 1), ('cnn', 1), ('cnbc', 1), ('severely', 1), ('dominance', 1), ('leadership', 1), ('prosecute', 1), ('selling', 1), ('firms', 1), ('banks', 1), ('increasing', 1), ('crecend', 1), ('stripped', 1), ('bones', 1), ('apparent', 1), ('elias', 1), ('temporarily', 1), ('label', 1), ('blogs', 1), ('flexibility', 1), ('filled', 1), ('puff', 1), ('cushion', 1), ('management', 1), ('closet', 1), (\"everyone's\", 1), ('miserable', 1), ('2k15', 1), ('confirmed', 1), ('bugging', 1), ('threat', 1), ('annoyed', 1), ('kidding', 1), ('elliott', 1), ('gorn', 1), ('2001', 1), ('isbn', 1), ('0-8090-', 1), ('7094-4', 1), ('describing', 1), ('offended', 1), ('relished', 1), ('improper', 1), ('mistaken', 1), ('perception', 1), ('supporter', 1), ('raymond', 1), ('cambefort', 1), ('gainsay', 1), ('soldier', 1), ('vet', 1), ('cuz', 1), ('funeral', 1), ('sincerily', 1), ('taste', 1), ('disadvantages', 1), ('contains', 1), ('duplicate', 1), ('appealing', 1), ('fills', 1), ('breaks', 1), ('surprised', 1), ('real-time', 1), ('reconstructed', 1), ('charlotte', 1), ('benkner', 1), ('older', 1), ('technically', 1), ('redundancy', 1), ('visually', 1), ('yakłtalk', 1), ('tome', 1), ('empty', 1), ('thoughtlessness', 1), ('theoretical', 1), ('retroactive', 1), ('two-liner', 1), ('whereas', 1), ('consideirng', 1), ('horace', 1), ('wass', 1), ('athanasiou', 1), ('diakou', 1), ('sv', 1), ('sjömarken', 1), ('pictures', 1), ('average', 1), ('utilitarianism', 1), ('replace', 1), ('evergreenfir', 1), ('transform', 1), ('muahahaha', 1), ('scientifics', 1), ('graded', 1), ('debunker', 1), ('debunk', 1), ('http://www.sptimes.com/floridian/41498/the__quack__hunter.html', 1), ('amazing', 1), ('skepticism', 1), ('h2g2bob', 1), ('12/13', 1), ('non-life', 1), ('geek', 1), ('talkng', 1), ('trust', 1), ('skills', 1), ('personality', 1), ('intellectual', 1), ('abilities', 1), ('flummery', 1), ('enlist', 1), ('skill', 1), ('randi', 1), ('expertise', 1), ('scientifc', 1), ('kings', 1), ('pitious', 1), ('scietific', 1), ('vs', 1), ('non-scientific', 1), ('methods', 1), ('explains', 1), ('psychics', 1), ('fakers', 1), ('challenge', 1), ('minus', 1), ('inferred', 1), ('guessing', 1), ('degree', 1), ('attended', 1), ('demonstrates', 1), ('attacking', 1), ('poseidon', 1), ('perseus', 1), ('myth', 1), ('herakles', 1), ('slew', 1), ('prize', 1), ('led', 1), ('sons', 1), ('aeacus', 1), ('trojan', 1), ('anti-russian', 1), ('mud', 1), ('whats', 1), ('lgbt', 1), ('tiderolls', 1), ('phage', 1), ('desperately', 1), ('files', 1), ('breach', 1), ('apologised', 1), ('refusing', 1), ('acknowledge', 1), ('acknowledgement', 1), ('irrelevant', 1), ('generic', 1), ('correspondents', 1), ('del', 1), ('trabajo', 1), ('albanian', 1), ('parties', 1), ('identical', 1), ('launched', 1), ('x-country', 1), ('laborista', 1), ('customisable', 1), ('steel', 1), ('poured', 1), ('bolton', 1), ('steelworks', 1), ('girder', 1), ('reaches', 1), ('characters', 1), ('realisation', 1), ('86.173', 1), ('169.144', 1), ('drunk', 1), ('sock-puppet', 1), ('infamous', 1), ('pé', 1), ('chinelo', 1), ('soulless', 1), ('paul', 1), ('gamergate', 1), ('proposed', 1), ('22', 1), ('sometimes', 1), ('dozens', 1), ('retiring', 1), ('arbitrators', 1), ('chance', 1), ('bound', 1), ('wade', 1), ('morass', 1), ('allways', 1), ('wind', 1), ('hill', 1), ('ect', 1), ('actualy', 1), ('laara', 1), ('lick', 1), ('pussy', 1), ('bih', 1), ('stoped', 1), ('slovenia', 1), ('otrs', 1), ('ticket', 1), ('2009051010', 1), ('000428', 1), ('boze', 1), ('hadleigh', 1), ('monkeyzpop', 1), ('questioning', 1), ('illuminate', 1), ('http://en.wikipedia.org/wiki/talk:boze_hadleigh', 1), ('eternal', 1), ('pink', 1), ('named', 1), ('evreryone', 1), ('rubbish', 1), ('finish', 1), ('adamant', 1), ('hasnains', 1), ('arrested', 1), ('traced', 1), ('mercury', 1), ('pakistan', 1), ('beauty', 1), ('pageant', 1), ('non-reliable', 1), ('secure', 1), ('defaming', 1), ('rumour', 1), ('dismissed', 1), ('defame', 1), ('labelled', 1), ('rumours', 1), ('sonisona', 1), ('gustave', 1), ('denigrates', 1), ('researchers', 1), ('negativity', 1), ('appearance', 1), ('hens', 1), ('wright', 1), ('enthusiasts', 1), ('controlling', 1), ('non-neutral', 1), ('dislike', 1), ('television', 1), ('ct', 1), ('legislature', 1), ('flight', 1), (\"jane's\", 1), ('bible', 1), ('aviation', 1), ('determined', 1), ('open-minded', 1), ('cult', 1), ('anothor', 1), ('tv', 1), ('specializes', 1), ('historical', 1), ('documentaries', 1), ('mobbing', 1), ('mob', 1), ('bitter', 1), ('connection', 1), ('legend', 1), ('introducing', 1), ('contest', 1), ('db', 1), ('coupled', 1), ('criterion', 1), ('delay', 1), ('hesitate', 1), ('render', 1), ('conformance', 1), ('lomobile', 1), ('dope', 1), ('vandalising', 1), ('tough', 1), ('criticizing', 1), ('mom', 1), ('reads', 1), ('intensely', 1), ('pruritic', 1), ('papulonodular', 1), ('eruption', 1), ('orientation', 1), ('desease', 1), ('enforce', 1), ('stereotype', 1), ('stds', 1), ('88.217', 1), ('49.147', 1), ('terrorist', 1), ('democrats', 1), ('elonka', 1), ('cocks', 1), ('standardization', 1), ('nz', 1), ('missile', 1), ('propulsive', 1), ('energy', 1), ('launch', 1), ('ar', 1), ('310-25', 1), ('speaking', 1), ('placement', 1), ('gallo-italic', 1), ('italo-dalmatian', 1), ('hahahahahaha', 1), ('mwahahahahaha', 1), ('herbine', 1), ('arkansas', 1), ('assessed', 1), ('stub-class', 1), ('grading', 1), ('registering', 1), (\"reviewer's\", 1), ('organ', 1), ('meat', 1), ('tasty', 1), ('salted', 1), ('wegetarian', 1), ('swallow', 1), ('gratify', 1), ('consume', 1), ('curry', 1), ('scented', 1), ('plan', 1), ('bending', 1), ('grafting', 1), ('shoots', 1), ('unusual', 1), ('designs', 1), ('rape', 1), ('naconkantari', 1), ('rapists', 1), ('finder', 1), ('anonymous', 1), ('everybody', 1), ('hip-hop', 1), ('mc', 1), ('lyte', 1), ('emcees', 1), ('female', 1), ('emcee', 1), ('undisputed', 1), ('tomstar', 1), ('81', 1), ('staff', 1), ('courageous', 1), ('forthright', 1), ('exemplary', 1), ('reconition', 1), ('honoured', 1), ('traditions', 1), ('dictators', 1), ('mass', 1), ('forehead', 1), ('diligent', 1), ('factual', 1), ('keen', 1), ('newcomers', 1), ('fend', 1), ('rerasons', 1), ('calibre', 1), ('sanshonest', 1), ('leaders', 1), ('aligned', 1), ('disagree', 1), ('rewriting', 1), ('lord', 1), ('jane', 1), ('poshname', 1), ('maj', 1), ('bellamy', 1), ('hunk', 1), ('controversy', 1), ('circular', 1), ('crazy', 1), ('communications', 1), ('disagreed', 1), ('disagreement', 1), ('ockels', 1), ('astronaut', 1), ('prgram', 1), ('lodewijk', 1), ('den', 1), ('berg', 1), ('ñ', 1), ('ç', 1), ('learns', 1), ('piñata', 1), ('façade', 1), ('pronounced', 1), ('ʻokina', 1), ('learnt', 1), ('unfamiliar', 1), ('therewith', 1), ('borrowed', 1), ('function', 1), ('aid', 1), (\"mi'kmaq\", 1), ('hieroglyphic', 1), ('majority', 1), ('homeland', 1), ('ravaged', 1), ('benefit', 1), ('british', 1), ('courts', 1), ('unconstitutional', 1), ('becuase', 1), ('disriminates', 1), ('bodhidarama', 1), ('forgotten', 1), ('outsiders', 1), ('பட்டியலில்', 1), ('சேர்க்க', 1), ('வருகிறார்', 1), ('எனவே', 1), ('நான்', 1), ('எ', 1), ('கா', 1), ('வீடியோ', 1), ('வலைத்தளம்', 1), ('ஒரு', 1), ('என்று', 1), ('கட்டுரைகள்', 1), ('கண்டுபிடிக்க', 1), ('உதவ', 1), ('தோழர்களே', 1), ('மற்ற', 1), ('எங்கள்', 1), ('வரலாற்றில்', 1), ('மறக்க', 1), ('செய்ய', 1), ('விடமாட்டேன்', 1), ('கிடைத்தால்', 1), ('பிறகு', 1), ('மக்களின்', 1), ('கட்டுரையில்', 1), ('இருக்கும்', 1), ('நம்', 1), ('வரலாறு', 1), ('எந்த', 1), ('வெளி', 1), ('மறந்து', 1), ('மற்றும்', 1), ('மாற்ற', 1), ('நன்றி', 1), ('observe', 1), ('terminology', 1), ('maximum', 1), ('elelctric', 1), ('peak', 1), ('electric', 1), ('vary', 1), ('jamais', 1), ('fomos', 1), ('modernos', 1), ('december', 1), ('ken', 1), ('vandermark', 1), ('concert', 1), ('santander', 1), ('brazil', 1), ('featuring', 1), ('bode', 1), ('eleven', 1), ('ambient', 1), ('electronics', 1), ('institutions', 1), ('releasing', 1), ('netlabels', 1), ('distros', 1), ('drummer', 1), ('styles', 1), ('focus', 1), ('bass', 1), ('trio', 1), ('punk', 1), ('rock', 1), ('diego', 1), ('solo', 1), ('clarinet', 1), ('audience', 1), ('freely', 1), ('improvised', 1), ('structured', 1), ('improvisation', 1), ('homonymous', 1), ('antropology', 1), ('essay', 1), ('latour', 1), ('instruments', 1), ('flutes', 1), ('whistles', 1), ('harmonicas', 1), ('kazoos', 1), ('percussion', 1), ('aleatory', 1), ('intuitive', 1), ('session', 1), ('offers', 1), ('mats', 1), ('gustafsson', 1), ('15th', 1), ('distributed', 1), ('aficionados', 1), ('mold', 1), ('butt', 1), ('insistent', 1), ('uhhhh', 1), ('touch', 1), ('ancient', 1), ('crock', 1), ('dictionary', 1), ('infancy', 1), ('puberty', 1), ('remotely', 1), ('salacious', 1), ('adults', 1), ('describe', 1), ('problematical', 1), ('ultimate', 1), ('legally', 1), ('define', 1), ('minors', 1), ('babies', 1), ('raped', 1), ('judith', 1), (\"reisman's\", 1), (\"ashcroft's\", 1), ('david', 1), (\"finkelhor's\", 1), ('semantic', 1), ('employed', 1), ('disqualification', 1), ('holding', 1), ('perspective', 1), ('perpetuating', 1), ('pseudo-science', 1), ('flim-flam', 1), ('20:10', 1), ('shot', 1), ('glorious', 1), ('motherfucking', 1), ('lets', 1), ('antiheros', 1), ('accolades', 1), ('brainless', 1), ('hypocritical', 1), ('marxist', 1), ('pigs', 1), ('meanie', 1), ('redoing', 1), ('teams', 1), ('springboks', 1), ('contracted', 1), ('props', 1), ('hooker', 1), ('alternate', 1), ('propsnamentsrccvc', 1), ('hookers', 1), ('footnotes', 1), ('franchise', 1), ('affiliated', 1), ('union', 1), ('slight', 1), ('variation', 1), ('developed', 1), ('simplify', 1), ('suggestions', 1), ('tidying', 1), ('highbeam', 1), ('jstor', 1), ('stoneham', 1), ('fatuorum', 1), ('unprotected', 1), ('new_anti-semitism', 1), ('#sourcing_claims_for_', 1), ('22country', 1), ('specific_incidents', 1), ('incidents', 1), ('radical', 1), ('defining', 1), ('judenhass', 1), ('emanates', 1), ('characterized', 1), ('demonization', 1), ('ethnicity', 1), (\"israel's\", 1), ('member', 1), ('self-determination', 1), ('judged', 1), ('neighboring', 1), ('collectively', 1), ('symbols', 1), ('classic', 1), ('libels', 1), ('resurrected', 1), ('wild', 1), ('conspiracy', 1), ('involving', 1), ('zionists', 1), ('israelis', 1), ('plotting', 1), ('governments', 1), ('scenes', 1), ('terror', 1), ('mistakenly', 1), ('attributed', 1), ('islamic', 1), ('excused', 1), ('straw-man', 1), ('condemn', 1), ('unreasonable', 1), ('deny', 1), ('accompanied', 1), ('resurgence', 1), ('violence', 1), ('synagogues', 1), ('schools', 1), ('conjunction', 1), ('anti-americanism', 1), ('anti-globalization', 1), ('phenomenon', 1), ('components', 1), ('allegation', 1), ('unwise', 1), ('nus', 1), ('ephemeral', 1), ('talks', 1), ('election', 1), ('disagreements', 1), ('remind', 1), ('elements', 1), ('suicides', 1), ('commit', 1), ('suicide', 1), ('katie', 1), ('lea', 1), ('68.54', 1), ('163.153', 1), ('divinity', 1), ('31', 1), ('a-hole', 1), ('nishkid', 1), ('sage', 1), ('soothing', 1), ('soemone', 1), ('75.21', 1), ('101.63', 1), ('youn', 1), ('hooray', 1), ('teahouse', 1), ('durova', 1), ('obsessed', 1), ('joa', 1), ('wich', 1), ('athough', 1), ('closely', 1), ('watched', 1), ('repeat', 1), ('federation', 1), ('nominally', 1), ('outright', 1), ('skyteam', 1), ('klm', 1), ('preempt', 1), ('crazed', 1), ('fans', 1), ('airline', 1), ('hahaha', 1), (\"that'll\", 1), ('moar', 1), ('disruption', 1), ('da', 1), ('absence', 1), ('revocation', 1), ('typing', 1), ('reiterate', 1), ('affect', 1), ('administrate', 1), ('herd', 1), ('liek', 1), ('mudkips', 1), ('log-in', 1), ('membere', 1), ('moderation', 1), ('weasel', 1), ('insted', 1), ('notify', 1), ('neutral-sounding', 1), ('14:36', 1), ('dickheads', 1), ('brought', 1), ('reject', 1), ('obnoxious', 1), ('water', 1), ('tower', 1), ('sean', 1), ('broom', 1), ('wikitan', 1), ('sticky', 1), ('pocky', 1), ('sad', 1), ('tubby', 1), ('fellow', 1), ('simpsons', 1), ('obesessives', 1), ('overpopulated', 1), ('noted', 1), ('verifiable', 1), ('feedback', 1), ('mad', 1), ('190.242', 1), ('99.226', 1), ('denial', 1), ('culture', 1), ('cheap', 1), ('moukity', 1), ('11th', 1), ('higgys', 1), ('harass', 1), ('summaries', 1), ('rescue', 1), ('heroes', 1), ('sockpuppetry', 1), ('134.153', 1), ('184.17', 1), ('pharisee', 1), ('debated', 1), ('thinkers', 1), ('brian', 1), (\"mclaren's\", 1), ('hannah', 1), ('m.g.shapero', 1), ('zoroastrianism', 1), ('lucky', 1), ('bands', 1), ('dancers', 1), ('sometime', 1), ('concur', 1), ('postscript', 1), ('kommandohimmler', 1), ('lässt', 1), ('grüßen', 1), ('nancy', 1), ('fatass', 1), ('observing', 1), ('girls', 1), ('waddle', 1), ('sexy', 1), ('recoil', 1), ('horrer', 1), ('chocolate', 1), ('dangerously', 1), ('obese', 1), ('16', 1), ('hastle', 1), ('dialogue', 1), ('galton', 1), ('watson', 1), ('#bad', 1), ('#surname', 1), ('plant', 1), ('bruce', 1), ('perens', 1), ('groklaw', 1), ('revoke', 1), ('infiltrator', 1), ('scum', 1), ('malice', 1), ('aforethought', 1), ('blast', 1), ('harmful', 1), ('erroneous', 1), ('worried', 1), ('sued', 1), ('made-up', 1), ('bs', 1), ('direct', 1), ('fortune', 1), ('defending', 1), ('capacities', 1), ('guardians', 1), ('womens', 1), ('quarters', 1), ('administrative', 1), ('existed', 1), (\"byt's\", 1), ('contributed', 1), ('confusion', 1), ('confused', 1), ('servers', 1), ('terribly', 1), ('slow', 1), ('diffs', 1), ('solved', 1), ('somehow', 1), ('mess', 1), ('salix', 1), ('alba', 1), ('mcgeddon', 1), ('legal', 1), ('libellious', 1), ('e-pill', 1), ('forcing', 1), ('dubious', 1), ('uer', 1), ('thread', 1), ('subheader', 1), ('pain', 1), ('encylopedic', 1), ('engaged', 1), ('progress', 1), ('overlinking', 1), ('whisper', 1), ('babu', 1), ('aside', 1), ('politely', 1), ('coudl', 1), ('suspected', 1), ('intervention', 1), ('consequence', 1), ('obolensky', 1), ('tried', 1), ('steal', 1), (\"consulate's\", 1), ('revolution', 1), ('tolerate', 1), ('byzantine', 1), ('fyromian', 1), ('alexandor', 1), ('makedonski', 1), ('d', 1), ('slav', 1), ('queen', 1), ('england', 1), ('rfd', 1), ('zeus', 1), ('nominated', 1), ('participate', 1), ('hammer', 1), ('finest', 1), ('99.141', 1), ('246.39', 1), ('river', 1), ('bridge', 1), ('bits', 1), ('andpieces', 1), ('audie', 1), ('murphy', 1), ('roam', 1), ('41', 1), ('month', 1), ('penned', 1), ('archived', 1), ('insight', 1), ('appreciate', 1), ('titled', 1), ('q', 1), ('photographer', 1), ('designer', 1), ('writer', 1), ('portions', 1), ('demolished', 1), ('planet', 1), ('represents', 1), ('significance', 1), ('wheres', 1), ('urbanarcheolgy', 1), ('racial', 1), ('censor', 1), ('tyrant', 1), ('region', 1), ('celestial', 1), ('sphere', 1), ('ecliptic', 1), ('defense', 1), ('dictatorships', 1), ('killings', 1), ('awful', 1), ('didier', 1), ('#', 1), ('3rd', 1), ('channel', 1), ('improved', 1), ('re-titiled', 1), ('samantha', 1), ('555', 1), ('power-mad', 1), ('pulls', 1), ('november', 1), ('encounter', 1), ('elementary', 1), ('introductory', 1), ('differ', 1), ('appreciation', 1), ('grew', 1), ('historically', 1), ('thrashing', 1), ('differing', 1), ('emerged', 1), ('lightly', 1), ('substantially', 1), ('chip', 1), ('ping-pong', 1), ('widely-read', 1), ('specialised', 1), ('precisely', 1), ('encountered', 1), ('mathematician', 1), ('drawing', 1), ('subsequent', 1), ('pentagram', 1), ('recognised', 1), ('archimedes', 1), ('excluded', 1), ('formally', 1), ('understood', 1), ('mathematicians', 1), ('omit', 1), ('descriptors', 1), ('treatments', 1), ('implicitly', 1), ('introduction', 1), ('luxury', 1), ('conform', 1), ('preconceptions', 1), ('polygons', 1), ('divided', 1), ('self-intersect', 1), ('proviso', 1), ('ideas', 1), ('20:34', 1), ('resubmitted', 1), ('confirmation', 1), ('silliness', 1), ('jun', 1), ('natalya', 1), ('pasichnyk', 1), ('logged-in', 1), ('noun', 1), ('influence', 1), ('correctness', 1), ('johnny', 1), ('leverne', 1), ('gender', 1), ('transgender', 1), ('met', 1), ('foreigners', 1), ('shout', 1), ('mouth', 1), ('4ever', 1), ('butyou', 1), ('benned', 1), ('wps', 1), ('swearing', 1), ('struggling', 1), ('existence', 1), ('discriminates', 1), ('discriminate', 1), ('fringe', 1), ('flavours', 1), ('separation', 1), ('church', 1), ('strictly', 1), ('tautology', 1), ('elucidate', 1), ('𒁳', 1), ('ended', 1), ('archive', 1), ('conversations', 1), ('wen', 1), ('combination', 1), ('responses', 1), ('communicating', 1), ('anywhere', 1), ('fulfilled', 1), ('irregularities', 1), ('normal', 1), ('thoughtless', 1), ('decission', 1), ('frankly', 1), ('realized', 1), ('enormous', 1), ('despotically', 1), ('unjustified', 1), ('grade', 1), ('stil', 1), ('carry', 1), ('constructively', 1), ('sounds', 1), ('gang', 1), ('pedestrian', 1), ('wise', 1), ('advices', 1), ('positive', 1), ('fulfilling', 1), ('carried', 1), ('repressive', 1), ('measures', 1), ('3rr', 1), ('consecutive', 1), ('intervening', 1), ('counts', 1), ('sagaiousphil', 1), ('pillockbrain', 1), ('elast', 1), ('sagacious', 1), ('intellect', 1), ('hates', 1), ('superiors', 1), ('injury', 1), ('legobatman', 1), ('3609', 1), ('icekid', 1), ('1994', 1), ('voice', 1), ('throat', 1), ('71.246', 1), ('51.122', 1), ('computers', 1), ('ai', 1), ('overlap', 1), ('piotrus', 1), ('blow', 1), ('12.176', 1), ('20.2', 1), ('sundos', 1), ('mohammed', 1), ('ibrahim', 1), ('al-mansoury', 1), ('sudanese', 1), ('ksa', 1), ('riadh', 1), ('2002', 1), ('khartoum', 1), ('garden', 1), ('collage', 1), ('department', 1), ('training', 1), ('violate', 1), ('regulations', 1), ('userpage', 1), ('paraded', 1), ('streets', 1), ('european', 1), ('popular', 1), (\"romania's\", 1), ('70', 1), ('romanian', 1), ('22:49', 1), ('shits', 1), ('imma', 1), ('rcaist', 1), ('bitches', 1), ('ammunition', 1), ('licenced', 1), ('m777', 1), ('origon', 1), ('titanium', 1), ('barell', 1), ('assembled', 1), ('britian', 1), ('imperial', 1), ('sized', 1), ('guns', 1), ('metric', 1), ('dimensions', 1), ('9.2', 1), ('l5', 1), ('howitzers', 1), ('reserve', 1), ('stopped', 1), ('1990', 1), ('mortar', 1), ('motar', 1), ('supprised', 1), ('service', 1), ('1960', 1), ('101.171', 1), ('170.142', 1), ('formats', 1), ('jersey', 1), ('nineteenth', 1), ('twentieth', 1), ('19th', 1), ('20th', 1), ('allows', 1), ('requiring', 1), ('legislative', 1), ('tea', 1), ('21st', 1), ('internally', 1), ('disingenuous', 1), ('raise', 1), ('aggravating', 1), ('unnecessary', 1), ('audacity', 1), ('insist', 1), ('baseless', 1), ('proverb', 1), ('truism', 1), ('self-evident', 1), ('reminder', 1), ('literary', 1), ('device', 1), ('counterexamples', 1), ('pee', 1), ('toot', 1), ('fart', 1), ('gas', 1), ('diareah', 1), ('zoey', 1), ('stinks', 1), ('marry', 1), ('prohibited', 1), ('whomever', 1), ('out-of-print', 1), ('releases', 1), ('spurious', 1), ('recycled', 1), ('sadly', 1), ('passes', 1), ('begs', 1), ('tuppence', 1), ('advantage', 1), ('commercial', 1), ('egotistical', 1), ('transgressed', 1), (\"wiki's\", 1), ('arcane', 1), ('attribution', 1), ('coincidence', 1), ('marmite', 1), ('argumentative', 1), ('straight', 1), ('drafts', 1), ('yellow', 1), ('sticker', 1), ('rid', 1), ('harassing', 1), (\"ip's\", 1), ('chelsea', 1), ('manning', 1), ('clearer', 1), ('unreferenced', 1), ('unreviewed', 1), ('childs', 1), ('websites', 1), ('pro', 1), ('suffer', 1), ('horribly', 1), ('pretoria', 1), ('runaway', 1), ('assistance', 1), ('gotten', 1), (';-)', 1), ('half-considered', 1), ('lo', 1), ('aroenel', 1), (\"here's\", 1), ('forth', 1), ('feminist', 1), ('synth', 1), ('slaves', 1), ('promotes', 1), ('promoting', 1), ('fenian', 1), ('wrist', 1), ('wip', 1), ('present', 1), ('participant', 1), ('under-referenced', 1), ('gamut', 1), ('hexachord', 1), ('concepts', 1), ('lacks', 1), ('grove', 1), ('inadequate', 1), ('fuller', 1), ('bibliographic', 1), ('details', 1), ('attend', 1), ('tied', 1), ('noetica', 1), ('♬', 1), ('♩', 1), ('caps', 1), ('demon', 1), ('capitalized', 1), ('inconstructive', 1), ('jvstvs', 1), ('hmmm', 1), ('two-way', 1), ('dab', 1), ('uncapitalised', 1), ('raising', 1), ('allof', 1), ('battleis', 1), ('campaignbox', 1), ('connected', 1), ('dis', 1), ('revaling', 1), ('68.205', 1), ('182.184', 1), ('creeping', 1), ('thankyou', 1), ('http://www.enotes.com/psychoanalysis-encyclopedia/unpleasure', 1), ('lots', 1), ('suspicious', 1), ('hoax.cierekim', 1), ('ddduu', 1), ('eastern', 1), ('zone', 1), ('callanecc', 1), ('potto', 1), ('hole', 1), ('harbor', 1), ('feelings', 1), ('guilty', 1), ('promise', 1), ('trolls', 1), ('hugo', 1), ('chavez', 1), ('nastiness', 1), ('possessive', 1), ('revisions', 1), ('proceeded', 1), ('foul', 1), ('unwanted', 1), ('unsolicited', 1), ('objected', 1), ('profanity', 1), ('respectfully', 1), ('exercise', 1), ('one-sided', 1), ('forgetting', 1), ('melbourne', 1), ('thereby', 1), ('validating', 1), ('quick', 1), ('geeks', 1), ('ditch', 1), ('processes', 1), ('shes', 1), ('impossible', 1), ('nationality', 1), ('volunteer', 1), ('useless', 1), ('propagandas', 1), ('http://en.wikipedia.org/w/index.php?title=post-it_note=82219445=82217351', 1), ('<-', 1), ('inform', 1), ('shyamalan', 1), ('interfere', 1), ('ideology', 1), ('ich', 1), ('beuge', 1), ('zu', 1), ('ihnen', 1), ('meinen', 1), ('fuhrer', 1), ('formating', 1), ('1777mev', 1), ('c2', 1), ('orders', 1), ('magnitude', 1), ('90.179', 1), ('235.249', 1), ('unthinking', 1), ('urchin', 1), ('standing', 1), ('ovation', 1), ('tweaks', 1), ('beforehand', 1), ('strikes', 1), ('online', 1), ('retitling', 1), ('arguing', 1), ('supplant', 1), ('politic', 1), ('reposting', 1), ('tbhotch', 1), ('jobless', 1), ('teachers', 1), ('tossing', 1), ('reality', 1), ('flame', 1), ('demographics', 1), ('pissing', 1), ('save', 1), ('throwing', 1), ('vpn', 1), ('spoof', 1), ('linking', 1), ('gladly', 1), ('roughly', 1), ('75', 1), ('fridgemagnet', 1), ('responsibility', 1), ('genius', 1), ('index', 1), ('confirm', 1), ('cepos', 1), (\"word's\", 1), ('disconnected', 1), ('etymology', 1), ('managers', 1), ('follows', 1), ('fms', 1), ('unorthodox', 1), ('ewwwwwww', 1), ('dummy', 1), ('nich', 1), ('attempting', 1), ('espouse', 1), ('heavens', 1), ('hard-working', 1), ('totally', 1), ('accusation', 1), ('quoted', 1), ('long-long', 1), ('zionism', 1), ('critique', 1), ('corbett', 1), (\"molly's\", 1), ('clarification', 1), ('twenty-four', 1), ('resubmit', 1), ('subst', 1), ('submit', 1), ('pdf', 1), ('guide', 1), ('surat', 1), ('thani', 1), ('ie', 1), ('pertains', 1), ('silk', 1), ('weavers', 1), ('bunga', 1), ('mas', 1), ('suzerainty', 1), ('discusses', 1), ('shameful', 1), ('advert', 1), ('joining', 1), ('wiktionary', 1), ('revival', 1), ('mode', 1), ('wikt', 1), ('ríomhleathanach', 1), ('❤', 1), ('groupd', 1), ('bullies', 1), ('chasing', 1), ('iremember', 1), ('gangsterism', 1), ('ov', 1), ('fabricating', 1), ('october', 1), ('unable', 1), ('argumentation', 1), ('adopted', 1), ('arrogant', 1), ('luckily', 1), ('waste', 1), ('strange', 1), ('previously', 1), ('enganged', 1), ('despotic', 1), ('malignant', 1), ('shithead', 1), ('arseface', 1), ('mutherlicker', 1), ('137.240', 1), ('136.80', 1), ('forst', 1), ('corrupt', 1), ('thiefs', 1), ('san', 1), (';)', 1), ('kobe', 1), ('bryant', 1), ('\\u200e', 1), ('jason', 1), ('kidd', 1), ('mena', 1), ('bullying', 1), ('cam', 1), ('48', 1), ('eding', 1), ('removes', 1), ('indiviate', 1), ('bulyingf', 1), ('enforcer', 1), ('mckenna', 1), ('leary', 1), ('gordon', 1), ('wasson', 1), ('shamanic', 1), ('ayuhasca', 1), ('iboga', 1), ('shamnic', 1), ('drumming', 1), ('dancing', 1), ('protestent', 1), ('shaker', 1), ('whirling', 1), ('dervishes', 1), ('phenomena', 1), ('meaningfull', 1), ('symptomatic', 1), ('diagnosis', 1), ('aproach', 1), ('agnostic', 1), ('aproaches', 1), ('validity', 1), ('curios', 1), ('elsewhere', 1), ('chosen', 1), ('mighht', 1), ('sympathetique', 1), ('childish', 1), ('presently', 1), ('stays', 1), ('draft', 1), ('trashed', 1), ('clar', 1), ('#irsentience', 1), ('removasl', 1), ('arrived', 1), ('operation', 1), ('grammer', 1), ('punctuation', 1), ('editting', 1), ('stlye', 1), ('sum', 1), ('thoughtlessly', 1), ('youve', 1), ('redirected', 1), ('diligently', 1), ('additional', 1), ('religios', 1), ('anthropological', 1), ('socialogical', 1), ('medical', 1), ('chemistry', 1), ('botany', 1), ('views', 1), ('hurdles', 1), ('hoops', 1), ('honour', 1), ('evolved', 1), ('wars', 1), ('stupidly', 1), ('brawl', 1), ('clairsentient', 1), ('wasnt', 1), ('decades', 1), ('articulate', 1), ('rational', 1), ('vast', 1), ('69.233', 1), ('92.38', 1), ('turd', 1), ('toilet', 1), ('immediently', 1), ('pedo', 1), (\"eppy's\", 1), ('tradition', 1), ('header', 1), ('19:17', 1), ('intro', 1), ('headings', 1), ('sheeple', 1), ('meant', 1), ('affiliations', 1), ('rex', 1), ('euro', 1), ('massacred', 1), ('civilians', 1), ('specifies', 1), ('constitutes', 1), ('boilerplate', 1), ('templates', 1), ('insure', 1), ('compliance', 1), ('blank', 1), ('specified', 1), ('ndb', 1), ('bastards', 1), ('currently', 1), ('laughing', 1), ('stock', 1), ('punchline', 1), ('joke', 1), ('facilitates', 1), ('uninterested', 1), ('potential', 1), (\"wouldn't\", 1), ('harms', 1), ('substantial', 1), ('insidious', 1), ('virus', 1), ('genuine', 1), ('swear-filled', 1), ('diatribe', 1), ('antagonizing', 1), ('genuinely', 1), ('begged', 1), ('taunted', 1), ('harm', 1), ('cf', 1), ('lamina', 1), ('stacked', 1), ('plates', 1), ('gills', 1), ('fish', 1), ('mushrooms', 1), ('comb-like', 1), ('edge', 1), (\"duck's\", 1), ('bill', 1), ('referred', 1), ('pectines', 1), ('singular', 1), ('pecten', 1), ('murdered', 1), ('improves', 1), ('consolidating', 1), ('fundamentally', 1), ('descriptions', 1), ('retained', 1), ('puppets', 1), ('demonstrated', 1), ('cannoot', 1), ('face', 1), ('lift', 1), ('slowly', 1), ('identified', 1), (\"washington's\", 1), ('39', 1), ('counties', 1), ('mountain', 1), ('tons', 1), ('newspaper', 1), ('misspellings', 1), ('bighorn', 1), ('sheep', 1), ('businesses', 1), ('transformer', 1), ('ship', 1), ('isolate', 1), ('besides', 1), ('lewis', 1), ('county', 1), ('trip', 1), ('reports', 1), ('aqu', 1), ('01rius', 1), ('\\x95', 1), ('cheeselor', 1), ('wdefcon', 1), ('anglesey', 1), ('extra', 1), ('refs', 1), ('photographs', 1), ('infobox', 1), ('renamed', 1), ('baked', 1), ('cake', 1), ('icing', 1), ('fingers', 1), ('crossed', 1), ('hd', 1), ('totd', 1), ('tip', 1), ('active', 1), (\"admin's\", 1), ('noticeboard', 1), ('miscellanious', 1), ('village', 1), ('pump', 1), ('places', 1), ('faster', 1), ('15:59', 1), ('revisited', 1), ('fix', 1), ('fixing', 1), ('missed', 1), (\"it'll\", 1), ('renominated', 1), ('offered', 1), ('entitled', 1), ('reward', 1), ('ais', 1), ('523', 1), ('importing', 1), ('scripts', 1), ('monobook.js', 1), ('bypassing', 1), ('cache', 1), ('12:57', 1), ('fairly', 1), ('impressive', 1), ('snak', 1), ('retrn', 1), ('blck', 1), ('alllllllllllllllllllllllllllllll', 1), ('fukerssssssssssssssssssssssssssssssssssssssssssssssssssssssssssssssssssssssssssssssssssssssssssssssssssssss', 1), ('unrepentant', 1), ('nominator', 1), ('cease', 1), ('nominations', 1), ('helen', 1), ('krauze', 1), ('snottywong', 1), ('percentage', 1), ('votes', 1), ('results', 1), (':d', 1), ('gg', 1), ('nominates', 1), ('known', 1), ('luck', 1), ('moreover', 1), ('indication', 1), ('underlying', 1), ('abit', 1), ('rollback', 1), ('button', 1), ('twinkle', 1), ('vandal-fighting', 1), ('12:20', 1), ('er', 1), ('empathize', 1), ('likewise', 1), ('directed', 1), ('tossed', 1), ('breeze', 1), ('2014', 1), ('apologies', 1), ('responding', 1), ('restored', 1), ('incarnation', 1), ('contained', 1), ('infrignements', 1), ('userspace', 1), ('re-created', 1), ('restoring', 1), ('grammatical', 1), ('needing', 1), ('moving', 1), ('pseudonym', 1), ('09:38', 1), ('suppression', 1), ('houses', 1), ('1539', 1), ('insistence', 1), ('eccentric', 1), ('emphasized', 1), ('assertions', 1), ('engaging', 1), ('activities', 1), ('persistence', 1), ('organization', 1), ('overwhelm', 1), ('generate', 1), ('widespread', 1), ('inaccurate', 1), ('libelous', 1), ('passages', 1), ('viewpoint', 1), ('continually', 1), ('furries', 1), ('improvement', 1), ('longstanding', 1), ('redirects', 1), ('orangemarlin', 1), ('disgusting', 1), ('cities', 1), ('insists', 1), ('keeping', 1), ('boston', 1), ('center', 1), ('bastrards', 1), ('neogotiate', 1), ('favour', 1), ('javits', 1), ('brad', 1), ('thor', 1), ('uncommon', 1), ('recipes', 1), ('poisons', 1), ('bio-warfare', 1), ('chemical', 1), ('warfare', 1), ('gleaned', 1), ('98.214', 1), ('81.82', 1), ('700', 1), ('shushing', 1), ('cow', 1), ('dismiss', 1), ('uppercase', 1), ('letter', 1), ('imbecile', 1), ('specialist', 1), ('specifically', 1), ('sneering', 1), ('transphobic', 1), ('sarcasm', 1), ('humour', 1), ('febuary', 1), ('#084080', 1), ('#000000', 1), ('rangeetsen', 1), ('clicking', 1), ('fill', 1), ('facilitate', 1), ('verifiability', 1), ('three-revert', 1), ('copyrights', 1), ('cellpadding', 1), ('cellspacing', 1), ('#000', 1), ('resolving', 1), ('disputes', 1), ('etiquette', 1), ('mangojuice', 1), ('coats', 1), ('absurd', 1), ('subsitute', 1), ('bug', 1), ('systematic', 1), ('territroy', 1), ('moroccan', 1), ('administration', 1), ('administrates', 1), ('polisario', 1), ('exile', 1), ('wanting', 1), ('democratic', 1), ('fervent', 1), ('militant', 1), ('subtitute', 1), ('ín', 1), ('editwarring', 1), ('differently', 1), ('costs', 1), ('indefinite', 1), ('exhausting', 1), ('regards', 1), ('neutrally', 1), ('coloured', 1), ('minded', 1), ('sto', 1), ('th', 1), ('eoriginal', 1), ('noble', 1), ('aims', 1), ('adrift', 1), ('pettyness', 1), ('correction', 1), ('godliness', 1), ('frequent', 1), ('ad', 1), ('stripmalls', 1), ('ingestion', 1), ('burgers', 1), ('fries', 1), ('n', 1), ('inconsitency', 1), ('knickers', 1), ('erase', 1), ('fascism', 1), ('fitting', 1), (\"hitler's\", 1), ('germany', 1), (\"stalin's\", 1), ('wide', 1), ('nevertheless', 1), ('subtract', 1), ('modify', 1), ('conviction', 1), ('eductaion', 1), ('progressive', 1), ('regressive', 1), ('wikipediapoliciy', 1), ('harrasment', 1), ('reasonable', 1), ('observer', 1), ('adversely', 1), ('affecting', 1), ('intimidating', 1), ('unpleasant', 1), ('discourage', 1), ('implied', 1), ('continued', 1), ('showed', 1), ('unflattering', 1), ('202.124', 1), ('135.206', 1), ('http://www.wwfindia.org/about_wwf/what_we_do/freshwater_wetlands/our_work/ramsar_sites/harike_wetlands_.cfm', 1), ('http://www.birding.in/birdingsites/harike_lake.htm', 1), ('http://www.gisdevelopment.net/aars/acrs/1997/ts7/ts7008.asp', 1), ('brilliant', 1), ('http://www.punjabheritage.org/architectural-heritage/local-enthusiasm-but-official-neglect-for-anglo-sikh-war-monuments2704.html', 1), ('infoboxes', 1), ('consistency', 1), (\"religion's\", 1), ('impression', 1), ('irreligion', 1), ('rejection', 1), (\"anupam's\", 1), ('discourse', 1), ('warrant', 1), ('remaining', 1), ('thermonuclear', 1), ('nuclear', 1), ('greater', 1), ('graceful', 1), ('slick', 1), ('ungraceful', 1), ('86.131', 1), ('154.230', 1), ('mexia', 1), ('prounounced', 1), ('mejilla', 1), ('cheek', 1), ('þ', 1), ('¡', 1), ('æ', 1), ('assed', 1), ('suckin', 1), ('drug', 1), ('addicted', 1), ('sniffin', 1), ('megalomaniacs', 1), ('bent', 1), ('stuffed', 1), ('crack', 1), ('losers', 1), ('fewer', 1), ('od', 1), ('moderators', 1), ('hahahaha', 1)]\n"
          ]
        }
      ]
    },
    {
      "cell_type": "code",
      "source": [
        "a = counter.most_common(k)\n",
        "vocab = [i[0] for i in a]\n",
        "len(vocab)"
      ],
      "metadata": {
        "colab": {
          "base_uri": "https://localhost:8080/"
        },
        "id": "iJqjSjGvYdQ2",
        "outputId": "023f99b2-d51b-4cee-bed7-66b26e955c48"
      },
      "execution_count": null,
      "outputs": [
        {
          "output_type": "execute_result",
          "data": {
            "text/plain": [
              "5707"
            ]
          },
          "metadata": {},
          "execution_count": 12
        }
      ]
    },
    {
      "cell_type": "code",
      "execution_count": 88,
      "metadata": {
        "colab": {
          "base_uri": "https://localhost:8080/"
        },
        "id": "nhEfiQJXSsa2",
        "outputId": "822d5f9a-52ce-4e66-8c83-7ace2cd3a9bc"
      },
      "outputs": [
        {
          "output_type": "stream",
          "name": "stdout",
          "text": [
            "example features: ['!', '12:20', '300', '_', 'adorned', 'alternative', 'archive', 'average', 'benkner', 'bout', 'came', 'chest', 'combined', 'consumers', 'cricket', 'decisions', 'dickheads', 'domestic', 'eductaion', 'essentially', 'faggot', 'firms', 'frustrated', 'goal', 'hanibal', 'hip-hop', 'identified', 'infoboxes', 'issue', 'kindergarten', 'lets', 'lot', \"mclaren's\", 'moderator', 'naturally', 'noticeable', 'opposing', 'pdf', 'plant', 'pretoria', 'punctuation', 'rebels', 'repetative', 'riadh', 'schulz', 'shes', 'slit', 'spoof', 'stupid', 't', 'theoretical', 'topic', 'uglyness', 'userspace', 'wanted', 'wikieditor', 'year', '←']\n"
          ]
        }
      ],
      "source": [
        "# task: find up to k most frequent tokens in texts_train,\n",
        "# sort them by number of occurences (highest first)\n",
        "k = 10000\n",
        "\n",
        "most_popular = counter.most_common(k)\n",
        "bow_vocabulary = [i[0] for i in most_popular]\n",
        "\n",
        "print('example features:', sorted(bow_vocabulary)[::100])"
      ]
    },
    {
      "cell_type": "code",
      "execution_count": 89,
      "metadata": {
        "id": "McooEjwbSsa3"
      },
      "outputs": [],
      "source": [
        "def text_to_bow(text):\n",
        "    \"\"\" convert text string to an array of token counts. Use bow_vocabulary. \"\"\"\n",
        "    counter = Counter()\n",
        "    for token in text.split():\n",
        "        counter[token] += 1\n",
        "\n",
        "    PAD = 0 # times appears\n",
        "    vocab = [PAD] * len(set(' '.join(texts_train).split())) # [PAD] * vocab_size\n",
        "    for i, token in zip(range(len(bow_vocabulary)), bow_vocabulary):\n",
        "        if token in text.split():\n",
        "            vocab[i] = counter[token]\n",
        "\n",
        "    return np.array(vocab, 'float32')"
      ]
    },
    {
      "cell_type": "code",
      "execution_count": 90,
      "metadata": {
        "id": "3szNhBVpSsa3"
      },
      "outputs": [],
      "source": [
        "X_train_bow = np.stack(list(map(text_to_bow, texts_train)))\n",
        "X_test_bow = np.stack(list(map(text_to_bow, texts_test)))"
      ]
    },
    {
      "cell_type": "code",
      "source": [
        "X_train_bow.shape, X_test_bow.shape"
      ],
      "metadata": {
        "colab": {
          "base_uri": "https://localhost:8080/"
        },
        "id": "uDhSi9_hfrl8",
        "outputId": "9e4f7f5e-37f9-4c1b-8679-fa43a9a93f39"
      },
      "execution_count": null,
      "outputs": [
        {
          "output_type": "execute_result",
          "data": {
            "text/plain": [
              "((500, 5707), (500, 5707))"
            ]
          },
          "metadata": {},
          "execution_count": 20
        }
      ]
    },
    {
      "cell_type": "code",
      "source": [
        "len(texts_train), min(k, len(set(' '.join(texts_train).split())))"
      ],
      "metadata": {
        "colab": {
          "base_uri": "https://localhost:8080/"
        },
        "id": "qSeLHqj9gJTA",
        "outputId": "1c7e136c-75e2-482b-98ed-ea44f663bd08"
      },
      "execution_count": null,
      "outputs": [
        {
          "output_type": "execute_result",
          "data": {
            "text/plain": [
              "(500, 5707)"
            ]
          },
          "metadata": {},
          "execution_count": 21
        }
      ]
    },
    {
      "cell_type": "code",
      "source": [
        "texts_train[6]"
      ],
      "metadata": {
        "colab": {
          "base_uri": "https://localhost:8080/",
          "height": 174
        },
        "id": "cSfoJCVTn2WL",
        "outputId": "e758e62a-53ff-42ec-a98e-b79ccbe99b72"
      },
      "execution_count": null,
      "outputs": [
        {
          "output_type": "execute_result",
          "data": {
            "text/plain": [
              "'\" alright , i am willing to concede that the cia allegations are flimsy at best , therefore , i will stop the edit warring . while you may not consider it too important , i think the issue of assange as the founder to be another example of lazy journalism . your source for assange as founder of wikleaks was msnbc.com . i don\\'t necessarily consider msnbc to be a reliable source most of the time . corporate news does not do \" \" real \" \" journalism . they copy news from one source or they make stories up . it seems to me that the idea of assange as founder is a meme . i have never read a quote from assange whereby he states that he founded wikileaks . this idea seems to be mostly promulgated by the u . s . corporate media . perhaps to vilify him in the minds of americans , so that later he can be lynched . this seems like propaganda 101 to me . the wikileaks site does not identify assange as the founder . where is the evidence ? thc loadee 04:08 , 4 march 2011 ( utc ) \"'"
            ],
            "application/vnd.google.colaboratory.intrinsic+json": {
              "type": "string"
            }
          },
          "metadata": {},
          "execution_count": 22
        }
      ]
    },
    {
      "cell_type": "code",
      "source": [
        "text_to_bow(texts_train[6])"
      ],
      "metadata": {
        "colab": {
          "base_uri": "https://localhost:8080/"
        },
        "id": "15A1oLL7nr_f",
        "outputId": "43e58f66-effa-4746-8ca3-2362e248d539"
      },
      "execution_count": null,
      "outputs": [
        {
          "output_type": "execute_result",
          "data": {
            "text/plain": [
              "array([14.,  6.,  1., ...,  0.,  0.,  0.], dtype=float32)"
            ]
          },
          "metadata": {},
          "execution_count": 16
        }
      ]
    },
    {
      "cell_type": "code",
      "execution_count": 10,
      "metadata": {
        "id": "CLzpewgGSsa3"
      },
      "outputs": [],
      "source": [
        "k_max = len(set(' '.join(texts_train).split()))\n",
        "assert X_train_bow.shape == (len(texts_train), min(k, k_max))\n",
        "assert X_test_bow.shape == (len(texts_test), min(k, k_max))\n",
        "assert np.all(X_train_bow[5:10].sum(-1) == np.array([len(s.split()) for s in texts_train[5:10]]))\n",
        "assert len(bow_vocabulary) <= min(k, k_max)\n",
        "assert X_train_bow[6, bow_vocabulary.index('.')] == texts_train[6].split().count('.')"
      ]
    },
    {
      "cell_type": "markdown",
      "metadata": {
        "id": "U-M_HQywSsa4"
      },
      "source": [
        "__Naive bayes:__ perhaps the simplest model that can solve your problem is the so called Naive Bayes Classifier.\n",
        "Its a trivial linear model that assumes the independence of input features and computes the coefficients by, well, counting probabilities.\n",
        "\n",
        "If you don't remember the math behind Naive Bayes, read [this chunk](https://lena-voita.github.io/nlp_course/text_classification.html#naive_bayes) to help refresh your memory. Done? Good! Now let's implement that :)"
      ]
    },
    {
      "cell_type": "code",
      "execution_count": 91,
      "metadata": {
        "id": "-8Yjx1_fSsa4"
      },
      "outputs": [],
      "source": [
        "class BinaryNaiveBayes:\n",
        "    def __init__(self):\n",
        "        self.delta = 1.0 # add this to all word counts to smoothe probabilities\n",
        "\n",
        "    def fit(self, X, y):\n",
        "        \"\"\"\n",
        "        Fit a NaiveBayes classifier for two classes\n",
        "        :param X: [batch_size, vocab_size] of bag-of-words features\n",
        "        :param y: [batch_size] of binary targets {0, 1}\n",
        "        \"\"\"\n",
        "        # first, compute marginal probabilities of every class, p(y=k) for k = 0,1\n",
        "        vocabulary_size = X.shape[1]\n",
        "        self.p_y = np.array([(len(y) - np.sum(y)) / len(y), np.sum(y) / len(y)]) # probability of y=0 and of y=1 in that order\n",
        "\n",
        "        # count occurences of each word in texts with label 1 and label 0 separately\n",
        "        word_counts_positive = np.zeros(vocabulary_size)\n",
        "        word_counts_negative = np.zeros(vocabulary_size)\n",
        "\n",
        "        for idx, text_vector in enumerate(X):\n",
        "            if y[idx] == 1:\n",
        "                word_counts_positive += text_vector\n",
        "            else:\n",
        "                word_counts_negative += text_vector\n",
        "\n",
        "        # ^-- both must be vectors of shape [vocab_size].\n",
        "\n",
        "        # finally, lets use those counts to estimate p(x | y = k) for k = 0, 1\n",
        "        denom_positive = word_counts_positive.sum() + self.delta * vocabulary_size\n",
        "        denom_negative = word_counts_negative.sum() + self.delta * vocabulary_size\n",
        "\n",
        "        self.p_x_given_positive = (word_counts_positive + self.delta) / denom_positive\n",
        "        self.p_x_given_negative = (word_counts_negative + self.delta) / denom_negative\n",
        "        # both must be of shape [vocab_size]; and don't forget to add self.delta!\n",
        "\n",
        "        return self\n",
        "\n",
        "    def predict_scores(self, X):\n",
        "        \"\"\"\n",
        "        :param X: [batch_size, vocab_size] of bag-of-words features\n",
        "        :returns: a matrix of scores [batch_size, k] of scores for k-th class\n",
        "        \"\"\"\n",
        "        # compute scores for positive and negative classes separately.\n",
        "        # these scores should be proportional to log-probabilities of the respective target {0, 1}\n",
        "        # note: if you apply logarithm to p_x_given_*, the total log-probability can be written\n",
        "        # as a dot-product with X\n",
        "        log_p_x_given_positive = np.log(self.p_x_given_positive + 1e-9) # add a small constant to prevent log(0)\n",
        "        log_p_x_given_negative = np.log(self.p_x_given_negative + 1e-9) # add a small constant to prevent log(0)\n",
        "\n",
        "        score_negative = np.dot(X, log_p_x_given_negative) + np.log(self.p_y[0]) # compute unnormalized negative log-probability\n",
        "        score_positive = np.dot(X, log_p_x_given_positive) + np.log(self.p_y[1]) # compute unnormalized negative log-probability\n",
        "\n",
        "        # you can compute total p(x | y=k) with a dot product\n",
        "        return np.stack([score_negative, score_positive], axis=-1)\n",
        "\n",
        "    def predict(self, X):\n",
        "        return self.predict_scores(X).argmax(axis=-1)"
      ]
    },
    {
      "cell_type": "code",
      "execution_count": 92,
      "metadata": {
        "id": "J_uNodX1Ssa4"
      },
      "outputs": [],
      "source": [
        "naive_model = BinaryNaiveBayes().fit(X_train_bow, y_train)"
      ]
    },
    {
      "cell_type": "code",
      "execution_count": 93,
      "metadata": {
        "id": "JmFqyeYfSsa5"
      },
      "outputs": [],
      "source": [
        "assert naive_model.p_y.shape == (2,) and naive_model.p_y.sum() == 1 and naive_model.p_y[0] > naive_model.p_y[1]\n",
        "assert naive_model.p_x_given_positive.shape == naive_model.p_x_given_negative.shape == X_train_bow.shape[1:]\n",
        "assert np.allclose(naive_model.p_x_given_positive.sum(), 1.0)\n",
        "assert np.allclose(naive_model.p_x_given_negative.sum(), 1.0)\n",
        "assert naive_model.p_x_given_negative.min() > 0, \"did you forget to add delta?\"\n",
        "\n",
        "f_index = bow_vocabulary.index('fuck')  # offensive tweets should contain more of this\n",
        "assert naive_model.p_x_given_positive[f_index] > naive_model.p_x_given_negative[f_index]\n",
        "\n",
        "g_index = bow_vocabulary.index('good')  # offensive tweets should contain less of this\n",
        "assert naive_model.p_x_given_positive[g_index] < naive_model.p_x_given_negative[g_index]"
      ]
    },
    {
      "cell_type": "code",
      "execution_count": 94,
      "metadata": {
        "colab": {
          "base_uri": "https://localhost:8080/",
          "height": 465
        },
        "id": "UYnLM99SSsa5",
        "outputId": "4e1f08b6-cb38-44bd-a364-d9820211f605"
      },
      "outputs": [
        {
          "output_type": "stream",
          "name": "stdout",
          "text": [
            "Model accuracy: 0.756\n",
            "Well done!\n"
          ]
        },
        {
          "output_type": "display_data",
          "data": {
            "text/plain": [
              "<Figure size 640x480 with 1 Axes>"
            ],
            "image/png": "[encoded data removed]"
          },
          "metadata": {}
        }
      ],
      "source": [
        "from sklearn.metrics import roc_auc_score, roc_curve\n",
        "\n",
        "for name, X, y, model in [\n",
        "    ('train', X_train_bow, y_train, naive_model),\n",
        "    ('test ', X_test_bow, y_test, naive_model)\n",
        "]:\n",
        "    proba = model.predict_scores(X)[:, 1] - model.predict_scores(X)[:, 0]\n",
        "    auc = roc_auc_score(y, proba)\n",
        "    plt.plot(*roc_curve(y, proba)[:2], label='%s AUC=%.4f' % (name, auc))\n",
        "\n",
        "plt.plot([0, 1], [0, 1], '--', color='black',)\n",
        "plt.legend(fontsize='large')\n",
        "plt.grid()\n",
        "\n",
        "test_accuracy = np.mean(naive_model.predict(X_test_bow) == y_test)\n",
        "print(f\"Model accuracy: {test_accuracy:.3f}\")\n",
        "assert test_accuracy > 0.75, \"Accuracy too low. There's likely a mistake in the code.\"\n",
        "print(\"Well done!\")"
      ]
    },
    {
      "cell_type": "markdown",
      "metadata": {
        "id": "ZAIKkISySsa5"
      },
      "source": [
        "Okay, it definitely learned *something*. Now let's figure out what exactly it learned. The simplest way to do that is by highlighting which words have a greatest ratio of positive to negative probability or vice versa. We'll go with the positive one [because reasons](https://www.urbandictionary.com/define.php?term=because%20reasons).\n",
        "\n",
        "__Your task__ is to compute top-25 words that have the __highest__ ratio of ${p(x_i | y=1)} \\over {p(x_i | y=0)}$. Enjoy!"
      ]
    },
    {
      "cell_type": "code",
      "source": [
        "a = (naive_model.p_x_given_positive / naive_model.p_x_given_negative)\n",
        "a = np.argsort(-a)[:25]\n",
        "print(a)"
      ],
      "metadata": {
        "colab": {
          "base_uri": "https://localhost:8080/"
        },
        "id": "IBqR8-NIzVVT",
        "outputId": "25300b77-630a-45c3-a96b-e6a8be448579"
      },
      "execution_count": 15,
      "outputs": [
        {
          "output_type": "stream",
          "name": "stdout",
          "text": [
            "[ 16  17  21  13  35  36  39  71 105 115 134 130 181 208 302  12 337 333\n",
            " 341 179 372 380 408 424 471]\n"
          ]
        }
      ]
    },
    {
      "cell_type": "code",
      "execution_count": 16,
      "metadata": {
        "id": "BadeniziSsa5",
        "colab": {
          "base_uri": "https://localhost:8080/"
        },
        "outputId": "b2aa05aa-7ff9-422d-cd00-1a0022778153"
      },
      "outputs": [
        {
          "output_type": "stream",
          "name": "stdout",
          "text": [
            "#0\t    hitler\t(ratio=475.47341740332655)\n",
            "#1\t      heil\t(ratio=471.80652729481756)\n",
            "#2\t   offfuck\t(ratio=441.24910972390967)\n",
            "#3\t      suck\t(ratio=314.7414009803511)\n",
            "#4\t    nigger\t(ratio=223.68029661904563)\n",
            "#5\t j.delanoy\t(ratio=220.0134065105367)\n",
            "#6\t      dick\t(ratio=187.01139553395618)\n",
            "#7\t      fggt\t(ratio=97.78373622690519)\n",
            "#8\t     bitch\t(ratio=59.89253843897943)\n",
            "#9\t      fuck\t(ratio=53.78105492479786)\n",
            "#10\t      slap\t(ratio=44.00268130210734)\n",
            "#11\t      shit\t(ratio=44.00268130210734)\n",
            "#12\t   fucking\t(ratio=31.779714273744187)\n",
            "#13\t       ass\t(ratio=26.89052746239893)\n",
            "#14\t    stupid\t(ratio=18.334450542544726)\n",
            "#15\t         =\t(ratio=17.53995768570112)\n",
            "#16\t   college\t(ratio=17.11215383970841)\n",
            "#17\t         *\t(ratio=17.11215383970841)\n",
            "#18\t   asshole\t(ratio=15.889857136872093)\n",
            "#19\t         u\t(ratio=15.278708785453937)\n",
            "#20\t   bastard\t(ratio=14.66756043403578)\n",
            "#21\t       hit\t(ratio=14.66756043403578)\n",
            "#22\t     idiot\t(ratio=13.445263731199464)\n",
            "#23\t         @\t(ratio=13.445263731199464)\n",
            "#24\tscientific\t(ratio=12.222967028363149)\n"
          ]
        }
      ],
      "source": [
        "# hint: use naive_model.p_*\n",
        "probability_ratio = naive_model.p_x_given_positive / naive_model.p_x_given_negative #compute the ratio as defined above, must be a vector of [vocab_size]\n",
        "top_negative_indices = np.argsort(-probability_ratio)[:25]\n",
        "top_negative_words = [bow_vocabulary[i] for i in top_negative_indices]#find 25 words with highest probability_ratio, return list of str\n",
        "\n",
        "assert len(top_negative_words) == 25 and [isinstance(w, str) for w in top_negative_words]\n",
        "assert 'j.delanoy' in top_negative_words and 'college' in top_negative_words\n",
        "\n",
        "for i, word in enumerate(top_negative_words):\n",
        "    print(f\"#{i}\\t{word.rjust(10, ' ')}\\t(ratio={probability_ratio[bow_vocabulary.index(word)]})\")"
      ]
    },
    {
      "cell_type": "markdown",
      "metadata": {
        "id": "A0sgyS3cSsa5"
      },
      "source": [
        "Now lets try something less prehistoric: __Logistic Regression__. Turns out, if you're using silicon instead of an abacus, you can find model weights by optimizing the log-probability of the answer. Though, of course, you don't even need to write it by hand anymore. Let's sklearn it!"
      ]
    },
    {
      "cell_type": "code",
      "execution_count": 95,
      "metadata": {
        "id": "mS8NYmJWSsa5"
      },
      "outputs": [],
      "source": [
        "from sklearn.linear_model import LogisticRegression\n",
        "bow_model = LogisticRegression(random_state=42, C=0.2).fit(X_train_bow, y_train)"
      ]
    },
    {
      "cell_type": "code",
      "execution_count": 96,
      "metadata": {
        "id": "dJc2rw43Ssa5",
        "colab": {
          "base_uri": "https://localhost:8080/",
          "height": 465
        },
        "outputId": "3610af43-3bd1-4530-97da-b28b4cccadce"
      },
      "outputs": [
        {
          "output_type": "stream",
          "name": "stdout",
          "text": [
            "Model accuracy: 0.772\n",
            "Well done!\n"
          ]
        },
        {
          "output_type": "display_data",
          "data": {
            "text/plain": [
              "<Figure size 640x480 with 1 Axes>"
            ],
            "image/png": "[encoded data removed]"
          },
          "metadata": {}
        }
      ],
      "source": [
        "from sklearn.metrics import roc_auc_score, roc_curve\n",
        "\n",
        "for name, X, y, model in [\n",
        "    ('train', X_train_bow, y_train, bow_model),\n",
        "    ('test ', X_test_bow, y_test, bow_model)\n",
        "]:\n",
        "    proba = model.predict_proba(X)[:, 1]\n",
        "    auc = roc_auc_score(y, proba)\n",
        "    plt.plot(*roc_curve(y, proba)[:2], label='%s AUC=%.4f' % (name, auc))\n",
        "\n",
        "plt.plot([0, 1], [0, 1], '--', color='black',)\n",
        "plt.legend(fontsize='large')\n",
        "plt.grid()\n",
        "\n",
        "test_accuracy = np.mean(bow_model.predict(X_test_bow) == y_test)\n",
        "print(f\"Model accuracy: {test_accuracy:.3f}\")\n",
        "assert test_accuracy > 0.77, \"Hint: tune the parameter C to improve performance\"\n",
        "print(\"Well done!\")"
      ]
    },
    {
      "cell_type": "markdown",
      "metadata": {
        "id": "jAXOhT0LSsa6"
      },
      "source": [
        "### Task: implement TF-IDF features\n",
        "\n",
        "Not all words are equally useful. One can prioritize rare words and downscale words like \"and\"/\"or\" by using __tf-idf features__. This abbreviation stands for __text frequency/inverse document frequence__ and means exactly that:\n",
        "\n",
        "$$ feature_i = { Count(word_i \\in x) \\times { log {N \\over Count(word_i \\in D) + \\alpha} }} $$\n",
        "\n",
        "\n",
        ", where x is a single text, D is your dataset (a collection of texts), N is a total number of documents and $\\alpha$ is a smoothing hyperparameter (typically 1).\n",
        "And $Count(word_i \\in D)$ is the number of documents where $word_i$ appears.\n",
        "\n",
        "It may also be a good idea to normalize each data sample after computing tf-idf features.\n",
        "\n",
        "__Your task:__ implement tf-idf features, train a model and evaluate ROC curve. Compare it with basic BagOfWords model from above.\n",
        "\n",
        "Please don't use sklearn/nltk builtin tf-idf vectorizers in your solution :) You can still use 'em for debugging though."
      ]
    },
    {
      "cell_type": "code",
      "execution_count": null,
      "metadata": {
        "id": "4651j4jWSsa6"
      },
      "outputs": [],
      "source": [
        "# bow_vocabulary --> vocab"
      ]
    },
    {
      "cell_type": "code",
      "source": [
        "# Считаем DF (Document Frequency) # кол-во документов, содержащих искомое слово (хотя бы одно)\n",
        "word_counter_of_all_doc = Counter()\n",
        "\n",
        "for text in texts:\n",
        "    unique_words = set(text.split())\n",
        "    for word in unique_words:\n",
        "        word_counter_of_all_doc[word] += 1"
      ],
      "metadata": {
        "id": "mNKcyqCE5S2A"
      },
      "execution_count": 19,
      "outputs": []
    },
    {
      "cell_type": "code",
      "source": [
        "N = len(texts) # number of all documents #1000 here\n",
        "alpha = 1.0 #smoothing hyperparameter (typically 1)\n",
        "tf_idf_features = []\n",
        "\n",
        "for text in texts:\n",
        "    word_counter_of_a_text = Counter(text.split())\n",
        "    text_length = len(text.split())\n",
        "    tf_idf_vector = {}\n",
        "\n",
        "    for word, count_word_in_text in word_counter_of_a_text.items():\n",
        "        tf = count_word_in_text / text_length  # частота слова в тексте --> tf - term frequency\n",
        "        idf = np.log((N + alpha) / (word_counter_of_all_doc[word] + alpha))  # idf - inverse document frequency\n",
        "        tf_idf_vector[word] = tf * idf\n",
        "\n",
        "    # Нормализация\n",
        "    norm = np.linalg.norm(list(tf_idf_vector.values()))\n",
        "    for word in tf_idf_vector:\n",
        "        tf_idf_vector[word] /= norm\n",
        "\n",
        "    tf_idf_features.append(tf_idf_vector)"
      ],
      "metadata": {
        "id": "1E-QGinF5S4U"
      },
      "execution_count": 20,
      "outputs": []
    },
    {
      "cell_type": "code",
      "source": [
        "tf_idf_features[0]"
      ],
      "metadata": {
        "colab": {
          "base_uri": "https://localhost:8080/"
        },
        "id": "Dw6zUr4m5S64",
        "outputId": "e4e45209-c9d0-4f0a-cf4a-4a7432b0bc17"
      },
      "execution_count": 21,
      "outputs": [
        {
          "output_type": "execute_result",
          "data": {
            "text/plain": [
              "{'The': 0.0775575722043944,\n",
              " 'picture': 0.10451944082610046,\n",
              " 'on': 0.028082852978176004,\n",
              " 'the': 0.12541438892386514,\n",
              " 'article': 0.12188014719911838,\n",
              " 'is': 0.07514118496814932,\n",
              " 'not': 0.10090002893931069,\n",
              " 'of': 0.13926587880939229,\n",
              " 'actor': 0.21992836462587154,\n",
              " 'T.R.': 0.3529143432930174,\n",
              " 'Knight': 0.2352762288620116,\n",
              " 'who': 0.09160750960537833,\n",
              " 'subject': 0.27420230166358533,\n",
              " 'article.': 0.13276978379428686,\n",
              " 'Even': 0.09140076722119511,\n",
              " 'a': 0.058534326116160676,\n",
              " 'basic': 0.10029617122502417,\n",
              " 'Google': 0.10451944082610046,\n",
              " 'search': 0.10029617122502417,\n",
              " 'turns': 0.1176381144310058,\n",
              " 'up': 0.052342803674362184,\n",
              " 'pictures': 0.10451944082610046,\n",
              " 'about': 0.04095303839194507,\n",
              " 'which': 0.05146235444463834,\n",
              " 'this': 0.17102634206621176,\n",
              " 'written.': 0.1176381144310058,\n",
              " 'photo': 0.3298925469388073,\n",
              " 'continually': 0.10996418231293577,\n",
              " 'being': 0.05390784737709395,\n",
              " 'added': 0.06769066791050228,\n",
              " 'to': 0.02559989545173638,\n",
              " 'is,': 0.09684550870803042,\n",
              " 'again,': 0.08717749762011882,\n",
              " \"article's\": 0.09392801512031296,\n",
              " 'subject.': 0.09684550870803042,\n",
              " 'Because': 0.09684550870803042,\n",
              " 'relevant': 0.09684550870803042,\n",
              " 'article,': 0.15210580597011006,\n",
              " 'it': 0.05281656570120681,\n",
              " 'should': 0.09470827672222971,\n",
              " 'and': 0.032695068606513646,\n",
              " 'will': 0.04095303839194507,\n",
              " 'be': 0.10032866787697638,\n",
              " 'removed.': 0.10451944082610046,\n",
              " 'Before': 0.1176381144310058,\n",
              " 'my': 0.03311524165411856,\n",
              " 'edit': 0.1017946998791165,\n",
              " 'or': 0.03554948570341815,\n",
              " 'those': 0.06576430366531942,\n",
              " 'others': 0.07313540939733758,\n",
              " 'have': 0.02884851337642067,\n",
              " 'made': 0.0591362865627084,\n",
              " 'same': 0.06516342001138445,\n",
              " 'are': 0.02858983629244803,\n",
              " 'reverted,': 0.10996418231293577,\n",
              " 'please': 0.057489487893314394,\n",
              " 'provide': 0.08372683510312509,\n",
              " 'legitimate': 0.10451944082610046,\n",
              " 'reason': 0.06983555441413718,\n",
              " 'for': 0.02580739919666843,\n",
              " \"image's\": 0.1176381144310058,\n",
              " 'inclusion': 0.10029617122502417,\n",
              " 'in': 0.023123697126281123,\n",
              " 'If': 0.0435982072043265,\n",
              " 'fair-use': 0.1176381144310058,\n",
              " 'image': 0.08372683510312509,\n",
              " 'Knight,': 0.1176381144310058,\n",
              " 'can': 0.07936041248608963,\n",
              " 'found,': 0.10996418231293577,\n",
              " 'then': 0.054913016961632095,\n",
              " 'by': 0.04128508630094433,\n",
              " 'all': 0.04249539555273017,\n",
              " 'means': 0.08221192717899024,\n",
              " 'added,': 0.10451944082610046,\n",
              " 'but': 0.036178322462438676,\n",
              " 'random': 0.10451944082610046,\n",
              " 'images': 0.08917157658996036,\n",
              " 'used': 0.06576430366531942,\n",
              " 'as': 0.033779388582621556,\n",
              " 'placeholders.': 0.1176381144310058}"
            ]
          },
          "metadata": {},
          "execution_count": 21
        }
      ]
    },
    {
      "cell_type": "code",
      "source": [
        "len(tf_idf_features)"
      ],
      "metadata": {
        "colab": {
          "base_uri": "https://localhost:8080/"
        },
        "id": "5Sq84xD75S9C",
        "outputId": "af08b2c0-ddb2-4a73-ed4b-da139be62878"
      },
      "execution_count": null,
      "outputs": [
        {
          "output_type": "execute_result",
          "data": {
            "text/plain": [
              "1000"
            ]
          },
          "metadata": {},
          "execution_count": 89
        }
      ]
    },
    {
      "cell_type": "code",
      "source": [
        "tf_idf_data = pd.DataFrame(tf_idf_features)"
      ],
      "metadata": {
        "id": "4aK1HKYA5S_H"
      },
      "execution_count": 22,
      "outputs": []
    },
    {
      "cell_type": "code",
      "source": [
        "tf_idf_data.sample(3)"
      ],
      "metadata": {
        "colab": {
          "base_uri": "https://localhost:8080/",
          "height": 192
        },
        "id": "ngqsbg8eD_lv",
        "outputId": "bde12667-4719-483a-b6dd-b0890819ee89"
      },
      "execution_count": null,
      "outputs": [
        {
          "output_type": "execute_result",
          "data": {
            "text/plain": [
              "     The  picture  on       the   article        is  not        of  actor  \\\n",
              "668  NaN      NaN NaN  0.081045  0.087512       NaN  NaN  0.074997    NaN   \n",
              "491  NaN      NaN NaN       NaN       NaN  0.083082  NaN       NaN    NaN   \n",
              "709  NaN      NaN NaN       NaN       NaN       NaN  NaN       NaN    NaN   \n",
              "\n",
              "     T.R.  ...  modem  sexless  ugly  desperate  life..  great..  have..  \\\n",
              "668   NaN  ...    NaN      NaN   NaN        NaN     NaN      NaN     NaN   \n",
              "491   NaN  ...    NaN      NaN   NaN        NaN     NaN      NaN     NaN   \n",
              "709   NaN  ...    NaN      NaN   NaN        NaN     NaN      NaN     NaN   \n",
              "\n",
              "     are)  pizza  cheers.  \n",
              "668   NaN    NaN      NaN  \n",
              "491   NaN    NaN      NaN  \n",
              "709   NaN    NaN      NaN  \n",
              "\n",
              "[3 rows x 12849 columns]"
            ],
            "text/html": [
              "\n",
              "  <div id=\"df-ddb70def-b1d6-4c43-a4a6-af3a90dc56f0\" class=\"colab-df-container\">\n",
              "    <div>\n",
              "<style scoped>\n",
              "    .dataframe tbody tr th:only-of-type {\n",
              "        vertical-align: middle;\n",
              "    }\n",
              "\n",
              "    .dataframe tbody tr th {\n",
              "        vertical-align: top;\n",
              "    }\n",
              "\n",
              "    .dataframe thead th {\n",
              "        text-align: right;\n",
              "    }\n",
              "</style>\n",
              "<table border=\"1\" class=\"dataframe\">\n",
              "  <thead>\n",
              "    <tr style=\"text-align: right;\">\n",
              "      <th></th>\n",
              "      <th>The</th>\n",
              "      <th>picture</th>\n",
              "      <th>on</th>\n",
              "      <th>the</th>\n",
              "      <th>article</th>\n",
              "      <th>is</th>\n",
              "      <th>not</th>\n",
              "      <th>of</th>\n",
              "      <th>actor</th>\n",
              "      <th>T.R.</th>\n",
              "      <th>...</th>\n",
              "      <th>modem</th>\n",
              "      <th>sexless</th>\n",
              "      <th>ugly</th>\n",
              "      <th>desperate</th>\n",
              "      <th>life..</th>\n",
              "      <th>great..</th>\n",
              "      <th>have..</th>\n",
              "      <th>are)</th>\n",
              "      <th>pizza</th>\n",
              "      <th>cheers.</th>\n",
              "    </tr>\n",
              "  </thead>\n",
              "  <tbody>\n",
              "    <tr>\n",
              "      <th>668</th>\n",
              "      <td>NaN</td>\n",
              "      <td>NaN</td>\n",
              "      <td>NaN</td>\n",
              "      <td>0.081045</td>\n",
              "      <td>0.087512</td>\n",
              "      <td>NaN</td>\n",
              "      <td>NaN</td>\n",
              "      <td>0.074997</td>\n",
              "      <td>NaN</td>\n",
              "      <td>NaN</td>\n",
              "      <td>...</td>\n",
              "      <td>NaN</td>\n",
              "      <td>NaN</td>\n",
              "      <td>NaN</td>\n",
              "      <td>NaN</td>\n",
              "      <td>NaN</td>\n",
              "      <td>NaN</td>\n",
              "      <td>NaN</td>\n",
              "      <td>NaN</td>\n",
              "      <td>NaN</td>\n",
              "      <td>NaN</td>\n",
              "    </tr>\n",
              "    <tr>\n",
              "      <th>491</th>\n",
              "      <td>NaN</td>\n",
              "      <td>NaN</td>\n",
              "      <td>NaN</td>\n",
              "      <td>NaN</td>\n",
              "      <td>NaN</td>\n",
              "      <td>0.083082</td>\n",
              "      <td>NaN</td>\n",
              "      <td>NaN</td>\n",
              "      <td>NaN</td>\n",
              "      <td>NaN</td>\n",
              "      <td>...</td>\n",
              "      <td>NaN</td>\n",
              "      <td>NaN</td>\n",
              "      <td>NaN</td>\n",
              "      <td>NaN</td>\n",
              "      <td>NaN</td>\n",
              "      <td>NaN</td>\n",
              "      <td>NaN</td>\n",
              "      <td>NaN</td>\n",
              "      <td>NaN</td>\n",
              "      <td>NaN</td>\n",
              "    </tr>\n",
              "    <tr>\n",
              "      <th>709</th>\n",
              "      <td>NaN</td>\n",
              "      <td>NaN</td>\n",
              "      <td>NaN</td>\n",
              "      <td>NaN</td>\n",
              "      <td>NaN</td>\n",
              "      <td>NaN</td>\n",
              "      <td>NaN</td>\n",
              "      <td>NaN</td>\n",
              "      <td>NaN</td>\n",
              "      <td>NaN</td>\n",
              "      <td>...</td>\n",
              "      <td>NaN</td>\n",
              "      <td>NaN</td>\n",
              "      <td>NaN</td>\n",
              "      <td>NaN</td>\n",
              "      <td>NaN</td>\n",
              "      <td>NaN</td>\n",
              "      <td>NaN</td>\n",
              "      <td>NaN</td>\n",
              "      <td>NaN</td>\n",
              "      <td>NaN</td>\n",
              "    </tr>\n",
              "  </tbody>\n",
              "</table>\n",
              "<p>3 rows × 12849 columns</p>\n",
              "</div>\n",
              "    <div class=\"colab-df-buttons\">\n",
              "\n",
              "  <div class=\"colab-df-container\">\n",
              "    <button class=\"colab-df-convert\" onclick=\"convertToInteractive('df-ddb70def-b1d6-4c43-a4a6-af3a90dc56f0')\"\n",
              "            title=\"Convert this dataframe to an interactive table.\"\n",
              "            style=\"display:none;\">\n",
              "\n",
              "  <svg xmlns=\"http://www.w3.org/2000/svg\" height=\"24px\" viewBox=\"0 -960 960 960\">\n",
              "    <path d=\"M120-120v-720h720v720H120Zm60-500h600v-160H180v160Zm220 220h160v-160H400v160Zm0 220h160v-160H400v160ZM180-400h160v-160H180v160Zm440 0h160v-160H620v160ZM180-180h160v-160H180v160Zm440 0h160v-160H620v160Z\"/>\n",
              "  </svg>\n",
              "    </button>\n",
              "\n",
              "  <style>\n",
              "    .colab-df-container {\n",
              "      display:flex;\n",
              "      gap: 12px;\n",
              "    }\n",
              "\n",
              "    .colab-df-convert {\n",
              "      background-color: #E8F0FE;\n",
              "      border: none;\n",
              "      border-radius: 50%;\n",
              "      cursor: pointer;\n",
              "      display: none;\n",
              "      fill: #1967D2;\n",
              "      height: 32px;\n",
              "      padding: 0 0 0 0;\n",
              "      width: 32px;\n",
              "    }\n",
              "\n",
              "    .colab-df-convert:hover {\n",
              "      background-color: #E2EBFA;\n",
              "      box-shadow: 0px 1px 2px rgba(60, 64, 67, 0.3), 0px 1px 3px 1px rgba(60, 64, 67, 0.15);\n",
              "      fill: #174EA6;\n",
              "    }\n",
              "\n",
              "    .colab-df-buttons div {\n",
              "      margin-bottom: 4px;\n",
              "    }\n",
              "\n",
              "    [theme=dark] .colab-df-convert {\n",
              "      background-color: #3B4455;\n",
              "      fill: #D2E3FC;\n",
              "    }\n",
              "\n",
              "    [theme=dark] .colab-df-convert:hover {\n",
              "      background-color: #434B5C;\n",
              "      box-shadow: 0px 1px 3px 1px rgba(0, 0, 0, 0.15);\n",
              "      filter: drop-shadow(0px 1px 2px rgba(0, 0, 0, 0.3));\n",
              "      fill: #FFFFFF;\n",
              "    }\n",
              "  </style>\n",
              "\n",
              "    <script>\n",
              "      const buttonEl =\n",
              "        document.querySelector('#df-ddb70def-b1d6-4c43-a4a6-af3a90dc56f0 button.colab-df-convert');\n",
              "      buttonEl.style.display =\n",
              "        google.colab.kernel.accessAllowed ? 'block' : 'none';\n",
              "\n",
              "      async function convertToInteractive(key) {\n",
              "        const element = document.querySelector('#df-ddb70def-b1d6-4c43-a4a6-af3a90dc56f0');\n",
              "        const dataTable =\n",
              "          await google.colab.kernel.invokeFunction('convertToInteractive',\n",
              "                                                    [key], {});\n",
              "        if (!dataTable) return;\n",
              "\n",
              "        const docLinkHtml = 'Like what you see? Visit the ' +\n",
              "          '<a target=\"_blank\" href=https://colab.research.google.com/notebooks/data_table.ipynb>data table notebook</a>'\n",
              "          + ' to learn more about interactive tables.';\n",
              "        element.innerHTML = '';\n",
              "        dataTable['output_type'] = 'display_data';\n",
              "        await google.colab.output.renderOutput(dataTable, element);\n",
              "        const docLink = document.createElement('div');\n",
              "        docLink.innerHTML = docLinkHtml;\n",
              "        element.appendChild(docLink);\n",
              "      }\n",
              "    </script>\n",
              "  </div>\n",
              "\n",
              "\n",
              "<div id=\"df-488812ab-d821-45be-9d40-c73c717cf311\">\n",
              "  <button class=\"colab-df-quickchart\" onclick=\"quickchart('df-488812ab-d821-45be-9d40-c73c717cf311')\"\n",
              "            title=\"Suggest charts\"\n",
              "            style=\"display:none;\">\n",
              "\n",
              "<svg xmlns=\"http://www.w3.org/2000/svg\" height=\"24px\"viewBox=\"0 0 24 24\"\n",
              "     width=\"24px\">\n",
              "    <g>\n",
              "        <path d=\"M19 3H5c-1.1 0-2 .9-2 2v14c0 1.1.9 2 2 2h14c1.1 0 2-.9 2-2V5c0-1.1-.9-2-2-2zM9 17H7v-7h2v7zm4 0h-2V7h2v10zm4 0h-2v-4h2v4z\"/>\n",
              "    </g>\n",
              "</svg>\n",
              "  </button>\n",
              "\n",
              "<style>\n",
              "  .colab-df-quickchart {\n",
              "      --bg-color: #E8F0FE;\n",
              "      --fill-color: #1967D2;\n",
              "      --hover-bg-color: #E2EBFA;\n",
              "      --hover-fill-color: #174EA6;\n",
              "      --disabled-fill-color: #AAA;\n",
              "      --disabled-bg-color: #DDD;\n",
              "  }\n",
              "\n",
              "  [theme=dark] .colab-df-quickchart {\n",
              "      --bg-color: #3B4455;\n",
              "      --fill-color: #D2E3FC;\n",
              "      --hover-bg-color: #434B5C;\n",
              "      --hover-fill-color: #FFFFFF;\n",
              "      --disabled-bg-color: #3B4455;\n",
              "      --disabled-fill-color: #666;\n",
              "  }\n",
              "\n",
              "  .colab-df-quickchart {\n",
              "    background-color: var(--bg-color);\n",
              "    border: none;\n",
              "    border-radius: 50%;\n",
              "    cursor: pointer;\n",
              "    display: none;\n",
              "    fill: var(--fill-color);\n",
              "    height: 32px;\n",
              "    padding: 0;\n",
              "    width: 32px;\n",
              "  }\n",
              "\n",
              "  .colab-df-quickchart:hover {\n",
              "    background-color: var(--hover-bg-color);\n",
              "    box-shadow: 0 1px 2px rgba(60, 64, 67, 0.3), 0 1px 3px 1px rgba(60, 64, 67, 0.15);\n",
              "    fill: var(--button-hover-fill-color);\n",
              "  }\n",
              "\n",
              "  .colab-df-quickchart-complete:disabled,\n",
              "  .colab-df-quickchart-complete:disabled:hover {\n",
              "    background-color: var(--disabled-bg-color);\n",
              "    fill: var(--disabled-fill-color);\n",
              "    box-shadow: none;\n",
              "  }\n",
              "\n",
              "  .colab-df-spinner {\n",
              "    border: 2px solid var(--fill-color);\n",
              "    border-color: transparent;\n",
              "    border-bottom-color: var(--fill-color);\n",
              "    animation:\n",
              "      spin 1s steps(1) infinite;\n",
              "  }\n",
              "\n",
              "  @keyframes spin {\n",
              "    0% {\n",
              "      border-color: transparent;\n",
              "      border-bottom-color: var(--fill-color);\n",
              "      border-left-color: var(--fill-color);\n",
              "    }\n",
              "    20% {\n",
              "      border-color: transparent;\n",
              "      border-left-color: var(--fill-color);\n",
              "      border-top-color: var(--fill-color);\n",
              "    }\n",
              "    30% {\n",
              "      border-color: transparent;\n",
              "      border-left-color: var(--fill-color);\n",
              "      border-top-color: var(--fill-color);\n",
              "      border-right-color: var(--fill-color);\n",
              "    }\n",
              "    40% {\n",
              "      border-color: transparent;\n",
              "      border-right-color: var(--fill-color);\n",
              "      border-top-color: var(--fill-color);\n",
              "    }\n",
              "    60% {\n",
              "      border-color: transparent;\n",
              "      border-right-color: var(--fill-color);\n",
              "    }\n",
              "    80% {\n",
              "      border-color: transparent;\n",
              "      border-right-color: var(--fill-color);\n",
              "      border-bottom-color: var(--fill-color);\n",
              "    }\n",
              "    90% {\n",
              "      border-color: transparent;\n",
              "      border-bottom-color: var(--fill-color);\n",
              "    }\n",
              "  }\n",
              "</style>\n",
              "\n",
              "  <script>\n",
              "    async function quickchart(key) {\n",
              "      const quickchartButtonEl =\n",
              "        document.querySelector('#' + key + ' button');\n",
              "      quickchartButtonEl.disabled = true;  // To prevent multiple clicks.\n",
              "      quickchartButtonEl.classList.add('colab-df-spinner');\n",
              "      try {\n",
              "        const charts = await google.colab.kernel.invokeFunction(\n",
              "            'suggestCharts', [key], {});\n",
              "      } catch (error) {\n",
              "        console.error('Error during call to suggestCharts:', error);\n",
              "      }\n",
              "      quickchartButtonEl.classList.remove('colab-df-spinner');\n",
              "      quickchartButtonEl.classList.add('colab-df-quickchart-complete');\n",
              "    }\n",
              "    (() => {\n",
              "      let quickchartButtonEl =\n",
              "        document.querySelector('#df-488812ab-d821-45be-9d40-c73c717cf311 button');\n",
              "      quickchartButtonEl.style.display =\n",
              "        google.colab.kernel.accessAllowed ? 'block' : 'none';\n",
              "    })();\n",
              "  </script>\n",
              "</div>\n",
              "    </div>\n",
              "  </div>\n"
            ]
          },
          "metadata": {},
          "execution_count": 91
        }
      ]
    },
    {
      "cell_type": "code",
      "source": [
        "tf_idf_data = tf_idf_data.fillna(0) # 0 - отсутствие слова в тексте"
      ],
      "metadata": {
        "id": "NMvyU6PuD_rW"
      },
      "execution_count": 23,
      "outputs": []
    },
    {
      "cell_type": "code",
      "source": [
        "target = data['should_ban'].values"
      ],
      "metadata": {
        "id": "MDFr31niFOup"
      },
      "execution_count": 24,
      "outputs": []
    },
    {
      "cell_type": "code",
      "source": [
        "tf_idf_data.shape, target.shape"
      ],
      "metadata": {
        "colab": {
          "base_uri": "https://localhost:8080/"
        },
        "id": "Zpz9UT1WFX9c",
        "outputId": "997b47df-e713-41e6-b4d4-c90e94d94b66"
      },
      "execution_count": null,
      "outputs": [
        {
          "output_type": "execute_result",
          "data": {
            "text/plain": [
              "((1000, 12849), (1000,))"
            ]
          },
          "metadata": {},
          "execution_count": 94
        }
      ]
    },
    {
      "cell_type": "code",
      "source": [
        "x_cat_train, x_cat_test, y_cat_train, y_cat_test = train_test_split(tf_idf_data, target, test_size=0.2, random_state=42)"
      ],
      "metadata": {
        "id": "dNhKCs-xD_tm"
      },
      "execution_count": 25,
      "outputs": []
    },
    {
      "cell_type": "code",
      "source": [
        "!pip install catboost"
      ],
      "metadata": {
        "id": "u2x58jt0F_0R"
      },
      "execution_count": null,
      "outputs": []
    },
    {
      "cell_type": "code",
      "source": [
        "from catboost import CatBoostClassifier"
      ],
      "metadata": {
        "id": "oC6LLX6iEJPV"
      },
      "execution_count": null,
      "outputs": []
    },
    {
      "cell_type": "code",
      "source": [
        "clf = CatBoostClassifier(random_seed=42)\n",
        "clf.fit(x_cat_train, y_cat_train, eval_set=(x_cat_test, y_cat_test), use_best_model=True)"
      ],
      "metadata": {
        "colab": {
          "base_uri": "https://localhost:8080/"
        },
        "id": "EPFSQgvnEJSJ",
        "outputId": "18614feb-2441-4beb-f34f-df980ad1cbe6"
      },
      "execution_count": null,
      "outputs": [
        {
          "output_type": "stream",
          "name": "stdout",
          "text": [
            "Learning rate set to 0.02999\n",
            "0:\tlearn: 0.6892798\ttest: 0.6894625\tbest: 0.6894625 (0)\ttotal: 141ms\tremaining: 2m 20s\n",
            "1:\tlearn: 0.6854178\ttest: 0.6864337\tbest: 0.6864337 (1)\ttotal: 206ms\tremaining: 1m 42s\n",
            "2:\tlearn: 0.6829410\ttest: 0.6848668\tbest: 0.6848668 (2)\ttotal: 238ms\tremaining: 1m 18s\n",
            "3:\tlearn: 0.6786802\ttest: 0.6819219\tbest: 0.6819219 (3)\ttotal: 298ms\tremaining: 1m 14s\n",
            "4:\tlearn: 0.6731754\ttest: 0.6782244\tbest: 0.6782244 (4)\ttotal: 358ms\tremaining: 1m 11s\n",
            "5:\tlearn: 0.6677988\ttest: 0.6731642\tbest: 0.6731642 (5)\ttotal: 434ms\tremaining: 1m 11s\n",
            "6:\tlearn: 0.6634764\ttest: 0.6698858\tbest: 0.6698858 (6)\ttotal: 497ms\tremaining: 1m 10s\n",
            "7:\tlearn: 0.6587466\ttest: 0.6649211\tbest: 0.6649211 (7)\ttotal: 574ms\tremaining: 1m 11s\n",
            "8:\tlearn: 0.6548497\ttest: 0.6626600\tbest: 0.6626600 (8)\ttotal: 636ms\tremaining: 1m 10s\n",
            "9:\tlearn: 0.6517282\ttest: 0.6603580\tbest: 0.6603580 (9)\ttotal: 702ms\tremaining: 1m 9s\n",
            "10:\tlearn: 0.6477052\ttest: 0.6564965\tbest: 0.6564965 (10)\ttotal: 764ms\tremaining: 1m 8s\n",
            "11:\tlearn: 0.6421510\ttest: 0.6525023\tbest: 0.6525023 (11)\ttotal: 828ms\tremaining: 1m 8s\n",
            "12:\tlearn: 0.6403276\ttest: 0.6515845\tbest: 0.6515845 (12)\ttotal: 897ms\tremaining: 1m 8s\n",
            "13:\tlearn: 0.6369218\ttest: 0.6489425\tbest: 0.6489425 (13)\ttotal: 961ms\tremaining: 1m 7s\n",
            "14:\tlearn: 0.6328539\ttest: 0.6447642\tbest: 0.6447642 (14)\ttotal: 1.03s\tremaining: 1m 7s\n",
            "15:\tlearn: 0.6301619\ttest: 0.6418400\tbest: 0.6418400 (15)\ttotal: 1.09s\tremaining: 1m 7s\n",
            "16:\tlearn: 0.6272292\ttest: 0.6395233\tbest: 0.6395233 (16)\ttotal: 1.16s\tremaining: 1m 6s\n",
            "17:\tlearn: 0.6247698\ttest: 0.6375973\tbest: 0.6375973 (17)\ttotal: 1.22s\tremaining: 1m 6s\n",
            "18:\tlearn: 0.6220444\ttest: 0.6357801\tbest: 0.6357801 (18)\ttotal: 1.28s\tremaining: 1m 6s\n",
            "19:\tlearn: 0.6207296\ttest: 0.6349419\tbest: 0.6349419 (19)\ttotal: 1.35s\tremaining: 1m 6s\n",
            "20:\tlearn: 0.6182471\ttest: 0.6332306\tbest: 0.6332306 (20)\ttotal: 1.42s\tremaining: 1m 6s\n",
            "21:\tlearn: 0.6150580\ttest: 0.6294742\tbest: 0.6294742 (21)\ttotal: 1.49s\tremaining: 1m 6s\n",
            "22:\tlearn: 0.6125050\ttest: 0.6268230\tbest: 0.6268230 (22)\ttotal: 1.54s\tremaining: 1m 5s\n",
            "23:\tlearn: 0.6104498\ttest: 0.6243308\tbest: 0.6243308 (23)\ttotal: 1.62s\tremaining: 1m 5s\n",
            "24:\tlearn: 0.6070470\ttest: 0.6214469\tbest: 0.6214469 (24)\ttotal: 1.69s\tremaining: 1m 5s\n",
            "25:\tlearn: 0.6036812\ttest: 0.6182215\tbest: 0.6182215 (25)\ttotal: 1.75s\tremaining: 1m 5s\n",
            "26:\tlearn: 0.6009588\ttest: 0.6166625\tbest: 0.6166625 (26)\ttotal: 1.81s\tremaining: 1m 5s\n",
            "27:\tlearn: 0.5979237\ttest: 0.6146062\tbest: 0.6146062 (27)\ttotal: 1.88s\tremaining: 1m 5s\n",
            "28:\tlearn: 0.5948396\ttest: 0.6121381\tbest: 0.6121381 (28)\ttotal: 1.94s\tremaining: 1m 5s\n",
            "29:\tlearn: 0.5932541\ttest: 0.6106372\tbest: 0.6106372 (29)\ttotal: 2s\tremaining: 1m 4s\n",
            "30:\tlearn: 0.5910835\ttest: 0.6094218\tbest: 0.6094218 (30)\ttotal: 2.06s\tremaining: 1m 4s\n",
            "31:\tlearn: 0.5882940\ttest: 0.6072369\tbest: 0.6072369 (31)\ttotal: 2.13s\tremaining: 1m 4s\n",
            "32:\tlearn: 0.5857866\ttest: 0.6054299\tbest: 0.6054299 (32)\ttotal: 2.21s\tremaining: 1m 4s\n",
            "33:\tlearn: 0.5845652\ttest: 0.6048975\tbest: 0.6048975 (33)\ttotal: 2.27s\tremaining: 1m 4s\n",
            "34:\tlearn: 0.5822946\ttest: 0.6033129\tbest: 0.6033129 (34)\ttotal: 2.33s\tremaining: 1m 4s\n",
            "35:\tlearn: 0.5798179\ttest: 0.6017844\tbest: 0.6017844 (35)\ttotal: 2.39s\tremaining: 1m 3s\n",
            "36:\tlearn: 0.5773095\ttest: 0.5999481\tbest: 0.5999481 (36)\ttotal: 2.46s\tremaining: 1m 3s\n",
            "37:\tlearn: 0.5753768\ttest: 0.5979469\tbest: 0.5979469 (37)\ttotal: 2.52s\tremaining: 1m 3s\n",
            "38:\tlearn: 0.5732135\ttest: 0.5961103\tbest: 0.5961103 (38)\ttotal: 2.59s\tremaining: 1m 3s\n",
            "39:\tlearn: 0.5714808\ttest: 0.5941479\tbest: 0.5941479 (39)\ttotal: 2.66s\tremaining: 1m 3s\n",
            "40:\tlearn: 0.5701396\ttest: 0.5930287\tbest: 0.5930287 (40)\ttotal: 2.73s\tremaining: 1m 3s\n",
            "41:\tlearn: 0.5676160\ttest: 0.5913301\tbest: 0.5913301 (41)\ttotal: 2.79s\tremaining: 1m 3s\n",
            "42:\tlearn: 0.5660797\ttest: 0.5901231\tbest: 0.5901231 (42)\ttotal: 2.85s\tremaining: 1m 3s\n",
            "43:\tlearn: 0.5643459\ttest: 0.5878973\tbest: 0.5878973 (43)\ttotal: 2.92s\tremaining: 1m 3s\n",
            "44:\tlearn: 0.5630514\ttest: 0.5872390\tbest: 0.5872390 (44)\ttotal: 2.98s\tremaining: 1m 3s\n",
            "45:\tlearn: 0.5604731\ttest: 0.5861981\tbest: 0.5861981 (45)\ttotal: 3.05s\tremaining: 1m 3s\n",
            "46:\tlearn: 0.5591447\ttest: 0.5854214\tbest: 0.5854214 (46)\ttotal: 3.11s\tremaining: 1m 3s\n",
            "47:\tlearn: 0.5568123\ttest: 0.5843837\tbest: 0.5843837 (47)\ttotal: 3.18s\tremaining: 1m 3s\n",
            "48:\tlearn: 0.5548671\ttest: 0.5832756\tbest: 0.5832756 (48)\ttotal: 3.25s\tremaining: 1m 3s\n",
            "49:\tlearn: 0.5540415\ttest: 0.5824778\tbest: 0.5824778 (49)\ttotal: 3.35s\tremaining: 1m 3s\n",
            "50:\tlearn: 0.5524580\ttest: 0.5810841\tbest: 0.5810841 (50)\ttotal: 3.46s\tremaining: 1m 4s\n",
            "51:\tlearn: 0.5502794\ttest: 0.5795778\tbest: 0.5795778 (51)\ttotal: 3.56s\tremaining: 1m 4s\n",
            "52:\tlearn: 0.5487258\ttest: 0.5778111\tbest: 0.5778111 (52)\ttotal: 3.67s\tremaining: 1m 5s\n",
            "53:\tlearn: 0.5470214\ttest: 0.5762454\tbest: 0.5762454 (53)\ttotal: 3.78s\tremaining: 1m 6s\n",
            "54:\tlearn: 0.5456799\ttest: 0.5743974\tbest: 0.5743974 (54)\ttotal: 3.88s\tremaining: 1m 6s\n",
            "55:\tlearn: 0.5441621\ttest: 0.5729498\tbest: 0.5729498 (55)\ttotal: 4s\tremaining: 1m 7s\n",
            "56:\tlearn: 0.5407846\ttest: 0.5705804\tbest: 0.5705804 (56)\ttotal: 4.11s\tremaining: 1m 7s\n",
            "57:\tlearn: 0.5391185\ttest: 0.5686874\tbest: 0.5686874 (57)\ttotal: 4.22s\tremaining: 1m 8s\n",
            "58:\tlearn: 0.5376835\ttest: 0.5681995\tbest: 0.5681995 (58)\ttotal: 4.33s\tremaining: 1m 9s\n",
            "59:\tlearn: 0.5355766\ttest: 0.5679429\tbest: 0.5679429 (59)\ttotal: 4.42s\tremaining: 1m 9s\n",
            "60:\tlearn: 0.5340288\ttest: 0.5670461\tbest: 0.5670461 (60)\ttotal: 4.53s\tremaining: 1m 9s\n",
            "61:\tlearn: 0.5327904\ttest: 0.5666154\tbest: 0.5666154 (61)\ttotal: 4.64s\tremaining: 1m 10s\n",
            "62:\tlearn: 0.5308737\ttest: 0.5649131\tbest: 0.5649131 (62)\ttotal: 4.74s\tremaining: 1m 10s\n",
            "63:\tlearn: 0.5292949\ttest: 0.5647993\tbest: 0.5647993 (63)\ttotal: 4.85s\tremaining: 1m 10s\n",
            "64:\tlearn: 0.5284071\ttest: 0.5643261\tbest: 0.5643261 (64)\ttotal: 4.97s\tremaining: 1m 11s\n",
            "65:\tlearn: 0.5274822\ttest: 0.5634189\tbest: 0.5634189 (65)\ttotal: 5.07s\tremaining: 1m 11s\n",
            "66:\tlearn: 0.5265620\ttest: 0.5623149\tbest: 0.5623149 (66)\ttotal: 5.18s\tremaining: 1m 12s\n",
            "67:\tlearn: 0.5248443\ttest: 0.5608103\tbest: 0.5608103 (67)\ttotal: 5.28s\tremaining: 1m 12s\n",
            "68:\tlearn: 0.5230003\ttest: 0.5598887\tbest: 0.5598887 (68)\ttotal: 5.39s\tremaining: 1m 12s\n",
            "69:\tlearn: 0.5207671\ttest: 0.5573248\tbest: 0.5573248 (69)\ttotal: 5.51s\tremaining: 1m 13s\n",
            "70:\tlearn: 0.5192031\ttest: 0.5562931\tbest: 0.5562931 (70)\ttotal: 5.61s\tremaining: 1m 13s\n",
            "71:\tlearn: 0.5182688\ttest: 0.5550535\tbest: 0.5550535 (71)\ttotal: 5.73s\tremaining: 1m 13s\n",
            "72:\tlearn: 0.5169617\ttest: 0.5544439\tbest: 0.5544439 (72)\ttotal: 5.85s\tremaining: 1m 14s\n",
            "73:\tlearn: 0.5152193\ttest: 0.5529363\tbest: 0.5529363 (73)\ttotal: 5.97s\tremaining: 1m 14s\n",
            "74:\tlearn: 0.5143877\ttest: 0.5523022\tbest: 0.5523022 (74)\ttotal: 6.04s\tremaining: 1m 14s\n",
            "75:\tlearn: 0.5132438\ttest: 0.5517060\tbest: 0.5517060 (75)\ttotal: 6.11s\tremaining: 1m 14s\n",
            "76:\tlearn: 0.5118497\ttest: 0.5509942\tbest: 0.5509942 (76)\ttotal: 6.17s\tremaining: 1m 13s\n",
            "77:\tlearn: 0.5100780\ttest: 0.5506497\tbest: 0.5506497 (77)\ttotal: 6.23s\tremaining: 1m 13s\n",
            "78:\tlearn: 0.5088160\ttest: 0.5492396\tbest: 0.5492396 (78)\ttotal: 6.29s\tremaining: 1m 13s\n",
            "79:\tlearn: 0.5074710\ttest: 0.5478973\tbest: 0.5478973 (79)\ttotal: 6.35s\tremaining: 1m 13s\n",
            "80:\tlearn: 0.5062605\ttest: 0.5472747\tbest: 0.5472747 (80)\ttotal: 6.42s\tremaining: 1m 12s\n",
            "81:\tlearn: 0.5046958\ttest: 0.5463328\tbest: 0.5463328 (81)\ttotal: 6.49s\tremaining: 1m 12s\n",
            "82:\tlearn: 0.5029078\ttest: 0.5458008\tbest: 0.5458008 (82)\ttotal: 6.55s\tremaining: 1m 12s\n",
            "83:\tlearn: 0.5018159\ttest: 0.5454894\tbest: 0.5454894 (83)\ttotal: 6.62s\tremaining: 1m 12s\n",
            "84:\tlearn: 0.5006400\ttest: 0.5445213\tbest: 0.5445213 (84)\ttotal: 6.67s\tremaining: 1m 11s\n",
            "85:\tlearn: 0.4990200\ttest: 0.5433907\tbest: 0.5433907 (85)\ttotal: 6.75s\tremaining: 1m 11s\n",
            "86:\tlearn: 0.4979494\ttest: 0.5434615\tbest: 0.5433907 (85)\ttotal: 6.82s\tremaining: 1m 11s\n",
            "87:\tlearn: 0.4960476\ttest: 0.5429726\tbest: 0.5429726 (87)\ttotal: 6.88s\tremaining: 1m 11s\n",
            "88:\tlearn: 0.4946735\ttest: 0.5417445\tbest: 0.5417445 (88)\ttotal: 6.95s\tremaining: 1m 11s\n",
            "89:\tlearn: 0.4935813\ttest: 0.5410097\tbest: 0.5410097 (89)\ttotal: 7.01s\tremaining: 1m 10s\n",
            "90:\tlearn: 0.4920252\ttest: 0.5403084\tbest: 0.5403084 (90)\ttotal: 7.07s\tremaining: 1m 10s\n",
            "91:\tlearn: 0.4900969\ttest: 0.5395613\tbest: 0.5395613 (91)\ttotal: 7.14s\tremaining: 1m 10s\n",
            "92:\tlearn: 0.4890432\ttest: 0.5386249\tbest: 0.5386249 (92)\ttotal: 7.2s\tremaining: 1m 10s\n",
            "93:\tlearn: 0.4879012\ttest: 0.5377345\tbest: 0.5377345 (93)\ttotal: 7.27s\tremaining: 1m 10s\n",
            "94:\tlearn: 0.4866185\ttest: 0.5372063\tbest: 0.5372063 (94)\ttotal: 7.33s\tremaining: 1m 9s\n",
            "95:\tlearn: 0.4856844\ttest: 0.5365463\tbest: 0.5365463 (95)\ttotal: 7.39s\tremaining: 1m 9s\n",
            "96:\tlearn: 0.4847673\ttest: 0.5356690\tbest: 0.5356690 (96)\ttotal: 7.45s\tremaining: 1m 9s\n",
            "97:\tlearn: 0.4835695\ttest: 0.5347101\tbest: 0.5347101 (97)\ttotal: 7.52s\tremaining: 1m 9s\n",
            "98:\tlearn: 0.4831738\ttest: 0.5347548\tbest: 0.5347101 (97)\ttotal: 7.58s\tremaining: 1m 9s\n",
            "99:\tlearn: 0.4823695\ttest: 0.5343133\tbest: 0.5343133 (99)\ttotal: 7.65s\tremaining: 1m 8s\n",
            "100:\tlearn: 0.4814386\ttest: 0.5344683\tbest: 0.5343133 (99)\ttotal: 7.71s\tremaining: 1m 8s\n",
            "101:\tlearn: 0.4805975\ttest: 0.5342675\tbest: 0.5342675 (101)\ttotal: 7.77s\tremaining: 1m 8s\n",
            "102:\tlearn: 0.4797016\ttest: 0.5338150\tbest: 0.5338150 (102)\ttotal: 7.85s\tremaining: 1m 8s\n",
            "103:\tlearn: 0.4784566\ttest: 0.5340671\tbest: 0.5338150 (102)\ttotal: 7.91s\tremaining: 1m 8s\n",
            "104:\tlearn: 0.4777890\ttest: 0.5338722\tbest: 0.5338150 (102)\ttotal: 7.97s\tremaining: 1m 7s\n",
            "105:\tlearn: 0.4768865\ttest: 0.5332600\tbest: 0.5332600 (105)\ttotal: 8.04s\tremaining: 1m 7s\n",
            "106:\tlearn: 0.4756318\ttest: 0.5320408\tbest: 0.5320408 (106)\ttotal: 8.1s\tremaining: 1m 7s\n",
            "107:\tlearn: 0.4749855\ttest: 0.5316708\tbest: 0.5316708 (107)\ttotal: 8.16s\tremaining: 1m 7s\n",
            "108:\tlearn: 0.4738735\ttest: 0.5314515\tbest: 0.5314515 (108)\ttotal: 8.22s\tremaining: 1m 7s\n",
            "109:\tlearn: 0.4732661\ttest: 0.5313366\tbest: 0.5313366 (109)\ttotal: 8.29s\tremaining: 1m 7s\n",
            "110:\tlearn: 0.4723386\ttest: 0.5304070\tbest: 0.5304070 (110)\ttotal: 8.35s\tremaining: 1m 6s\n",
            "111:\tlearn: 0.4713548\ttest: 0.5299856\tbest: 0.5299856 (111)\ttotal: 8.41s\tremaining: 1m 6s\n",
            "112:\tlearn: 0.4702801\ttest: 0.5288473\tbest: 0.5288473 (112)\ttotal: 8.48s\tremaining: 1m 6s\n",
            "113:\tlearn: 0.4693918\ttest: 0.5284498\tbest: 0.5284498 (113)\ttotal: 8.54s\tremaining: 1m 6s\n",
            "114:\tlearn: 0.4681516\ttest: 0.5280124\tbest: 0.5280124 (114)\ttotal: 8.61s\tremaining: 1m 6s\n",
            "115:\tlearn: 0.4667767\ttest: 0.5269541\tbest: 0.5269541 (115)\ttotal: 8.67s\tremaining: 1m 6s\n",
            "116:\tlearn: 0.4659209\ttest: 0.5265155\tbest: 0.5265155 (116)\ttotal: 8.73s\tremaining: 1m 5s\n",
            "117:\tlearn: 0.4650372\ttest: 0.5269364\tbest: 0.5265155 (116)\ttotal: 8.8s\tremaining: 1m 5s\n",
            "118:\tlearn: 0.4637311\ttest: 0.5258245\tbest: 0.5258245 (118)\ttotal: 8.87s\tremaining: 1m 5s\n",
            "119:\tlearn: 0.4625452\ttest: 0.5255236\tbest: 0.5255236 (119)\ttotal: 8.94s\tremaining: 1m 5s\n",
            "120:\tlearn: 0.4618778\ttest: 0.5254413\tbest: 0.5254413 (120)\ttotal: 8.99s\tremaining: 1m 5s\n",
            "121:\tlearn: 0.4606168\ttest: 0.5244441\tbest: 0.5244441 (121)\ttotal: 9.07s\tremaining: 1m 5s\n",
            "122:\tlearn: 0.4594138\ttest: 0.5239964\tbest: 0.5239964 (122)\ttotal: 9.13s\tremaining: 1m 5s\n",
            "123:\tlearn: 0.4584931\ttest: 0.5236831\tbest: 0.5236831 (123)\ttotal: 9.19s\tremaining: 1m 4s\n",
            "124:\tlearn: 0.4575606\ttest: 0.5235640\tbest: 0.5235640 (124)\ttotal: 9.25s\tremaining: 1m 4s\n",
            "125:\tlearn: 0.4562557\ttest: 0.5226854\tbest: 0.5226854 (125)\ttotal: 9.32s\tremaining: 1m 4s\n",
            "126:\tlearn: 0.4550993\ttest: 0.5222727\tbest: 0.5222727 (126)\ttotal: 9.38s\tremaining: 1m 4s\n",
            "127:\tlearn: 0.4540074\ttest: 0.5214443\tbest: 0.5214443 (127)\ttotal: 9.44s\tremaining: 1m 4s\n",
            "128:\tlearn: 0.4536876\ttest: 0.5210558\tbest: 0.5210558 (128)\ttotal: 9.5s\tremaining: 1m 4s\n",
            "129:\tlearn: 0.4531913\ttest: 0.5208324\tbest: 0.5208324 (129)\ttotal: 9.57s\tremaining: 1m 4s\n",
            "130:\tlearn: 0.4524479\ttest: 0.5196864\tbest: 0.5196864 (130)\ttotal: 9.63s\tremaining: 1m 3s\n",
            "131:\tlearn: 0.4519270\ttest: 0.5197642\tbest: 0.5196864 (130)\ttotal: 9.7s\tremaining: 1m 3s\n",
            "132:\tlearn: 0.4515717\ttest: 0.5198734\tbest: 0.5196864 (130)\ttotal: 9.76s\tremaining: 1m 3s\n",
            "133:\tlearn: 0.4511287\ttest: 0.5197896\tbest: 0.5196864 (130)\ttotal: 9.82s\tremaining: 1m 3s\n",
            "134:\tlearn: 0.4503403\ttest: 0.5193323\tbest: 0.5193323 (134)\ttotal: 9.9s\tremaining: 1m 3s\n",
            "135:\tlearn: 0.4497100\ttest: 0.5190414\tbest: 0.5190414 (135)\ttotal: 9.96s\tremaining: 1m 3s\n",
            "136:\tlearn: 0.4490608\ttest: 0.5190189\tbest: 0.5190189 (136)\ttotal: 10s\tremaining: 1m 3s\n",
            "137:\tlearn: 0.4484181\ttest: 0.5192120\tbest: 0.5190189 (136)\ttotal: 10.1s\tremaining: 1m 3s\n",
            "138:\tlearn: 0.4476387\ttest: 0.5190722\tbest: 0.5190189 (136)\ttotal: 10.2s\tremaining: 1m 2s\n",
            "139:\tlearn: 0.4468729\ttest: 0.5188155\tbest: 0.5188155 (139)\ttotal: 10.2s\tremaining: 1m 2s\n",
            "140:\tlearn: 0.4462051\ttest: 0.5188399\tbest: 0.5188155 (139)\ttotal: 10.3s\tremaining: 1m 2s\n",
            "141:\tlearn: 0.4456846\ttest: 0.5184205\tbest: 0.5184205 (141)\ttotal: 10.3s\tremaining: 1m 2s\n",
            "142:\tlearn: 0.4449637\ttest: 0.5180762\tbest: 0.5180762 (142)\ttotal: 10.4s\tremaining: 1m 2s\n",
            "143:\tlearn: 0.4441256\ttest: 0.5178278\tbest: 0.5178278 (143)\ttotal: 10.5s\tremaining: 1m 2s\n",
            "144:\tlearn: 0.4436079\ttest: 0.5174873\tbest: 0.5174873 (144)\ttotal: 10.5s\tremaining: 1m 2s\n",
            "145:\tlearn: 0.4426274\ttest: 0.5167672\tbest: 0.5167672 (145)\ttotal: 10.6s\tremaining: 1m 2s\n",
            "146:\tlearn: 0.4416909\ttest: 0.5168863\tbest: 0.5167672 (145)\ttotal: 10.7s\tremaining: 1m 1s\n",
            "147:\tlearn: 0.4411758\ttest: 0.5171187\tbest: 0.5167672 (145)\ttotal: 10.7s\tremaining: 1m 1s\n",
            "148:\tlearn: 0.4402934\ttest: 0.5165519\tbest: 0.5165519 (148)\ttotal: 10.8s\tremaining: 1m 1s\n",
            "149:\tlearn: 0.4389613\ttest: 0.5149429\tbest: 0.5149429 (149)\ttotal: 10.9s\tremaining: 1m 1s\n",
            "150:\tlearn: 0.4384513\ttest: 0.5145923\tbest: 0.5145923 (150)\ttotal: 10.9s\tremaining: 1m 1s\n",
            "151:\tlearn: 0.4370953\ttest: 0.5135772\tbest: 0.5135772 (151)\ttotal: 11s\tremaining: 1m 1s\n",
            "152:\tlearn: 0.4366654\ttest: 0.5133175\tbest: 0.5133175 (152)\ttotal: 11.1s\tremaining: 1m 1s\n",
            "153:\tlearn: 0.4359541\ttest: 0.5132945\tbest: 0.5132945 (153)\ttotal: 11.1s\tremaining: 1m 1s\n",
            "154:\tlearn: 0.4352681\ttest: 0.5133192\tbest: 0.5132945 (153)\ttotal: 11.2s\tremaining: 1m 1s\n",
            "155:\tlearn: 0.4345223\ttest: 0.5133122\tbest: 0.5132945 (153)\ttotal: 11.3s\tremaining: 1m\n",
            "156:\tlearn: 0.4333101\ttest: 0.5135063\tbest: 0.5132945 (153)\ttotal: 11.3s\tremaining: 1m\n",
            "157:\tlearn: 0.4326138\ttest: 0.5130311\tbest: 0.5130311 (157)\ttotal: 11.4s\tremaining: 1m\n",
            "158:\tlearn: 0.4320237\ttest: 0.5128094\tbest: 0.5128094 (158)\ttotal: 11.5s\tremaining: 1m\n",
            "159:\tlearn: 0.4312283\ttest: 0.5126996\tbest: 0.5126996 (159)\ttotal: 11.5s\tremaining: 1m\n",
            "160:\tlearn: 0.4306937\ttest: 0.5123602\tbest: 0.5123602 (160)\ttotal: 11.6s\tremaining: 1m\n",
            "161:\tlearn: 0.4296990\ttest: 0.5118248\tbest: 0.5118248 (161)\ttotal: 11.7s\tremaining: 1m\n",
            "162:\tlearn: 0.4288413\ttest: 0.5111853\tbest: 0.5111853 (162)\ttotal: 11.7s\tremaining: 1m\n",
            "163:\tlearn: 0.4278569\ttest: 0.5108386\tbest: 0.5108386 (163)\ttotal: 11.8s\tremaining: 1m\n",
            "164:\tlearn: 0.4271958\ttest: 0.5108328\tbest: 0.5108328 (164)\ttotal: 11.9s\tremaining: 60s\n",
            "165:\tlearn: 0.4263187\ttest: 0.5106513\tbest: 0.5106513 (165)\ttotal: 11.9s\tremaining: 59.9s\n",
            "166:\tlearn: 0.4257724\ttest: 0.5103714\tbest: 0.5103714 (166)\ttotal: 12s\tremaining: 59.9s\n",
            "167:\tlearn: 0.4251425\ttest: 0.5102500\tbest: 0.5102500 (167)\ttotal: 12.1s\tremaining: 59.7s\n",
            "168:\tlearn: 0.4248937\ttest: 0.5102930\tbest: 0.5102500 (167)\ttotal: 12.1s\tremaining: 59.6s\n",
            "169:\tlearn: 0.4244024\ttest: 0.5103814\tbest: 0.5102500 (167)\ttotal: 12.2s\tremaining: 59.5s\n",
            "170:\tlearn: 0.4236801\ttest: 0.5101392\tbest: 0.5101392 (170)\ttotal: 12.3s\tremaining: 59.4s\n",
            "171:\tlearn: 0.4227928\ttest: 0.5099193\tbest: 0.5099193 (171)\ttotal: 12.3s\tremaining: 59.3s\n",
            "172:\tlearn: 0.4220851\ttest: 0.5096461\tbest: 0.5096461 (172)\ttotal: 12.4s\tremaining: 59.2s\n",
            "173:\tlearn: 0.4211252\ttest: 0.5100790\tbest: 0.5096461 (172)\ttotal: 12.5s\tremaining: 59.1s\n",
            "174:\tlearn: 0.4201194\ttest: 0.5096387\tbest: 0.5096387 (174)\ttotal: 12.5s\tremaining: 59.1s\n",
            "175:\tlearn: 0.4183513\ttest: 0.5088274\tbest: 0.5088274 (175)\ttotal: 12.6s\tremaining: 58.9s\n",
            "176:\tlearn: 0.4176027\ttest: 0.5085758\tbest: 0.5085758 (176)\ttotal: 12.7s\tremaining: 58.8s\n",
            "177:\tlearn: 0.4171135\ttest: 0.5085721\tbest: 0.5085721 (177)\ttotal: 12.7s\tremaining: 58.7s\n",
            "178:\tlearn: 0.4164431\ttest: 0.5085885\tbest: 0.5085721 (177)\ttotal: 12.8s\tremaining: 58.6s\n",
            "179:\tlearn: 0.4157660\ttest: 0.5088832\tbest: 0.5085721 (177)\ttotal: 12.9s\tremaining: 58.5s\n",
            "180:\tlearn: 0.4150801\ttest: 0.5082465\tbest: 0.5082465 (180)\ttotal: 12.9s\tremaining: 58.4s\n",
            "181:\tlearn: 0.4140373\ttest: 0.5079300\tbest: 0.5079300 (181)\ttotal: 13s\tremaining: 58.4s\n",
            "182:\tlearn: 0.4130059\ttest: 0.5077499\tbest: 0.5077499 (182)\ttotal: 13.1s\tremaining: 58.3s\n",
            "183:\tlearn: 0.4122725\ttest: 0.5079534\tbest: 0.5077499 (182)\ttotal: 13.1s\tremaining: 58.2s\n",
            "184:\tlearn: 0.4118453\ttest: 0.5076221\tbest: 0.5076221 (184)\ttotal: 13.2s\tremaining: 58.1s\n",
            "185:\tlearn: 0.4110851\ttest: 0.5068661\tbest: 0.5068661 (185)\ttotal: 13.2s\tremaining: 58s\n",
            "186:\tlearn: 0.4100879\ttest: 0.5066301\tbest: 0.5066301 (186)\ttotal: 13.3s\tremaining: 57.9s\n",
            "187:\tlearn: 0.4094122\ttest: 0.5061967\tbest: 0.5061967 (187)\ttotal: 13.4s\tremaining: 57.8s\n",
            "188:\tlearn: 0.4090768\ttest: 0.5061359\tbest: 0.5061359 (188)\ttotal: 13.4s\tremaining: 57.6s\n",
            "189:\tlearn: 0.4084143\ttest: 0.5057454\tbest: 0.5057454 (189)\ttotal: 13.5s\tremaining: 57.6s\n",
            "190:\tlearn: 0.4076707\ttest: 0.5056508\tbest: 0.5056508 (190)\ttotal: 13.6s\tremaining: 57.5s\n",
            "191:\tlearn: 0.4069216\ttest: 0.5053901\tbest: 0.5053901 (191)\ttotal: 13.6s\tremaining: 57.4s\n",
            "192:\tlearn: 0.4062014\ttest: 0.5056192\tbest: 0.5053901 (191)\ttotal: 13.7s\tremaining: 57.3s\n",
            "193:\tlearn: 0.4055024\ttest: 0.5052651\tbest: 0.5052651 (193)\ttotal: 13.8s\tremaining: 57.2s\n",
            "194:\tlearn: 0.4047272\ttest: 0.5048941\tbest: 0.5048941 (194)\ttotal: 13.8s\tremaining: 57.1s\n",
            "195:\tlearn: 0.4037468\ttest: 0.5042347\tbest: 0.5042347 (195)\ttotal: 13.9s\tremaining: 57s\n",
            "196:\tlearn: 0.4032911\ttest: 0.5042352\tbest: 0.5042347 (195)\ttotal: 14s\tremaining: 57s\n",
            "197:\tlearn: 0.4023944\ttest: 0.5043796\tbest: 0.5042347 (195)\ttotal: 14s\tremaining: 56.9s\n",
            "198:\tlearn: 0.4018432\ttest: 0.5045356\tbest: 0.5042347 (195)\ttotal: 14.1s\tremaining: 56.8s\n",
            "199:\tlearn: 0.4003945\ttest: 0.5041264\tbest: 0.5041264 (199)\ttotal: 14.2s\tremaining: 56.7s\n",
            "200:\tlearn: 0.3996015\ttest: 0.5039799\tbest: 0.5039799 (200)\ttotal: 14.2s\tremaining: 56.5s\n",
            "201:\tlearn: 0.3989230\ttest: 0.5041515\tbest: 0.5039799 (200)\ttotal: 14.3s\tremaining: 56.5s\n",
            "202:\tlearn: 0.3984276\ttest: 0.5041096\tbest: 0.5039799 (200)\ttotal: 14.3s\tremaining: 56.3s\n",
            "203:\tlearn: 0.3976272\ttest: 0.5041248\tbest: 0.5039799 (200)\ttotal: 14.4s\tremaining: 56.2s\n",
            "204:\tlearn: 0.3970429\ttest: 0.5037541\tbest: 0.5037541 (204)\ttotal: 14.5s\tremaining: 56.1s\n",
            "205:\tlearn: 0.3963919\ttest: 0.5037504\tbest: 0.5037504 (205)\ttotal: 14.5s\tremaining: 56.1s\n",
            "206:\tlearn: 0.3959341\ttest: 0.5033164\tbest: 0.5033164 (206)\ttotal: 14.6s\tremaining: 56s\n",
            "207:\tlearn: 0.3950858\ttest: 0.5033225\tbest: 0.5033164 (206)\ttotal: 14.7s\tremaining: 55.9s\n",
            "208:\tlearn: 0.3947109\ttest: 0.5031700\tbest: 0.5031700 (208)\ttotal: 14.7s\tremaining: 55.8s\n",
            "209:\tlearn: 0.3939556\ttest: 0.5040958\tbest: 0.5031700 (208)\ttotal: 14.8s\tremaining: 55.7s\n",
            "210:\tlearn: 0.3934878\ttest: 0.5040429\tbest: 0.5031700 (208)\ttotal: 14.9s\tremaining: 55.6s\n",
            "211:\tlearn: 0.3930048\ttest: 0.5040828\tbest: 0.5031700 (208)\ttotal: 14.9s\tremaining: 55.5s\n",
            "212:\tlearn: 0.3921026\ttest: 0.5038563\tbest: 0.5031700 (208)\ttotal: 15s\tremaining: 55.4s\n",
            "213:\tlearn: 0.3914360\ttest: 0.5036767\tbest: 0.5031700 (208)\ttotal: 15.1s\tremaining: 55.3s\n",
            "214:\tlearn: 0.3905089\ttest: 0.5031292\tbest: 0.5031292 (214)\ttotal: 15.1s\tremaining: 55.2s\n",
            "215:\tlearn: 0.3895341\ttest: 0.5024267\tbest: 0.5024267 (215)\ttotal: 15.2s\tremaining: 55.1s\n",
            "216:\tlearn: 0.3887045\ttest: 0.5022473\tbest: 0.5022473 (216)\ttotal: 15.3s\tremaining: 55.1s\n",
            "217:\tlearn: 0.3875452\ttest: 0.5016762\tbest: 0.5016762 (217)\ttotal: 15.3s\tremaining: 55s\n",
            "218:\tlearn: 0.3868191\ttest: 0.5012992\tbest: 0.5012992 (218)\ttotal: 15.4s\tremaining: 54.9s\n",
            "219:\tlearn: 0.3861504\ttest: 0.5012351\tbest: 0.5012351 (219)\ttotal: 15.4s\tremaining: 54.8s\n",
            "220:\tlearn: 0.3856512\ttest: 0.5012979\tbest: 0.5012351 (219)\ttotal: 15.5s\tremaining: 54.7s\n",
            "221:\tlearn: 0.3846152\ttest: 0.5017520\tbest: 0.5012351 (219)\ttotal: 15.6s\tremaining: 54.6s\n",
            "222:\tlearn: 0.3835811\ttest: 0.5007877\tbest: 0.5007877 (222)\ttotal: 15.6s\tremaining: 54.5s\n",
            "223:\tlearn: 0.3828760\ttest: 0.5003540\tbest: 0.5003540 (223)\ttotal: 15.7s\tremaining: 54.4s\n",
            "224:\tlearn: 0.3820293\ttest: 0.4998665\tbest: 0.4998665 (224)\ttotal: 15.8s\tremaining: 54.3s\n",
            "225:\tlearn: 0.3812787\ttest: 0.5000482\tbest: 0.4998665 (224)\ttotal: 15.8s\tremaining: 54.2s\n",
            "226:\tlearn: 0.3806278\ttest: 0.5004158\tbest: 0.4998665 (224)\ttotal: 15.9s\tremaining: 54.1s\n",
            "227:\tlearn: 0.3800727\ttest: 0.5001595\tbest: 0.4998665 (224)\ttotal: 16s\tremaining: 54.1s\n",
            "228:\tlearn: 0.3792406\ttest: 0.4998847\tbest: 0.4998665 (224)\ttotal: 16.1s\tremaining: 54.2s\n",
            "229:\tlearn: 0.3781047\ttest: 0.4995308\tbest: 0.4995308 (229)\ttotal: 16.2s\tremaining: 54.2s\n",
            "230:\tlearn: 0.3776733\ttest: 0.4995856\tbest: 0.4995308 (229)\ttotal: 16.3s\tremaining: 54.2s\n",
            "231:\tlearn: 0.3764874\ttest: 0.4988756\tbest: 0.4988756 (231)\ttotal: 16.4s\tremaining: 54.3s\n",
            "232:\tlearn: 0.3758472\ttest: 0.4986680\tbest: 0.4986680 (232)\ttotal: 16.5s\tremaining: 54.3s\n",
            "233:\tlearn: 0.3752674\ttest: 0.4983888\tbest: 0.4983888 (233)\ttotal: 16.6s\tremaining: 54.4s\n",
            "234:\tlearn: 0.3744907\ttest: 0.4980998\tbest: 0.4980998 (234)\ttotal: 16.7s\tremaining: 54.5s\n",
            "235:\tlearn: 0.3738552\ttest: 0.4979908\tbest: 0.4979908 (235)\ttotal: 16.8s\tremaining: 54.5s\n",
            "236:\tlearn: 0.3731891\ttest: 0.4974501\tbest: 0.4974501 (236)\ttotal: 17s\tremaining: 54.6s\n",
            "237:\tlearn: 0.3726300\ttest: 0.4972815\tbest: 0.4972815 (237)\ttotal: 17.1s\tremaining: 54.6s\n",
            "238:\tlearn: 0.3720481\ttest: 0.4970235\tbest: 0.4970235 (238)\ttotal: 17.2s\tremaining: 54.7s\n",
            "239:\tlearn: 0.3714043\ttest: 0.4971803\tbest: 0.4970235 (238)\ttotal: 17.3s\tremaining: 54.7s\n",
            "240:\tlearn: 0.3706133\ttest: 0.4973296\tbest: 0.4970235 (238)\ttotal: 17.4s\tremaining: 54.8s\n",
            "241:\tlearn: 0.3697691\ttest: 0.4973923\tbest: 0.4970235 (238)\ttotal: 17.5s\tremaining: 54.8s\n",
            "242:\tlearn: 0.3688992\ttest: 0.4975223\tbest: 0.4970235 (238)\ttotal: 17.6s\tremaining: 54.9s\n",
            "243:\tlearn: 0.3679446\ttest: 0.4965960\tbest: 0.4965960 (243)\ttotal: 17.7s\tremaining: 54.9s\n",
            "244:\tlearn: 0.3669143\ttest: 0.4958660\tbest: 0.4958660 (244)\ttotal: 17.8s\tremaining: 54.8s\n",
            "245:\tlearn: 0.3662799\ttest: 0.4956598\tbest: 0.4956598 (245)\ttotal: 17.9s\tremaining: 54.9s\n",
            "246:\tlearn: 0.3656529\ttest: 0.4959944\tbest: 0.4956598 (245)\ttotal: 18s\tremaining: 54.9s\n",
            "247:\tlearn: 0.3651376\ttest: 0.4959377\tbest: 0.4956598 (245)\ttotal: 18.1s\tremaining: 54.9s\n",
            "248:\tlearn: 0.3646944\ttest: 0.4950295\tbest: 0.4950295 (248)\ttotal: 18.2s\tremaining: 55s\n",
            "249:\tlearn: 0.3638236\ttest: 0.4948256\tbest: 0.4948256 (249)\ttotal: 18.3s\tremaining: 55s\n",
            "250:\tlearn: 0.3630735\ttest: 0.4950519\tbest: 0.4948256 (249)\ttotal: 18.4s\tremaining: 55s\n",
            "251:\tlearn: 0.3620148\ttest: 0.4944021\tbest: 0.4944021 (251)\ttotal: 18.6s\tremaining: 55.1s\n",
            "252:\tlearn: 0.3613282\ttest: 0.4942498\tbest: 0.4942498 (252)\ttotal: 18.7s\tremaining: 55.1s\n",
            "253:\tlearn: 0.3608598\ttest: 0.4944268\tbest: 0.4942498 (252)\ttotal: 18.7s\tremaining: 55s\n",
            "254:\tlearn: 0.3596151\ttest: 0.4935239\tbest: 0.4935239 (254)\ttotal: 18.8s\tremaining: 55s\n",
            "255:\tlearn: 0.3588139\ttest: 0.4939236\tbest: 0.4935239 (254)\ttotal: 18.9s\tremaining: 54.8s\n",
            "256:\tlearn: 0.3578235\ttest: 0.4944496\tbest: 0.4935239 (254)\ttotal: 18.9s\tremaining: 54.7s\n",
            "257:\tlearn: 0.3569054\ttest: 0.4943914\tbest: 0.4935239 (254)\ttotal: 19s\tremaining: 54.6s\n",
            "258:\tlearn: 0.3557497\ttest: 0.4938816\tbest: 0.4935239 (254)\ttotal: 19.1s\tremaining: 54.5s\n",
            "259:\tlearn: 0.3552472\ttest: 0.4940590\tbest: 0.4935239 (254)\ttotal: 19.1s\tremaining: 54.4s\n",
            "260:\tlearn: 0.3540405\ttest: 0.4935796\tbest: 0.4935239 (254)\ttotal: 19.2s\tremaining: 54.4s\n",
            "261:\tlearn: 0.3533695\ttest: 0.4937953\tbest: 0.4935239 (254)\ttotal: 19.3s\tremaining: 54.3s\n",
            "262:\tlearn: 0.3525858\ttest: 0.4943435\tbest: 0.4935239 (254)\ttotal: 19.3s\tremaining: 54.2s\n",
            "263:\tlearn: 0.3521033\ttest: 0.4945311\tbest: 0.4935239 (254)\ttotal: 19.4s\tremaining: 54.1s\n",
            "264:\tlearn: 0.3511902\ttest: 0.4936068\tbest: 0.4935239 (254)\ttotal: 19.5s\tremaining: 54s\n",
            "265:\tlearn: 0.3500115\ttest: 0.4926205\tbest: 0.4926205 (265)\ttotal: 19.5s\tremaining: 53.9s\n",
            "266:\tlearn: 0.3489940\ttest: 0.4923552\tbest: 0.4923552 (266)\ttotal: 19.6s\tremaining: 53.8s\n",
            "267:\tlearn: 0.3484083\ttest: 0.4920357\tbest: 0.4920357 (267)\ttotal: 19.7s\tremaining: 53.7s\n",
            "268:\tlearn: 0.3477398\ttest: 0.4912253\tbest: 0.4912253 (268)\ttotal: 19.7s\tremaining: 53.6s\n",
            "269:\tlearn: 0.3467786\ttest: 0.4909374\tbest: 0.4909374 (269)\ttotal: 19.8s\tremaining: 53.5s\n",
            "270:\tlearn: 0.3460990\ttest: 0.4909827\tbest: 0.4909374 (269)\ttotal: 19.9s\tremaining: 53.4s\n",
            "271:\tlearn: 0.3453752\ttest: 0.4910377\tbest: 0.4909374 (269)\ttotal: 19.9s\tremaining: 53.3s\n",
            "272:\tlearn: 0.3439088\ttest: 0.4900122\tbest: 0.4900122 (272)\ttotal: 20s\tremaining: 53.2s\n",
            "273:\tlearn: 0.3428452\ttest: 0.4900096\tbest: 0.4900096 (273)\ttotal: 20.1s\tremaining: 53.2s\n",
            "274:\tlearn: 0.3417591\ttest: 0.4895232\tbest: 0.4895232 (274)\ttotal: 20.1s\tremaining: 53.1s\n",
            "275:\tlearn: 0.3412429\ttest: 0.4891079\tbest: 0.4891079 (275)\ttotal: 20.2s\tremaining: 53s\n",
            "276:\tlearn: 0.3406361\ttest: 0.4889483\tbest: 0.4889483 (276)\ttotal: 20.3s\tremaining: 52.9s\n",
            "277:\tlearn: 0.3396149\ttest: 0.4883385\tbest: 0.4883385 (277)\ttotal: 20.3s\tremaining: 52.8s\n",
            "278:\tlearn: 0.3386311\ttest: 0.4880623\tbest: 0.4880623 (278)\ttotal: 20.4s\tremaining: 52.7s\n",
            "279:\tlearn: 0.3379814\ttest: 0.4878791\tbest: 0.4878791 (279)\ttotal: 20.5s\tremaining: 52.6s\n",
            "280:\tlearn: 0.3370773\ttest: 0.4880234\tbest: 0.4878791 (279)\ttotal: 20.5s\tremaining: 52.6s\n",
            "281:\tlearn: 0.3357196\ttest: 0.4875186\tbest: 0.4875186 (281)\ttotal: 20.6s\tremaining: 52.4s\n",
            "282:\tlearn: 0.3351017\ttest: 0.4877186\tbest: 0.4875186 (281)\ttotal: 20.7s\tremaining: 52.4s\n",
            "283:\tlearn: 0.3337267\ttest: 0.4876578\tbest: 0.4875186 (281)\ttotal: 20.7s\tremaining: 52.3s\n",
            "284:\tlearn: 0.3332338\ttest: 0.4876108\tbest: 0.4875186 (281)\ttotal: 20.8s\tremaining: 52.2s\n",
            "285:\tlearn: 0.3324826\ttest: 0.4873761\tbest: 0.4873761 (285)\ttotal: 20.9s\tremaining: 52.1s\n",
            "286:\tlearn: 0.3316427\ttest: 0.4876307\tbest: 0.4873761 (285)\ttotal: 20.9s\tremaining: 52s\n",
            "287:\tlearn: 0.3306779\ttest: 0.4867650\tbest: 0.4867650 (287)\ttotal: 21s\tremaining: 51.9s\n",
            "288:\tlearn: 0.3302224\ttest: 0.4865667\tbest: 0.4865667 (288)\ttotal: 21s\tremaining: 51.8s\n",
            "289:\tlearn: 0.3293544\ttest: 0.4860798\tbest: 0.4860798 (289)\ttotal: 21.1s\tremaining: 51.7s\n",
            "290:\tlearn: 0.3286931\ttest: 0.4865442\tbest: 0.4860798 (289)\ttotal: 21.2s\tremaining: 51.6s\n",
            "291:\tlearn: 0.3282397\ttest: 0.4861973\tbest: 0.4860798 (289)\ttotal: 21.2s\tremaining: 51.5s\n",
            "292:\tlearn: 0.3272424\ttest: 0.4860592\tbest: 0.4860592 (292)\ttotal: 21.3s\tremaining: 51.5s\n",
            "293:\tlearn: 0.3266985\ttest: 0.4866380\tbest: 0.4860592 (292)\ttotal: 21.4s\tremaining: 51.4s\n",
            "294:\tlearn: 0.3259342\ttest: 0.4857612\tbest: 0.4857612 (294)\ttotal: 21.4s\tremaining: 51.3s\n",
            "295:\tlearn: 0.3248333\ttest: 0.4852499\tbest: 0.4852499 (295)\ttotal: 21.5s\tremaining: 51.1s\n",
            "296:\tlearn: 0.3244325\ttest: 0.4847449\tbest: 0.4847449 (296)\ttotal: 21.6s\tremaining: 51.1s\n",
            "297:\tlearn: 0.3230477\ttest: 0.4847173\tbest: 0.4847173 (297)\ttotal: 21.6s\tremaining: 51s\n",
            "298:\tlearn: 0.3217516\ttest: 0.4848824\tbest: 0.4847173 (297)\ttotal: 21.7s\tremaining: 50.9s\n",
            "299:\tlearn: 0.3212576\ttest: 0.4844166\tbest: 0.4844166 (299)\ttotal: 21.8s\tremaining: 50.8s\n",
            "300:\tlearn: 0.3202865\ttest: 0.4846578\tbest: 0.4844166 (299)\ttotal: 21.8s\tremaining: 50.7s\n",
            "301:\tlearn: 0.3199487\ttest: 0.4842350\tbest: 0.4842350 (301)\ttotal: 21.9s\tremaining: 50.6s\n",
            "302:\tlearn: 0.3191511\ttest: 0.4840103\tbest: 0.4840103 (302)\ttotal: 21.9s\tremaining: 50.5s\n",
            "303:\tlearn: 0.3182685\ttest: 0.4841394\tbest: 0.4840103 (302)\ttotal: 22s\tremaining: 50.4s\n",
            "304:\tlearn: 0.3173006\ttest: 0.4837412\tbest: 0.4837412 (304)\ttotal: 22.1s\tremaining: 50.3s\n",
            "305:\tlearn: 0.3166625\ttest: 0.4836566\tbest: 0.4836566 (305)\ttotal: 22.1s\tremaining: 50.2s\n",
            "306:\tlearn: 0.3153694\ttest: 0.4831315\tbest: 0.4831315 (306)\ttotal: 22.2s\tremaining: 50.1s\n",
            "307:\tlearn: 0.3145126\ttest: 0.4826236\tbest: 0.4826236 (307)\ttotal: 22.3s\tremaining: 50s\n",
            "308:\tlearn: 0.3138368\ttest: 0.4824668\tbest: 0.4824668 (308)\ttotal: 22.4s\tremaining: 50s\n",
            "309:\tlearn: 0.3136136\ttest: 0.4824510\tbest: 0.4824510 (309)\ttotal: 22.4s\tremaining: 49.9s\n",
            "310:\tlearn: 0.3129130\ttest: 0.4825934\tbest: 0.4824510 (309)\ttotal: 22.5s\tremaining: 49.8s\n",
            "311:\tlearn: 0.3120029\ttest: 0.4822711\tbest: 0.4822711 (311)\ttotal: 22.5s\tremaining: 49.7s\n",
            "312:\tlearn: 0.3116089\ttest: 0.4822256\tbest: 0.4822256 (312)\ttotal: 22.6s\tremaining: 49.6s\n",
            "313:\tlearn: 0.3108609\ttest: 0.4811722\tbest: 0.4811722 (313)\ttotal: 22.7s\tremaining: 49.5s\n",
            "314:\tlearn: 0.3098182\ttest: 0.4810117\tbest: 0.4810117 (314)\ttotal: 22.7s\tremaining: 49.5s\n",
            "315:\tlearn: 0.3090469\ttest: 0.4809638\tbest: 0.4809638 (315)\ttotal: 22.8s\tremaining: 49.4s\n",
            "316:\tlearn: 0.3079589\ttest: 0.4807487\tbest: 0.4807487 (316)\ttotal: 22.9s\tremaining: 49.3s\n",
            "317:\tlearn: 0.3073493\ttest: 0.4811962\tbest: 0.4807487 (316)\ttotal: 22.9s\tremaining: 49.2s\n",
            "318:\tlearn: 0.3068754\ttest: 0.4816305\tbest: 0.4807487 (316)\ttotal: 23s\tremaining: 49.1s\n",
            "319:\tlearn: 0.3056113\ttest: 0.4810228\tbest: 0.4807487 (316)\ttotal: 23.1s\tremaining: 49s\n",
            "320:\tlearn: 0.3052444\ttest: 0.4807592\tbest: 0.4807487 (316)\ttotal: 23.1s\tremaining: 48.9s\n",
            "321:\tlearn: 0.3050330\ttest: 0.4807301\tbest: 0.4807301 (321)\ttotal: 23.2s\tremaining: 48.8s\n",
            "322:\tlearn: 0.3041637\ttest: 0.4800298\tbest: 0.4800298 (322)\ttotal: 23.3s\tremaining: 48.8s\n",
            "323:\tlearn: 0.3030784\ttest: 0.4791397\tbest: 0.4791397 (323)\ttotal: 23.3s\tremaining: 48.7s\n",
            "324:\tlearn: 0.3023303\ttest: 0.4791687\tbest: 0.4791397 (323)\ttotal: 23.4s\tremaining: 48.6s\n",
            "325:\tlearn: 0.3015102\ttest: 0.4787995\tbest: 0.4787995 (325)\ttotal: 23.5s\tremaining: 48.5s\n",
            "326:\tlearn: 0.3012329\ttest: 0.4787274\tbest: 0.4787274 (326)\ttotal: 23.5s\tremaining: 48.4s\n",
            "327:\tlearn: 0.3009344\ttest: 0.4784407\tbest: 0.4784407 (327)\ttotal: 23.6s\tremaining: 48.4s\n",
            "328:\tlearn: 0.3005345\ttest: 0.4779371\tbest: 0.4779371 (328)\ttotal: 23.7s\tremaining: 48.3s\n",
            "329:\tlearn: 0.2996643\ttest: 0.4779606\tbest: 0.4779371 (328)\ttotal: 23.7s\tremaining: 48.2s\n",
            "330:\tlearn: 0.2987880\ttest: 0.4775167\tbest: 0.4775167 (330)\ttotal: 23.8s\tremaining: 48.1s\n",
            "331:\tlearn: 0.2981587\ttest: 0.4768538\tbest: 0.4768538 (331)\ttotal: 23.9s\tremaining: 48s\n",
            "332:\tlearn: 0.2979596\ttest: 0.4768311\tbest: 0.4768311 (332)\ttotal: 23.9s\tremaining: 47.9s\n",
            "333:\tlearn: 0.2975755\ttest: 0.4767439\tbest: 0.4767439 (333)\ttotal: 24s\tremaining: 47.8s\n",
            "334:\tlearn: 0.2968523\ttest: 0.4777452\tbest: 0.4767439 (333)\ttotal: 24.1s\tremaining: 47.8s\n",
            "335:\tlearn: 0.2961760\ttest: 0.4774753\tbest: 0.4767439 (333)\ttotal: 24.1s\tremaining: 47.7s\n",
            "336:\tlearn: 0.2953651\ttest: 0.4772976\tbest: 0.4767439 (333)\ttotal: 24.2s\tremaining: 47.6s\n",
            "337:\tlearn: 0.2950415\ttest: 0.4772457\tbest: 0.4767439 (333)\ttotal: 24.2s\tremaining: 47.5s\n",
            "338:\tlearn: 0.2942457\ttest: 0.4768099\tbest: 0.4767439 (333)\ttotal: 24.3s\tremaining: 47.4s\n",
            "339:\tlearn: 0.2932418\ttest: 0.4766922\tbest: 0.4766922 (339)\ttotal: 24.4s\tremaining: 47.4s\n",
            "340:\tlearn: 0.2923823\ttest: 0.4761917\tbest: 0.4761917 (340)\ttotal: 24.5s\tremaining: 47.3s\n",
            "341:\tlearn: 0.2920685\ttest: 0.4760488\tbest: 0.4760488 (341)\ttotal: 24.5s\tremaining: 47.2s\n",
            "342:\tlearn: 0.2917252\ttest: 0.4757762\tbest: 0.4757762 (342)\ttotal: 24.6s\tremaining: 47.1s\n",
            "343:\tlearn: 0.2913271\ttest: 0.4758557\tbest: 0.4757762 (342)\ttotal: 24.7s\tremaining: 47.1s\n",
            "344:\tlearn: 0.2903718\ttest: 0.4760284\tbest: 0.4757762 (342)\ttotal: 24.7s\tremaining: 47s\n",
            "345:\tlearn: 0.2894375\ttest: 0.4764985\tbest: 0.4757762 (342)\ttotal: 24.8s\tremaining: 46.9s\n",
            "346:\tlearn: 0.2892340\ttest: 0.4764734\tbest: 0.4757762 (342)\ttotal: 24.9s\tremaining: 46.8s\n",
            "347:\tlearn: 0.2884825\ttest: 0.4768266\tbest: 0.4757762 (342)\ttotal: 24.9s\tremaining: 46.7s\n",
            "348:\tlearn: 0.2873597\ttest: 0.4768373\tbest: 0.4757762 (342)\ttotal: 25s\tremaining: 46.6s\n",
            "349:\tlearn: 0.2866895\ttest: 0.4771216\tbest: 0.4757762 (342)\ttotal: 25.1s\tremaining: 46.6s\n",
            "350:\tlearn: 0.2863726\ttest: 0.4770246\tbest: 0.4757762 (342)\ttotal: 25.1s\tremaining: 46.5s\n",
            "351:\tlearn: 0.2857042\ttest: 0.4766708\tbest: 0.4757762 (342)\ttotal: 25.2s\tremaining: 46.4s\n",
            "352:\tlearn: 0.2849196\ttest: 0.4770275\tbest: 0.4757762 (342)\ttotal: 25.3s\tremaining: 46.3s\n",
            "353:\tlearn: 0.2847190\ttest: 0.4769760\tbest: 0.4757762 (342)\ttotal: 25.3s\tremaining: 46.2s\n",
            "354:\tlearn: 0.2845428\ttest: 0.4770044\tbest: 0.4757762 (342)\ttotal: 25.4s\tremaining: 46.2s\n",
            "355:\tlearn: 0.2841116\ttest: 0.4770715\tbest: 0.4757762 (342)\ttotal: 25.5s\tremaining: 46.1s\n",
            "356:\tlearn: 0.2838167\ttest: 0.4769397\tbest: 0.4757762 (342)\ttotal: 25.5s\tremaining: 46s\n",
            "357:\tlearn: 0.2832147\ttest: 0.4763606\tbest: 0.4757762 (342)\ttotal: 25.6s\tremaining: 45.9s\n",
            "358:\tlearn: 0.2829185\ttest: 0.4765703\tbest: 0.4757762 (342)\ttotal: 25.7s\tremaining: 45.8s\n",
            "359:\tlearn: 0.2821535\ttest: 0.4767401\tbest: 0.4757762 (342)\ttotal: 25.7s\tremaining: 45.7s\n",
            "360:\tlearn: 0.2814029\ttest: 0.4771714\tbest: 0.4757762 (342)\ttotal: 25.8s\tremaining: 45.7s\n",
            "361:\tlearn: 0.2807145\ttest: 0.4769568\tbest: 0.4757762 (342)\ttotal: 25.9s\tremaining: 45.6s\n",
            "362:\tlearn: 0.2804487\ttest: 0.4769867\tbest: 0.4757762 (342)\ttotal: 25.9s\tremaining: 45.5s\n",
            "363:\tlearn: 0.2795677\ttest: 0.4767005\tbest: 0.4757762 (342)\ttotal: 26s\tremaining: 45.4s\n",
            "364:\tlearn: 0.2789518\ttest: 0.4771074\tbest: 0.4757762 (342)\ttotal: 26s\tremaining: 45.3s\n",
            "365:\tlearn: 0.2782364\ttest: 0.4773166\tbest: 0.4757762 (342)\ttotal: 26.1s\tremaining: 45.2s\n",
            "366:\tlearn: 0.2778462\ttest: 0.4774541\tbest: 0.4757762 (342)\ttotal: 26.2s\tremaining: 45.1s\n",
            "367:\tlearn: 0.2772975\ttest: 0.4773705\tbest: 0.4757762 (342)\ttotal: 26.2s\tremaining: 45.1s\n",
            "368:\tlearn: 0.2767851\ttest: 0.4772150\tbest: 0.4757762 (342)\ttotal: 26.3s\tremaining: 45s\n",
            "369:\tlearn: 0.2764772\ttest: 0.4772935\tbest: 0.4757762 (342)\ttotal: 26.4s\tremaining: 44.9s\n",
            "370:\tlearn: 0.2761842\ttest: 0.4773905\tbest: 0.4757762 (342)\ttotal: 26.4s\tremaining: 44.8s\n",
            "371:\tlearn: 0.2753074\ttest: 0.4774594\tbest: 0.4757762 (342)\ttotal: 26.5s\tremaining: 44.7s\n",
            "372:\tlearn: 0.2745471\ttest: 0.4768894\tbest: 0.4757762 (342)\ttotal: 26.6s\tremaining: 44.7s\n",
            "373:\tlearn: 0.2735929\ttest: 0.4766227\tbest: 0.4757762 (342)\ttotal: 26.6s\tremaining: 44.6s\n",
            "374:\tlearn: 0.2726248\ttest: 0.4769266\tbest: 0.4757762 (342)\ttotal: 26.7s\tremaining: 44.5s\n",
            "375:\tlearn: 0.2718540\ttest: 0.4767510\tbest: 0.4757762 (342)\ttotal: 26.8s\tremaining: 44.4s\n",
            "376:\tlearn: 0.2714214\ttest: 0.4772634\tbest: 0.4757762 (342)\ttotal: 26.8s\tremaining: 44.4s\n",
            "377:\tlearn: 0.2706441\ttest: 0.4775081\tbest: 0.4757762 (342)\ttotal: 26.9s\tremaining: 44.3s\n",
            "378:\tlearn: 0.2700177\ttest: 0.4769172\tbest: 0.4757762 (342)\ttotal: 27s\tremaining: 44.2s\n",
            "379:\tlearn: 0.2697559\ttest: 0.4769138\tbest: 0.4757762 (342)\ttotal: 27s\tremaining: 44.1s\n",
            "380:\tlearn: 0.2690916\ttest: 0.4769013\tbest: 0.4757762 (342)\ttotal: 27.1s\tremaining: 44s\n",
            "381:\tlearn: 0.2685143\ttest: 0.4774635\tbest: 0.4757762 (342)\ttotal: 27.2s\tremaining: 43.9s\n",
            "382:\tlearn: 0.2677153\ttest: 0.4770337\tbest: 0.4757762 (342)\ttotal: 27.2s\tremaining: 43.9s\n",
            "383:\tlearn: 0.2675206\ttest: 0.4770081\tbest: 0.4757762 (342)\ttotal: 27.3s\tremaining: 43.8s\n",
            "384:\tlearn: 0.2673307\ttest: 0.4769829\tbest: 0.4757762 (342)\ttotal: 27.4s\tremaining: 43.7s\n",
            "385:\tlearn: 0.2671450\ttest: 0.4768332\tbest: 0.4757762 (342)\ttotal: 27.4s\tremaining: 43.6s\n",
            "386:\tlearn: 0.2668818\ttest: 0.4768834\tbest: 0.4757762 (342)\ttotal: 27.5s\tremaining: 43.6s\n",
            "387:\tlearn: 0.2667069\ttest: 0.4768188\tbest: 0.4757762 (342)\ttotal: 27.6s\tremaining: 43.5s\n",
            "388:\tlearn: 0.2664236\ttest: 0.4770573\tbest: 0.4757762 (342)\ttotal: 27.6s\tremaining: 43.4s\n",
            "389:\tlearn: 0.2658453\ttest: 0.4767409\tbest: 0.4757762 (342)\ttotal: 27.7s\tremaining: 43.3s\n",
            "390:\tlearn: 0.2656643\ttest: 0.4766939\tbest: 0.4757762 (342)\ttotal: 27.8s\tremaining: 43.2s\n",
            "391:\tlearn: 0.2648536\ttest: 0.4761633\tbest: 0.4757762 (342)\ttotal: 27.8s\tremaining: 43.2s\n",
            "392:\tlearn: 0.2645584\ttest: 0.4761393\tbest: 0.4757762 (342)\ttotal: 27.9s\tremaining: 43.1s\n",
            "393:\tlearn: 0.2638507\ttest: 0.4756545\tbest: 0.4756545 (393)\ttotal: 28s\tremaining: 43s\n",
            "394:\tlearn: 0.2633892\ttest: 0.4754062\tbest: 0.4754062 (394)\ttotal: 28s\tremaining: 42.9s\n",
            "395:\tlearn: 0.2630278\ttest: 0.4755504\tbest: 0.4754062 (394)\ttotal: 28.1s\tremaining: 42.8s\n",
            "396:\tlearn: 0.2628280\ttest: 0.4753409\tbest: 0.4753409 (396)\ttotal: 28.2s\tremaining: 42.8s\n",
            "397:\tlearn: 0.2620882\ttest: 0.4755130\tbest: 0.4753409 (396)\ttotal: 28.2s\tremaining: 42.7s\n",
            "398:\tlearn: 0.2613915\ttest: 0.4751931\tbest: 0.4751931 (398)\ttotal: 28.3s\tremaining: 42.6s\n",
            "399:\tlearn: 0.2607496\ttest: 0.4756181\tbest: 0.4751931 (398)\ttotal: 28.3s\tremaining: 42.5s\n",
            "400:\tlearn: 0.2601912\ttest: 0.4755203\tbest: 0.4751931 (398)\ttotal: 28.4s\tremaining: 42.4s\n",
            "401:\tlearn: 0.2596329\ttest: 0.4756409\tbest: 0.4751931 (398)\ttotal: 28.5s\tremaining: 42.4s\n",
            "402:\tlearn: 0.2588136\ttest: 0.4754381\tbest: 0.4751931 (398)\ttotal: 28.5s\tremaining: 42.3s\n",
            "403:\tlearn: 0.2581299\ttest: 0.4751553\tbest: 0.4751553 (403)\ttotal: 28.6s\tremaining: 42.2s\n",
            "404:\tlearn: 0.2575701\ttest: 0.4747736\tbest: 0.4747736 (404)\ttotal: 28.7s\tremaining: 42.2s\n",
            "405:\tlearn: 0.2574045\ttest: 0.4745237\tbest: 0.4745237 (405)\ttotal: 28.8s\tremaining: 42.2s\n",
            "406:\tlearn: 0.2572233\ttest: 0.4743324\tbest: 0.4743324 (406)\ttotal: 28.9s\tremaining: 42.2s\n",
            "407:\tlearn: 0.2566066\ttest: 0.4748087\tbest: 0.4743324 (406)\ttotal: 29s\tremaining: 42.1s\n",
            "408:\tlearn: 0.2560740\ttest: 0.4743189\tbest: 0.4743189 (408)\ttotal: 29.2s\tremaining: 42.1s\n",
            "409:\tlearn: 0.2558994\ttest: 0.4741911\tbest: 0.4741911 (409)\ttotal: 29.3s\tremaining: 42.1s\n",
            "410:\tlearn: 0.2551703\ttest: 0.4737876\tbest: 0.4737876 (410)\ttotal: 29.4s\tremaining: 42.1s\n",
            "411:\tlearn: 0.2543895\ttest: 0.4742640\tbest: 0.4737876 (410)\ttotal: 29.5s\tremaining: 42.1s\n",
            "412:\tlearn: 0.2536574\ttest: 0.4742254\tbest: 0.4737876 (410)\ttotal: 29.6s\tremaining: 42.1s\n",
            "413:\tlearn: 0.2531735\ttest: 0.4746381\tbest: 0.4737876 (410)\ttotal: 29.7s\tremaining: 42s\n",
            "414:\tlearn: 0.2528958\ttest: 0.4745199\tbest: 0.4737876 (410)\ttotal: 29.8s\tremaining: 42s\n",
            "415:\tlearn: 0.2525408\ttest: 0.4743422\tbest: 0.4737876 (410)\ttotal: 29.9s\tremaining: 42s\n",
            "416:\tlearn: 0.2523763\ttest: 0.4743186\tbest: 0.4737876 (410)\ttotal: 30s\tremaining: 42s\n",
            "417:\tlearn: 0.2521571\ttest: 0.4742828\tbest: 0.4737876 (410)\ttotal: 30.1s\tremaining: 41.9s\n",
            "418:\tlearn: 0.2517963\ttest: 0.4745150\tbest: 0.4737876 (410)\ttotal: 30.2s\tremaining: 41.9s\n",
            "419:\tlearn: 0.2516245\ttest: 0.4744666\tbest: 0.4737876 (410)\ttotal: 30.3s\tremaining: 41.9s\n",
            "420:\tlearn: 0.2514566\ttest: 0.4744194\tbest: 0.4737876 (410)\ttotal: 30.4s\tremaining: 41.9s\n",
            "421:\tlearn: 0.2510770\ttest: 0.4746389\tbest: 0.4737876 (410)\ttotal: 30.5s\tremaining: 41.8s\n",
            "422:\tlearn: 0.2504218\ttest: 0.4745107\tbest: 0.4737876 (410)\ttotal: 30.7s\tremaining: 41.8s\n",
            "423:\tlearn: 0.2501484\ttest: 0.4743191\tbest: 0.4737876 (410)\ttotal: 30.8s\tremaining: 41.8s\n",
            "424:\tlearn: 0.2496861\ttest: 0.4744300\tbest: 0.4737876 (410)\ttotal: 30.9s\tremaining: 41.8s\n",
            "425:\tlearn: 0.2489958\ttest: 0.4744545\tbest: 0.4737876 (410)\ttotal: 31s\tremaining: 41.8s\n",
            "426:\tlearn: 0.2486769\ttest: 0.4745501\tbest: 0.4737876 (410)\ttotal: 31.1s\tremaining: 41.7s\n",
            "427:\tlearn: 0.2483497\ttest: 0.4744918\tbest: 0.4737876 (410)\ttotal: 31.2s\tremaining: 41.7s\n",
            "428:\tlearn: 0.2481837\ttest: 0.4744465\tbest: 0.4737876 (410)\ttotal: 31.3s\tremaining: 41.7s\n",
            "429:\tlearn: 0.2476782\ttest: 0.4747480\tbest: 0.4737876 (410)\ttotal: 31.4s\tremaining: 41.6s\n",
            "430:\tlearn: 0.2473335\ttest: 0.4748868\tbest: 0.4737876 (410)\ttotal: 31.5s\tremaining: 41.5s\n",
            "431:\tlearn: 0.2471697\ttest: 0.4748414\tbest: 0.4737876 (410)\ttotal: 31.5s\tremaining: 41.5s\n",
            "432:\tlearn: 0.2464258\ttest: 0.4752457\tbest: 0.4737876 (410)\ttotal: 31.6s\tremaining: 41.4s\n",
            "433:\tlearn: 0.2457144\ttest: 0.4750275\tbest: 0.4737876 (410)\ttotal: 31.7s\tremaining: 41.3s\n",
            "434:\tlearn: 0.2454262\ttest: 0.4748761\tbest: 0.4737876 (410)\ttotal: 31.7s\tremaining: 41.2s\n",
            "435:\tlearn: 0.2452637\ttest: 0.4748290\tbest: 0.4737876 (410)\ttotal: 31.8s\tremaining: 41.1s\n",
            "436:\tlearn: 0.2450194\ttest: 0.4750649\tbest: 0.4737876 (410)\ttotal: 31.9s\tremaining: 41.1s\n",
            "437:\tlearn: 0.2447816\ttest: 0.4751554\tbest: 0.4737876 (410)\ttotal: 31.9s\tremaining: 41s\n",
            "438:\tlearn: 0.2440393\ttest: 0.4748347\tbest: 0.4737876 (410)\ttotal: 32s\tremaining: 40.9s\n",
            "439:\tlearn: 0.2436634\ttest: 0.4750859\tbest: 0.4737876 (410)\ttotal: 32.1s\tremaining: 40.8s\n",
            "440:\tlearn: 0.2434167\ttest: 0.4747318\tbest: 0.4737876 (410)\ttotal: 32.1s\tremaining: 40.7s\n",
            "441:\tlearn: 0.2427599\ttest: 0.4744583\tbest: 0.4737876 (410)\ttotal: 32.2s\tremaining: 40.6s\n",
            "442:\tlearn: 0.2425396\ttest: 0.4744316\tbest: 0.4737876 (410)\ttotal: 32.2s\tremaining: 40.5s\n",
            "443:\tlearn: 0.2421185\ttest: 0.4742957\tbest: 0.4737876 (410)\ttotal: 32.3s\tremaining: 40.5s\n",
            "444:\tlearn: 0.2414086\ttest: 0.4747091\tbest: 0.4737876 (410)\ttotal: 32.4s\tremaining: 40.4s\n",
            "445:\tlearn: 0.2408924\ttest: 0.4753808\tbest: 0.4737876 (410)\ttotal: 32.4s\tremaining: 40.3s\n",
            "446:\tlearn: 0.2403735\ttest: 0.4754226\tbest: 0.4737876 (410)\ttotal: 32.5s\tremaining: 40.2s\n",
            "447:\tlearn: 0.2397230\ttest: 0.4754503\tbest: 0.4737876 (410)\ttotal: 32.6s\tremaining: 40.1s\n",
            "448:\tlearn: 0.2394919\ttest: 0.4758207\tbest: 0.4737876 (410)\ttotal: 32.6s\tremaining: 40s\n",
            "449:\tlearn: 0.2393311\ttest: 0.4758102\tbest: 0.4737876 (410)\ttotal: 32.7s\tremaining: 40s\n",
            "450:\tlearn: 0.2388068\ttest: 0.4758907\tbest: 0.4737876 (410)\ttotal: 32.8s\tremaining: 39.9s\n",
            "451:\tlearn: 0.2382003\ttest: 0.4757209\tbest: 0.4737876 (410)\ttotal: 32.8s\tremaining: 39.8s\n",
            "452:\tlearn: 0.2380403\ttest: 0.4755599\tbest: 0.4737876 (410)\ttotal: 32.9s\tremaining: 39.7s\n",
            "453:\tlearn: 0.2374679\ttest: 0.4755503\tbest: 0.4737876 (410)\ttotal: 33s\tremaining: 39.6s\n",
            "454:\tlearn: 0.2368366\ttest: 0.4748960\tbest: 0.4737876 (410)\ttotal: 33s\tremaining: 39.6s\n",
            "455:\tlearn: 0.2361977\ttest: 0.4744732\tbest: 0.4737876 (410)\ttotal: 33.1s\tremaining: 39.5s\n",
            "456:\tlearn: 0.2360441\ttest: 0.4744898\tbest: 0.4737876 (410)\ttotal: 33.1s\tremaining: 39.4s\n",
            "457:\tlearn: 0.2358847\ttest: 0.4744190\tbest: 0.4737876 (410)\ttotal: 33.2s\tremaining: 39.3s\n",
            "458:\tlearn: 0.2356675\ttest: 0.4743923\tbest: 0.4737876 (410)\ttotal: 33.3s\tremaining: 39.2s\n",
            "459:\tlearn: 0.2350433\ttest: 0.4738694\tbest: 0.4737876 (410)\ttotal: 33.3s\tremaining: 39.1s\n",
            "460:\tlearn: 0.2343962\ttest: 0.4736301\tbest: 0.4736301 (460)\ttotal: 33.4s\tremaining: 39s\n",
            "461:\tlearn: 0.2342469\ttest: 0.4736092\tbest: 0.4736092 (461)\ttotal: 33.5s\tremaining: 39s\n",
            "462:\tlearn: 0.2340923\ttest: 0.4734346\tbest: 0.4734346 (462)\ttotal: 33.5s\tremaining: 38.9s\n",
            "463:\tlearn: 0.2339384\ttest: 0.4734123\tbest: 0.4734123 (463)\ttotal: 33.6s\tremaining: 38.8s\n",
            "464:\tlearn: 0.2332751\ttest: 0.4731353\tbest: 0.4731353 (464)\ttotal: 33.7s\tremaining: 38.7s\n",
            "465:\tlearn: 0.2331322\ttest: 0.4730295\tbest: 0.4730295 (465)\ttotal: 33.7s\tremaining: 38.7s\n",
            "466:\tlearn: 0.2326511\ttest: 0.4728213\tbest: 0.4728213 (466)\ttotal: 33.8s\tremaining: 38.6s\n",
            "467:\tlearn: 0.2324407\ttest: 0.4727520\tbest: 0.4727520 (467)\ttotal: 33.9s\tremaining: 38.5s\n",
            "468:\tlearn: 0.2316348\ttest: 0.4729714\tbest: 0.4727520 (467)\ttotal: 33.9s\tremaining: 38.4s\n",
            "469:\tlearn: 0.2312978\ttest: 0.4730510\tbest: 0.4727520 (467)\ttotal: 34s\tremaining: 38.3s\n",
            "470:\tlearn: 0.2310751\ttest: 0.4729961\tbest: 0.4727520 (467)\ttotal: 34.1s\tremaining: 38.3s\n",
            "471:\tlearn: 0.2309243\ttest: 0.4729287\tbest: 0.4727520 (467)\ttotal: 34.1s\tremaining: 38.2s\n",
            "472:\tlearn: 0.2307090\ttest: 0.4728344\tbest: 0.4727520 (467)\ttotal: 34.2s\tremaining: 38.1s\n",
            "473:\tlearn: 0.2301385\ttest: 0.4723099\tbest: 0.4723099 (473)\ttotal: 34.3s\tremaining: 38s\n",
            "474:\tlearn: 0.2299954\ttest: 0.4722688\tbest: 0.4722688 (474)\ttotal: 34.3s\tremaining: 37.9s\n",
            "475:\tlearn: 0.2292822\ttest: 0.4721491\tbest: 0.4721491 (475)\ttotal: 34.4s\tremaining: 37.9s\n",
            "476:\tlearn: 0.2289847\ttest: 0.4722229\tbest: 0.4721491 (475)\ttotal: 34.4s\tremaining: 37.8s\n",
            "477:\tlearn: 0.2288449\ttest: 0.4722055\tbest: 0.4721491 (475)\ttotal: 34.5s\tremaining: 37.7s\n",
            "478:\tlearn: 0.2285543\ttest: 0.4721947\tbest: 0.4721491 (475)\ttotal: 34.6s\tremaining: 37.6s\n",
            "479:\tlearn: 0.2283462\ttest: 0.4721623\tbest: 0.4721491 (475)\ttotal: 34.6s\tremaining: 37.5s\n",
            "480:\tlearn: 0.2279415\ttest: 0.4719555\tbest: 0.4719555 (480)\ttotal: 34.7s\tremaining: 37.5s\n",
            "481:\tlearn: 0.2273042\ttest: 0.4716322\tbest: 0.4716322 (481)\ttotal: 34.8s\tremaining: 37.4s\n",
            "482:\tlearn: 0.2266559\ttest: 0.4716356\tbest: 0.4716322 (481)\ttotal: 34.9s\tremaining: 37.3s\n",
            "483:\tlearn: 0.2260998\ttest: 0.4719597\tbest: 0.4716322 (481)\ttotal: 34.9s\tremaining: 37.2s\n",
            "484:\tlearn: 0.2259566\ttest: 0.4719147\tbest: 0.4716322 (481)\ttotal: 35s\tremaining: 37.2s\n",
            "485:\tlearn: 0.2253365\ttest: 0.4717965\tbest: 0.4716322 (481)\ttotal: 35.1s\tremaining: 37.1s\n",
            "486:\tlearn: 0.2247688\ttest: 0.4717722\tbest: 0.4716322 (481)\ttotal: 35.1s\tremaining: 37s\n",
            "487:\tlearn: 0.2246276\ttest: 0.4715600\tbest: 0.4715600 (487)\ttotal: 35.2s\tremaining: 36.9s\n",
            "488:\tlearn: 0.2244877\ttest: 0.4715145\tbest: 0.4715145 (488)\ttotal: 35.2s\tremaining: 36.8s\n",
            "489:\tlearn: 0.2243549\ttest: 0.4714939\tbest: 0.4714939 (489)\ttotal: 35.3s\tremaining: 36.8s\n",
            "490:\tlearn: 0.2237669\ttest: 0.4715474\tbest: 0.4714939 (489)\ttotal: 35.4s\tremaining: 36.7s\n",
            "491:\tlearn: 0.2231664\ttest: 0.4713703\tbest: 0.4713703 (491)\ttotal: 35.4s\tremaining: 36.6s\n",
            "492:\tlearn: 0.2228860\ttest: 0.4713130\tbest: 0.4713130 (492)\ttotal: 35.5s\tremaining: 36.5s\n",
            "493:\tlearn: 0.2222873\ttest: 0.4711178\tbest: 0.4711178 (493)\ttotal: 35.6s\tremaining: 36.4s\n",
            "494:\tlearn: 0.2214351\ttest: 0.4713957\tbest: 0.4711178 (493)\ttotal: 35.6s\tremaining: 36.3s\n",
            "495:\tlearn: 0.2207380\ttest: 0.4721380\tbest: 0.4711178 (493)\ttotal: 35.7s\tremaining: 36.3s\n",
            "496:\tlearn: 0.2206126\ttest: 0.4720342\tbest: 0.4711178 (493)\ttotal: 35.8s\tremaining: 36.2s\n",
            "497:\tlearn: 0.2203774\ttest: 0.4719375\tbest: 0.4711178 (493)\ttotal: 35.8s\tremaining: 36.1s\n",
            "498:\tlearn: 0.2202434\ttest: 0.4719129\tbest: 0.4711178 (493)\ttotal: 35.9s\tremaining: 36s\n",
            "499:\tlearn: 0.2194654\ttest: 0.4717574\tbest: 0.4711178 (493)\ttotal: 36s\tremaining: 36s\n",
            "500:\tlearn: 0.2193277\ttest: 0.4717083\tbest: 0.4711178 (493)\ttotal: 36s\tremaining: 35.9s\n",
            "501:\tlearn: 0.2190755\ttest: 0.4717715\tbest: 0.4711178 (493)\ttotal: 36.1s\tremaining: 35.8s\n",
            "502:\tlearn: 0.2189431\ttest: 0.4717466\tbest: 0.4711178 (493)\ttotal: 36.2s\tremaining: 35.7s\n",
            "503:\tlearn: 0.2184846\ttest: 0.4716671\tbest: 0.4711178 (493)\ttotal: 36.2s\tremaining: 35.6s\n",
            "504:\tlearn: 0.2181563\ttest: 0.4716628\tbest: 0.4711178 (493)\ttotal: 36.3s\tremaining: 35.6s\n",
            "505:\tlearn: 0.2176916\ttest: 0.4713099\tbest: 0.4711178 (493)\ttotal: 36.4s\tremaining: 35.5s\n",
            "506:\tlearn: 0.2174373\ttest: 0.4711506\tbest: 0.4711178 (493)\ttotal: 36.4s\tremaining: 35.4s\n",
            "507:\tlearn: 0.2172416\ttest: 0.4710870\tbest: 0.4710870 (507)\ttotal: 36.5s\tremaining: 35.3s\n",
            "508:\tlearn: 0.2167374\ttest: 0.4716621\tbest: 0.4710870 (507)\ttotal: 36.6s\tremaining: 35.3s\n",
            "509:\tlearn: 0.2165984\ttest: 0.4715923\tbest: 0.4710870 (507)\ttotal: 36.6s\tremaining: 35.2s\n",
            "510:\tlearn: 0.2161184\ttest: 0.4715864\tbest: 0.4710870 (507)\ttotal: 36.7s\tremaining: 35.1s\n",
            "511:\tlearn: 0.2159847\ttest: 0.4715412\tbest: 0.4710870 (507)\ttotal: 36.7s\tremaining: 35s\n",
            "512:\tlearn: 0.2154247\ttest: 0.4715087\tbest: 0.4710870 (507)\ttotal: 36.8s\tremaining: 35s\n",
            "513:\tlearn: 0.2151899\ttest: 0.4714957\tbest: 0.4710870 (507)\ttotal: 36.9s\tremaining: 34.9s\n",
            "514:\tlearn: 0.2150576\ttest: 0.4714840\tbest: 0.4710870 (507)\ttotal: 36.9s\tremaining: 34.8s\n",
            "515:\tlearn: 0.2148678\ttest: 0.4715688\tbest: 0.4710870 (507)\ttotal: 37s\tremaining: 34.7s\n",
            "516:\tlearn: 0.2147369\ttest: 0.4715242\tbest: 0.4710870 (507)\ttotal: 37.1s\tremaining: 34.6s\n",
            "517:\tlearn: 0.2143468\ttest: 0.4714925\tbest: 0.4710870 (507)\ttotal: 37.1s\tremaining: 34.6s\n",
            "518:\tlearn: 0.2138425\ttest: 0.4718794\tbest: 0.4710870 (507)\ttotal: 37.2s\tremaining: 34.5s\n",
            "519:\tlearn: 0.2133186\ttest: 0.4710645\tbest: 0.4710645 (519)\ttotal: 37.3s\tremaining: 34.4s\n",
            "520:\tlearn: 0.2127011\ttest: 0.4711083\tbest: 0.4710645 (519)\ttotal: 37.3s\tremaining: 34.3s\n",
            "521:\tlearn: 0.2125297\ttest: 0.4713274\tbest: 0.4710645 (519)\ttotal: 37.4s\tremaining: 34.3s\n",
            "522:\tlearn: 0.2124023\ttest: 0.4713048\tbest: 0.4710645 (519)\ttotal: 37.5s\tremaining: 34.2s\n",
            "523:\tlearn: 0.2119846\ttest: 0.4717526\tbest: 0.4710645 (519)\ttotal: 37.5s\tremaining: 34.1s\n",
            "524:\tlearn: 0.2117784\ttest: 0.4716979\tbest: 0.4710645 (519)\ttotal: 37.6s\tremaining: 34s\n",
            "525:\tlearn: 0.2114939\ttest: 0.4716847\tbest: 0.4710645 (519)\ttotal: 37.7s\tremaining: 33.9s\n",
            "526:\tlearn: 0.2113225\ttest: 0.4716881\tbest: 0.4710645 (519)\ttotal: 37.7s\tremaining: 33.9s\n",
            "527:\tlearn: 0.2108486\ttest: 0.4719295\tbest: 0.4710645 (519)\ttotal: 37.8s\tremaining: 33.8s\n",
            "528:\tlearn: 0.2107222\ttest: 0.4719054\tbest: 0.4710645 (519)\ttotal: 37.9s\tremaining: 33.7s\n",
            "529:\tlearn: 0.2102034\ttest: 0.4718651\tbest: 0.4710645 (519)\ttotal: 37.9s\tremaining: 33.6s\n",
            "530:\tlearn: 0.2100716\ttest: 0.4717569\tbest: 0.4710645 (519)\ttotal: 38s\tremaining: 33.6s\n",
            "531:\tlearn: 0.2097416\ttest: 0.4718351\tbest: 0.4710645 (519)\ttotal: 38.1s\tremaining: 33.5s\n",
            "532:\tlearn: 0.2091747\ttest: 0.4719880\tbest: 0.4710645 (519)\ttotal: 38.1s\tremaining: 33.4s\n",
            "533:\tlearn: 0.2090437\ttest: 0.4719206\tbest: 0.4710645 (519)\ttotal: 38.2s\tremaining: 33.3s\n",
            "534:\tlearn: 0.2086304\ttest: 0.4721367\tbest: 0.4710645 (519)\ttotal: 38.3s\tremaining: 33.3s\n",
            "535:\tlearn: 0.2085081\ttest: 0.4721261\tbest: 0.4710645 (519)\ttotal: 38.3s\tremaining: 33.2s\n",
            "536:\tlearn: 0.2079640\ttest: 0.4720455\tbest: 0.4710645 (519)\ttotal: 38.4s\tremaining: 33.1s\n",
            "537:\tlearn: 0.2078545\ttest: 0.4720069\tbest: 0.4710645 (519)\ttotal: 38.5s\tremaining: 33s\n",
            "538:\tlearn: 0.2073575\ttest: 0.4720752\tbest: 0.4710645 (519)\ttotal: 38.5s\tremaining: 33s\n",
            "539:\tlearn: 0.2066996\ttest: 0.4722113\tbest: 0.4710645 (519)\ttotal: 38.6s\tremaining: 32.9s\n",
            "540:\tlearn: 0.2062507\ttest: 0.4728220\tbest: 0.4710645 (519)\ttotal: 38.7s\tremaining: 32.8s\n",
            "541:\tlearn: 0.2060616\ttest: 0.4727597\tbest: 0.4710645 (519)\ttotal: 38.7s\tremaining: 32.7s\n",
            "542:\tlearn: 0.2059373\ttest: 0.4727178\tbest: 0.4710645 (519)\ttotal: 38.8s\tremaining: 32.6s\n",
            "543:\tlearn: 0.2057585\ttest: 0.4726969\tbest: 0.4710645 (519)\ttotal: 38.9s\tremaining: 32.6s\n",
            "544:\tlearn: 0.2056365\ttest: 0.4725966\tbest: 0.4710645 (519)\ttotal: 38.9s\tremaining: 32.5s\n",
            "545:\tlearn: 0.2053636\ttest: 0.4726890\tbest: 0.4710645 (519)\ttotal: 39s\tremaining: 32.4s\n",
            "546:\tlearn: 0.2052426\ttest: 0.4726482\tbest: 0.4710645 (519)\ttotal: 39.1s\tremaining: 32.3s\n",
            "547:\tlearn: 0.2049514\ttest: 0.4724768\tbest: 0.4710645 (519)\ttotal: 39.1s\tremaining: 32.3s\n",
            "548:\tlearn: 0.2048313\ttest: 0.4724367\tbest: 0.4710645 (519)\ttotal: 39.2s\tremaining: 32.2s\n",
            "549:\tlearn: 0.2047217\ttest: 0.4724214\tbest: 0.4710645 (519)\ttotal: 39.2s\tremaining: 32.1s\n",
            "550:\tlearn: 0.2045573\ttest: 0.4724015\tbest: 0.4710645 (519)\ttotal: 39.3s\tremaining: 32s\n",
            "551:\tlearn: 0.2040595\ttest: 0.4724611\tbest: 0.4710645 (519)\ttotal: 39.4s\tremaining: 32s\n",
            "552:\tlearn: 0.2036539\ttest: 0.4723253\tbest: 0.4710645 (519)\ttotal: 39.4s\tremaining: 31.9s\n",
            "553:\tlearn: 0.2033092\ttest: 0.4722271\tbest: 0.4710645 (519)\ttotal: 39.5s\tremaining: 31.8s\n",
            "554:\tlearn: 0.2030076\ttest: 0.4721508\tbest: 0.4710645 (519)\ttotal: 39.6s\tremaining: 31.7s\n",
            "555:\tlearn: 0.2027858\ttest: 0.4720298\tbest: 0.4710645 (519)\ttotal: 39.6s\tremaining: 31.6s\n",
            "556:\tlearn: 0.2024922\ttest: 0.4717886\tbest: 0.4710645 (519)\ttotal: 39.7s\tremaining: 31.6s\n",
            "557:\tlearn: 0.2023775\ttest: 0.4718162\tbest: 0.4710645 (519)\ttotal: 39.8s\tremaining: 31.5s\n",
            "558:\tlearn: 0.2022611\ttest: 0.4717783\tbest: 0.4710645 (519)\ttotal: 39.8s\tremaining: 31.4s\n",
            "559:\tlearn: 0.2015736\ttest: 0.4721641\tbest: 0.4710645 (519)\ttotal: 39.9s\tremaining: 31.4s\n",
            "560:\tlearn: 0.2010767\ttest: 0.4721810\tbest: 0.4710645 (519)\ttotal: 40s\tremaining: 31.3s\n",
            "561:\tlearn: 0.2009583\ttest: 0.4721214\tbest: 0.4710645 (519)\ttotal: 40s\tremaining: 31.2s\n",
            "562:\tlearn: 0.2004261\ttest: 0.4719588\tbest: 0.4710645 (519)\ttotal: 40.1s\tremaining: 31.1s\n",
            "563:\tlearn: 0.2003294\ttest: 0.4719431\tbest: 0.4710645 (519)\ttotal: 40.2s\tremaining: 31.1s\n",
            "564:\tlearn: 0.1999087\ttest: 0.4716734\tbest: 0.4710645 (519)\ttotal: 40.2s\tremaining: 31s\n",
            "565:\tlearn: 0.1996226\ttest: 0.4716270\tbest: 0.4710645 (519)\ttotal: 40.3s\tremaining: 30.9s\n",
            "566:\tlearn: 0.1995170\ttest: 0.4715909\tbest: 0.4710645 (519)\ttotal: 40.4s\tremaining: 30.8s\n",
            "567:\tlearn: 0.1990203\ttest: 0.4713729\tbest: 0.4710645 (519)\ttotal: 40.4s\tremaining: 30.7s\n",
            "568:\tlearn: 0.1986399\ttest: 0.4714084\tbest: 0.4710645 (519)\ttotal: 40.5s\tremaining: 30.7s\n",
            "569:\tlearn: 0.1983931\ttest: 0.4716129\tbest: 0.4710645 (519)\ttotal: 40.6s\tremaining: 30.6s\n",
            "570:\tlearn: 0.1982167\ttest: 0.4714884\tbest: 0.4710645 (519)\ttotal: 40.6s\tremaining: 30.5s\n",
            "571:\tlearn: 0.1980619\ttest: 0.4714580\tbest: 0.4710645 (519)\ttotal: 40.7s\tremaining: 30.4s\n",
            "572:\tlearn: 0.1976579\ttest: 0.4716414\tbest: 0.4710645 (519)\ttotal: 40.8s\tremaining: 30.4s\n",
            "573:\tlearn: 0.1975444\ttest: 0.4715148\tbest: 0.4710645 (519)\ttotal: 40.8s\tremaining: 30.3s\n",
            "574:\tlearn: 0.1970948\ttest: 0.4713717\tbest: 0.4710645 (519)\ttotal: 40.9s\tremaining: 30.2s\n",
            "575:\tlearn: 0.1967954\ttest: 0.4717360\tbest: 0.4710645 (519)\ttotal: 41s\tremaining: 30.2s\n",
            "576:\tlearn: 0.1966849\ttest: 0.4717179\tbest: 0.4710645 (519)\ttotal: 41s\tremaining: 30.1s\n",
            "577:\tlearn: 0.1965732\ttest: 0.4716778\tbest: 0.4710645 (519)\ttotal: 41.1s\tremaining: 30s\n",
            "578:\tlearn: 0.1961106\ttest: 0.4715302\tbest: 0.4710645 (519)\ttotal: 41.2s\tremaining: 29.9s\n",
            "579:\tlearn: 0.1957973\ttest: 0.4715295\tbest: 0.4710645 (519)\ttotal: 41.2s\tremaining: 29.8s\n",
            "580:\tlearn: 0.1956950\ttest: 0.4715133\tbest: 0.4710645 (519)\ttotal: 41.3s\tremaining: 29.8s\n",
            "581:\tlearn: 0.1952859\ttest: 0.4712452\tbest: 0.4710645 (519)\ttotal: 41.4s\tremaining: 29.7s\n",
            "582:\tlearn: 0.1951081\ttest: 0.4712793\tbest: 0.4710645 (519)\ttotal: 41.5s\tremaining: 29.7s\n",
            "583:\tlearn: 0.1948529\ttest: 0.4711589\tbest: 0.4710645 (519)\ttotal: 41.6s\tremaining: 29.6s\n",
            "584:\tlearn: 0.1941468\ttest: 0.4712649\tbest: 0.4710645 (519)\ttotal: 41.7s\tremaining: 29.6s\n",
            "585:\tlearn: 0.1940326\ttest: 0.4711997\tbest: 0.4710645 (519)\ttotal: 41.8s\tremaining: 29.5s\n",
            "586:\tlearn: 0.1939254\ttest: 0.4711800\tbest: 0.4710645 (519)\ttotal: 41.9s\tremaining: 29.5s\n",
            "587:\tlearn: 0.1937445\ttest: 0.4713559\tbest: 0.4710645 (519)\ttotal: 42.1s\tremaining: 29.5s\n",
            "588:\tlearn: 0.1933659\ttest: 0.4717995\tbest: 0.4710645 (519)\ttotal: 42.1s\tremaining: 29.4s\n",
            "589:\tlearn: 0.1931764\ttest: 0.4717717\tbest: 0.4710645 (519)\ttotal: 42.3s\tremaining: 29.4s\n",
            "590:\tlearn: 0.1930702\ttest: 0.4717517\tbest: 0.4710645 (519)\ttotal: 42.4s\tremaining: 29.3s\n",
            "591:\tlearn: 0.1925854\ttest: 0.4722512\tbest: 0.4710645 (519)\ttotal: 42.5s\tremaining: 29.3s\n",
            "592:\tlearn: 0.1924805\ttest: 0.4722325\tbest: 0.4710645 (519)\ttotal: 42.6s\tremaining: 29.2s\n",
            "593:\tlearn: 0.1923764\ttest: 0.4722444\tbest: 0.4710645 (519)\ttotal: 42.7s\tremaining: 29.2s\n",
            "594:\tlearn: 0.1922705\ttest: 0.4722043\tbest: 0.4710645 (519)\ttotal: 42.8s\tremaining: 29.1s\n",
            "595:\tlearn: 0.1920950\ttest: 0.4723241\tbest: 0.4710645 (519)\ttotal: 42.9s\tremaining: 29.1s\n",
            "596:\tlearn: 0.1916067\ttest: 0.4724244\tbest: 0.4710645 (519)\ttotal: 43s\tremaining: 29s\n",
            "597:\tlearn: 0.1914926\ttest: 0.4724469\tbest: 0.4710645 (519)\ttotal: 43.1s\tremaining: 29s\n",
            "598:\tlearn: 0.1908958\ttest: 0.4721513\tbest: 0.4710645 (519)\ttotal: 43.2s\tremaining: 28.9s\n",
            "599:\tlearn: 0.1907895\ttest: 0.4721126\tbest: 0.4710645 (519)\ttotal: 43.3s\tremaining: 28.9s\n",
            "600:\tlearn: 0.1903058\ttest: 0.4716319\tbest: 0.4710645 (519)\ttotal: 43.4s\tremaining: 28.8s\n",
            "601:\tlearn: 0.1902007\ttest: 0.4715731\tbest: 0.4710645 (519)\ttotal: 43.6s\tremaining: 28.8s\n",
            "602:\tlearn: 0.1895496\ttest: 0.4712758\tbest: 0.4710645 (519)\ttotal: 43.7s\tremaining: 28.8s\n",
            "603:\tlearn: 0.1894454\ttest: 0.4712378\tbest: 0.4710645 (519)\ttotal: 43.8s\tremaining: 28.7s\n",
            "604:\tlearn: 0.1892811\ttest: 0.4708982\tbest: 0.4708982 (604)\ttotal: 43.9s\tremaining: 28.7s\n",
            "605:\tlearn: 0.1890224\ttest: 0.4708558\tbest: 0.4708558 (605)\ttotal: 44s\tremaining: 28.6s\n",
            "606:\tlearn: 0.1887081\ttest: 0.4711457\tbest: 0.4708558 (605)\ttotal: 44.1s\tremaining: 28.6s\n",
            "607:\tlearn: 0.1883270\ttest: 0.4708248\tbest: 0.4708248 (607)\ttotal: 44.2s\tremaining: 28.5s\n",
            "608:\tlearn: 0.1882246\ttest: 0.4708546\tbest: 0.4708248 (607)\ttotal: 44.2s\tremaining: 28.4s\n",
            "609:\tlearn: 0.1880510\ttest: 0.4708346\tbest: 0.4708248 (607)\ttotal: 44.3s\tremaining: 28.3s\n",
            "610:\tlearn: 0.1879516\ttest: 0.4708193\tbest: 0.4708193 (610)\ttotal: 44.4s\tremaining: 28.2s\n",
            "611:\tlearn: 0.1873925\ttest: 0.4708061\tbest: 0.4708061 (611)\ttotal: 44.4s\tremaining: 28.2s\n",
            "612:\tlearn: 0.1873000\ttest: 0.4707904\tbest: 0.4707904 (612)\ttotal: 44.5s\tremaining: 28.1s\n",
            "613:\tlearn: 0.1868286\ttest: 0.4709862\tbest: 0.4707904 (612)\ttotal: 44.6s\tremaining: 28s\n",
            "614:\tlearn: 0.1867302\ttest: 0.4709682\tbest: 0.4707904 (612)\ttotal: 44.6s\tremaining: 27.9s\n",
            "615:\tlearn: 0.1862289\ttest: 0.4715375\tbest: 0.4707904 (612)\ttotal: 44.7s\tremaining: 27.9s\n",
            "616:\tlearn: 0.1860464\ttest: 0.4714235\tbest: 0.4707904 (612)\ttotal: 44.8s\tremaining: 27.8s\n",
            "617:\tlearn: 0.1854901\ttest: 0.4717848\tbest: 0.4707904 (612)\ttotal: 44.8s\tremaining: 27.7s\n",
            "618:\tlearn: 0.1851474\ttest: 0.4715086\tbest: 0.4707904 (612)\ttotal: 44.9s\tremaining: 27.6s\n",
            "619:\tlearn: 0.1850488\ttest: 0.4714902\tbest: 0.4707904 (612)\ttotal: 45s\tremaining: 27.6s\n",
            "620:\tlearn: 0.1849485\ttest: 0.4714507\tbest: 0.4707904 (612)\ttotal: 45s\tremaining: 27.5s\n",
            "621:\tlearn: 0.1848490\ttest: 0.4714118\tbest: 0.4707904 (612)\ttotal: 45.1s\tremaining: 27.4s\n",
            "622:\tlearn: 0.1842863\ttest: 0.4716059\tbest: 0.4707904 (612)\ttotal: 45.2s\tremaining: 27.3s\n",
            "623:\tlearn: 0.1841039\ttest: 0.4717011\tbest: 0.4707904 (612)\ttotal: 45.2s\tremaining: 27.3s\n",
            "624:\tlearn: 0.1837991\ttest: 0.4723389\tbest: 0.4707904 (612)\ttotal: 45.3s\tremaining: 27.2s\n",
            "625:\tlearn: 0.1835860\ttest: 0.4724944\tbest: 0.4707904 (612)\ttotal: 45.4s\tremaining: 27.1s\n",
            "626:\tlearn: 0.1834901\ttest: 0.4724746\tbest: 0.4707904 (612)\ttotal: 45.4s\tremaining: 27s\n",
            "627:\tlearn: 0.1833887\ttest: 0.4724129\tbest: 0.4707904 (612)\ttotal: 45.5s\tremaining: 27s\n",
            "628:\tlearn: 0.1832914\ttest: 0.4724393\tbest: 0.4707904 (612)\ttotal: 45.6s\tremaining: 26.9s\n",
            "629:\tlearn: 0.1830356\ttest: 0.4721659\tbest: 0.4707904 (612)\ttotal: 45.6s\tremaining: 26.8s\n",
            "630:\tlearn: 0.1828687\ttest: 0.4719796\tbest: 0.4707904 (612)\ttotal: 45.7s\tremaining: 26.7s\n",
            "631:\tlearn: 0.1827675\ttest: 0.4719340\tbest: 0.4707904 (612)\ttotal: 45.8s\tremaining: 26.6s\n",
            "632:\tlearn: 0.1824813\ttest: 0.4720224\tbest: 0.4707904 (612)\ttotal: 45.8s\tremaining: 26.6s\n",
            "633:\tlearn: 0.1821017\ttest: 0.4725495\tbest: 0.4707904 (612)\ttotal: 45.9s\tremaining: 26.5s\n",
            "634:\tlearn: 0.1818395\ttest: 0.4726830\tbest: 0.4707904 (612)\ttotal: 45.9s\tremaining: 26.4s\n",
            "635:\tlearn: 0.1816987\ttest: 0.4727938\tbest: 0.4707904 (612)\ttotal: 46s\tremaining: 26.3s\n",
            "636:\tlearn: 0.1816017\ttest: 0.4726509\tbest: 0.4707904 (612)\ttotal: 46.1s\tremaining: 26.3s\n",
            "637:\tlearn: 0.1812240\ttest: 0.4723823\tbest: 0.4707904 (612)\ttotal: 46.2s\tremaining: 26.2s\n",
            "638:\tlearn: 0.1807752\ttest: 0.4728991\tbest: 0.4707904 (612)\ttotal: 46.2s\tremaining: 26.1s\n",
            "639:\tlearn: 0.1805298\ttest: 0.4729947\tbest: 0.4707904 (612)\ttotal: 46.3s\tremaining: 26s\n",
            "640:\tlearn: 0.1803694\ttest: 0.4729816\tbest: 0.4707904 (612)\ttotal: 46.3s\tremaining: 26s\n",
            "641:\tlearn: 0.1798749\ttest: 0.4728348\tbest: 0.4707904 (612)\ttotal: 46.4s\tremaining: 25.9s\n",
            "642:\tlearn: 0.1797812\ttest: 0.4729090\tbest: 0.4707904 (612)\ttotal: 46.5s\tremaining: 25.8s\n",
            "643:\tlearn: 0.1789932\ttest: 0.4726182\tbest: 0.4707904 (612)\ttotal: 46.6s\tremaining: 25.7s\n",
            "644:\tlearn: 0.1788549\ttest: 0.4727952\tbest: 0.4707904 (612)\ttotal: 46.6s\tremaining: 25.7s\n",
            "645:\tlearn: 0.1787649\ttest: 0.4727535\tbest: 0.4707904 (612)\ttotal: 46.7s\tremaining: 25.6s\n",
            "646:\tlearn: 0.1786782\ttest: 0.4727431\tbest: 0.4707904 (612)\ttotal: 46.7s\tremaining: 25.5s\n",
            "647:\tlearn: 0.1785885\ttest: 0.4726006\tbest: 0.4707904 (612)\ttotal: 46.8s\tremaining: 25.4s\n",
            "648:\tlearn: 0.1784953\ttest: 0.4725590\tbest: 0.4707904 (612)\ttotal: 46.9s\tremaining: 25.4s\n",
            "649:\tlearn: 0.1784108\ttest: 0.4726833\tbest: 0.4707904 (612)\ttotal: 46.9s\tremaining: 25.3s\n",
            "650:\tlearn: 0.1782575\ttest: 0.4727151\tbest: 0.4707904 (612)\ttotal: 47s\tremaining: 25.2s\n",
            "651:\tlearn: 0.1780071\ttest: 0.4726860\tbest: 0.4707904 (612)\ttotal: 47.1s\tremaining: 25.1s\n",
            "652:\tlearn: 0.1777786\ttest: 0.4725678\tbest: 0.4707904 (612)\ttotal: 47.1s\tremaining: 25.1s\n",
            "653:\tlearn: 0.1776841\ttest: 0.4725072\tbest: 0.4707904 (612)\ttotal: 47.2s\tremaining: 25s\n",
            "654:\tlearn: 0.1771873\ttest: 0.4721112\tbest: 0.4707904 (612)\ttotal: 47.3s\tremaining: 24.9s\n",
            "655:\tlearn: 0.1770946\ttest: 0.4721118\tbest: 0.4707904 (612)\ttotal: 47.3s\tremaining: 24.8s\n",
            "656:\tlearn: 0.1770061\ttest: 0.4721594\tbest: 0.4707904 (612)\ttotal: 47.4s\tremaining: 24.8s\n",
            "657:\tlearn: 0.1769115\ttest: 0.4721197\tbest: 0.4707904 (612)\ttotal: 47.5s\tremaining: 24.7s\n",
            "658:\tlearn: 0.1768245\ttest: 0.4722333\tbest: 0.4707904 (612)\ttotal: 47.5s\tremaining: 24.6s\n",
            "659:\tlearn: 0.1763591\ttest: 0.4724702\tbest: 0.4707904 (612)\ttotal: 47.6s\tremaining: 24.5s\n",
            "660:\tlearn: 0.1759092\ttest: 0.4728553\tbest: 0.4707904 (612)\ttotal: 47.7s\tremaining: 24.4s\n",
            "661:\tlearn: 0.1757520\ttest: 0.4726713\tbest: 0.4707904 (612)\ttotal: 47.7s\tremaining: 24.4s\n",
            "662:\tlearn: 0.1755805\ttest: 0.4725945\tbest: 0.4707904 (612)\ttotal: 47.8s\tremaining: 24.3s\n",
            "663:\tlearn: 0.1753667\ttest: 0.4728237\tbest: 0.4707904 (612)\ttotal: 47.9s\tremaining: 24.2s\n",
            "664:\tlearn: 0.1749932\ttest: 0.4720127\tbest: 0.4707904 (612)\ttotal: 47.9s\tremaining: 24.1s\n",
            "665:\tlearn: 0.1748634\ttest: 0.4719833\tbest: 0.4707904 (612)\ttotal: 48s\tremaining: 24.1s\n",
            "666:\tlearn: 0.1743860\ttest: 0.4719611\tbest: 0.4707904 (612)\ttotal: 48.1s\tremaining: 24s\n",
            "667:\tlearn: 0.1742986\ttest: 0.4718642\tbest: 0.4707904 (612)\ttotal: 48.1s\tremaining: 23.9s\n",
            "668:\tlearn: 0.1742097\ttest: 0.4718253\tbest: 0.4707904 (612)\ttotal: 48.2s\tremaining: 23.8s\n",
            "669:\tlearn: 0.1738933\ttest: 0.4719825\tbest: 0.4707904 (612)\ttotal: 48.3s\tremaining: 23.8s\n",
            "670:\tlearn: 0.1737439\ttest: 0.4721596\tbest: 0.4707904 (612)\ttotal: 48.3s\tremaining: 23.7s\n",
            "671:\tlearn: 0.1736554\ttest: 0.4721209\tbest: 0.4707904 (612)\ttotal: 48.4s\tremaining: 23.6s\n",
            "672:\tlearn: 0.1731052\ttest: 0.4724678\tbest: 0.4707904 (612)\ttotal: 48.5s\tremaining: 23.5s\n",
            "673:\tlearn: 0.1730172\ttest: 0.4724290\tbest: 0.4707904 (612)\ttotal: 48.5s\tremaining: 23.5s\n",
            "674:\tlearn: 0.1728640\ttest: 0.4725003\tbest: 0.4707904 (612)\ttotal: 48.6s\tremaining: 23.4s\n",
            "675:\tlearn: 0.1727799\ttest: 0.4724547\tbest: 0.4707904 (612)\ttotal: 48.6s\tremaining: 23.3s\n",
            "676:\tlearn: 0.1726552\ttest: 0.4724222\tbest: 0.4707904 (612)\ttotal: 48.7s\tremaining: 23.2s\n",
            "677:\tlearn: 0.1721911\ttest: 0.4727400\tbest: 0.4707904 (612)\ttotal: 48.8s\tremaining: 23.2s\n",
            "678:\tlearn: 0.1720029\ttest: 0.4726834\tbest: 0.4707904 (612)\ttotal: 48.8s\tremaining: 23.1s\n",
            "679:\tlearn: 0.1717020\ttest: 0.4727809\tbest: 0.4707904 (612)\ttotal: 48.9s\tremaining: 23s\n",
            "680:\tlearn: 0.1716203\ttest: 0.4727438\tbest: 0.4707904 (612)\ttotal: 49s\tremaining: 22.9s\n",
            "681:\tlearn: 0.1711943\ttest: 0.4725510\tbest: 0.4707904 (612)\ttotal: 49s\tremaining: 22.9s\n",
            "682:\tlearn: 0.1711035\ttest: 0.4724695\tbest: 0.4707904 (612)\ttotal: 49.1s\tremaining: 22.8s\n",
            "683:\tlearn: 0.1709220\ttest: 0.4726722\tbest: 0.4707904 (612)\ttotal: 49.2s\tremaining: 22.7s\n",
            "684:\tlearn: 0.1707852\ttest: 0.4727518\tbest: 0.4707904 (612)\ttotal: 49.2s\tremaining: 22.6s\n",
            "685:\tlearn: 0.1706997\ttest: 0.4727129\tbest: 0.4707904 (612)\ttotal: 49.3s\tremaining: 22.6s\n",
            "686:\tlearn: 0.1706098\ttest: 0.4726725\tbest: 0.4707904 (612)\ttotal: 49.4s\tremaining: 22.5s\n",
            "687:\tlearn: 0.1705205\ttest: 0.4726093\tbest: 0.4707904 (612)\ttotal: 49.4s\tremaining: 22.4s\n",
            "688:\tlearn: 0.1703012\ttest: 0.4729405\tbest: 0.4707904 (612)\ttotal: 49.5s\tremaining: 22.3s\n",
            "689:\tlearn: 0.1701515\ttest: 0.4729020\tbest: 0.4707904 (612)\ttotal: 49.6s\tremaining: 22.3s\n",
            "690:\tlearn: 0.1700730\ttest: 0.4728665\tbest: 0.4707904 (612)\ttotal: 49.6s\tremaining: 22.2s\n",
            "691:\tlearn: 0.1699113\ttest: 0.4728967\tbest: 0.4707904 (612)\ttotal: 49.7s\tremaining: 22.1s\n",
            "692:\tlearn: 0.1695045\ttest: 0.4733711\tbest: 0.4707904 (612)\ttotal: 49.8s\tremaining: 22s\n",
            "693:\tlearn: 0.1689616\ttest: 0.4743710\tbest: 0.4707904 (612)\ttotal: 49.8s\tremaining: 22s\n",
            "694:\tlearn: 0.1688745\ttest: 0.4743365\tbest: 0.4707904 (612)\ttotal: 49.9s\tremaining: 21.9s\n",
            "695:\tlearn: 0.1685885\ttest: 0.4744550\tbest: 0.4707904 (612)\ttotal: 50s\tremaining: 21.8s\n",
            "696:\tlearn: 0.1684837\ttest: 0.4744768\tbest: 0.4707904 (612)\ttotal: 50s\tremaining: 21.7s\n",
            "697:\tlearn: 0.1684008\ttest: 0.4743610\tbest: 0.4707904 (612)\ttotal: 50.1s\tremaining: 21.7s\n",
            "698:\tlearn: 0.1683186\ttest: 0.4743220\tbest: 0.4707904 (612)\ttotal: 50.1s\tremaining: 21.6s\n",
            "699:\tlearn: 0.1679716\ttest: 0.4740714\tbest: 0.4707904 (612)\ttotal: 50.2s\tremaining: 21.5s\n",
            "700:\tlearn: 0.1678773\ttest: 0.4739766\tbest: 0.4707904 (612)\ttotal: 50.3s\tremaining: 21.4s\n",
            "701:\tlearn: 0.1676118\ttest: 0.4743100\tbest: 0.4707904 (612)\ttotal: 50.3s\tremaining: 21.4s\n",
            "702:\tlearn: 0.1674722\ttest: 0.4742478\tbest: 0.4707904 (612)\ttotal: 50.4s\tremaining: 21.3s\n",
            "703:\tlearn: 0.1671293\ttest: 0.4740019\tbest: 0.4707904 (612)\ttotal: 50.5s\tremaining: 21.2s\n",
            "704:\tlearn: 0.1667160\ttest: 0.4742752\tbest: 0.4707904 (612)\ttotal: 50.5s\tremaining: 21.1s\n",
            "705:\tlearn: 0.1663343\ttest: 0.4747266\tbest: 0.4707904 (612)\ttotal: 50.6s\tremaining: 21.1s\n",
            "706:\tlearn: 0.1660460\ttest: 0.4745654\tbest: 0.4707904 (612)\ttotal: 50.7s\tremaining: 21s\n",
            "707:\tlearn: 0.1657239\ttest: 0.4747892\tbest: 0.4707904 (612)\ttotal: 50.7s\tremaining: 20.9s\n",
            "708:\tlearn: 0.1656388\ttest: 0.4746545\tbest: 0.4707904 (612)\ttotal: 50.8s\tremaining: 20.8s\n",
            "709:\tlearn: 0.1654200\ttest: 0.4753036\tbest: 0.4707904 (612)\ttotal: 50.9s\tremaining: 20.8s\n",
            "710:\tlearn: 0.1652564\ttest: 0.4752366\tbest: 0.4707904 (612)\ttotal: 50.9s\tremaining: 20.7s\n",
            "711:\tlearn: 0.1651402\ttest: 0.4752207\tbest: 0.4707904 (612)\ttotal: 51s\tremaining: 20.6s\n",
            "712:\tlearn: 0.1650607\ttest: 0.4751832\tbest: 0.4707904 (612)\ttotal: 51s\tremaining: 20.5s\n",
            "713:\tlearn: 0.1649825\ttest: 0.4751660\tbest: 0.4707904 (612)\ttotal: 51.1s\tremaining: 20.5s\n",
            "714:\tlearn: 0.1645162\ttest: 0.4753147\tbest: 0.4707904 (612)\ttotal: 51.2s\tremaining: 20.4s\n",
            "715:\tlearn: 0.1641170\ttest: 0.4751154\tbest: 0.4707904 (612)\ttotal: 51.3s\tremaining: 20.3s\n",
            "716:\tlearn: 0.1637584\ttest: 0.4752297\tbest: 0.4707904 (612)\ttotal: 51.3s\tremaining: 20.3s\n",
            "717:\tlearn: 0.1635810\ttest: 0.4751993\tbest: 0.4707904 (612)\ttotal: 51.4s\tremaining: 20.2s\n",
            "718:\tlearn: 0.1632248\ttest: 0.4752894\tbest: 0.4707904 (612)\ttotal: 51.4s\tremaining: 20.1s\n",
            "719:\tlearn: 0.1629152\ttest: 0.4751756\tbest: 0.4707904 (612)\ttotal: 51.5s\tremaining: 20s\n",
            "720:\tlearn: 0.1627817\ttest: 0.4750595\tbest: 0.4707904 (612)\ttotal: 51.6s\tremaining: 20s\n",
            "721:\tlearn: 0.1626936\ttest: 0.4751255\tbest: 0.4707904 (612)\ttotal: 51.6s\tremaining: 19.9s\n",
            "722:\tlearn: 0.1626180\ttest: 0.4750699\tbest: 0.4707904 (612)\ttotal: 51.7s\tremaining: 19.8s\n",
            "723:\tlearn: 0.1623103\ttest: 0.4751394\tbest: 0.4707904 (612)\ttotal: 51.8s\tremaining: 19.7s\n",
            "724:\tlearn: 0.1620638\ttest: 0.4752803\tbest: 0.4707904 (612)\ttotal: 51.8s\tremaining: 19.7s\n",
            "725:\tlearn: 0.1619851\ttest: 0.4752442\tbest: 0.4707904 (612)\ttotal: 51.9s\tremaining: 19.6s\n",
            "726:\tlearn: 0.1619091\ttest: 0.4752284\tbest: 0.4707904 (612)\ttotal: 52s\tremaining: 19.5s\n",
            "727:\tlearn: 0.1615714\ttest: 0.4751061\tbest: 0.4707904 (612)\ttotal: 52s\tremaining: 19.4s\n",
            "728:\tlearn: 0.1614394\ttest: 0.4750410\tbest: 0.4707904 (612)\ttotal: 52.1s\tremaining: 19.4s\n",
            "729:\tlearn: 0.1612760\ttest: 0.4749251\tbest: 0.4707904 (612)\ttotal: 52.2s\tremaining: 19.3s\n",
            "730:\tlearn: 0.1608339\ttest: 0.4750571\tbest: 0.4707904 (612)\ttotal: 52.2s\tremaining: 19.2s\n",
            "731:\tlearn: 0.1607565\ttest: 0.4750446\tbest: 0.4707904 (612)\ttotal: 52.3s\tremaining: 19.1s\n",
            "732:\tlearn: 0.1605605\ttest: 0.4751365\tbest: 0.4707904 (612)\ttotal: 52.4s\tremaining: 19.1s\n",
            "733:\tlearn: 0.1602132\ttest: 0.4752173\tbest: 0.4707904 (612)\ttotal: 52.4s\tremaining: 19s\n",
            "734:\tlearn: 0.1598253\ttest: 0.4755629\tbest: 0.4707904 (612)\ttotal: 52.5s\tremaining: 18.9s\n",
            "735:\tlearn: 0.1597483\ttest: 0.4754553\tbest: 0.4707904 (612)\ttotal: 52.6s\tremaining: 18.9s\n",
            "736:\tlearn: 0.1596739\ttest: 0.4754834\tbest: 0.4707904 (612)\ttotal: 52.6s\tremaining: 18.8s\n",
            "737:\tlearn: 0.1595449\ttest: 0.4754324\tbest: 0.4707904 (612)\ttotal: 52.7s\tremaining: 18.7s\n",
            "738:\tlearn: 0.1594757\ttest: 0.4755474\tbest: 0.4707904 (612)\ttotal: 52.7s\tremaining: 18.6s\n",
            "739:\tlearn: 0.1594025\ttest: 0.4755328\tbest: 0.4707904 (612)\ttotal: 52.8s\tremaining: 18.6s\n",
            "740:\tlearn: 0.1593280\ttest: 0.4754988\tbest: 0.4707904 (612)\ttotal: 52.9s\tremaining: 18.5s\n",
            "741:\tlearn: 0.1589832\ttest: 0.4761166\tbest: 0.4707904 (612)\ttotal: 52.9s\tremaining: 18.4s\n",
            "742:\tlearn: 0.1588556\ttest: 0.4761607\tbest: 0.4707904 (612)\ttotal: 53s\tremaining: 18.3s\n",
            "743:\tlearn: 0.1584511\ttest: 0.4760618\tbest: 0.4707904 (612)\ttotal: 53.1s\tremaining: 18.3s\n",
            "744:\tlearn: 0.1580464\ttest: 0.4753946\tbest: 0.4707904 (612)\ttotal: 53.1s\tremaining: 18.2s\n",
            "745:\tlearn: 0.1579720\ttest: 0.4753585\tbest: 0.4707904 (612)\ttotal: 53.2s\tremaining: 18.1s\n",
            "746:\tlearn: 0.1573741\ttest: 0.4750174\tbest: 0.4707904 (612)\ttotal: 53.3s\tremaining: 18s\n",
            "747:\tlearn: 0.1568168\ttest: 0.4749479\tbest: 0.4707904 (612)\ttotal: 53.3s\tremaining: 18s\n",
            "748:\tlearn: 0.1567403\ttest: 0.4748911\tbest: 0.4707904 (612)\ttotal: 53.4s\tremaining: 17.9s\n",
            "749:\tlearn: 0.1565067\ttest: 0.4753975\tbest: 0.4707904 (612)\ttotal: 53.5s\tremaining: 17.8s\n",
            "750:\tlearn: 0.1561586\ttest: 0.4749407\tbest: 0.4707904 (612)\ttotal: 53.5s\tremaining: 17.7s\n",
            "751:\tlearn: 0.1557242\ttest: 0.4750073\tbest: 0.4707904 (612)\ttotal: 53.6s\tremaining: 17.7s\n",
            "752:\tlearn: 0.1556550\ttest: 0.4749728\tbest: 0.4707904 (612)\ttotal: 53.7s\tremaining: 17.6s\n",
            "753:\tlearn: 0.1553388\ttest: 0.4749003\tbest: 0.4707904 (612)\ttotal: 53.7s\tremaining: 17.5s\n",
            "754:\tlearn: 0.1548390\ttest: 0.4750943\tbest: 0.4707904 (612)\ttotal: 53.8s\tremaining: 17.5s\n",
            "755:\tlearn: 0.1544036\ttest: 0.4748554\tbest: 0.4707904 (612)\ttotal: 53.9s\tremaining: 17.4s\n",
            "756:\tlearn: 0.1543341\ttest: 0.4748640\tbest: 0.4707904 (612)\ttotal: 53.9s\tremaining: 17.3s\n",
            "757:\tlearn: 0.1542616\ttest: 0.4748277\tbest: 0.4707904 (612)\ttotal: 54s\tremaining: 17.2s\n",
            "758:\tlearn: 0.1541467\ttest: 0.4748012\tbest: 0.4707904 (612)\ttotal: 54.1s\tremaining: 17.2s\n",
            "759:\tlearn: 0.1540428\ttest: 0.4747907\tbest: 0.4707904 (612)\ttotal: 54.2s\tremaining: 17.1s\n",
            "760:\tlearn: 0.1539711\ttest: 0.4746855\tbest: 0.4707904 (612)\ttotal: 54.3s\tremaining: 17s\n",
            "761:\tlearn: 0.1537323\ttest: 0.4754740\tbest: 0.4707904 (612)\ttotal: 54.4s\tremaining: 17s\n",
            "762:\tlearn: 0.1532851\ttest: 0.4756722\tbest: 0.4707904 (612)\ttotal: 54.5s\tremaining: 16.9s\n",
            "763:\tlearn: 0.1531578\ttest: 0.4756190\tbest: 0.4707904 (612)\ttotal: 54.6s\tremaining: 16.9s\n",
            "764:\tlearn: 0.1530858\ttest: 0.4756366\tbest: 0.4707904 (612)\ttotal: 54.7s\tremaining: 16.8s\n",
            "765:\tlearn: 0.1530144\ttest: 0.4755995\tbest: 0.4707904 (612)\ttotal: 54.8s\tremaining: 16.7s\n",
            "766:\tlearn: 0.1528645\ttest: 0.4755506\tbest: 0.4707904 (612)\ttotal: 54.9s\tremaining: 16.7s\n",
            "767:\tlearn: 0.1527939\ttest: 0.4755138\tbest: 0.4707904 (612)\ttotal: 55s\tremaining: 16.6s\n",
            "768:\tlearn: 0.1526038\ttest: 0.4753307\tbest: 0.4707904 (612)\ttotal: 55.1s\tremaining: 16.6s\n",
            "769:\tlearn: 0.1525354\ttest: 0.4753137\tbest: 0.4707904 (612)\ttotal: 55.2s\tremaining: 16.5s\n",
            "770:\tlearn: 0.1520907\ttest: 0.4754736\tbest: 0.4707904 (612)\ttotal: 55.4s\tremaining: 16.4s\n",
            "771:\tlearn: 0.1520209\ttest: 0.4754379\tbest: 0.4707904 (612)\ttotal: 55.5s\tremaining: 16.4s\n",
            "772:\tlearn: 0.1518951\ttest: 0.4753837\tbest: 0.4707904 (612)\ttotal: 55.6s\tremaining: 16.3s\n",
            "773:\tlearn: 0.1516683\ttest: 0.4757328\tbest: 0.4707904 (612)\ttotal: 55.7s\tremaining: 16.3s\n",
            "774:\tlearn: 0.1515991\ttest: 0.4756054\tbest: 0.4707904 (612)\ttotal: 55.8s\tremaining: 16.2s\n",
            "775:\tlearn: 0.1514788\ttest: 0.4756104\tbest: 0.4707904 (612)\ttotal: 55.9s\tremaining: 16.1s\n",
            "776:\tlearn: 0.1514113\ttest: 0.4755934\tbest: 0.4707904 (612)\ttotal: 56s\tremaining: 16.1s\n",
            "777:\tlearn: 0.1510724\ttest: 0.4760360\tbest: 0.4707904 (612)\ttotal: 56.1s\tremaining: 16s\n",
            "778:\tlearn: 0.1509688\ttest: 0.4761007\tbest: 0.4707904 (612)\ttotal: 56.2s\tremaining: 16s\n",
            "779:\tlearn: 0.1508443\ttest: 0.4763244\tbest: 0.4707904 (612)\ttotal: 56.3s\tremaining: 15.9s\n",
            "780:\tlearn: 0.1506867\ttest: 0.4763205\tbest: 0.4707904 (612)\ttotal: 56.5s\tremaining: 15.8s\n",
            "781:\tlearn: 0.1504377\ttest: 0.4761072\tbest: 0.4707904 (612)\ttotal: 56.6s\tremaining: 15.8s\n",
            "782:\tlearn: 0.1503692\ttest: 0.4761142\tbest: 0.4707904 (612)\ttotal: 56.7s\tremaining: 15.7s\n",
            "783:\tlearn: 0.1502764\ttest: 0.4761403\tbest: 0.4707904 (612)\ttotal: 56.8s\tremaining: 15.6s\n",
            "784:\tlearn: 0.1502066\ttest: 0.4760845\tbest: 0.4707904 (612)\ttotal: 56.9s\tremaining: 15.6s\n",
            "785:\tlearn: 0.1498779\ttest: 0.4762893\tbest: 0.4707904 (612)\ttotal: 56.9s\tremaining: 15.5s\n",
            "786:\tlearn: 0.1495615\ttest: 0.4764484\tbest: 0.4707904 (612)\ttotal: 57s\tremaining: 15.4s\n",
            "787:\tlearn: 0.1494999\ttest: 0.4764150\tbest: 0.4707904 (612)\ttotal: 57.1s\tremaining: 15.3s\n",
            "788:\tlearn: 0.1492082\ttest: 0.4761204\tbest: 0.4707904 (612)\ttotal: 57.1s\tremaining: 15.3s\n",
            "789:\tlearn: 0.1490532\ttest: 0.4762280\tbest: 0.4707904 (612)\ttotal: 57.2s\tremaining: 15.2s\n",
            "790:\tlearn: 0.1489435\ttest: 0.4761683\tbest: 0.4707904 (612)\ttotal: 57.2s\tremaining: 15.1s\n",
            "791:\tlearn: 0.1488785\ttest: 0.4761528\tbest: 0.4707904 (612)\ttotal: 57.3s\tremaining: 15.1s\n",
            "792:\tlearn: 0.1486048\ttest: 0.4758934\tbest: 0.4707904 (612)\ttotal: 57.4s\tremaining: 15s\n",
            "793:\tlearn: 0.1482565\ttest: 0.4762052\tbest: 0.4707904 (612)\ttotal: 57.4s\tremaining: 14.9s\n",
            "794:\tlearn: 0.1477805\ttest: 0.4764793\tbest: 0.4707904 (612)\ttotal: 57.5s\tremaining: 14.8s\n",
            "795:\tlearn: 0.1477237\ttest: 0.4764458\tbest: 0.4707904 (612)\ttotal: 57.6s\tremaining: 14.8s\n",
            "796:\tlearn: 0.1473167\ttest: 0.4769820\tbest: 0.4707904 (612)\ttotal: 57.6s\tremaining: 14.7s\n",
            "797:\tlearn: 0.1471757\ttest: 0.4768731\tbest: 0.4707904 (612)\ttotal: 57.7s\tremaining: 14.6s\n",
            "798:\tlearn: 0.1470667\ttest: 0.4768330\tbest: 0.4707904 (612)\ttotal: 57.8s\tremaining: 14.5s\n",
            "799:\tlearn: 0.1469137\ttest: 0.4768137\tbest: 0.4707904 (612)\ttotal: 57.8s\tremaining: 14.5s\n",
            "800:\tlearn: 0.1466128\ttest: 0.4771049\tbest: 0.4707904 (612)\ttotal: 57.9s\tremaining: 14.4s\n",
            "801:\tlearn: 0.1465443\ttest: 0.4770652\tbest: 0.4707904 (612)\ttotal: 58s\tremaining: 14.3s\n",
            "802:\tlearn: 0.1462527\ttest: 0.4768714\tbest: 0.4707904 (612)\ttotal: 58s\tremaining: 14.2s\n",
            "803:\tlearn: 0.1461866\ttest: 0.4768321\tbest: 0.4707904 (612)\ttotal: 58.1s\tremaining: 14.2s\n",
            "804:\tlearn: 0.1458033\ttest: 0.4766261\tbest: 0.4707904 (612)\ttotal: 58.2s\tremaining: 14.1s\n",
            "805:\tlearn: 0.1457379\ttest: 0.4765879\tbest: 0.4707904 (612)\ttotal: 58.2s\tremaining: 14s\n",
            "806:\tlearn: 0.1454502\ttest: 0.4767114\tbest: 0.4707904 (612)\ttotal: 58.3s\tremaining: 13.9s\n",
            "807:\tlearn: 0.1453496\ttest: 0.4766787\tbest: 0.4707904 (612)\ttotal: 58.4s\tremaining: 13.9s\n",
            "808:\tlearn: 0.1452884\ttest: 0.4766420\tbest: 0.4707904 (612)\ttotal: 58.4s\tremaining: 13.8s\n",
            "809:\tlearn: 0.1452236\ttest: 0.4766046\tbest: 0.4707904 (612)\ttotal: 58.5s\tremaining: 13.7s\n",
            "810:\tlearn: 0.1450137\ttest: 0.4770544\tbest: 0.4707904 (612)\ttotal: 58.6s\tremaining: 13.6s\n",
            "811:\tlearn: 0.1449448\ttest: 0.4770405\tbest: 0.4707904 (612)\ttotal: 58.6s\tremaining: 13.6s\n",
            "812:\tlearn: 0.1445239\ttest: 0.4773501\tbest: 0.4707904 (612)\ttotal: 58.7s\tremaining: 13.5s\n",
            "813:\tlearn: 0.1444121\ttest: 0.4772979\tbest: 0.4707904 (612)\ttotal: 58.8s\tremaining: 13.4s\n",
            "814:\tlearn: 0.1442527\ttest: 0.4772954\tbest: 0.4707904 (612)\ttotal: 58.8s\tremaining: 13.4s\n",
            "815:\tlearn: 0.1441888\ttest: 0.4773022\tbest: 0.4707904 (612)\ttotal: 58.9s\tremaining: 13.3s\n",
            "816:\tlearn: 0.1438453\ttest: 0.4768650\tbest: 0.4707904 (612)\ttotal: 59s\tremaining: 13.2s\n",
            "817:\tlearn: 0.1437835\ttest: 0.4768484\tbest: 0.4707904 (612)\ttotal: 59s\tremaining: 13.1s\n",
            "818:\tlearn: 0.1437205\ttest: 0.4768131\tbest: 0.4707904 (612)\ttotal: 59.1s\tremaining: 13.1s\n",
            "819:\tlearn: 0.1436579\ttest: 0.4767785\tbest: 0.4707904 (612)\ttotal: 59.1s\tremaining: 13s\n",
            "820:\tlearn: 0.1435957\ttest: 0.4767954\tbest: 0.4707904 (612)\ttotal: 59.2s\tremaining: 12.9s\n",
            "821:\tlearn: 0.1432896\ttest: 0.4771730\tbest: 0.4707904 (612)\ttotal: 59.3s\tremaining: 12.8s\n",
            "822:\tlearn: 0.1431833\ttest: 0.4771135\tbest: 0.4707904 (612)\ttotal: 59.3s\tremaining: 12.8s\n",
            "823:\tlearn: 0.1431214\ttest: 0.4770806\tbest: 0.4707904 (612)\ttotal: 59.4s\tremaining: 12.7s\n",
            "824:\tlearn: 0.1429557\ttest: 0.4772840\tbest: 0.4707904 (612)\ttotal: 59.5s\tremaining: 12.6s\n",
            "825:\tlearn: 0.1427251\ttest: 0.4774816\tbest: 0.4707904 (612)\ttotal: 59.5s\tremaining: 12.5s\n",
            "826:\tlearn: 0.1424447\ttest: 0.4771489\tbest: 0.4707904 (612)\ttotal: 59.6s\tremaining: 12.5s\n",
            "827:\tlearn: 0.1422876\ttest: 0.4773147\tbest: 0.4707904 (612)\ttotal: 59.7s\tremaining: 12.4s\n",
            "828:\tlearn: 0.1419804\ttest: 0.4777499\tbest: 0.4707904 (612)\ttotal: 59.7s\tremaining: 12.3s\n",
            "829:\tlearn: 0.1416681\ttest: 0.4779733\tbest: 0.4707904 (612)\ttotal: 59.8s\tremaining: 12.2s\n",
            "830:\tlearn: 0.1415594\ttest: 0.4779225\tbest: 0.4707904 (612)\ttotal: 59.9s\tremaining: 12.2s\n",
            "831:\tlearn: 0.1411563\ttest: 0.4779405\tbest: 0.4707904 (612)\ttotal: 59.9s\tremaining: 12.1s\n",
            "832:\tlearn: 0.1410579\ttest: 0.4778665\tbest: 0.4707904 (612)\ttotal: 60s\tremaining: 12s\n",
            "833:\tlearn: 0.1410030\ttest: 0.4777684\tbest: 0.4707904 (612)\ttotal: 1m\tremaining: 12s\n",
            "834:\tlearn: 0.1409416\ttest: 0.4777337\tbest: 0.4707904 (612)\ttotal: 1m\tremaining: 11.9s\n",
            "835:\tlearn: 0.1407679\ttest: 0.4778052\tbest: 0.4707904 (612)\ttotal: 1m\tremaining: 11.8s\n",
            "836:\tlearn: 0.1407047\ttest: 0.4777523\tbest: 0.4707904 (612)\ttotal: 1m\tremaining: 11.7s\n",
            "837:\tlearn: 0.1406442\ttest: 0.4777191\tbest: 0.4707904 (612)\ttotal: 1m\tremaining: 11.7s\n",
            "838:\tlearn: 0.1404277\ttest: 0.4776193\tbest: 0.4707904 (612)\ttotal: 1m\tremaining: 11.6s\n",
            "839:\tlearn: 0.1403676\ttest: 0.4776072\tbest: 0.4707904 (612)\ttotal: 1m\tremaining: 11.5s\n",
            "840:\tlearn: 0.1402419\ttest: 0.4776386\tbest: 0.4707904 (612)\ttotal: 1m\tremaining: 11.4s\n",
            "841:\tlearn: 0.1399776\ttest: 0.4778034\tbest: 0.4707904 (612)\ttotal: 1m\tremaining: 11.4s\n",
            "842:\tlearn: 0.1397071\ttest: 0.4777023\tbest: 0.4707904 (612)\ttotal: 1m\tremaining: 11.3s\n",
            "843:\tlearn: 0.1396008\ttest: 0.4775573\tbest: 0.4707904 (612)\ttotal: 1m\tremaining: 11.2s\n",
            "844:\tlearn: 0.1393118\ttest: 0.4772544\tbest: 0.4707904 (612)\ttotal: 1m\tremaining: 11.1s\n",
            "845:\tlearn: 0.1389283\ttest: 0.4772214\tbest: 0.4707904 (612)\ttotal: 1m\tremaining: 11.1s\n",
            "846:\tlearn: 0.1386675\ttest: 0.4773970\tbest: 0.4707904 (612)\ttotal: 1m\tremaining: 11s\n",
            "847:\tlearn: 0.1386087\ttest: 0.4774215\tbest: 0.4707904 (612)\ttotal: 1m\tremaining: 10.9s\n",
            "848:\tlearn: 0.1383308\ttest: 0.4783849\tbest: 0.4707904 (612)\ttotal: 1m 1s\tremaining: 10.9s\n",
            "849:\tlearn: 0.1379343\ttest: 0.4786843\tbest: 0.4707904 (612)\ttotal: 1m 1s\tremaining: 10.8s\n",
            "850:\tlearn: 0.1378747\ttest: 0.4786485\tbest: 0.4707904 (612)\ttotal: 1m 1s\tremaining: 10.7s\n",
            "851:\tlearn: 0.1377657\ttest: 0.4785926\tbest: 0.4707904 (612)\ttotal: 1m 1s\tremaining: 10.6s\n",
            "852:\tlearn: 0.1374877\ttest: 0.4791286\tbest: 0.4707904 (612)\ttotal: 1m 1s\tremaining: 10.6s\n",
            "853:\tlearn: 0.1373629\ttest: 0.4790704\tbest: 0.4707904 (612)\ttotal: 1m 1s\tremaining: 10.5s\n",
            "854:\tlearn: 0.1373016\ttest: 0.4790364\tbest: 0.4707904 (612)\ttotal: 1m 1s\tremaining: 10.4s\n",
            "855:\tlearn: 0.1371862\ttest: 0.4791638\tbest: 0.4707904 (612)\ttotal: 1m 1s\tremaining: 10.3s\n",
            "856:\tlearn: 0.1371272\ttest: 0.4791296\tbest: 0.4707904 (612)\ttotal: 1m 1s\tremaining: 10.3s\n",
            "857:\tlearn: 0.1367947\ttest: 0.4794104\tbest: 0.4707904 (612)\ttotal: 1m 1s\tremaining: 10.2s\n",
            "858:\tlearn: 0.1367377\ttest: 0.4793569\tbest: 0.4707904 (612)\ttotal: 1m 1s\tremaining: 10.1s\n",
            "859:\tlearn: 0.1366342\ttest: 0.4795607\tbest: 0.4707904 (612)\ttotal: 1m 1s\tremaining: 10.1s\n",
            "860:\tlearn: 0.1363628\ttest: 0.4796068\tbest: 0.4707904 (612)\ttotal: 1m 1s\tremaining: 9.98s\n",
            "861:\tlearn: 0.1361853\ttest: 0.4793648\tbest: 0.4707904 (612)\ttotal: 1m 1s\tremaining: 9.91s\n",
            "862:\tlearn: 0.1359260\ttest: 0.4794575\tbest: 0.4707904 (612)\ttotal: 1m 1s\tremaining: 9.84s\n",
            "863:\tlearn: 0.1357833\ttest: 0.4793856\tbest: 0.4707904 (612)\ttotal: 1m 2s\tremaining: 9.76s\n",
            "864:\tlearn: 0.1355256\ttest: 0.4795869\tbest: 0.4707904 (612)\ttotal: 1m 2s\tremaining: 9.69s\n",
            "865:\tlearn: 0.1354671\ttest: 0.4795680\tbest: 0.4707904 (612)\ttotal: 1m 2s\tremaining: 9.62s\n",
            "866:\tlearn: 0.1351364\ttest: 0.4798203\tbest: 0.4707904 (612)\ttotal: 1m 2s\tremaining: 9.55s\n",
            "867:\tlearn: 0.1346895\ttest: 0.4798751\tbest: 0.4707904 (612)\ttotal: 1m 2s\tremaining: 9.47s\n",
            "868:\tlearn: 0.1345786\ttest: 0.4800326\tbest: 0.4707904 (612)\ttotal: 1m 2s\tremaining: 9.4s\n",
            "869:\tlearn: 0.1344824\ttest: 0.4800229\tbest: 0.4707904 (612)\ttotal: 1m 2s\tremaining: 9.33s\n",
            "870:\tlearn: 0.1343678\ttest: 0.4799679\tbest: 0.4707904 (612)\ttotal: 1m 2s\tremaining: 9.25s\n",
            "871:\tlearn: 0.1343090\ttest: 0.4799486\tbest: 0.4707904 (612)\ttotal: 1m 2s\tremaining: 9.18s\n",
            "872:\tlearn: 0.1342109\ttest: 0.4799140\tbest: 0.4707904 (612)\ttotal: 1m 2s\tremaining: 9.11s\n",
            "873:\tlearn: 0.1341529\ttest: 0.4798757\tbest: 0.4707904 (612)\ttotal: 1m 2s\tremaining: 9.04s\n",
            "874:\tlearn: 0.1339879\ttest: 0.4799182\tbest: 0.4707904 (612)\ttotal: 1m 2s\tremaining: 8.96s\n",
            "875:\tlearn: 0.1339283\ttest: 0.4798865\tbest: 0.4707904 (612)\ttotal: 1m 2s\tremaining: 8.89s\n",
            "876:\tlearn: 0.1338487\ttest: 0.4800894\tbest: 0.4707904 (612)\ttotal: 1m 2s\tremaining: 8.82s\n",
            "877:\tlearn: 0.1336524\ttest: 0.4803598\tbest: 0.4707904 (612)\ttotal: 1m 2s\tremaining: 8.75s\n",
            "878:\tlearn: 0.1335956\ttest: 0.4803231\tbest: 0.4707904 (612)\ttotal: 1m 3s\tremaining: 8.67s\n",
            "879:\tlearn: 0.1333232\ttest: 0.4801210\tbest: 0.4707904 (612)\ttotal: 1m 3s\tremaining: 8.6s\n",
            "880:\tlearn: 0.1332348\ttest: 0.4800593\tbest: 0.4707904 (612)\ttotal: 1m 3s\tremaining: 8.53s\n",
            "881:\tlearn: 0.1331281\ttest: 0.4801399\tbest: 0.4707904 (612)\ttotal: 1m 3s\tremaining: 8.46s\n",
            "882:\tlearn: 0.1330694\ttest: 0.4800844\tbest: 0.4707904 (612)\ttotal: 1m 3s\tremaining: 8.38s\n",
            "883:\tlearn: 0.1330133\ttest: 0.4800487\tbest: 0.4707904 (612)\ttotal: 1m 3s\tremaining: 8.31s\n",
            "884:\tlearn: 0.1328640\ttest: 0.4801181\tbest: 0.4707904 (612)\ttotal: 1m 3s\tremaining: 8.24s\n",
            "885:\tlearn: 0.1328085\ttest: 0.4800834\tbest: 0.4707904 (612)\ttotal: 1m 3s\tremaining: 8.17s\n",
            "886:\tlearn: 0.1327554\ttest: 0.4800879\tbest: 0.4707904 (612)\ttotal: 1m 3s\tremaining: 8.09s\n",
            "887:\tlearn: 0.1327009\ttest: 0.4800545\tbest: 0.4707904 (612)\ttotal: 1m 3s\tremaining: 8.02s\n",
            "888:\tlearn: 0.1326118\ttest: 0.4799489\tbest: 0.4707904 (612)\ttotal: 1m 3s\tremaining: 7.95s\n",
            "889:\tlearn: 0.1322591\ttest: 0.4797011\tbest: 0.4707904 (612)\ttotal: 1m 3s\tremaining: 7.88s\n",
            "890:\tlearn: 0.1322060\ttest: 0.4796856\tbest: 0.4707904 (612)\ttotal: 1m 3s\tremaining: 7.8s\n",
            "891:\tlearn: 0.1319211\ttest: 0.4792097\tbest: 0.4707904 (612)\ttotal: 1m 3s\tremaining: 7.73s\n",
            "892:\tlearn: 0.1316443\ttest: 0.4786868\tbest: 0.4707904 (612)\ttotal: 1m 3s\tremaining: 7.66s\n",
            "893:\tlearn: 0.1315510\ttest: 0.4785460\tbest: 0.4707904 (612)\ttotal: 1m 3s\tremaining: 7.59s\n",
            "894:\tlearn: 0.1312817\ttest: 0.4781357\tbest: 0.4707904 (612)\ttotal: 1m 4s\tremaining: 7.51s\n",
            "895:\tlearn: 0.1310691\ttest: 0.4779733\tbest: 0.4707904 (612)\ttotal: 1m 4s\tremaining: 7.44s\n",
            "896:\tlearn: 0.1307531\ttest: 0.4779935\tbest: 0.4707904 (612)\ttotal: 1m 4s\tremaining: 7.37s\n",
            "897:\tlearn: 0.1306583\ttest: 0.4780645\tbest: 0.4707904 (612)\ttotal: 1m 4s\tremaining: 7.3s\n",
            "898:\tlearn: 0.1306051\ttest: 0.4780487\tbest: 0.4707904 (612)\ttotal: 1m 4s\tremaining: 7.22s\n",
            "899:\tlearn: 0.1305476\ttest: 0.4779951\tbest: 0.4707904 (612)\ttotal: 1m 4s\tremaining: 7.15s\n",
            "900:\tlearn: 0.1304955\ttest: 0.4779986\tbest: 0.4707904 (612)\ttotal: 1m 4s\tremaining: 7.08s\n",
            "901:\tlearn: 0.1303475\ttest: 0.4778994\tbest: 0.4707904 (612)\ttotal: 1m 4s\tremaining: 7.01s\n",
            "902:\tlearn: 0.1300632\ttest: 0.4778396\tbest: 0.4707904 (612)\ttotal: 1m 4s\tremaining: 6.94s\n",
            "903:\tlearn: 0.1300097\ttest: 0.4778056\tbest: 0.4707904 (612)\ttotal: 1m 4s\tremaining: 6.87s\n",
            "904:\tlearn: 0.1297079\ttest: 0.4778522\tbest: 0.4707904 (612)\ttotal: 1m 4s\tremaining: 6.79s\n",
            "905:\tlearn: 0.1294914\ttest: 0.4785098\tbest: 0.4707904 (612)\ttotal: 1m 4s\tremaining: 6.72s\n",
            "906:\tlearn: 0.1291947\ttest: 0.4785470\tbest: 0.4707904 (612)\ttotal: 1m 4s\tremaining: 6.65s\n",
            "907:\tlearn: 0.1291018\ttest: 0.4785236\tbest: 0.4707904 (612)\ttotal: 1m 4s\tremaining: 6.58s\n",
            "908:\tlearn: 0.1288562\ttest: 0.4783968\tbest: 0.4707904 (612)\ttotal: 1m 4s\tremaining: 6.51s\n",
            "909:\tlearn: 0.1285872\ttest: 0.4781960\tbest: 0.4707904 (612)\ttotal: 1m 5s\tremaining: 6.43s\n",
            "910:\tlearn: 0.1284431\ttest: 0.4780194\tbest: 0.4707904 (612)\ttotal: 1m 5s\tremaining: 6.36s\n",
            "911:\tlearn: 0.1283877\ttest: 0.4779653\tbest: 0.4707904 (612)\ttotal: 1m 5s\tremaining: 6.29s\n",
            "912:\tlearn: 0.1283370\ttest: 0.4778723\tbest: 0.4707904 (612)\ttotal: 1m 5s\tremaining: 6.22s\n",
            "913:\tlearn: 0.1282837\ttest: 0.4778381\tbest: 0.4707904 (612)\ttotal: 1m 5s\tremaining: 6.15s\n",
            "914:\tlearn: 0.1282330\ttest: 0.4778052\tbest: 0.4707904 (612)\ttotal: 1m 5s\tremaining: 6.07s\n",
            "915:\tlearn: 0.1281806\ttest: 0.4777721\tbest: 0.4707904 (612)\ttotal: 1m 5s\tremaining: 6s\n",
            "916:\tlearn: 0.1280585\ttest: 0.4778227\tbest: 0.4707904 (612)\ttotal: 1m 5s\tremaining: 5.93s\n",
            "917:\tlearn: 0.1279658\ttest: 0.4777660\tbest: 0.4707904 (612)\ttotal: 1m 5s\tremaining: 5.86s\n",
            "918:\tlearn: 0.1279137\ttest: 0.4777522\tbest: 0.4707904 (612)\ttotal: 1m 5s\tremaining: 5.79s\n",
            "919:\tlearn: 0.1277424\ttest: 0.4781734\tbest: 0.4707904 (612)\ttotal: 1m 5s\tremaining: 5.71s\n",
            "920:\tlearn: 0.1276218\ttest: 0.4780552\tbest: 0.4707904 (612)\ttotal: 1m 5s\tremaining: 5.64s\n",
            "921:\tlearn: 0.1274466\ttest: 0.4776283\tbest: 0.4707904 (612)\ttotal: 1m 5s\tremaining: 5.57s\n",
            "922:\tlearn: 0.1272763\ttest: 0.4776863\tbest: 0.4707904 (612)\ttotal: 1m 5s\tremaining: 5.5s\n",
            "923:\tlearn: 0.1271276\ttest: 0.4777871\tbest: 0.4707904 (612)\ttotal: 1m 5s\tremaining: 5.43s\n",
            "924:\tlearn: 0.1270056\ttest: 0.4778058\tbest: 0.4707904 (612)\ttotal: 1m 6s\tremaining: 5.36s\n",
            "925:\tlearn: 0.1269540\ttest: 0.4777720\tbest: 0.4707904 (612)\ttotal: 1m 6s\tremaining: 5.28s\n",
            "926:\tlearn: 0.1269025\ttest: 0.4777387\tbest: 0.4707904 (612)\ttotal: 1m 6s\tremaining: 5.21s\n",
            "927:\tlearn: 0.1267330\ttest: 0.4776565\tbest: 0.4707904 (612)\ttotal: 1m 6s\tremaining: 5.14s\n",
            "928:\tlearn: 0.1266832\ttest: 0.4776411\tbest: 0.4707904 (612)\ttotal: 1m 6s\tremaining: 5.07s\n",
            "929:\tlearn: 0.1264297\ttest: 0.4774613\tbest: 0.4707904 (612)\ttotal: 1m 6s\tremaining: 5s\n",
            "930:\tlearn: 0.1263379\ttest: 0.4774044\tbest: 0.4707904 (612)\ttotal: 1m 6s\tremaining: 4.92s\n",
            "931:\tlearn: 0.1261585\ttest: 0.4775972\tbest: 0.4707904 (612)\ttotal: 1m 6s\tremaining: 4.85s\n",
            "932:\tlearn: 0.1258405\ttest: 0.4780864\tbest: 0.4707904 (612)\ttotal: 1m 6s\tremaining: 4.78s\n",
            "933:\tlearn: 0.1257892\ttest: 0.4780714\tbest: 0.4707904 (612)\ttotal: 1m 6s\tremaining: 4.71s\n",
            "934:\tlearn: 0.1257400\ttest: 0.4780231\tbest: 0.4707904 (612)\ttotal: 1m 6s\tremaining: 4.64s\n",
            "935:\tlearn: 0.1254185\ttest: 0.4775909\tbest: 0.4707904 (612)\ttotal: 1m 6s\tremaining: 4.57s\n",
            "936:\tlearn: 0.1253680\ttest: 0.4774978\tbest: 0.4707904 (612)\ttotal: 1m 6s\tremaining: 4.5s\n",
            "937:\tlearn: 0.1251390\ttest: 0.4776728\tbest: 0.4707904 (612)\ttotal: 1m 7s\tremaining: 4.43s\n",
            "938:\tlearn: 0.1250889\ttest: 0.4776414\tbest: 0.4707904 (612)\ttotal: 1m 7s\tremaining: 4.36s\n",
            "939:\tlearn: 0.1249026\ttest: 0.4778189\tbest: 0.4707904 (612)\ttotal: 1m 7s\tremaining: 4.29s\n",
            "940:\tlearn: 0.1246470\ttest: 0.4782501\tbest: 0.4707904 (612)\ttotal: 1m 7s\tremaining: 4.22s\n",
            "941:\tlearn: 0.1245590\ttest: 0.4782308\tbest: 0.4707904 (612)\ttotal: 1m 7s\tremaining: 4.15s\n",
            "942:\tlearn: 0.1244314\ttest: 0.4782222\tbest: 0.4707904 (612)\ttotal: 1m 7s\tremaining: 4.08s\n",
            "943:\tlearn: 0.1243828\ttest: 0.4782087\tbest: 0.4707904 (612)\ttotal: 1m 7s\tremaining: 4.02s\n",
            "944:\tlearn: 0.1243334\ttest: 0.4781644\tbest: 0.4707904 (612)\ttotal: 1m 7s\tremaining: 3.95s\n",
            "945:\tlearn: 0.1239370\ttest: 0.4783526\tbest: 0.4707904 (612)\ttotal: 1m 7s\tremaining: 3.88s\n",
            "946:\tlearn: 0.1238887\ttest: 0.4784124\tbest: 0.4707904 (612)\ttotal: 1m 8s\tremaining: 3.81s\n",
            "947:\tlearn: 0.1238397\ttest: 0.4783642\tbest: 0.4707904 (612)\ttotal: 1m 8s\tremaining: 3.74s\n",
            "948:\tlearn: 0.1235271\ttest: 0.4786994\tbest: 0.4707904 (612)\ttotal: 1m 8s\tremaining: 3.67s\n",
            "949:\tlearn: 0.1234462\ttest: 0.4786509\tbest: 0.4707904 (612)\ttotal: 1m 8s\tremaining: 3.6s\n",
            "950:\tlearn: 0.1232968\ttest: 0.4787202\tbest: 0.4707904 (612)\ttotal: 1m 8s\tremaining: 3.53s\n",
            "951:\tlearn: 0.1232481\ttest: 0.4786899\tbest: 0.4707904 (612)\ttotal: 1m 8s\tremaining: 3.46s\n",
            "952:\tlearn: 0.1228463\ttest: 0.4786720\tbest: 0.4707904 (612)\ttotal: 1m 8s\tremaining: 3.39s\n",
            "953:\tlearn: 0.1227531\ttest: 0.4784481\tbest: 0.4707904 (612)\ttotal: 1m 8s\tremaining: 3.32s\n",
            "954:\tlearn: 0.1227044\ttest: 0.4783567\tbest: 0.4707904 (612)\ttotal: 1m 8s\tremaining: 3.25s\n",
            "955:\tlearn: 0.1223799\ttest: 0.4788420\tbest: 0.4707904 (612)\ttotal: 1m 9s\tremaining: 3.18s\n",
            "956:\tlearn: 0.1223256\ttest: 0.4788488\tbest: 0.4707904 (612)\ttotal: 1m 9s\tremaining: 3.1s\n",
            "957:\tlearn: 0.1222774\ttest: 0.4788191\tbest: 0.4707904 (612)\ttotal: 1m 9s\tremaining: 3.04s\n",
            "958:\tlearn: 0.1219746\ttest: 0.4793599\tbest: 0.4707904 (612)\ttotal: 1m 9s\tremaining: 2.96s\n",
            "959:\tlearn: 0.1218884\ttest: 0.4792837\tbest: 0.4707904 (612)\ttotal: 1m 9s\tremaining: 2.9s\n",
            "960:\tlearn: 0.1218353\ttest: 0.4792346\tbest: 0.4707904 (612)\ttotal: 1m 9s\tremaining: 2.82s\n",
            "961:\tlearn: 0.1217875\ttest: 0.4792474\tbest: 0.4707904 (612)\ttotal: 1m 9s\tremaining: 2.75s\n",
            "962:\tlearn: 0.1217400\ttest: 0.4792189\tbest: 0.4707904 (612)\ttotal: 1m 9s\tremaining: 2.68s\n",
            "963:\tlearn: 0.1216929\ttest: 0.4792948\tbest: 0.4707904 (612)\ttotal: 1m 9s\tremaining: 2.6s\n",
            "964:\tlearn: 0.1213613\ttest: 0.4799674\tbest: 0.4707904 (612)\ttotal: 1m 9s\tremaining: 2.53s\n",
            "965:\tlearn: 0.1210819\ttest: 0.4797471\tbest: 0.4707904 (612)\ttotal: 1m 9s\tremaining: 2.46s\n",
            "966:\tlearn: 0.1210001\ttest: 0.4798204\tbest: 0.4707904 (612)\ttotal: 1m 9s\tremaining: 2.39s\n",
            "967:\tlearn: 0.1206847\ttest: 0.4800032\tbest: 0.4707904 (612)\ttotal: 1m 10s\tremaining: 2.31s\n",
            "968:\tlearn: 0.1204619\ttest: 0.4797798\tbest: 0.4707904 (612)\ttotal: 1m 10s\tremaining: 2.24s\n",
            "969:\tlearn: 0.1204127\ttest: 0.4797326\tbest: 0.4707904 (612)\ttotal: 1m 10s\tremaining: 2.17s\n",
            "970:\tlearn: 0.1203182\ttest: 0.4795774\tbest: 0.4707904 (612)\ttotal: 1m 10s\tremaining: 2.1s\n",
            "971:\tlearn: 0.1202715\ttest: 0.4795484\tbest: 0.4707904 (612)\ttotal: 1m 10s\tremaining: 2.02s\n",
            "972:\tlearn: 0.1200085\ttest: 0.4795448\tbest: 0.4707904 (612)\ttotal: 1m 10s\tremaining: 1.95s\n",
            "973:\tlearn: 0.1199619\ttest: 0.4795154\tbest: 0.4707904 (612)\ttotal: 1m 10s\tremaining: 1.88s\n",
            "974:\tlearn: 0.1199143\ttest: 0.4794095\tbest: 0.4707904 (612)\ttotal: 1m 10s\tremaining: 1.81s\n",
            "975:\tlearn: 0.1196654\ttest: 0.4789584\tbest: 0.4707904 (612)\ttotal: 1m 10s\tremaining: 1.73s\n",
            "976:\tlearn: 0.1196197\ttest: 0.4789303\tbest: 0.4707904 (612)\ttotal: 1m 10s\tremaining: 1.66s\n",
            "977:\tlearn: 0.1193174\ttest: 0.4790323\tbest: 0.4707904 (612)\ttotal: 1m 10s\tremaining: 1.59s\n",
            "978:\tlearn: 0.1192039\ttest: 0.4789686\tbest: 0.4707904 (612)\ttotal: 1m 10s\tremaining: 1.52s\n",
            "979:\tlearn: 0.1191238\ttest: 0.4789433\tbest: 0.4707904 (612)\ttotal: 1m 10s\tremaining: 1.44s\n",
            "980:\tlearn: 0.1189464\ttest: 0.4790280\tbest: 0.4707904 (612)\ttotal: 1m 10s\tremaining: 1.37s\n",
            "981:\tlearn: 0.1185830\ttest: 0.4790246\tbest: 0.4707904 (612)\ttotal: 1m 10s\tremaining: 1.3s\n",
            "982:\tlearn: 0.1183554\ttest: 0.4793365\tbest: 0.4707904 (612)\ttotal: 1m 10s\tremaining: 1.23s\n",
            "983:\tlearn: 0.1182750\ttest: 0.4793980\tbest: 0.4707904 (612)\ttotal: 1m 11s\tremaining: 1.16s\n",
            "984:\tlearn: 0.1180026\ttest: 0.4794857\tbest: 0.4707904 (612)\ttotal: 1m 11s\tremaining: 1.08s\n",
            "985:\tlearn: 0.1177580\ttest: 0.4797368\tbest: 0.4707904 (612)\ttotal: 1m 11s\tremaining: 1.01s\n",
            "986:\tlearn: 0.1177107\ttest: 0.4797034\tbest: 0.4707904 (612)\ttotal: 1m 11s\tremaining: 938ms\n",
            "987:\tlearn: 0.1174732\ttest: 0.4794985\tbest: 0.4707904 (612)\ttotal: 1m 11s\tremaining: 866ms\n",
            "988:\tlearn: 0.1173689\ttest: 0.4795686\tbest: 0.4707904 (612)\ttotal: 1m 11s\tremaining: 794ms\n",
            "989:\tlearn: 0.1173244\ttest: 0.4795541\tbest: 0.4707904 (612)\ttotal: 1m 11s\tremaining: 722ms\n",
            "990:\tlearn: 0.1172064\ttest: 0.4796266\tbest: 0.4707904 (612)\ttotal: 1m 11s\tremaining: 649ms\n",
            "991:\tlearn: 0.1171610\ttest: 0.4795945\tbest: 0.4707904 (612)\ttotal: 1m 11s\tremaining: 577ms\n",
            "992:\tlearn: 0.1169849\ttest: 0.4797310\tbest: 0.4707904 (612)\ttotal: 1m 11s\tremaining: 505ms\n",
            "993:\tlearn: 0.1168400\ttest: 0.4798466\tbest: 0.4707904 (612)\ttotal: 1m 11s\tremaining: 433ms\n",
            "994:\tlearn: 0.1167644\ttest: 0.4798020\tbest: 0.4707904 (612)\ttotal: 1m 11s\tremaining: 361ms\n",
            "995:\tlearn: 0.1164718\ttest: 0.4804631\tbest: 0.4707904 (612)\ttotal: 1m 11s\tremaining: 288ms\n",
            "996:\tlearn: 0.1162650\ttest: 0.4805021\tbest: 0.4707904 (612)\ttotal: 1m 11s\tremaining: 216ms\n",
            "997:\tlearn: 0.1162186\ttest: 0.4804526\tbest: 0.4707904 (612)\ttotal: 1m 11s\tremaining: 144ms\n",
            "998:\tlearn: 0.1159940\ttest: 0.4801881\tbest: 0.4707904 (612)\ttotal: 1m 12s\tremaining: 72.1ms\n",
            "999:\tlearn: 0.1159159\ttest: 0.4802572\tbest: 0.4707904 (612)\ttotal: 1m 12s\tremaining: 0us\n",
            "\n",
            "bestTest = 0.470790408\n",
            "bestIteration = 612\n",
            "\n",
            "Shrink model to first 613 iterations.\n"
          ]
        },
        {
          "output_type": "execute_result",
          "data": {
            "text/plain": [
              "<catboost.core.CatBoostClassifier at 0x79f7c99ffe80>"
            ]
          },
          "metadata": {},
          "execution_count": 124
        }
      ]
    },
    {
      "cell_type": "code",
      "source": [
        "from sklearn.metrics import roc_auc_score, roc_curve\n",
        "\n",
        "for name, X, y, model in [\n",
        "    ('train', x_cat_train, y_cat_train, clf),\n",
        "    ('test ', x_cat_test, y_cat_test, clf)\n",
        "]:\n",
        "    proba = model.predict_proba(X)[:, 1]\n",
        "    auc = roc_auc_score(y, proba)\n",
        "    plt.plot(*roc_curve(y, proba)[:2], label='%s AUC=%.4f' % (name, auc))\n",
        "\n",
        "plt.plot([0, 1], [0, 1], '--', color='black',)\n",
        "plt.legend(fontsize='large')\n",
        "plt.grid()\n",
        "\n",
        "test_accuracy = np.mean(clf.predict(x_cat_test) == y_test)\n",
        "print(f\"Model accuracy: {test_accuracy:.3f}\")\n",
        "assert test_accuracy > 0.75, \"Hint: tune the parameter C to improve performance\"\n",
        "print(\"Well done!\")"
      ],
      "metadata": {
        "colab": {
          "base_uri": "https://localhost:8080/",
          "height": 465
        },
        "id": "aStgUTmfM8Vy",
        "outputId": "89ad2c04-5743-4937-a6e6-35a46363480a"
      },
      "execution_count": null,
      "outputs": [
        {
          "output_type": "stream",
          "name": "stdout",
          "text": [
            "Model accuracy: 0.760\n",
            "Well done!\n"
          ]
        },
        {
          "output_type": "display_data",
          "data": {
            "text/plain": [
              "<Figure size 640x480 with 1 Axes>"
            ],
            "image/png": "[encoded data removed]"
          },
          "metadata": {}
        }
      ]
    },
    {
      "cell_type": "markdown",
      "metadata": {
        "id": "uDtfZhNZSsa6"
      },
      "source": [
        "### Solving it better: word vectors\n",
        "\n",
        "Let's try another approach: instead of counting per-word frequencies, we shall map all words to pre-trained word vectors and average over them to get text features.\n",
        "\n",
        "This should give us two key advantages: (1) we now have 10^2 features instead of 10^4 and (2) our model can generalize to word that are not in training dataset.\n",
        "\n",
        "We begin with a standard approach with pre-trained word vectors. However, you may also try\n",
        "* training embeddings from scratch on relevant (unlabeled) data\n",
        "* multiplying word vectors by inverse word frequency in dataset (like tf-idf).\n",
        "* concatenating several embeddings\n",
        "    * call `gensim.downloader.info()['models'].keys()` to get a list of available models\n",
        "* clusterizing words by their word-vectors and try bag of cluster_ids\n",
        "\n",
        "__Note:__ loading pre-trained model may take a while. It's a perfect opportunity to refill your cup of tea/coffee and grab some extra cookies. Or binge-watch some tv series if you're slow on internet connection"
      ]
    },
    {
      "cell_type": "code",
      "execution_count": 26,
      "metadata": {
        "collapsed": true,
        "scrolled": false,
        "id": "BbZo2lH5Ssa6",
        "colab": {
          "base_uri": "https://localhost:8080/"
        },
        "outputId": "4dad9013-e68b-45fc-f324-68e58310a0fa"
      },
      "outputs": [
        {
          "output_type": "stream",
          "name": "stdout",
          "text": [
            "[==================================================] 100.0% 958.5/958.4MB downloaded\n"
          ]
        }
      ],
      "source": [
        "import gensim.downloader\n",
        "embeddings = gensim.downloader.load(\"fasttext-wiki-news-subwords-300\")\n",
        "\n",
        "# If you're low on RAM or download speed, use \"glove-wiki-gigaword-100\" instead. Ignore all further asserts."
      ]
    },
    {
      "cell_type": "code",
      "source": [
        "gensim.downloader.info()['models'].keys()"
      ],
      "metadata": {
        "colab": {
          "base_uri": "https://localhost:8080/"
        },
        "id": "1f4Btv1Z27tk",
        "outputId": "bb7d1745-9e3a-48fb-a78e-462f8e49526e"
      },
      "execution_count": 27,
      "outputs": [
        {
          "output_type": "execute_result",
          "data": {
            "text/plain": [
              "dict_keys(['fasttext-wiki-news-subwords-300', 'conceptnet-numberbatch-17-06-300', 'word2vec-ruscorpora-300', 'word2vec-google-news-300', 'glove-wiki-gigaword-50', 'glove-wiki-gigaword-100', 'glove-wiki-gigaword-200', 'glove-wiki-gigaword-300', 'glove-twitter-25', 'glove-twitter-50', 'glove-twitter-100', 'glove-twitter-200', '__testing_word2vec-matrix-synopsis'])"
            ]
          },
          "metadata": {},
          "execution_count": 27
        }
      ]
    },
    {
      "cell_type": "code",
      "source": [
        "embeddings.vectors.shape[1]"
      ],
      "metadata": {
        "colab": {
          "base_uri": "https://localhost:8080/"
        },
        "id": "jnYtIiD56vBR",
        "outputId": "0a9cf0f1-e84a-4078-fae3-cf83ee55e0ab"
      },
      "execution_count": 43,
      "outputs": [
        {
          "output_type": "execute_result",
          "data": {
            "text/plain": [
              "300"
            ]
          },
          "metadata": {},
          "execution_count": 43
        }
      ]
    },
    {
      "cell_type": "code",
      "execution_count": 97,
      "metadata": {
        "collapsed": true,
        "id": "mIxBu5slSsa6"
      },
      "outputs": [],
      "source": [
        "def vectorize_sum(comment):\n",
        "    \"\"\"\n",
        "    implement a function that converts preprocessed comment to a sum of token vectors\n",
        "    \"\"\"\n",
        "    embedding_dim = embeddings.vectors.shape[1]\n",
        "    sum_of_token_vectors = np.sum([embeddings.get_vector(token) if token in embeddings.key_to_index.keys() else \\\n",
        "                                   embeddings.get_mean_vector(token) for token in comment.split()],\n",
        "                                   axis=0, dtype='float32')\n",
        "\n",
        "    return sum_of_token_vectors\n",
        "\n",
        "assert np.allclose(\n",
        "    vectorize_sum(\"who cares anymore . they attack with impunity .\")[::70],\n",
        "    np.array([ 0.0108616 ,  0.0261663 ,  0.13855131, -0.18510573, -0.46380025])\n",
        ")"
      ]
    },
    {
      "cell_type": "code",
      "execution_count": 98,
      "metadata": {
        "collapsed": true,
        "id": "dIRAGHb0Ssa6"
      },
      "outputs": [],
      "source": [
        "X_train_wv = np.stack([vectorize_sum(text) for text in texts_train])\n",
        "X_test_wv = np.stack([vectorize_sum(text) for text in texts_test])"
      ]
    },
    {
      "cell_type": "code",
      "source": [
        "X_train_wv.shape"
      ],
      "metadata": {
        "colab": {
          "base_uri": "https://localhost:8080/"
        },
        "id": "Cbfmt6gv_Xd-",
        "outputId": "661d20a6-1601-4068-f9d3-0653493e90b4"
      },
      "execution_count": 81,
      "outputs": [
        {
          "output_type": "execute_result",
          "data": {
            "text/plain": [
              "(500, 300)"
            ]
          },
          "metadata": {},
          "execution_count": 81
        }
      ]
    },
    {
      "cell_type": "code",
      "execution_count": 102,
      "metadata": {
        "id": "LRhIe60_Ssa6",
        "outputId": "20160b9e-abe3-4971-8be4-7757df055ea6",
        "colab": {
          "base_uri": "https://localhost:8080/",
          "height": 589
        }
      },
      "outputs": [
        {
          "output_type": "stream",
          "name": "stderr",
          "text": [
            "/usr/local/lib/python3.10/dist-packages/sklearn/linear_model/_logistic.py:458: ConvergenceWarning: lbfgs failed to converge (status=1):\n",
            "STOP: TOTAL NO. of ITERATIONS REACHED LIMIT.\n",
            "\n",
            "Increase the number of iterations (max_iter) or scale the data as shown in:\n",
            "    https://scikit-learn.org/stable/modules/preprocessing.html\n",
            "Please also refer to the documentation for alternative solver options:\n",
            "    https://scikit-learn.org/stable/modules/linear_model.html#logistic-regression\n",
            "  n_iter_i = _check_optimize_result(\n"
          ]
        },
        {
          "output_type": "display_data",
          "data": {
            "text/plain": [
              "<Figure size 640x480 with 1 Axes>"
            ],
            "image/png": "[encoded data removed]"
          },
          "metadata": {}
        }
      ],
      "source": [
        "wv_model = LogisticRegression().fit(X_train_wv, y_train)\n",
        "\n",
        "for name, X, y, model in [\n",
        "    ('bow train', X_train_bow, y_train, bow_model),\n",
        "    ('bow test ', X_test_bow, y_test, bow_model),\n",
        "    ('vec train', X_train_wv, y_train, wv_model),\n",
        "    ('vec test ', X_test_wv, y_test, wv_model)\n",
        "]:\n",
        "    proba = model.predict_proba(X)[:, 1]\n",
        "    auc = roc_auc_score(y, proba)\n",
        "    plt.plot(*roc_curve(y, proba)[:2], label='%s AUC=%.4f' % (name, auc))\n",
        "\n",
        "plt.plot([0, 1], [0, 1], '--', color='black',)\n",
        "plt.legend(fontsize='large')\n",
        "plt.grid()\n",
        "\n",
        "assert roc_auc_score(y_test, wv_model.predict_proba(X_test_wv)[:, 1]) > 0.92, \"something's wrong with your features\""
      ]
    },
    {
      "cell_type": "markdown",
      "metadata": {
        "id": "vkvup6ToSsa7"
      },
      "source": [
        "If everything went right, you've just managed to reduce misclassification rate by a factor of two.\n",
        "This trick is very useful when you're dealing with small datasets. However, if you have hundreds of thousands of samples, there's a whole different range of methods for that. We'll get there in the second part."
      ]
    }
  ],
  "metadata": {
    "kernelspec": {
      "display_name": "Python 3",
      "language": "python",
      "name": "python3"
    },
    "language_info": {
      "codemirror_mode": {
        "name": "ipython",
        "version": 3
      },
      "file_extension": ".py",
      "mimetype": "text/x-python",
      "name": "python",
      "nbconvert_exporter": "python",
      "pygments_lexer": "ipython3",
      "version": "3.8.1"
    },
    "colab": {
      "provenance": []
    }
  },
  "nbformat": 4,
  "nbformat_minor": 0
}
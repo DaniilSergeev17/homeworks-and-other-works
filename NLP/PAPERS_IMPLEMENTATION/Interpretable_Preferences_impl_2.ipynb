{
  "nbformat": 4,
  "nbformat_minor": 0,
  "metadata": {
    "colab": {
      "provenance": [],
      "gpuType": "T4"
    },
    "kernelspec": {
      "name": "python3",
      "display_name": "Python 3"
    },
    "language_info": {
      "name": "python"
    },
    "accelerator": "GPU",
    "widgets": {
      "application/vnd.jupyter.widget-state+json": {
        "e1af939629d14887b75913799c18b37b": {
          "model_module": "@jupyter-widgets/controls",
          "model_name": "HBoxModel",
          "model_module_version": "1.5.0",
          "state": {
            "_dom_classes": [],
            "_model_module": "@jupyter-widgets/controls",
            "_model_module_version": "1.5.0",
            "_model_name": "HBoxModel",
            "_view_count": null,
            "_view_module": "@jupyter-widgets/controls",
            "_view_module_version": "1.5.0",
            "_view_name": "HBoxView",
            "box_style": "",
            "children": [
              "IPY_MODEL_9afb1438e3a045bc80b9c1a60077362c",
              "IPY_MODEL_f8f380ae4eeb4945aaaff7d799f8fc1e",
              "IPY_MODEL_22d94219351e4984a82eef9838237f8f"
            ],
            "layout": "IPY_MODEL_d7ad44b2307a4827ada38c48697807b5"
          }
        },
        "9afb1438e3a045bc80b9c1a60077362c": {
          "model_module": "@jupyter-widgets/controls",
          "model_name": "HTMLModel",
          "model_module_version": "1.5.0",
          "state": {
            "_dom_classes": [],
            "_model_module": "@jupyter-widgets/controls",
            "_model_module_version": "1.5.0",
            "_model_name": "HTMLModel",
            "_view_count": null,
            "_view_module": "@jupyter-widgets/controls",
            "_view_module_version": "1.5.0",
            "_view_name": "HTMLView",
            "description": "",
            "description_tooltip": null,
            "layout": "IPY_MODEL_0c87e976fcee4f689b85fa006607da96",
            "placeholder": "​",
            "style": "IPY_MODEL_02465244496e4114b287e1dd58dcb5a0",
            "value": "Map: 100%"
          }
        },
        "f8f380ae4eeb4945aaaff7d799f8fc1e": {
          "model_module": "@jupyter-widgets/controls",
          "model_name": "FloatProgressModel",
          "model_module_version": "1.5.0",
          "state": {
            "_dom_classes": [],
            "_model_module": "@jupyter-widgets/controls",
            "_model_module_version": "1.5.0",
            "_model_name": "FloatProgressModel",
            "_view_count": null,
            "_view_module": "@jupyter-widgets/controls",
            "_view_module_version": "1.5.0",
            "_view_name": "ProgressView",
            "bar_style": "success",
            "description": "",
            "description_tooltip": null,
            "layout": "IPY_MODEL_d223c001ff524c1a9df43dbb309994a3",
            "max": 20324,
            "min": 0,
            "orientation": "horizontal",
            "style": "IPY_MODEL_d4b6d26f716b4a2f8654a1e3a027b22b",
            "value": 20324
          }
        },
        "22d94219351e4984a82eef9838237f8f": {
          "model_module": "@jupyter-widgets/controls",
          "model_name": "HTMLModel",
          "model_module_version": "1.5.0",
          "state": {
            "_dom_classes": [],
            "_model_module": "@jupyter-widgets/controls",
            "_model_module_version": "1.5.0",
            "_model_name": "HTMLModel",
            "_view_count": null,
            "_view_module": "@jupyter-widgets/controls",
            "_view_module_version": "1.5.0",
            "_view_name": "HTMLView",
            "description": "",
            "description_tooltip": null,
            "layout": "IPY_MODEL_bf44cee994b64631ab3addf41c514d80",
            "placeholder": "​",
            "style": "IPY_MODEL_9b61503b6b9e4805afb12e5f72a93f7f",
            "value": " 20324/20324 [01:05&lt;00:00, 287.22 examples/s]"
          }
        },
        "d7ad44b2307a4827ada38c48697807b5": {
          "model_module": "@jupyter-widgets/base",
          "model_name": "LayoutModel",
          "model_module_version": "1.2.0",
          "state": {
            "_model_module": "@jupyter-widgets/base",
            "_model_module_version": "1.2.0",
            "_model_name": "LayoutModel",
            "_view_count": null,
            "_view_module": "@jupyter-widgets/base",
            "_view_module_version": "1.2.0",
            "_view_name": "LayoutView",
            "align_content": null,
            "align_items": null,
            "align_self": null,
            "border": null,
            "bottom": null,
            "display": null,
            "flex": null,
            "flex_flow": null,
            "grid_area": null,
            "grid_auto_columns": null,
            "grid_auto_flow": null,
            "grid_auto_rows": null,
            "grid_column": null,
            "grid_gap": null,
            "grid_row": null,
            "grid_template_areas": null,
            "grid_template_columns": null,
            "grid_template_rows": null,
            "height": null,
            "justify_content": null,
            "justify_items": null,
            "left": null,
            "margin": null,
            "max_height": null,
            "max_width": null,
            "min_height": null,
            "min_width": null,
            "object_fit": null,
            "object_position": null,
            "order": null,
            "overflow": null,
            "overflow_x": null,
            "overflow_y": null,
            "padding": null,
            "right": null,
            "top": null,
            "visibility": null,
            "width": null
          }
        },
        "0c87e976fcee4f689b85fa006607da96": {
          "model_module": "@jupyter-widgets/base",
          "model_name": "LayoutModel",
          "model_module_version": "1.2.0",
          "state": {
            "_model_module": "@jupyter-widgets/base",
            "_model_module_version": "1.2.0",
            "_model_name": "LayoutModel",
            "_view_count": null,
            "_view_module": "@jupyter-widgets/base",
            "_view_module_version": "1.2.0",
            "_view_name": "LayoutView",
            "align_content": null,
            "align_items": null,
            "align_self": null,
            "border": null,
            "bottom": null,
            "display": null,
            "flex": null,
            "flex_flow": null,
            "grid_area": null,
            "grid_auto_columns": null,
            "grid_auto_flow": null,
            "grid_auto_rows": null,
            "grid_column": null,
            "grid_gap": null,
            "grid_row": null,
            "grid_template_areas": null,
            "grid_template_columns": null,
            "grid_template_rows": null,
            "height": null,
            "justify_content": null,
            "justify_items": null,
            "left": null,
            "margin": null,
            "max_height": null,
            "max_width": null,
            "min_height": null,
            "min_width": null,
            "object_fit": null,
            "object_position": null,
            "order": null,
            "overflow": null,
            "overflow_x": null,
            "overflow_y": null,
            "padding": null,
            "right": null,
            "top": null,
            "visibility": null,
            "width": null
          }
        },
        "02465244496e4114b287e1dd58dcb5a0": {
          "model_module": "@jupyter-widgets/controls",
          "model_name": "DescriptionStyleModel",
          "model_module_version": "1.5.0",
          "state": {
            "_model_module": "@jupyter-widgets/controls",
            "_model_module_version": "1.5.0",
            "_model_name": "DescriptionStyleModel",
            "_view_count": null,
            "_view_module": "@jupyter-widgets/base",
            "_view_module_version": "1.2.0",
            "_view_name": "StyleView",
            "description_width": ""
          }
        },
        "d223c001ff524c1a9df43dbb309994a3": {
          "model_module": "@jupyter-widgets/base",
          "model_name": "LayoutModel",
          "model_module_version": "1.2.0",
          "state": {
            "_model_module": "@jupyter-widgets/base",
            "_model_module_version": "1.2.0",
            "_model_name": "LayoutModel",
            "_view_count": null,
            "_view_module": "@jupyter-widgets/base",
            "_view_module_version": "1.2.0",
            "_view_name": "LayoutView",
            "align_content": null,
            "align_items": null,
            "align_self": null,
            "border": null,
            "bottom": null,
            "display": null,
            "flex": null,
            "flex_flow": null,
            "grid_area": null,
            "grid_auto_columns": null,
            "grid_auto_flow": null,
            "grid_auto_rows": null,
            "grid_column": null,
            "grid_gap": null,
            "grid_row": null,
            "grid_template_areas": null,
            "grid_template_columns": null,
            "grid_template_rows": null,
            "height": null,
            "justify_content": null,
            "justify_items": null,
            "left": null,
            "margin": null,
            "max_height": null,
            "max_width": null,
            "min_height": null,
            "min_width": null,
            "object_fit": null,
            "object_position": null,
            "order": null,
            "overflow": null,
            "overflow_x": null,
            "overflow_y": null,
            "padding": null,
            "right": null,
            "top": null,
            "visibility": null,
            "width": null
          }
        },
        "d4b6d26f716b4a2f8654a1e3a027b22b": {
          "model_module": "@jupyter-widgets/controls",
          "model_name": "ProgressStyleModel",
          "model_module_version": "1.5.0",
          "state": {
            "_model_module": "@jupyter-widgets/controls",
            "_model_module_version": "1.5.0",
            "_model_name": "ProgressStyleModel",
            "_view_count": null,
            "_view_module": "@jupyter-widgets/base",
            "_view_module_version": "1.2.0",
            "_view_name": "StyleView",
            "bar_color": null,
            "description_width": ""
          }
        },
        "bf44cee994b64631ab3addf41c514d80": {
          "model_module": "@jupyter-widgets/base",
          "model_name": "LayoutModel",
          "model_module_version": "1.2.0",
          "state": {
            "_model_module": "@jupyter-widgets/base",
            "_model_module_version": "1.2.0",
            "_model_name": "LayoutModel",
            "_view_count": null,
            "_view_module": "@jupyter-widgets/base",
            "_view_module_version": "1.2.0",
            "_view_name": "LayoutView",
            "align_content": null,
            "align_items": null,
            "align_self": null,
            "border": null,
            "bottom": null,
            "display": null,
            "flex": null,
            "flex_flow": null,
            "grid_area": null,
            "grid_auto_columns": null,
            "grid_auto_flow": null,
            "grid_auto_rows": null,
            "grid_column": null,
            "grid_gap": null,
            "grid_row": null,
            "grid_template_areas": null,
            "grid_template_columns": null,
            "grid_template_rows": null,
            "height": null,
            "justify_content": null,
            "justify_items": null,
            "left": null,
            "margin": null,
            "max_height": null,
            "max_width": null,
            "min_height": null,
            "min_width": null,
            "object_fit": null,
            "object_position": null,
            "order": null,
            "overflow": null,
            "overflow_x": null,
            "overflow_y": null,
            "padding": null,
            "right": null,
            "top": null,
            "visibility": null,
            "width": null
          }
        },
        "9b61503b6b9e4805afb12e5f72a93f7f": {
          "model_module": "@jupyter-widgets/controls",
          "model_name": "DescriptionStyleModel",
          "model_module_version": "1.5.0",
          "state": {
            "_model_module": "@jupyter-widgets/controls",
            "_model_module_version": "1.5.0",
            "_model_name": "DescriptionStyleModel",
            "_view_count": null,
            "_view_module": "@jupyter-widgets/base",
            "_view_module_version": "1.2.0",
            "_view_name": "StyleView",
            "description_width": ""
          }
        },
        "2683a57117814e00aeb2bedcf739c896": {
          "model_module": "@jupyter-widgets/controls",
          "model_name": "HBoxModel",
          "model_module_version": "1.5.0",
          "state": {
            "_dom_classes": [],
            "_model_module": "@jupyter-widgets/controls",
            "_model_module_version": "1.5.0",
            "_model_name": "HBoxModel",
            "_view_count": null,
            "_view_module": "@jupyter-widgets/controls",
            "_view_module_version": "1.5.0",
            "_view_name": "HBoxView",
            "box_style": "",
            "children": [
              "IPY_MODEL_ae153c23da1b4ea687cfbe62a6d9f2fa",
              "IPY_MODEL_190ff40c9ed942b1890b29b2dce90ac9",
              "IPY_MODEL_d41225767bf74f1c8df97c250f7366bd"
            ],
            "layout": "IPY_MODEL_69156f79bbbf4b6d9b237c6eabb4a9c8"
          }
        },
        "ae153c23da1b4ea687cfbe62a6d9f2fa": {
          "model_module": "@jupyter-widgets/controls",
          "model_name": "HTMLModel",
          "model_module_version": "1.5.0",
          "state": {
            "_dom_classes": [],
            "_model_module": "@jupyter-widgets/controls",
            "_model_module_version": "1.5.0",
            "_model_name": "HTMLModel",
            "_view_count": null,
            "_view_module": "@jupyter-widgets/controls",
            "_view_module_version": "1.5.0",
            "_view_name": "HTMLView",
            "description": "",
            "description_tooltip": null,
            "layout": "IPY_MODEL_a9cab483e60b4c8a88f8cd77043e24c7",
            "placeholder": "​",
            "style": "IPY_MODEL_abcae47d9b104d338cc624fa9f2a19a4",
            "value": "Map: 100%"
          }
        },
        "190ff40c9ed942b1890b29b2dce90ac9": {
          "model_module": "@jupyter-widgets/controls",
          "model_name": "FloatProgressModel",
          "model_module_version": "1.5.0",
          "state": {
            "_dom_classes": [],
            "_model_module": "@jupyter-widgets/controls",
            "_model_module_version": "1.5.0",
            "_model_name": "FloatProgressModel",
            "_view_count": null,
            "_view_module": "@jupyter-widgets/controls",
            "_view_module_version": "1.5.0",
            "_view_name": "ProgressView",
            "bar_style": "success",
            "description": "",
            "description_tooltip": null,
            "layout": "IPY_MODEL_b22b0f3d79994df3bf2aa885b9358b37",
            "max": 1038,
            "min": 0,
            "orientation": "horizontal",
            "style": "IPY_MODEL_95e8e229cc2347f6920c560df83824ab",
            "value": 1038
          }
        },
        "d41225767bf74f1c8df97c250f7366bd": {
          "model_module": "@jupyter-widgets/controls",
          "model_name": "HTMLModel",
          "model_module_version": "1.5.0",
          "state": {
            "_dom_classes": [],
            "_model_module": "@jupyter-widgets/controls",
            "_model_module_version": "1.5.0",
            "_model_name": "HTMLModel",
            "_view_count": null,
            "_view_module": "@jupyter-widgets/controls",
            "_view_module_version": "1.5.0",
            "_view_name": "HTMLView",
            "description": "",
            "description_tooltip": null,
            "layout": "IPY_MODEL_a370d76225414ac7b24793fbcd67285c",
            "placeholder": "​",
            "style": "IPY_MODEL_07a72e8d192d4713bf6ab6d5373aa621",
            "value": " 1038/1038 [00:05&lt;00:00, 93.51 examples/s]"
          }
        },
        "69156f79bbbf4b6d9b237c6eabb4a9c8": {
          "model_module": "@jupyter-widgets/base",
          "model_name": "LayoutModel",
          "model_module_version": "1.2.0",
          "state": {
            "_model_module": "@jupyter-widgets/base",
            "_model_module_version": "1.2.0",
            "_model_name": "LayoutModel",
            "_view_count": null,
            "_view_module": "@jupyter-widgets/base",
            "_view_module_version": "1.2.0",
            "_view_name": "LayoutView",
            "align_content": null,
            "align_items": null,
            "align_self": null,
            "border": null,
            "bottom": null,
            "display": null,
            "flex": null,
            "flex_flow": null,
            "grid_area": null,
            "grid_auto_columns": null,
            "grid_auto_flow": null,
            "grid_auto_rows": null,
            "grid_column": null,
            "grid_gap": null,
            "grid_row": null,
            "grid_template_areas": null,
            "grid_template_columns": null,
            "grid_template_rows": null,
            "height": null,
            "justify_content": null,
            "justify_items": null,
            "left": null,
            "margin": null,
            "max_height": null,
            "max_width": null,
            "min_height": null,
            "min_width": null,
            "object_fit": null,
            "object_position": null,
            "order": null,
            "overflow": null,
            "overflow_x": null,
            "overflow_y": null,
            "padding": null,
            "right": null,
            "top": null,
            "visibility": null,
            "width": null
          }
        },
        "a9cab483e60b4c8a88f8cd77043e24c7": {
          "model_module": "@jupyter-widgets/base",
          "model_name": "LayoutModel",
          "model_module_version": "1.2.0",
          "state": {
            "_model_module": "@jupyter-widgets/base",
            "_model_module_version": "1.2.0",
            "_model_name": "LayoutModel",
            "_view_count": null,
            "_view_module": "@jupyter-widgets/base",
            "_view_module_version": "1.2.0",
            "_view_name": "LayoutView",
            "align_content": null,
            "align_items": null,
            "align_self": null,
            "border": null,
            "bottom": null,
            "display": null,
            "flex": null,
            "flex_flow": null,
            "grid_area": null,
            "grid_auto_columns": null,
            "grid_auto_flow": null,
            "grid_auto_rows": null,
            "grid_column": null,
            "grid_gap": null,
            "grid_row": null,
            "grid_template_areas": null,
            "grid_template_columns": null,
            "grid_template_rows": null,
            "height": null,
            "justify_content": null,
            "justify_items": null,
            "left": null,
            "margin": null,
            "max_height": null,
            "max_width": null,
            "min_height": null,
            "min_width": null,
            "object_fit": null,
            "object_position": null,
            "order": null,
            "overflow": null,
            "overflow_x": null,
            "overflow_y": null,
            "padding": null,
            "right": null,
            "top": null,
            "visibility": null,
            "width": null
          }
        },
        "abcae47d9b104d338cc624fa9f2a19a4": {
          "model_module": "@jupyter-widgets/controls",
          "model_name": "DescriptionStyleModel",
          "model_module_version": "1.5.0",
          "state": {
            "_model_module": "@jupyter-widgets/controls",
            "_model_module_version": "1.5.0",
            "_model_name": "DescriptionStyleModel",
            "_view_count": null,
            "_view_module": "@jupyter-widgets/base",
            "_view_module_version": "1.2.0",
            "_view_name": "StyleView",
            "description_width": ""
          }
        },
        "b22b0f3d79994df3bf2aa885b9358b37": {
          "model_module": "@jupyter-widgets/base",
          "model_name": "LayoutModel",
          "model_module_version": "1.2.0",
          "state": {
            "_model_module": "@jupyter-widgets/base",
            "_model_module_version": "1.2.0",
            "_model_name": "LayoutModel",
            "_view_count": null,
            "_view_module": "@jupyter-widgets/base",
            "_view_module_version": "1.2.0",
            "_view_name": "LayoutView",
            "align_content": null,
            "align_items": null,
            "align_self": null,
            "border": null,
            "bottom": null,
            "display": null,
            "flex": null,
            "flex_flow": null,
            "grid_area": null,
            "grid_auto_columns": null,
            "grid_auto_flow": null,
            "grid_auto_rows": null,
            "grid_column": null,
            "grid_gap": null,
            "grid_row": null,
            "grid_template_areas": null,
            "grid_template_columns": null,
            "grid_template_rows": null,
            "height": null,
            "justify_content": null,
            "justify_items": null,
            "left": null,
            "margin": null,
            "max_height": null,
            "max_width": null,
            "min_height": null,
            "min_width": null,
            "object_fit": null,
            "object_position": null,
            "order": null,
            "overflow": null,
            "overflow_x": null,
            "overflow_y": null,
            "padding": null,
            "right": null,
            "top": null,
            "visibility": null,
            "width": null
          }
        },
        "95e8e229cc2347f6920c560df83824ab": {
          "model_module": "@jupyter-widgets/controls",
          "model_name": "ProgressStyleModel",
          "model_module_version": "1.5.0",
          "state": {
            "_model_module": "@jupyter-widgets/controls",
            "_model_module_version": "1.5.0",
            "_model_name": "ProgressStyleModel",
            "_view_count": null,
            "_view_module": "@jupyter-widgets/base",
            "_view_module_version": "1.2.0",
            "_view_name": "StyleView",
            "bar_color": null,
            "description_width": ""
          }
        },
        "a370d76225414ac7b24793fbcd67285c": {
          "model_module": "@jupyter-widgets/base",
          "model_name": "LayoutModel",
          "model_module_version": "1.2.0",
          "state": {
            "_model_module": "@jupyter-widgets/base",
            "_model_module_version": "1.2.0",
            "_model_name": "LayoutModel",
            "_view_count": null,
            "_view_module": "@jupyter-widgets/base",
            "_view_module_version": "1.2.0",
            "_view_name": "LayoutView",
            "align_content": null,
            "align_items": null,
            "align_self": null,
            "border": null,
            "bottom": null,
            "display": null,
            "flex": null,
            "flex_flow": null,
            "grid_area": null,
            "grid_auto_columns": null,
            "grid_auto_flow": null,
            "grid_auto_rows": null,
            "grid_column": null,
            "grid_gap": null,
            "grid_row": null,
            "grid_template_areas": null,
            "grid_template_columns": null,
            "grid_template_rows": null,
            "height": null,
            "justify_content": null,
            "justify_items": null,
            "left": null,
            "margin": null,
            "max_height": null,
            "max_width": null,
            "min_height": null,
            "min_width": null,
            "object_fit": null,
            "object_position": null,
            "order": null,
            "overflow": null,
            "overflow_x": null,
            "overflow_y": null,
            "padding": null,
            "right": null,
            "top": null,
            "visibility": null,
            "width": null
          }
        },
        "07a72e8d192d4713bf6ab6d5373aa621": {
          "model_module": "@jupyter-widgets/controls",
          "model_name": "DescriptionStyleModel",
          "model_module_version": "1.5.0",
          "state": {
            "_model_module": "@jupyter-widgets/controls",
            "_model_module_version": "1.5.0",
            "_model_name": "DescriptionStyleModel",
            "_view_count": null,
            "_view_module": "@jupyter-widgets/base",
            "_view_module_version": "1.2.0",
            "_view_name": "StyleView",
            "description_width": ""
          }
        }
      }
    }
  },
  "cells": [
    {
      "cell_type": "code",
      "source": [
        "#paper: https://arxiv.org/pdf/2406.12845"
      ],
      "metadata": {
        "id": "fJoWCf7qWDBZ"
      },
      "execution_count": null,
      "outputs": []
    },
    {
      "cell_type": "code",
      "execution_count": 1,
      "metadata": {
        "id": "l487QnVgLPP8"
      },
      "outputs": [],
      "source": [
        "!pip install datasets trl bitsandbytes -qq"
      ]
    },
    {
      "cell_type": "code",
      "source": [
        "import torch\n",
        "import torch.nn as nn\n",
        "import torch.nn.functional as F\n",
        "from tqdm import tqdm\n",
        "from transformers import AutoModelForCausalLM, AutoTokenizer, BitsAndBytesConfig\n",
        "from datasets import load_dataset\n",
        "import random"
      ],
      "metadata": {
        "id": "vVnlUC4KLqqi"
      },
      "execution_count": 129,
      "outputs": []
    },
    {
      "cell_type": "code",
      "source": [
        "SYSTEM_PROMPT = 'You are Qwen, created by Alibaba Cloud. You are a helpful assistant.'"
      ],
      "metadata": {
        "id": "jezNmt7hRtZm"
      },
      "execution_count": 3,
      "outputs": []
    },
    {
      "cell_type": "code",
      "source": [
        "device = torch.device('cuda' if torch.cuda.is_available() else 'cpu')\n",
        "device"
      ],
      "metadata": {
        "colab": {
          "base_uri": "https://localhost:8080/"
        },
        "id": "gTWAXe2rNUoR",
        "outputId": "802e0758-694d-45b8-c148-5fed355e8576"
      },
      "execution_count": 4,
      "outputs": [
        {
          "output_type": "execute_result",
          "data": {
            "text/plain": [
              "device(type='cuda')"
            ]
          },
          "metadata": {},
          "execution_count": 4
        }
      ]
    },
    {
      "cell_type": "code",
      "source": [
        "bnb_config = BitsAndBytesConfig(\n",
        "    load_in_4bit=True,\n",
        "    bnb_4bit_quant_type='nf4',\n",
        "    bnb_4bit_compute_dtype=torch.bfloat16,\n",
        "    bnb_4bit_use_double_quant=True\n",
        ")"
      ],
      "metadata": {
        "id": "Xspu844cLrDp"
      },
      "execution_count": 5,
      "outputs": []
    },
    {
      "cell_type": "code",
      "source": [
        "model_name = 'Qwen/Qwen2.5-0.5B-Instruct'\n",
        "model = AutoModelForCausalLM.from_pretrained(model_name, trust_remote_code=True, quantization_config=bnb_config).to(device)\n",
        "tokenizer = AutoTokenizer.from_pretrained(model_name, trust_remote_code=True)"
      ],
      "metadata": {
        "id": "gCefdmQkLrGH"
      },
      "execution_count": null,
      "outputs": []
    },
    {
      "cell_type": "code",
      "source": [
        "dataset = load_dataset('nvidia/HelpSteer2')"
      ],
      "metadata": {
        "id": "F9TFy7yTM4oY"
      },
      "execution_count": 21,
      "outputs": []
    },
    {
      "cell_type": "code",
      "source": [
        "dataset"
      ],
      "metadata": {
        "colab": {
          "base_uri": "https://localhost:8080/"
        },
        "id": "MbI-1-foM4qu",
        "outputId": "f97038a0-69ac-409d-de2e-65f5104b5b69"
      },
      "execution_count": 22,
      "outputs": [
        {
          "output_type": "execute_result",
          "data": {
            "text/plain": [
              "DatasetDict({\n",
              "    train: Dataset({\n",
              "        features: ['prompt', 'response', 'helpfulness', 'correctness', 'coherence', 'complexity', 'verbosity'],\n",
              "        num_rows: 20324\n",
              "    })\n",
              "    validation: Dataset({\n",
              "        features: ['prompt', 'response', 'helpfulness', 'correctness', 'coherence', 'complexity', 'verbosity'],\n",
              "        num_rows: 1038\n",
              "    })\n",
              "})"
            ]
          },
          "metadata": {},
          "execution_count": 22
        }
      ]
    },
    {
      "cell_type": "code",
      "source": [
        "# DEBUG\n",
        "for example in dataset['train']:\n",
        "    messages = [\n",
        "        {'role': 'system', 'content': SYSTEM_PROMPT},\n",
        "        {'role': 'user', 'content': example['prompt']},\n",
        "        {'role': 'assistant', 'content': example['response']}\n",
        "    ]\n",
        "    text = tokenizer.apply_chat_template(messages, max_length=1024, padding='max_length',\n",
        "                                           truncation=True, return_dict=True)\n",
        "    only_prompt_messages = [\n",
        "        {'role': 'system', 'content': SYSTEM_PROMPT},\n",
        "        {'role': 'user', 'content': example['prompt']}\n",
        "    ]\n",
        "    prompt_text = tokenizer.apply_chat_template(only_prompt_messages)\n",
        "    print(text['input_ids'])\n",
        "    print('==========')\n",
        "    print(len(prompt_text))\n",
        "    print(text['input_ids'][len(prompt_text)-1])\n",
        "    print(example['prompt'])\n",
        "    break"
      ],
      "metadata": {
        "colab": {
          "base_uri": "https://localhost:8080/"
        },
        "id": "isqGXxu6z311",
        "outputId": "aa464db8-7301-4454-894f-4209716b2ea3"
      },
      "execution_count": 25,
      "outputs": [
        {
          "output_type": "stream",
          "name": "stdout",
          "text": [
            "[151644, 8948, 198, 2610, 525, 1207, 16948, 11, 3465, 553, 54364, 14817, 13, 1446, 525, 264, 10950, 17847, 13, 151645, 198, 151644, 872, 198, 66, 2, 151645, 198, 151644, 77091, 198, 34, 2, 374, 264, 1550, 11591, 11, 1633, 35085, 15473, 4128, 7881, 553, 5100, 438, 949, 315, 1181, 659, 15373, 20162, 13, 1084, 572, 3465, 438, 264, 6481, 10555, 311, 7943, 323, 11554, 264, 8045, 315, 15473, 27317, 343, 1011, 11, 2670, 47596, 11, 15629, 11, 323, 1538, 31405, 13, 356, 2, 374, 15503, 1483, 369, 5515, 3766, 4401, 11, 714, 432, 646, 1083, 387, 1483, 369, 3482, 11, 6371, 11, 323, 1809, 4401, 13, 576, 4128, 374, 6188, 311, 387, 6092, 11, 9767, 11, 323, 11050, 11, 323, 432, 5707, 13402, 448, 264, 9080, 738, 315, 20186, 323, 7375, 369, 4752, 21765, 323, 68211, 8357, 13, 356, 2, 374, 1083, 13570, 1483, 304, 279, 1809, 4401, 4958, 11, 7945, 304, 279, 4401, 315, 3868, 369, 279, 20577, 220, 18, 21, 15, 323, 20577, 3776, 50093, 13, 151645, 198, 151643, 151643, 151643, 151643, 151643, 151643, 151643, 151643, 151643, 151643, 151643, 151643, 151643, 151643, 151643, 151643, 151643, 151643, 151643, 151643, 151643, 151643, 151643, 151643, 151643, 151643, 151643, 151643, 151643, 151643, 151643, 151643, 151643, 151643, 151643, 151643, 151643, 151643, 151643, 151643, 151643, 151643, 151643, 151643, 151643, 151643, 151643, 151643, 151643, 151643, 151643, 151643, 151643, 151643, 151643, 151643, 151643, 151643, 151643, 151643, 151643, 151643, 151643, 151643, 151643, 151643, 151643, 151643, 151643, 151643, 151643, 151643, 151643, 151643, 151643, 151643, 151643, 151643, 151643, 151643, 151643, 151643, 151643, 151643, 151643, 151643, 151643, 151643, 151643, 151643, 151643, 151643, 151643, 151643, 151643, 151643, 151643, 151643, 151643, 151643, 151643, 151643, 151643, 151643, 151643, 151643, 151643, 151643, 151643, 151643, 151643, 151643, 151643, 151643, 151643, 151643, 151643, 151643, 151643, 151643, 151643, 151643, 151643, 151643, 151643, 151643, 151643, 151643, 151643, 151643, 151643, 151643, 151643, 151643, 151643, 151643, 151643, 151643, 151643, 151643, 151643, 151643, 151643, 151643, 151643, 151643, 151643, 151643, 151643, 151643, 151643, 151643, 151643, 151643, 151643, 151643, 151643, 151643, 151643, 151643, 151643, 151643, 151643, 151643, 151643, 151643, 151643, 151643, 151643, 151643, 151643, 151643, 151643, 151643, 151643, 151643, 151643, 151643, 151643, 151643, 151643, 151643, 151643, 151643, 151643, 151643, 151643, 151643, 151643, 151643, 151643, 151643, 151643, 151643, 151643, 151643, 151643, 151643, 151643, 151643, 151643, 151643, 151643, 151643, 151643, 151643, 151643, 151643, 151643, 151643, 151643, 151643, 151643, 151643, 151643, 151643, 151643, 151643, 151643, 151643, 151643, 151643, 151643, 151643, 151643, 151643, 151643, 151643, 151643, 151643, 151643, 151643, 151643, 151643, 151643, 151643, 151643, 151643, 151643, 151643, 151643, 151643, 151643, 151643, 151643, 151643, 151643, 151643, 151643, 151643, 151643, 151643, 151643, 151643, 151643, 151643, 151643, 151643, 151643, 151643, 151643, 151643, 151643, 151643, 151643, 151643, 151643, 151643, 151643, 151643, 151643, 151643, 151643, 151643, 151643, 151643, 151643, 151643, 151643, 151643, 151643, 151643, 151643, 151643, 151643, 151643, 151643, 151643, 151643, 151643, 151643, 151643, 151643, 151643, 151643, 151643, 151643, 151643, 151643, 151643, 151643, 151643, 151643, 151643, 151643, 151643, 151643, 151643, 151643, 151643, 151643, 151643, 151643, 151643, 151643, 151643, 151643, 151643, 151643, 151643, 151643, 151643, 151643, 151643, 151643, 151643, 151643, 151643, 151643, 151643, 151643, 151643, 151643, 151643, 151643, 151643, 151643, 151643, 151643, 151643, 151643, 151643, 151643, 151643, 151643, 151643, 151643, 151643, 151643, 151643, 151643, 151643, 151643, 151643, 151643, 151643, 151643, 151643, 151643, 151643, 151643, 151643, 151643, 151643, 151643, 151643, 151643, 151643, 151643, 151643, 151643, 151643, 151643, 151643, 151643, 151643, 151643, 151643, 151643, 151643, 151643, 151643, 151643, 151643, 151643, 151643, 151643, 151643, 151643, 151643, 151643, 151643, 151643, 151643, 151643, 151643, 151643, 151643, 151643, 151643, 151643, 151643, 151643, 151643, 151643, 151643, 151643, 151643, 151643, 151643, 151643, 151643, 151643, 151643, 151643, 151643, 151643, 151643, 151643, 151643, 151643, 151643, 151643, 151643, 151643, 151643, 151643, 151643, 151643, 151643, 151643, 151643, 151643, 151643, 151643, 151643, 151643, 151643, 151643, 151643, 151643, 151643, 151643, 151643, 151643, 151643, 151643, 151643, 151643, 151643, 151643, 151643, 151643, 151643, 151643, 151643, 151643, 151643, 151643, 151643, 151643, 151643, 151643, 151643, 151643, 151643, 151643, 151643, 151643, 151643, 151643, 151643, 151643, 151643, 151643, 151643, 151643, 151643, 151643, 151643, 151643, 151643, 151643, 151643, 151643, 151643, 151643, 151643, 151643, 151643, 151643, 151643, 151643, 151643, 151643, 151643, 151643, 151643, 151643, 151643, 151643, 151643, 151643, 151643, 151643, 151643, 151643, 151643, 151643, 151643, 151643, 151643, 151643, 151643, 151643, 151643, 151643, 151643, 151643, 151643, 151643, 151643, 151643, 151643, 151643, 151643, 151643, 151643, 151643, 151643, 151643, 151643, 151643, 151643, 151643, 151643, 151643, 151643, 151643, 151643, 151643, 151643, 151643, 151643, 151643, 151643, 151643, 151643, 151643, 151643, 151643, 151643, 151643, 151643, 151643, 151643, 151643, 151643, 151643, 151643, 151643, 151643, 151643, 151643, 151643, 151643, 151643, 151643, 151643, 151643, 151643, 151643, 151643, 151643, 151643, 151643, 151643, 151643, 151643, 151643, 151643, 151643, 151643, 151643, 151643, 151643, 151643, 151643, 151643, 151643, 151643, 151643, 151643, 151643, 151643, 151643, 151643, 151643, 151643, 151643, 151643, 151643, 151643, 151643, 151643, 151643, 151643, 151643, 151643, 151643, 151643, 151643, 151643, 151643, 151643, 151643, 151643, 151643, 151643, 151643, 151643, 151643, 151643, 151643, 151643, 151643, 151643, 151643, 151643, 151643, 151643, 151643, 151643, 151643, 151643, 151643, 151643, 151643, 151643, 151643, 151643, 151643, 151643, 151643, 151643, 151643, 151643, 151643, 151643, 151643, 151643, 151643, 151643, 151643, 151643, 151643, 151643, 151643, 151643, 151643, 151643, 151643, 151643, 151643, 151643, 151643, 151643, 151643, 151643, 151643, 151643, 151643, 151643, 151643, 151643, 151643, 151643, 151643, 151643, 151643, 151643, 151643, 151643, 151643, 151643, 151643, 151643, 151643, 151643, 151643, 151643, 151643, 151643, 151643, 151643, 151643, 151643, 151643, 151643, 151643, 151643, 151643, 151643, 151643, 151643, 151643, 151643, 151643, 151643, 151643, 151643, 151643, 151643, 151643, 151643, 151643, 151643, 151643, 151643, 151643, 151643, 151643, 151643, 151643, 151643, 151643, 151643, 151643, 151643, 151643, 151643, 151643, 151643, 151643, 151643, 151643, 151643, 151643, 151643, 151643, 151643, 151643, 151643, 151643, 151643, 151643, 151643, 151643, 151643, 151643, 151643, 151643, 151643, 151643, 151643, 151643, 151643, 151643, 151643, 151643, 151643, 151643, 151643, 151643, 151643, 151643, 151643, 151643, 151643, 151643, 151643, 151643, 151643, 151643, 151643, 151643, 151643, 151643, 151643, 151643, 151643, 151643, 151643, 151643, 151643, 151643, 151643, 151643, 151643, 151643, 151643, 151643, 151643, 151643, 151643, 151643, 151643, 151643, 151643, 151643, 151643, 151643, 151643, 151643, 151643, 151643, 151643, 151643, 151643, 151643, 151643, 151643, 151643, 151643, 151643, 151643, 151643, 151643, 151643, 151643, 151643, 151643, 151643, 151643, 151643, 151643, 151643, 151643, 151643, 151643, 151643, 151643, 151643, 151643, 151643, 151643, 151643, 151643, 151643, 151643, 151643, 151643, 151643, 151643, 151643, 151643, 151643, 151643, 151643, 151643, 151643, 151643, 151643, 151643]\n",
            "==========\n",
            "28\n",
            "198\n",
            "c#\n"
          ]
        }
      ]
    },
    {
      "cell_type": "code",
      "source": [
        "def preproc(example):\n",
        "    messages = [\n",
        "        {'role': 'system', 'content': SYSTEM_PROMPT},\n",
        "        {'role': 'user', 'content': example['prompt']},\n",
        "        {'role': 'assistant', 'content': example['response']}\n",
        "    ]\n",
        "    text = tokenizer.apply_chat_template(messages, max_length=1024, padding='max_length',\n",
        "                                           truncation=True, return_dict=True)\n",
        "    target_reward = [example['helpfulness'], example['correctness'],\n",
        "                     example['coherence'], example['complexity'], example['verbosity']]\n",
        "\n",
        "    only_prompt_messages = [\n",
        "        {'role': 'system', 'content': SYSTEM_PROMPT},\n",
        "        {'role': 'user', 'content': example['prompt']}\n",
        "    ]\n",
        "    prompt_len = len(tokenizer.apply_chat_template(only_prompt_messages))\n",
        "\n",
        "    return {\n",
        "        'prompt_and_answer': text,\n",
        "        'target_reward': target_reward,\n",
        "        'prompt_len': prompt_len\n",
        "    }"
      ],
      "metadata": {
        "id": "OsoVBf8jM4va"
      },
      "execution_count": 26,
      "outputs": []
    },
    {
      "cell_type": "code",
      "source": [
        "dataset = dataset.map(preproc)"
      ],
      "metadata": {
        "colab": {
          "base_uri": "https://localhost:8080/",
          "height": 81,
          "referenced_widgets": [
            "e1af939629d14887b75913799c18b37b",
            "9afb1438e3a045bc80b9c1a60077362c",
            "f8f380ae4eeb4945aaaff7d799f8fc1e",
            "22d94219351e4984a82eef9838237f8f",
            "d7ad44b2307a4827ada38c48697807b5",
            "0c87e976fcee4f689b85fa006607da96",
            "02465244496e4114b287e1dd58dcb5a0",
            "d223c001ff524c1a9df43dbb309994a3",
            "d4b6d26f716b4a2f8654a1e3a027b22b",
            "bf44cee994b64631ab3addf41c514d80",
            "9b61503b6b9e4805afb12e5f72a93f7f",
            "2683a57117814e00aeb2bedcf739c896",
            "ae153c23da1b4ea687cfbe62a6d9f2fa",
            "190ff40c9ed942b1890b29b2dce90ac9",
            "d41225767bf74f1c8df97c250f7366bd",
            "69156f79bbbf4b6d9b237c6eabb4a9c8",
            "a9cab483e60b4c8a88f8cd77043e24c7",
            "abcae47d9b104d338cc624fa9f2a19a4",
            "b22b0f3d79994df3bf2aa885b9358b37",
            "95e8e229cc2347f6920c560df83824ab",
            "a370d76225414ac7b24793fbcd67285c",
            "07a72e8d192d4713bf6ab6d5373aa621"
          ]
        },
        "id": "ux4Dzny5LrQ5",
        "outputId": "f5335585-bd66-4749-9eb0-8176132b0b18"
      },
      "execution_count": 27,
      "outputs": [
        {
          "output_type": "display_data",
          "data": {
            "text/plain": [
              "Map:   0%|          | 0/20324 [00:00<?, ? examples/s]"
            ],
            "application/vnd.jupyter.widget-view+json": {
              "version_major": 2,
              "version_minor": 0,
              "model_id": "e1af939629d14887b75913799c18b37b"
            }
          },
          "metadata": {}
        },
        {
          "output_type": "display_data",
          "data": {
            "text/plain": [
              "Map:   0%|          | 0/1038 [00:00<?, ? examples/s]"
            ],
            "application/vnd.jupyter.widget-view+json": {
              "version_major": 2,
              "version_minor": 0,
              "model_id": "2683a57117814e00aeb2bedcf739c896"
            }
          },
          "metadata": {}
        }
      ]
    },
    {
      "cell_type": "code",
      "source": [
        "dataset = dataset.select_columns(['prompt_and_answer', 'target_reward', 'prompt_len'])"
      ],
      "metadata": {
        "id": "nSb0O54hUeO9"
      },
      "execution_count": 28,
      "outputs": []
    },
    {
      "cell_type": "code",
      "source": [
        "dataset"
      ],
      "metadata": {
        "colab": {
          "base_uri": "https://localhost:8080/"
        },
        "id": "K4Tzrdd5VHO7",
        "outputId": "21f26ea9-e699-4eb6-e3fe-111a75018406"
      },
      "execution_count": 29,
      "outputs": [
        {
          "output_type": "execute_result",
          "data": {
            "text/plain": [
              "DatasetDict({\n",
              "    train: Dataset({\n",
              "        features: ['prompt_and_answer', 'target_reward', 'prompt_len'],\n",
              "        num_rows: 20324\n",
              "    })\n",
              "    validation: Dataset({\n",
              "        features: ['prompt_and_answer', 'target_reward', 'prompt_len'],\n",
              "        num_rows: 1038\n",
              "    })\n",
              "})"
            ]
          },
          "metadata": {},
          "execution_count": 29
        }
      ]
    },
    {
      "cell_type": "code",
      "source": [
        "def collate_fn(batch):\n",
        "    input_ids = torch.stack([torch.tensor(item['prompt_and_answer']['input_ids']) for item in batch])\n",
        "    attn_mask = torch.stack([torch.tensor(item['prompt_and_answer']['attention_mask']) for item in batch])\n",
        "    target_reward = torch.stack([torch.tensor(item['target_reward'], dtype=torch.float32) for item in batch])\n",
        "    prompt_len = torch.stack([torch.tensor(item['prompt_len']) for item in batch])\n",
        "    return {\n",
        "        'input_ids': input_ids,\n",
        "        'attn_mask': attn_mask,\n",
        "        'target_reward': target_reward,\n",
        "        'prompt_len': prompt_len\n",
        "    }"
      ],
      "metadata": {
        "id": "_xubZce1XZWp"
      },
      "execution_count": 150,
      "outputs": []
    },
    {
      "cell_type": "code",
      "source": [
        "batch_size = 2\n",
        "train_loader = torch.utils.data.DataLoader(dataset['train'], batch_size=batch_size,\n",
        "                                           shuffle=True, collate_fn=collate_fn)\n",
        "test_loader = torch.utils.data.DataLoader(dataset['validation'], batch_size=batch_size,\n",
        "                                          shuffle=False, collate_fn=collate_fn)"
      ],
      "metadata": {
        "id": "4Yl5fEdzYICH"
      },
      "execution_count": 151,
      "outputs": []
    },
    {
      "cell_type": "code",
      "source": [
        "for batch in train_loader:\n",
        "    print(batch['input_ids'].shape, batch['input_ids'].dtype)\n",
        "    print(batch['attn_mask'].shape, batch['attn_mask'].dtype)\n",
        "    print(batch['target_reward'], batch['target_reward'].dtype)\n",
        "    print(batch['prompt_len'].shape, batch['prompt_len'].dtype)\n",
        "    break"
      ],
      "metadata": {
        "colab": {
          "base_uri": "https://localhost:8080/"
        },
        "id": "TV-O6kZBUDgl",
        "outputId": "a7d86b7a-66f6-4aef-9f69-dc4efae2b0dd"
      },
      "execution_count": 153,
      "outputs": [
        {
          "output_type": "stream",
          "name": "stdout",
          "text": [
            "torch.Size([2, 1024]) torch.int64\n",
            "torch.Size([2, 1024]) torch.int64\n",
            "tensor([[3., 3., 4., 2., 2.],\n",
            "        [4., 4., 4., 1., 2.]]) torch.float32\n",
            "torch.Size([2]) torch.int64\n"
          ]
        }
      ]
    },
    {
      "cell_type": "code",
      "source": [
        "# DEBUG\n",
        "model.lm_head = nn.Identity()\n",
        "for batch in train_loader:\n",
        "    print(model(input_ids=batch['input_ids'].to(device),\n",
        "                attention_mask=batch['attn_mask'].to(device)).logits.shape)\n",
        "    break"
      ],
      "metadata": {
        "colab": {
          "base_uri": "https://localhost:8080/"
        },
        "id": "-09tsOoIWnxL",
        "outputId": "ebe2b974-7eb6-49bf-b4d6-19aa2aa016b9"
      },
      "execution_count": 154,
      "outputs": [
        {
          "output_type": "stream",
          "name": "stdout",
          "text": [
            "torch.Size([2, 1024, 896])\n"
          ]
        }
      ]
    },
    {
      "cell_type": "code",
      "source": [
        "class FirstStageArmoRM(nn.Module):\n",
        "    def __init__(self, model):\n",
        "        super(FirstStageArmoRM, self).__init__()\n",
        "        self.model = model\n",
        "        self.model.lm_head = nn.Identity()\n",
        "        self.freeze_model()\n",
        "        self.emb_size = model.config.hidden_size\n",
        "        self.first_stage_linear = nn.Linear(self.emb_size, 5) # k=5 as we have 5 criteries\n",
        "\n",
        "    def forward(self, input_ids, attn_mask):\n",
        "        logits = self.model(input_ids=input_ids, attention_mask=attn_mask).logits\n",
        "        last_token_logits = logits[:, -1, :].to(torch.float32)\n",
        "        return self.first_stage_linear(last_token_logits)\n",
        "\n",
        "    def freeze_model(self):\n",
        "        for param in self.model.parameters():\n",
        "            param.requires_grad = False"
      ],
      "metadata": {
        "id": "q6kFoVJfWa45"
      },
      "execution_count": 119,
      "outputs": []
    },
    {
      "cell_type": "code",
      "source": [
        "first_stage_armorm_model = FirstStageArmoRM(model).to(device)"
      ],
      "metadata": {
        "id": "JqnQHW9sUDi0"
      },
      "execution_count": 120,
      "outputs": []
    },
    {
      "cell_type": "code",
      "source": [
        "print(sum([p.numel() for p in model.parameters() if p.requires_grad]))\n",
        "print(sum([p.numel() for p in first_stage_armorm_model.parameters() if p.requires_grad]))"
      ],
      "metadata": {
        "colab": {
          "base_uri": "https://localhost:8080/"
        },
        "id": "lWyw8Odg4aEW",
        "outputId": "b33b0808-cf9d-442a-b925-58ca0c383694"
      },
      "execution_count": 121,
      "outputs": [
        {
          "output_type": "stream",
          "name": "stdout",
          "text": [
            "0\n",
            "4485\n"
          ]
        }
      ]
    },
    {
      "cell_type": "code",
      "source": [
        "first_stage_optim = torch.optim.AdamW(first_stage_armorm_model.parameters(), lr=1e-3)\n",
        "first_stage_loss = nn.MSELoss()"
      ],
      "metadata": {
        "id": "Zrx7c3fw69SZ"
      },
      "execution_count": 114,
      "outputs": []
    },
    {
      "cell_type": "code",
      "source": [
        "for epoch in range(10):\n",
        "    running_loss = 0.0\n",
        "    first_stage_armorm_model.train()\n",
        "    for batch in tqdm(train_loader):\n",
        "        input_ids = batch['input_ids'].to(device)\n",
        "        attn_mask = batch['attn_mask'].to(device)\n",
        "        target_reward = batch['target_reward'].to(device)\n",
        "\n",
        "        reward_logits = first_stage_armorm_model(input_ids=input_ids, attn_mask=attn_mask)\n",
        "        loss = first_stage_loss(reward_logits, target_reward)\n",
        "        running_loss += loss.item()\n",
        "\n",
        "        first_stage_optim.zero_grad()\n",
        "        loss.backward()\n",
        "        first_stage_optim.step()\n",
        "\n",
        "    print(f'Epoch: {epoch}, Train mse loss: {running_loss / len(train_loader)}')\n",
        "\n",
        "    running_loss = 0.0\n",
        "    first_stage_armorm_model.eval()\n",
        "    for batch in tqdm(test_loader):\n",
        "        input_ids = batch['input_ids'].to(device)\n",
        "        attn_mask = batch['attn_mask'].to(device)\n",
        "        target_reward = batch['target_reward'].to(device)\n",
        "\n",
        "        with torch.no_grad():\n",
        "            reward_logits = first_stage_armorm_model(input_ids=input_ids, attn_mask=attn_mask)\n",
        "            loss = first_stage_loss(reward_logits, target_reward)\n",
        "        running_loss += loss.item()\n",
        "\n",
        "    print(f'Epoch: {epoch}, Test mse loss: {running_loss / len(test_loader)}')"
      ],
      "metadata": {
        "id": "uBgoXf09UDm-"
      },
      "execution_count": null,
      "outputs": []
    },
    {
      "cell_type": "code",
      "source": [
        "class SecondStageArmoRM(nn.Module):\n",
        "    def __init__(self, model):\n",
        "        super(SecondStageArmoRM, self).__init__()\n",
        "        self.model = model\n",
        "        self.freeze_model()\n",
        "        self.second_stage_gate_layer = nn.Linear(model.emb_size, 5) # k=5 as we have 5 criteries\n",
        "\n",
        "    def forward(self, input_ids, attn_mask, prompt_len):\n",
        "        logits = self.model.model(input_ids=input_ids, attention_mask=attn_mask).logits\n",
        "        last_prompt_token_logits = logits[:, prompt_len-1, :].to(torch.float32)\n",
        "        last_token_logits = logits[:, -1, :].to(torch.float32)\n",
        "        last_token_reward_logits = self.model.first_stage_linear(last_token_logits)\n",
        "        return self.second_stage_gate_layer(last_prompt_token_logits), last_token_reward_logits\n",
        "\n",
        "    def freeze_model(self):\n",
        "        for param in self.model.parameters():\n",
        "            param.requires_grad = False"
      ],
      "metadata": {
        "id": "5lgNicF5UDpF"
      },
      "execution_count": 155,
      "outputs": []
    },
    {
      "cell_type": "code",
      "source": [
        "second_stage_armorm_model = SecondStageArmoRM(first_stage_armorm_model).to(device)"
      ],
      "metadata": {
        "id": "n2AO9ZgsLrTq"
      },
      "execution_count": 156,
      "outputs": []
    },
    {
      "cell_type": "code",
      "source": [
        "print(sum([p.numel() for p in first_stage_armorm_model.parameters() if p.requires_grad]))\n",
        "print(sum([p.numel() for p in second_stage_armorm_model.parameters() if p.requires_grad]))"
      ],
      "metadata": {
        "colab": {
          "base_uri": "https://localhost:8080/"
        },
        "id": "5MsQDTvMAO6H",
        "outputId": "37b8a39d-1ebc-4947-fac4-f645323732e7"
      },
      "execution_count": 157,
      "outputs": [
        {
          "output_type": "stream",
          "name": "stdout",
          "text": [
            "0\n",
            "4485\n"
          ]
        }
      ]
    },
    {
      "cell_type": "code",
      "source": [
        "class BradleyTerryLoss(nn.Module):\n",
        "    def __init__(self):\n",
        "        super(BradleyTerryLoss, self).__init__()\n",
        "        self.beta = nn.Parameter(torch.ones(1))\n",
        "\n",
        "    def forward(self, chosen_reward, rejected_reward):\n",
        "        return -F.logsigmoid(self.beta * (chosen_reward - rejected_reward))"
      ],
      "metadata": {
        "id": "K9yxlOUHBfTz"
      },
      "execution_count": 158,
      "outputs": []
    },
    {
      "cell_type": "code",
      "source": [
        "second_stage_optim = torch.optim.AdamW(second_stage_armorm_model.parameters(), lr=1e-3)\n",
        "second_stage_loss = BradleyTerryLoss().to(device)\n",
        "second_stage_loss_optim = torch.optim.AdamW(second_stage_loss.parameters(), lr=3e-4)"
      ],
      "metadata": {
        "id": "XLArGCmUAO8r"
      },
      "execution_count": 172,
      "outputs": []
    },
    {
      "cell_type": "code",
      "source": [
        "# TODO: add chosen and rejected into dataset to perform second stage"
      ],
      "metadata": {
        "id": "RC7T8MVMAO_Q"
      },
      "execution_count": 173,
      "outputs": []
    },
    {
      "cell_type": "code",
      "source": [
        "for epoch in range(10):\n",
        "    running_loss = 0.0\n",
        "    second_stage_armorm_model.train()\n",
        "    for batch in tqdm(train_loader):\n",
        "        input_ids = batch['input_ids'].to(device)\n",
        "        attn_mask = batch['attn_mask'].to(device)\n",
        "        target_reward = batch['target_reward'].to(device)\n",
        "        prompt_len = batch['prompt_len'].to(device)\n",
        "\n",
        "        reward_gates, reward_logits = second_stage_armorm_model(input_ids=input_ids, attn_mask=attn_mask, prompt_len=prompt_len)\n",
        "        reward_gates = F.softmax(reward_gates, dim=-1)\n",
        "        chosen_reward = torch.sum(reward_gates * reward_logits).to(device)\n",
        "        rejected_reward = torch.randint(low=0, high=5, size=[1]).to(device) # TODO: change this\n",
        "        loss = second_stage_loss(chosen_reward, rejected_reward)\n",
        "        running_loss += loss.item()\n",
        "\n",
        "        second_stage_optim.zero_grad()\n",
        "        second_stage_loss_optim.zero_grad()\n",
        "        loss.backward()\n",
        "        first_stage_optim.step()\n",
        "        second_stage_loss_optim.step()\n",
        "\n",
        "    print(f'Epoch: {epoch}, Train mse loss: {running_loss / len(train_loader)}')\n",
        "\n",
        "    running_loss = 0.0\n",
        "    second_stage_armorm_model.eval()\n",
        "    for batch in tqdm(test_loader):\n",
        "        input_ids = batch['input_ids'].to(device)\n",
        "        attn_mask = batch['attn_mask'].to(device)\n",
        "        target_reward = batch['target_reward'].to(device)\n",
        "        prompt_len = batch['prompt_len'].to(device)\n",
        "\n",
        "        with torch.no_grad():\n",
        "            reward_gates, reward_logits = second_stage_armorm_model(input_ids=input_ids, attn_mask=attn_mask, prompt_len=prompt_len)\n",
        "            reward_gates = F.softmax(reward_gates, dim=-1)\n",
        "            chosen_reward = torch.sum(reward_gates * reward_logits).to(device)\n",
        "            rejected_reward = torch.randint(low=0, high=5, size=[1]).to(device) # TODO: change this\n",
        "            loss = second_stage_loss(chosen_reward, rejected_reward)\n",
        "        running_loss += loss.item()\n",
        "\n",
        "    print(f'Epoch: {epoch}, Test mse loss: {running_loss / len(test_loader)}')"
      ],
      "metadata": {
        "colab": {
          "base_uri": "https://localhost:8080/",
          "height": 245
        },
        "id": "hqFPuiJdDmWD",
        "outputId": "408dd233-6d07-4302-fe5b-dae88b0364cb"
      },
      "execution_count": 176,
      "outputs": [
        {
          "output_type": "stream",
          "name": "stderr",
          "text": [
            "  0%|          | 10/10162 [00:07<2:10:01,  1.30it/s]\n"
          ]
        },
        {
          "output_type": "error",
          "ename": "KeyboardInterrupt",
          "evalue": "",
          "traceback": [
            "\u001b[0;31m---------------------------------------------------------------------------\u001b[0m",
            "\u001b[0;31mKeyboardInterrupt\u001b[0m                         Traceback (most recent call last)",
            "\u001b[0;32m/tmp/ipython-input-3711106310.py\u001b[0m in \u001b[0;36m<cell line: 0>\u001b[0;34m()\u001b[0m\n\u001b[1;32m     10\u001b[0m         \u001b[0mreward_gates\u001b[0m\u001b[0;34m,\u001b[0m \u001b[0mreward_logits\u001b[0m \u001b[0;34m=\u001b[0m \u001b[0msecond_stage_armorm_model\u001b[0m\u001b[0;34m(\u001b[0m\u001b[0minput_ids\u001b[0m\u001b[0;34m=\u001b[0m\u001b[0minput_ids\u001b[0m\u001b[0;34m,\u001b[0m \u001b[0mattn_mask\u001b[0m\u001b[0;34m=\u001b[0m\u001b[0mattn_mask\u001b[0m\u001b[0;34m,\u001b[0m \u001b[0mprompt_len\u001b[0m\u001b[0;34m=\u001b[0m\u001b[0mprompt_len\u001b[0m\u001b[0;34m)\u001b[0m\u001b[0;34m\u001b[0m\u001b[0;34m\u001b[0m\u001b[0m\n\u001b[1;32m     11\u001b[0m         \u001b[0mchosen_reward\u001b[0m \u001b[0;34m=\u001b[0m \u001b[0mtorch\u001b[0m\u001b[0;34m.\u001b[0m\u001b[0msum\u001b[0m\u001b[0;34m(\u001b[0m\u001b[0mreward_gates\u001b[0m \u001b[0;34m*\u001b[0m \u001b[0mreward_logits\u001b[0m\u001b[0;34m)\u001b[0m\u001b[0;34m.\u001b[0m\u001b[0mto\u001b[0m\u001b[0;34m(\u001b[0m\u001b[0mdevice\u001b[0m\u001b[0;34m)\u001b[0m\u001b[0;34m\u001b[0m\u001b[0;34m\u001b[0m\u001b[0m\n\u001b[0;32m---> 12\u001b[0;31m         \u001b[0mrejected_reward\u001b[0m \u001b[0;34m=\u001b[0m \u001b[0mtorch\u001b[0m\u001b[0;34m.\u001b[0m\u001b[0mrandint\u001b[0m\u001b[0;34m(\u001b[0m\u001b[0mlow\u001b[0m\u001b[0;34m=\u001b[0m\u001b[0;36m0\u001b[0m\u001b[0;34m,\u001b[0m \u001b[0mhigh\u001b[0m\u001b[0;34m=\u001b[0m\u001b[0;36m5\u001b[0m\u001b[0;34m,\u001b[0m \u001b[0msize\u001b[0m\u001b[0;34m=\u001b[0m\u001b[0;34m[\u001b[0m\u001b[0;36m1\u001b[0m\u001b[0;34m]\u001b[0m\u001b[0;34m)\u001b[0m\u001b[0;34m.\u001b[0m\u001b[0mto\u001b[0m\u001b[0;34m(\u001b[0m\u001b[0mdevice\u001b[0m\u001b[0;34m)\u001b[0m \u001b[0;31m# TODO: change this\u001b[0m\u001b[0;34m\u001b[0m\u001b[0;34m\u001b[0m\u001b[0m\n\u001b[0m\u001b[1;32m     13\u001b[0m         \u001b[0mloss\u001b[0m \u001b[0;34m=\u001b[0m \u001b[0msecond_stage_loss\u001b[0m\u001b[0;34m(\u001b[0m\u001b[0mchosen_reward\u001b[0m\u001b[0;34m,\u001b[0m \u001b[0mrejected_reward\u001b[0m\u001b[0;34m)\u001b[0m\u001b[0;34m\u001b[0m\u001b[0;34m\u001b[0m\u001b[0m\n\u001b[1;32m     14\u001b[0m         \u001b[0mrunning_loss\u001b[0m \u001b[0;34m+=\u001b[0m \u001b[0mloss\u001b[0m\u001b[0;34m.\u001b[0m\u001b[0mitem\u001b[0m\u001b[0;34m(\u001b[0m\u001b[0;34m)\u001b[0m\u001b[0;34m\u001b[0m\u001b[0;34m\u001b[0m\u001b[0m\n",
            "\u001b[0;31mKeyboardInterrupt\u001b[0m: "
          ]
        }
      ]
    },
    {
      "cell_type": "code",
      "source": [],
      "metadata": {
        "id": "HuotY_WUFwNj"
      },
      "execution_count": null,
      "outputs": []
    }
  ]
}